{
 "cells": [
  {
   "cell_type": "markdown",
   "id": "370cd737",
   "metadata": {
    "toc": true
   },
   "source": [
    "<h1>Содержание<span class=\"tocSkip\"></span></h1>\n",
    "<div class=\"toc\"><ul class=\"toc-item\"><li><span><a href=\"#Изучение-основной-информации-о-датафрейме\" data-toc-modified-id=\"Изучение-основной-информации-о-датафрейме-1\"><span class=\"toc-item-num\">1&nbsp;&nbsp;</span>Изучение основной информации о датафрейме</a></span><ul class=\"toc-item\"><li><span><a href=\"#Импорт-необходимых-библиотек\" data-toc-modified-id=\"Импорт-необходимых-библиотек-1.1\"><span class=\"toc-item-num\">1.1&nbsp;&nbsp;</span>Импорт необходимых библиотек</a></span></li><li><span><a href=\"#Открытие-файла\" data-toc-modified-id=\"Открытие-файла-1.2\"><span class=\"toc-item-num\">1.2&nbsp;&nbsp;</span>Открытие файла</a></span></li><li><span><a href=\"#Вывод-первых-десяти-строк-таблицы\" data-toc-modified-id=\"Вывод-первых-десяти-строк-таблицы-1.3\"><span class=\"toc-item-num\">1.3&nbsp;&nbsp;</span>Вывод первых десяти строк таблицы</a></span></li><li><span><a href=\"#Вывод-основной-информации-о-датафрейме\" data-toc-modified-id=\"Вывод-основной-информации-о-датафрейме-1.4\"><span class=\"toc-item-num\">1.4&nbsp;&nbsp;</span>Вывод основной информации о датафрейме</a></span></li><li><span><a href=\"#Вывод\" data-toc-modified-id=\"Вывод-1.5\"><span class=\"toc-item-num\">1.5&nbsp;&nbsp;</span>Вывод</a></span></li></ul></li><li><span><a href=\"#Разбиение-данных-на-выборки\" data-toc-modified-id=\"Разбиение-данных-на-выборки-2\"><span class=\"toc-item-num\">2&nbsp;&nbsp;</span>Разбиение данных на выборки</a></span><ul class=\"toc-item\"><li><span><a href=\"#Вывод\" data-toc-modified-id=\"Вывод-2.1\"><span class=\"toc-item-num\">2.1&nbsp;&nbsp;</span>Вывод</a></span></li></ul></li><li><span><a href=\"#Исследование-моделей\" data-toc-modified-id=\"Исследование-моделей-3\"><span class=\"toc-item-num\">3&nbsp;&nbsp;</span>Исследование моделей</a></span><ul class=\"toc-item\"><li><span><a href=\"#Дерево-решений\" data-toc-modified-id=\"Дерево-решений-3.1\"><span class=\"toc-item-num\">3.1&nbsp;&nbsp;</span>Дерево решений</a></span></li><li><span><a href=\"#Случайный-лес\" data-toc-modified-id=\"Случайный-лес-3.2\"><span class=\"toc-item-num\">3.2&nbsp;&nbsp;</span>Случайный лес</a></span></li><li><span><a href=\"#Логистическая-регрессия\" data-toc-modified-id=\"Логистическая-регрессия-3.3\"><span class=\"toc-item-num\">3.3&nbsp;&nbsp;</span>Логистическая регрессия</a></span></li><li><span><a href=\"#Вывод\" data-toc-modified-id=\"Вывод-3.4\"><span class=\"toc-item-num\">3.4&nbsp;&nbsp;</span>Вывод</a></span></li></ul></li><li><span><a href=\"#Проверка-модели-на-тестовой-выборке\" data-toc-modified-id=\"Проверка-модели-на-тестовой-выборке-4\"><span class=\"toc-item-num\">4&nbsp;&nbsp;</span>Проверка модели на тестовой выборке</a></span><ul class=\"toc-item\"><li><span><a href=\"#Вывод\" data-toc-modified-id=\"Вывод-4.1\"><span class=\"toc-item-num\">4.1&nbsp;&nbsp;</span>Вывод</a></span></li></ul></li><li><span><a href=\"#Проверка-модели-на-адекватность\" data-toc-modified-id=\"Проверка-модели-на-адекватность-5\"><span class=\"toc-item-num\">5&nbsp;&nbsp;</span>Проверка модели на адекватность</a></span><ul class=\"toc-item\"><li><span><a href=\"#Вывод\" data-toc-modified-id=\"Вывод-5.1\"><span class=\"toc-item-num\">5.1&nbsp;&nbsp;</span>Вывод</a></span></li></ul></li><li><span><a href=\"#Вывод\" data-toc-modified-id=\"Вывод-6\"><span class=\"toc-item-num\">6&nbsp;&nbsp;</span>Вывод</a></span></li></ul></div>"
   ]
  },
  {
   "cell_type": "markdown",
   "id": "eead31be",
   "metadata": {},
   "source": [
    "# Рекомендация тарифов"
   ]
  },
  {
   "cell_type": "markdown",
   "id": "c3d04d05",
   "metadata": {},
   "source": [
    "В распоряжении данные о поведении клиентов, которые уже перешли на эти тарифы (из проекта курса «Статистический анализ данных»). Нужно построить модель для задачи классификации, которая выберет подходящий тариф.\n",
    "\n",
    "**Цель исследования** — построить лучшую модель с максимально большим значением *accuracy*. Чтобы сдать проект успешно, нужно довести долю правильных ответов по крайней мере до 0.75.\n",
    "\n",
    "**Ход исследования**\n",
    "1. Изучение файла\n",
    "2. Разбиение данных на выборки\n",
    "3. Исследование моделей классификации\n",
    "4. Проверка модели на тестовой выборке\n",
    "5. Проверка модели на адекватность\n",
    "6. Вывод"
   ]
  },
  {
   "cell_type": "markdown",
   "id": "30e9c42c",
   "metadata": {},
   "source": [
    "## Изучение основной информации о датафрейме"
   ]
  },
  {
   "cell_type": "markdown",
   "id": "0ab75059",
   "metadata": {},
   "source": [
    "### Импорт необходимых библиотек"
   ]
  },
  {
   "cell_type": "code",
   "execution_count": 1,
   "id": "dff8c38b",
   "metadata": {},
   "outputs": [],
   "source": [
    "import pandas as pd\n",
    "from sklearn.tree import DecisionTreeClassifier\n",
    "from sklearn.ensemble import RandomForestClassifier\n",
    "from sklearn.linear_model import LogisticRegression\n",
    "from sklearn.metrics import accuracy_score\n",
    "from sklearn.model_selection import train_test_split "
   ]
  },
  {
   "cell_type": "markdown",
   "id": "d4a99d3c",
   "metadata": {},
   "source": [
    "### Открытие файла"
   ]
  },
  {
   "cell_type": "code",
   "execution_count": 2,
   "id": "0ec8dc6b",
   "metadata": {},
   "outputs": [],
   "source": [
    "try:\n",
    "    data = pd.read_csv('/datasets/users_behavior.csv', sep=',', engine='python')\n",
    "except:\n",
    "    data = pd.read_csv('https://code.s3.yandex.net/datasets/users_behavior.csv', sep=',', engine='python')"
   ]
  },
  {
   "cell_type": "markdown",
   "id": "f0322872",
   "metadata": {},
   "source": [
    "### Вывод первых десяти строк таблицы"
   ]
  },
  {
   "cell_type": "code",
   "execution_count": 3,
   "id": "4b34654d",
   "metadata": {},
   "outputs": [
    {
     "data": {
      "text/html": [
       "<div>\n",
       "<style scoped>\n",
       "    .dataframe tbody tr th:only-of-type {\n",
       "        vertical-align: middle;\n",
       "    }\n",
       "\n",
       "    .dataframe tbody tr th {\n",
       "        vertical-align: top;\n",
       "    }\n",
       "\n",
       "    .dataframe thead th {\n",
       "        text-align: right;\n",
       "    }\n",
       "</style>\n",
       "<table border=\"1\" class=\"dataframe\">\n",
       "  <thead>\n",
       "    <tr style=\"text-align: right;\">\n",
       "      <th></th>\n",
       "      <th>calls</th>\n",
       "      <th>minutes</th>\n",
       "      <th>messages</th>\n",
       "      <th>mb_used</th>\n",
       "      <th>is_ultra</th>\n",
       "    </tr>\n",
       "  </thead>\n",
       "  <tbody>\n",
       "    <tr>\n",
       "      <th>0</th>\n",
       "      <td>40.0</td>\n",
       "      <td>311.90</td>\n",
       "      <td>83.0</td>\n",
       "      <td>19915.42</td>\n",
       "      <td>0</td>\n",
       "    </tr>\n",
       "    <tr>\n",
       "      <th>1</th>\n",
       "      <td>85.0</td>\n",
       "      <td>516.75</td>\n",
       "      <td>56.0</td>\n",
       "      <td>22696.96</td>\n",
       "      <td>0</td>\n",
       "    </tr>\n",
       "    <tr>\n",
       "      <th>2</th>\n",
       "      <td>77.0</td>\n",
       "      <td>467.66</td>\n",
       "      <td>86.0</td>\n",
       "      <td>21060.45</td>\n",
       "      <td>0</td>\n",
       "    </tr>\n",
       "    <tr>\n",
       "      <th>3</th>\n",
       "      <td>106.0</td>\n",
       "      <td>745.53</td>\n",
       "      <td>81.0</td>\n",
       "      <td>8437.39</td>\n",
       "      <td>1</td>\n",
       "    </tr>\n",
       "    <tr>\n",
       "      <th>4</th>\n",
       "      <td>66.0</td>\n",
       "      <td>418.74</td>\n",
       "      <td>1.0</td>\n",
       "      <td>14502.75</td>\n",
       "      <td>0</td>\n",
       "    </tr>\n",
       "    <tr>\n",
       "      <th>5</th>\n",
       "      <td>58.0</td>\n",
       "      <td>344.56</td>\n",
       "      <td>21.0</td>\n",
       "      <td>15823.37</td>\n",
       "      <td>0</td>\n",
       "    </tr>\n",
       "    <tr>\n",
       "      <th>6</th>\n",
       "      <td>57.0</td>\n",
       "      <td>431.64</td>\n",
       "      <td>20.0</td>\n",
       "      <td>3738.90</td>\n",
       "      <td>1</td>\n",
       "    </tr>\n",
       "    <tr>\n",
       "      <th>7</th>\n",
       "      <td>15.0</td>\n",
       "      <td>132.40</td>\n",
       "      <td>6.0</td>\n",
       "      <td>21911.60</td>\n",
       "      <td>0</td>\n",
       "    </tr>\n",
       "    <tr>\n",
       "      <th>8</th>\n",
       "      <td>7.0</td>\n",
       "      <td>43.39</td>\n",
       "      <td>3.0</td>\n",
       "      <td>2538.67</td>\n",
       "      <td>1</td>\n",
       "    </tr>\n",
       "    <tr>\n",
       "      <th>9</th>\n",
       "      <td>90.0</td>\n",
       "      <td>665.41</td>\n",
       "      <td>38.0</td>\n",
       "      <td>17358.61</td>\n",
       "      <td>0</td>\n",
       "    </tr>\n",
       "  </tbody>\n",
       "</table>\n",
       "</div>"
      ],
      "text/plain": [
       "   calls  minutes  messages   mb_used  is_ultra\n",
       "0   40.0   311.90      83.0  19915.42         0\n",
       "1   85.0   516.75      56.0  22696.96         0\n",
       "2   77.0   467.66      86.0  21060.45         0\n",
       "3  106.0   745.53      81.0   8437.39         1\n",
       "4   66.0   418.74       1.0  14502.75         0\n",
       "5   58.0   344.56      21.0  15823.37         0\n",
       "6   57.0   431.64      20.0   3738.90         1\n",
       "7   15.0   132.40       6.0  21911.60         0\n",
       "8    7.0    43.39       3.0   2538.67         1\n",
       "9   90.0   665.41      38.0  17358.61         0"
      ]
     },
     "execution_count": 3,
     "metadata": {},
     "output_type": "execute_result"
    }
   ],
   "source": [
    "data.head(10)"
   ]
  },
  {
   "cell_type": "markdown",
   "id": "f38aeb33",
   "metadata": {},
   "source": [
    "### Вывод основной информации о датафрейме"
   ]
  },
  {
   "cell_type": "code",
   "execution_count": 4,
   "id": "625ebc12",
   "metadata": {},
   "outputs": [
    {
     "name": "stdout",
     "output_type": "stream",
     "text": [
      "<class 'pandas.core.frame.DataFrame'>\n",
      "RangeIndex: 3214 entries, 0 to 3213\n",
      "Data columns (total 5 columns):\n",
      " #   Column    Non-Null Count  Dtype  \n",
      "---  ------    --------------  -----  \n",
      " 0   calls     3214 non-null   float64\n",
      " 1   minutes   3214 non-null   float64\n",
      " 2   messages  3214 non-null   float64\n",
      " 3   mb_used   3214 non-null   float64\n",
      " 4   is_ultra  3214 non-null   int64  \n",
      "dtypes: float64(4), int64(1)\n",
      "memory usage: 125.7 KB\n"
     ]
    }
   ],
   "source": [
    "data.info()"
   ]
  },
  {
   "cell_type": "markdown",
   "id": "0a752c13",
   "metadata": {},
   "source": [
    "### Вывод"
   ]
  },
  {
   "cell_type": "markdown",
   "id": "54dbd529",
   "metadata": {},
   "source": [
    "Согласно документации к данным:\n",
    "* `сalls` — количество звонков,\n",
    "* `minutes` — суммарная длительность звонков в минутах,\n",
    "* `messages` — количество sms-сообщений,\n",
    "* `mb_used` — израсходованный интернет-трафик в Мб,\n",
    "* `is_ultra` — каким тарифом пользовался в течение месяца («Ультра» — 1, «Смарт» — 0).\n",
    "\n",
    "Целевым признаком будет являться `is_ultra`, а все остальные столбцы — признаками."
   ]
  },
  {
   "cell_type": "markdown",
   "id": "72473e55",
   "metadata": {},
   "source": [
    "## Разбиение данных на выборки"
   ]
  },
  {
   "cell_type": "markdown",
   "id": "8ca7f962",
   "metadata": {},
   "source": [
    "Делим исходные данные на тренировочную, валидационную и тестовую выборки в отношении 3:1:1."
   ]
  },
  {
   "cell_type": "code",
   "execution_count": 5,
   "id": "ce396ba1",
   "metadata": {},
   "outputs": [],
   "source": [
    "data_train, data_sep = train_test_split(data, test_size=0.4, random_state=12345)\n",
    "data_valid, data_test = train_test_split(data_sep, test_size=0.5, random_state=12345)"
   ]
  },
  {
   "cell_type": "markdown",
   "id": "1b1cd7e0",
   "metadata": {},
   "source": [
    "Из каждой выборки берем признаки и целевой признак."
   ]
  },
  {
   "cell_type": "code",
   "execution_count": 6,
   "id": "2e063254",
   "metadata": {},
   "outputs": [],
   "source": [
    "features_train = data_train.drop(['is_ultra'], axis=1) #для тренировочной выборки\n",
    "target_train = data_train['is_ultra']\n",
    "\n",
    "features_valid = data_valid.drop(['is_ultra'], axis=1) #для валидационной выборки\n",
    "target_valid = data_valid['is_ultra']\n",
    "\n",
    "features_test = data_test.drop(['is_ultra'], axis=1) #для тестовой выборки\n",
    "target_test = data_test['is_ultra']"
   ]
  },
  {
   "cell_type": "code",
   "execution_count": 7,
   "id": "8c404994",
   "metadata": {},
   "outputs": [
    {
     "data": {
      "text/plain": [
       "(1928, 5)"
      ]
     },
     "execution_count": 7,
     "metadata": {},
     "output_type": "execute_result"
    }
   ],
   "source": [
    "data_train.shape"
   ]
  },
  {
   "cell_type": "code",
   "execution_count": 8,
   "id": "7d4a6e9f",
   "metadata": {},
   "outputs": [
    {
     "data": {
      "text/plain": [
       "(643, 5)"
      ]
     },
     "execution_count": 8,
     "metadata": {},
     "output_type": "execute_result"
    }
   ],
   "source": [
    "data_valid.shape"
   ]
  },
  {
   "cell_type": "code",
   "execution_count": 9,
   "id": "015c222c",
   "metadata": {},
   "outputs": [
    {
     "data": {
      "text/plain": [
       "(643, 5)"
      ]
     },
     "execution_count": 9,
     "metadata": {},
     "output_type": "execute_result"
    }
   ],
   "source": [
    "data_test.shape"
   ]
  },
  {
   "cell_type": "markdown",
   "id": "fee1caad",
   "metadata": {},
   "source": [
    "### Вывод"
   ]
  },
  {
   "cell_type": "markdown",
   "id": "e42e53d4",
   "metadata": {},
   "source": [
    "Данные были разделены на тренировочную, валидационную и тестовую в отношении 3:1:1: в тренировочной выборке 1928 объектов, а в валидационной и тестовой по 643 объекта."
   ]
  },
  {
   "cell_type": "markdown",
   "id": "a65dae85",
   "metadata": {},
   "source": [
    "## Исследование моделей"
   ]
  },
  {
   "cell_type": "markdown",
   "id": "be8cae65",
   "metadata": {},
   "source": [
    "### Дерево решений"
   ]
  },
  {
   "cell_type": "markdown",
   "id": "c2ddba2a",
   "metadata": {},
   "source": [
    "Возьмем для модели дерева решений значения максимальной глубины от 1 до 10 и выберем лучшую модель по значению accuracy."
   ]
  },
  {
   "cell_type": "code",
   "execution_count": 10,
   "id": "fc47a1e3",
   "metadata": {},
   "outputs": [
    {
     "name": "stdout",
     "output_type": "stream",
     "text": [
      "Accuracy наилучшей модели дерева решений на валидационной выборке равно 0.7853810264385692 при глубине дерева 3\n"
     ]
    }
   ],
   "source": [
    "best_model_tree = None\n",
    "best_result_tree = 0\n",
    "best_depth = 0\n",
    "\n",
    "for depth in range(1, 11):\n",
    "    model_tree = DecisionTreeClassifier(random_state=12345, max_depth=depth) \n",
    "    model_tree.fit(features_train, target_train)\n",
    "    predictions_valid = model_tree.predict(features_valid)\n",
    "    result = accuracy_score(target_valid, predictions_valid) \n",
    "    \n",
    "    if result > best_result_tree:\n",
    "        best_model_tree = model_tree\n",
    "        best_result_tree = result\n",
    "        best_depth = depth\n",
    "        \n",
    "print('Accuracy наилучшей модели дерева решений на валидационной выборке равно', best_result_tree, \n",
    "      'при глубине дерева', best_depth)"
   ]
  },
  {
   "cell_type": "markdown",
   "id": "e1c52fe1",
   "metadata": {},
   "source": [
    "### Случайный лес"
   ]
  },
  {
   "cell_type": "markdown",
   "id": "1448e7fd",
   "metadata": {},
   "source": [
    "Возьмем для модели случайного леса значения максимальной глубины от 1 до 10 и выберем лучшую модель по значению accuracy."
   ]
  },
  {
   "cell_type": "code",
   "execution_count": 11,
   "id": "9250932b",
   "metadata": {},
   "outputs": [
    {
     "name": "stdout",
     "output_type": "stream",
     "text": [
      "Accuracy наилучшей модели случайного леса на валидационной выборке равно 0.7853810264385692 с количеством деревьев, равным 10\n"
     ]
    }
   ],
   "source": [
    "best_model_forest = None\n",
    "best_result_forest = 0\n",
    "best_est = 0\n",
    "\n",
    "for est in range(1, 11):\n",
    "    model_forest = RandomForestClassifier(random_state=12345, n_estimators=est)\n",
    "    model_forest.fit(features_train, target_train) \n",
    "    predictions_valid = model_forest.predict(features_valid)\n",
    "    result = accuracy_score(target_valid, predictions_valid) \n",
    "    \n",
    "    if result > best_result_forest:\n",
    "        best_model_forest = model_forest\n",
    "        best_result_forest = result\n",
    "        best_est = est\n",
    "\n",
    "print('Accuracy наилучшей модели случайного леса на валидационной выборке равно', best_result_forest, \n",
    "      'с количеством деревьев, равным', best_est)"
   ]
  },
  {
   "cell_type": "code",
   "execution_count": 12,
   "id": "ce5593e2",
   "metadata": {},
   "outputs": [
    {
     "name": "stdout",
     "output_type": "stream",
     "text": [
      "Accuracy наилучшей модели случайного леса на валидационной выборке равно 0.7916018662519441 с количеством деревьев, равным 50\n"
     ]
    }
   ],
   "source": [
    "best_model_forest = None\n",
    "best_result_forest = 0\n",
    "best_est = 0\n",
    "\n",
    "for est in range(10, 201, 10):\n",
    "    model_forest = RandomForestClassifier(random_state=12345, n_estimators=est)\n",
    "    model_forest.fit(features_train, target_train) \n",
    "    predictions_valid = model_forest.predict(features_valid)\n",
    "    result = accuracy_score(target_valid, predictions_valid) \n",
    "    \n",
    "    if result > best_result_forest:\n",
    "        best_model_forest = model_forest\n",
    "        best_result_forest = result\n",
    "        best_est = est\n",
    "\n",
    "print('Accuracy наилучшей модели случайного леса на валидационной выборке равно', best_result_forest, \n",
    "      'с количеством деревьев, равным', best_est)"
   ]
  },
  {
   "cell_type": "markdown",
   "id": "e6a0b5ba",
   "metadata": {},
   "source": [
    "### Логистическая регрессия"
   ]
  },
  {
   "cell_type": "code",
   "execution_count": 13,
   "id": "a6ddaa49",
   "metadata": {},
   "outputs": [
    {
     "name": "stdout",
     "output_type": "stream",
     "text": [
      "Accuracy модели логистической регрессии на валидационной выборке: 0.7107309486780715\n"
     ]
    }
   ],
   "source": [
    "model = LogisticRegression(random_state=12345, solver='lbfgs', max_iter=1000)\n",
    "model.fit(features_train, target_train)\n",
    "\n",
    "predictions_valid = model.predict(features_valid)\n",
    "\n",
    "result = accuracy_score(target_valid, predictions_valid) \n",
    "\n",
    "print('Accuracy модели логистической регрессии на валидационной выборке:', result)"
   ]
  },
  {
   "cell_type": "markdown",
   "id": "99aab420",
   "metadata": {},
   "source": [
    "### Вывод"
   ]
  },
  {
   "cell_type": "markdown",
   "id": "e297c411",
   "metadata": {},
   "source": [
    "У модели логистической регрессии недостаточное значение accuracy на валидационной выборке (0.71), а у моделей дерева решений и случайного леса значение accuracy одинаковое (0.785). Учитывая, что модель случайного леса в целом точнее, чем модель дерева решений, то стоит взять модель случайного леса как лучшую."
   ]
  },
  {
   "cell_type": "markdown",
   "id": "58e0f6bf",
   "metadata": {},
   "source": [
    "## Проверка модели на тестовой выборке"
   ]
  },
  {
   "cell_type": "code",
   "execution_count": 14,
   "id": "58154892",
   "metadata": {},
   "outputs": [
    {
     "data": {
      "text/plain": [
       "0.7931570762052877"
      ]
     },
     "execution_count": 14,
     "metadata": {},
     "output_type": "execute_result"
    }
   ],
   "source": [
    "predictions_test = best_model_forest.predict(features_test)\n",
    "result = accuracy_score(target_test, predictions_test) \n",
    "result"
   ]
  },
  {
   "cell_type": "markdown",
   "id": "a32c81e3",
   "metadata": {},
   "source": [
    "### Вывод"
   ]
  },
  {
   "cell_type": "markdown",
   "id": "00194bec",
   "metadata": {},
   "source": [
    "Accuracy выбранной модели случайного леса на тестовой выборке равно 0.79, что составило больше требуемых 0.75, значит, модель выбрана верно."
   ]
  },
  {
   "cell_type": "markdown",
   "id": "ad85d632",
   "metadata": {},
   "source": [
    "## Проверка модели на адекватность"
   ]
  },
  {
   "cell_type": "markdown",
   "id": "f2495c09",
   "metadata": {},
   "source": [
    "Возьмем три случайные модели и посчитаем их значение accuracy по тестовой выборке:\n",
    "1. Модель предсказывает ответы с вероятностью 50/50;\n",
    "2. Модель предсказывает целевой признак всегда как 1;\n",
    "3. Модель предсказывает целевой признак всегда как 0\n",
    "\n",
    "Для первой модели значение accuracy будет равно 0.5. Для остальных моделей значение необходимо посчитать, так как для нашего набора данных классы распределены не поровну."
   ]
  },
  {
   "cell_type": "markdown",
   "id": "d3e19aef",
   "metadata": {},
   "source": [
    "Посчитаем значение accuracy для модели, предсказывающей целевой признак всегда как 1. Количество правильных ответов будет равно количеству значений целевого признака, равных 1."
   ]
  },
  {
   "cell_type": "code",
   "execution_count": 15,
   "id": "7c4599ed",
   "metadata": {},
   "outputs": [
    {
     "data": {
      "text/plain": [
       "0.3157076205287714"
      ]
     },
     "execution_count": 15,
     "metadata": {},
     "output_type": "execute_result"
    }
   ],
   "source": [
    "#количество значений целевого признака, равных 1\n",
    "amount_1 = data_test.loc[data_test['is_ultra'] == 1].shape[0]\n",
    "#количество всех объектов\n",
    "all_amount = data_test.shape[0]\n",
    "\n",
    "accuracy_1 = amount_1 / all_amount\n",
    "\n",
    "accuracy_1"
   ]
  },
  {
   "cell_type": "markdown",
   "id": "399b3296",
   "metadata": {},
   "source": [
    "Теперь посчитаем значение accuracy для модели, предсказывающей целевой признак всегда как 0. Количество правильных ответов будет равно количеству значений целевого признака, равных 0."
   ]
  },
  {
   "cell_type": "code",
   "execution_count": 16,
   "id": "fcd5b03e",
   "metadata": {},
   "outputs": [
    {
     "data": {
      "text/plain": [
       "0.6842923794712286"
      ]
     },
     "execution_count": 16,
     "metadata": {},
     "output_type": "execute_result"
    }
   ],
   "source": [
    "#количество значений целевого признака, равных 0\n",
    "amount_0 = data_test.loc[data_test['is_ultra'] == 0].shape[0]\n",
    "\n",
    "accuracy_0 = amount_0 / all_amount\n",
    "\n",
    "accuracy_0"
   ]
  },
  {
   "cell_type": "markdown",
   "id": "3dcdd203",
   "metadata": {},
   "source": [
    "### Вывод"
   ]
  },
  {
   "cell_type": "markdown",
   "id": "b9ffe432",
   "metadata": {},
   "source": [
    "Значение accuracy выбранной лучшей модели равно 0.79, что оказалось больше, чем значения случайных моделей. Таким образом, выбранная модель прошла проверку на адекватность."
   ]
  },
  {
   "cell_type": "markdown",
   "id": "d496715e",
   "metadata": {},
   "source": [
    "## Вывод"
   ]
  },
  {
   "cell_type": "markdown",
   "id": "6e61ad75",
   "metadata": {},
   "source": [
    "Были рассмотрены модели случайного леса, дерева решений и логистической регрессии. Для моделей случайного леса и дерева решений были перебраны гиперпараметры глубины и количества деревьев соответственно от 1 до 10. Из данных моделей была выбрана модель случайного дерева, так как она имеет наибольшее значение accuracy, чем у логистической регрессии, а также в целом большую точность, чем у дерева решений.\n",
    "\n",
    "Проверка модели на тестовой выборке показало значение accuracy большее, чем требуемое 0.75, поэтому модель проверку прошла.\n",
    "\n",
    "Также модель прошла проверку на адекватность: она показала наибольшее значение accuracy, чем случайные модели, которые предсказывают ответы, равные полностью одному из классов, либо же модель, предсказывающая с вероятностью 50/50."
   ]
  }
 ],
 "metadata": {
  "ExecuteTimeLog": [
   {
    "duration": 1646,
    "start_time": "2022-12-20T21:47:49.373Z"
   },
   {
    "duration": 48,
    "start_time": "2022-12-20T21:47:51.021Z"
   },
   {
    "duration": 15,
    "start_time": "2022-12-20T21:47:51.071Z"
   },
   {
    "duration": 15,
    "start_time": "2022-12-20T21:47:51.088Z"
   },
   {
    "duration": 15,
    "start_time": "2022-12-20T21:47:51.106Z"
   },
   {
    "duration": 6,
    "start_time": "2022-12-20T21:47:51.123Z"
   },
   {
    "duration": 6,
    "start_time": "2022-12-20T21:47:51.131Z"
   },
   {
    "duration": 7,
    "start_time": "2022-12-20T21:47:51.138Z"
   },
   {
    "duration": 11,
    "start_time": "2022-12-20T21:47:51.147Z"
   },
   {
    "duration": 91,
    "start_time": "2022-12-20T21:47:51.160Z"
   },
   {
    "duration": 282,
    "start_time": "2022-12-20T21:47:51.254Z"
   },
   {
    "duration": 27,
    "start_time": "2022-12-20T21:47:51.538Z"
   },
   {
    "duration": 41,
    "start_time": "2022-12-20T21:47:51.567Z"
   },
   {
    "duration": 8,
    "start_time": "2022-12-20T21:47:51.612Z"
   },
   {
    "duration": 7,
    "start_time": "2022-12-20T21:47:51.622Z"
   },
   {
    "duration": 49,
    "start_time": "2022-12-21T00:32:19.737Z"
   },
   {
    "duration": 1118,
    "start_time": "2022-12-21T00:32:28.081Z"
   },
   {
    "duration": 125,
    "start_time": "2022-12-21T00:32:29.203Z"
   },
   {
    "duration": 18,
    "start_time": "2022-12-21T00:32:29.329Z"
   },
   {
    "duration": 11,
    "start_time": "2022-12-21T00:32:29.350Z"
   },
   {
    "duration": 8,
    "start_time": "2022-12-21T00:32:29.363Z"
   },
   {
    "duration": 10,
    "start_time": "2022-12-21T00:32:29.372Z"
   },
   {
    "duration": 12,
    "start_time": "2022-12-21T00:32:29.383Z"
   },
   {
    "duration": 8,
    "start_time": "2022-12-21T00:32:29.397Z"
   },
   {
    "duration": 12,
    "start_time": "2022-12-21T00:32:29.406Z"
   },
   {
    "duration": 73,
    "start_time": "2022-12-21T00:32:29.420Z"
   },
   {
    "duration": 278,
    "start_time": "2022-12-21T00:32:29.495Z"
   },
   {
    "duration": 8829,
    "start_time": "2022-12-21T00:32:29.775Z"
   },
   {
    "duration": 26,
    "start_time": "2022-12-21T00:32:38.605Z"
   },
   {
    "duration": 18,
    "start_time": "2022-12-21T00:32:38.633Z"
   },
   {
    "duration": 7,
    "start_time": "2022-12-21T00:32:38.652Z"
   },
   {
    "duration": 7,
    "start_time": "2022-12-21T00:32:38.660Z"
   },
   {
    "duration": 1955,
    "start_time": "2022-12-21T11:01:34.385Z"
   },
   {
    "duration": 87,
    "start_time": "2022-12-21T11:01:36.342Z"
   },
   {
    "duration": 24,
    "start_time": "2022-12-21T11:01:36.436Z"
   },
   {
    "duration": 65,
    "start_time": "2022-12-21T11:01:36.463Z"
   },
   {
    "duration": 8,
    "start_time": "2022-12-21T11:01:36.534Z"
   },
   {
    "duration": 33,
    "start_time": "2022-12-21T11:01:36.545Z"
   },
   {
    "duration": 80,
    "start_time": "2022-12-21T11:01:36.580Z"
   },
   {
    "duration": 20,
    "start_time": "2022-12-21T11:01:36.662Z"
   },
   {
    "duration": 38,
    "start_time": "2022-12-21T11:01:36.684Z"
   },
   {
    "duration": 232,
    "start_time": "2022-12-21T11:01:36.725Z"
   },
   {
    "duration": 789,
    "start_time": "2022-12-21T11:01:36.958Z"
   },
   {
    "duration": 20398,
    "start_time": "2022-12-21T11:01:37.749Z"
   },
   {
    "duration": 90,
    "start_time": "2022-12-21T11:01:58.148Z"
   },
   {
    "duration": 18,
    "start_time": "2022-12-21T11:01:58.241Z"
   },
   {
    "duration": 65,
    "start_time": "2022-12-21T11:01:58.261Z"
   },
   {
    "duration": 6,
    "start_time": "2022-12-21T11:01:58.328Z"
   }
  ],
  "kernelspec": {
   "display_name": "Python 3 (ipykernel)",
   "language": "python",
   "name": "python3"
  },
  "language_info": {
   "codemirror_mode": {
    "name": "ipython",
    "version": 3
   },
   "file_extension": ".py",
   "mimetype": "text/x-python",
   "name": "python",
   "nbconvert_exporter": "python",
   "pygments_lexer": "ipython3",
   "version": "3.9.13"
  },
  "toc": {
   "base_numbering": 1,
   "nav_menu": {},
   "number_sections": true,
   "sideBar": true,
   "skip_h1_title": true,
   "title_cell": "Содержание",
   "title_sidebar": "Contents",
   "toc_cell": true,
   "toc_position": {
    "height": "calc(100% - 180px)",
    "left": "10px",
    "top": "150px",
    "width": "733.168px"
   },
   "toc_section_display": true,
   "toc_window_display": true
  }
 },
 "nbformat": 4,
 "nbformat_minor": 5
}
