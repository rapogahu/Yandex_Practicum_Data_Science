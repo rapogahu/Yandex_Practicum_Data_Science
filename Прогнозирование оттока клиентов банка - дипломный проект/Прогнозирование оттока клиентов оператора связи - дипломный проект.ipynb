{
 "cells": [
  {
   "cell_type": "markdown",
   "id": "9a1ca6f0",
   "metadata": {
    "toc": true
   },
   "source": [
    "<h1>Содержание<span class=\"tocSkip\"></span></h1>\n",
    "<div class=\"toc\"><ul class=\"toc-item\"><li><span><a href=\"#Изучение-общей-информации\" data-toc-modified-id=\"Изучение-общей-информации-1\"><span class=\"toc-item-num\">1&nbsp;&nbsp;</span>Изучение общей информации</a></span><ul class=\"toc-item\"><li><span><a href=\"#Импорт-необходимых-библиотек\" data-toc-modified-id=\"Импорт-необходимых-библиотек-1.1\"><span class=\"toc-item-num\">1.1&nbsp;&nbsp;</span>Импорт необходимых библиотек</a></span></li><li><span><a href=\"#Открытие-файлов\" data-toc-modified-id=\"Открытие-файлов-1.2\"><span class=\"toc-item-num\">1.2&nbsp;&nbsp;</span>Открытие файлов</a></span></li><li><span><a href=\"#Вывод-первых-десяти-строк-таблицы\" data-toc-modified-id=\"Вывод-первых-десяти-строк-таблицы-1.3\"><span class=\"toc-item-num\">1.3&nbsp;&nbsp;</span>Вывод первых десяти строк таблицы</a></span></li><li><span><a href=\"#Вывод-основной-информации-о-датафреймах\" data-toc-modified-id=\"Вывод-основной-информации-о-датафреймах-1.4\"><span class=\"toc-item-num\">1.4&nbsp;&nbsp;</span>Вывод основной информации о датафреймах</a></span></li><li><span><a href=\"#Вывод\" data-toc-modified-id=\"Вывод-1.5\"><span class=\"toc-item-num\">1.5&nbsp;&nbsp;</span>Вывод</a></span></li></ul></li><li><span><a href=\"#Предобработка-данных\" data-toc-modified-id=\"Предобработка-данных-2\"><span class=\"toc-item-num\">2&nbsp;&nbsp;</span>Предобработка данных</a></span><ul class=\"toc-item\"><li><span><a href=\"#Соединение-датафреймов\" data-toc-modified-id=\"Соединение-датафреймов-2.1\"><span class=\"toc-item-num\">2.1&nbsp;&nbsp;</span>Соединение датафреймов</a></span></li><li><span><a href=\"#Изменение-названий-столбцов-датафреймов\" data-toc-modified-id=\"Изменение-названий-столбцов-датафреймов-2.2\"><span class=\"toc-item-num\">2.2&nbsp;&nbsp;</span>Изменение названий столбцов датафреймов</a></span></li><li><span><a href=\"#Обработка-целевого-признака\" data-toc-modified-id=\"Обработка-целевого-признака-2.3\"><span class=\"toc-item-num\">2.3&nbsp;&nbsp;</span>Обработка целевого признака</a></span></li><li><span><a href=\"#Заполение-пропусков\" data-toc-modified-id=\"Заполение-пропусков-2.4\"><span class=\"toc-item-num\">2.4&nbsp;&nbsp;</span>Заполение пропусков</a></span></li><li><span><a href=\"#Изменение-типов-данных\" data-toc-modified-id=\"Изменение-типов-данных-2.5\"><span class=\"toc-item-num\">2.5&nbsp;&nbsp;</span>Изменение типов данных</a></span></li><li><span><a href=\"#Анализ-и-графики\" data-toc-modified-id=\"Анализ-и-графики-2.6\"><span class=\"toc-item-num\">2.6&nbsp;&nbsp;</span>Анализ и графики</a></span></li><li><span><a href=\"#Вывод\" data-toc-modified-id=\"Вывод-2.7\"><span class=\"toc-item-num\">2.7&nbsp;&nbsp;</span>Вывод</a></span></li></ul></li><li><span><a href=\"#Подготовка-данных\" data-toc-modified-id=\"Подготовка-данных-3\"><span class=\"toc-item-num\">3&nbsp;&nbsp;</span>Подготовка данных</a></span><ul class=\"toc-item\"><li><span><a href=\"#Добавление-столбцов\" data-toc-modified-id=\"Добавление-столбцов-3.1\"><span class=\"toc-item-num\">3.1&nbsp;&nbsp;</span>Добавление столбцов</a></span></li><li><span><a href=\"#Удаление-неинформативных-признаков\" data-toc-modified-id=\"Удаление-неинформативных-признаков-3.2\"><span class=\"toc-item-num\">3.2&nbsp;&nbsp;</span>Удаление неинформативных признаков</a></span></li><li><span><a href=\"#Разбиение-данных-на-выборки\" data-toc-modified-id=\"Разбиение-данных-на-выборки-3.3\"><span class=\"toc-item-num\">3.3&nbsp;&nbsp;</span>Разбиение данных на выборки</a></span></li><li><span><a href=\"#Корреляция-признаков\" data-toc-modified-id=\"Корреляция-признаков-3.4\"><span class=\"toc-item-num\">3.4&nbsp;&nbsp;</span>Корреляция признаков</a></span></li><li><span><a href=\"#Вывод\" data-toc-modified-id=\"Вывод-3.5\"><span class=\"toc-item-num\">3.5&nbsp;&nbsp;</span>Вывод</a></span></li></ul></li><li><span><a href=\"#Обучение-моделей\" data-toc-modified-id=\"Обучение-моделей-4\"><span class=\"toc-item-num\">4&nbsp;&nbsp;</span>Обучение моделей</a></span><ul class=\"toc-item\"><li><span><a href=\"#Случайный-лес\" data-toc-modified-id=\"Случайный-лес-4.1\"><span class=\"toc-item-num\">4.1&nbsp;&nbsp;</span>Случайный лес</a></span></li><li><span><a href=\"#LightGBM\" data-toc-modified-id=\"LightGBM-4.2\"><span class=\"toc-item-num\">4.2&nbsp;&nbsp;</span>LightGBM</a></span></li><li><span><a href=\"#Вывод\" data-toc-modified-id=\"Вывод-4.3\"><span class=\"toc-item-num\">4.3&nbsp;&nbsp;</span>Вывод</a></span></li></ul></li><li><span><a href=\"#Анализ-модели-и-тестирование\" data-toc-modified-id=\"Анализ-модели-и-тестирование-5\"><span class=\"toc-item-num\">5&nbsp;&nbsp;</span>Анализ модели и тестирование</a></span><ul class=\"toc-item\"><li><span><a href=\"#Построение-ROC-кривой\" data-toc-modified-id=\"Построение-ROC-кривой-5.1\"><span class=\"toc-item-num\">5.1&nbsp;&nbsp;</span>Построение ROC-кривой</a></span></li><li><span><a href=\"#Важность-признаков\" data-toc-modified-id=\"Важность-признаков-5.2\"><span class=\"toc-item-num\">5.2&nbsp;&nbsp;</span>Важность признаков</a></span></li><li><span><a href=\"#Вывод\" data-toc-modified-id=\"Вывод-5.3\"><span class=\"toc-item-num\">5.3&nbsp;&nbsp;</span>Вывод</a></span></li></ul></li><li><span><a href=\"#Отчет\" data-toc-modified-id=\"Отчет-6\"><span class=\"toc-item-num\">6&nbsp;&nbsp;</span>Отчет</a></span></li></ul></div>"
   ]
  },
  {
   "cell_type": "markdown",
   "id": "f0a04aa6",
   "metadata": {},
   "source": [
    "# Анализ оттока клиентов"
   ]
  },
  {
   "cell_type": "markdown",
   "id": "feec7910",
   "metadata": {},
   "source": [
    "Оператор связи «Ниединогоразрыва.ком» хочет научиться прогнозировать отток клиентов. Если выяснится, что пользователь планирует уйти, ему будут предложены промокоды и специальные условия. Команда оператора собрала персональные данные о некоторых клиентах, информацию об их тарифах и договорах.\n",
    "\n",
    "Оператор предоставляет два основных типа услуг: \n",
    "\n",
    "1. Стационарную телефонную связь. Возможно подключение телефонного аппарата к нескольким линиям одновременно.\n",
    "2. Интернет. Подключение может быть двух типов: через телефонную линию (DSL*,* от англ. *digital subscriber line*, «цифровая абонентская линия») или оптоволоконный кабель (*Fiber optic*).  \n",
    "\n",
    "Также доступны такие услуги:\n",
    "\n",
    "- Интернет-безопасность: антивирус (*DeviceProtection*) и блокировка небезопасных сайтов (*OnlineSecurity*);\n",
    "- Выделенная линия технической поддержки (*TechSupport*);\n",
    "- Облачное хранилище файлов для резервного копирования данных (*OnlineBackup*);\n",
    "- Стриминговое телевидение (*StreamingTV*) и каталог фильмов (*StreamingMovies*).\n",
    "\n",
    "За услуги клиенты могут платить каждый месяц или заключить договор на 1–2 года. Доступны различные способы расчёта и возможность получения электронного чека.\n",
    "\n",
    "**Цель исследования** — построить модель, которая поможет предсказать уход клиента.\n",
    "\n",
    "**Ход исследования**:\n",
    "1. Загрузка и изучение общей информации о датафреймах\n",
    "2. Предобработка данных\n",
    "3. Подготовка данных\n",
    "4. Построение модели\n",
    "6. Тестирование модели\n",
    "7. Вывод"
   ]
  },
  {
   "cell_type": "code",
   "execution_count": 2,
   "id": "511e6870",
   "metadata": {},
   "outputs": [],
   "source": [
    "RANDOM_STATE = 100423"
   ]
  },
  {
   "cell_type": "markdown",
   "id": "7f0461ce",
   "metadata": {},
   "source": [
    "## Изучение общей информации"
   ]
  },
  {
   "cell_type": "markdown",
   "id": "340664bc",
   "metadata": {},
   "source": [
    "### Импорт необходимых библиотек"
   ]
  },
  {
   "cell_type": "code",
   "execution_count": 58,
   "id": "d8588fe3",
   "metadata": {},
   "outputs": [],
   "source": [
    "%matplotlib inline\n",
    "import pandas as pd\n",
    "import numpy as np\n",
    "import matplotlib.pyplot as plt\n",
    "import seaborn as sns\n",
    "\n",
    "import lightgbm as lgb\n",
    "from sklearn.preprocessing import StandardScaler\n",
    "from sklearn.preprocessing import OrdinalEncoder\n",
    "\n",
    "from sklearn.model_selection import RandomizedSearchCV\n",
    "from sklearn.model_selection import train_test_split\n",
    "\n",
    "from sklearn.pipeline import make_pipeline\n",
    "from sklearn.compose import make_column_transformer\n",
    "from sklearn.ensemble import RandomForestClassifier\n",
    "\n",
    "from sklearn.metrics import roc_auc_score\n",
    "from sklearn.metrics import roc_curve\n",
    "from sklearn.metrics import f1_score\n",
    "\n",
    "import phik\n",
    "\n",
    "from pandas_profiling import ProfileReport"
   ]
  },
  {
   "cell_type": "markdown",
   "id": "8fd7812c",
   "metadata": {},
   "source": [
    "### Открытие файлов"
   ]
  },
  {
   "cell_type": "code",
   "execution_count": 4,
   "id": "d12f1d3e",
   "metadata": {},
   "outputs": [],
   "source": [
    "try:\n",
    "    contract_data = pd.read_csv('/datasets/contract_new.csv', sep=',', engine='python')\n",
    "except:\n",
    "    contract_data = pd.read_csv('https://code.s3.yandex.net/datasets/contract_new.csv', sep=',', engine='python')"
   ]
  },
  {
   "cell_type": "code",
   "execution_count": 5,
   "id": "3178a8fd",
   "metadata": {},
   "outputs": [],
   "source": [
    "try:\n",
    "    personal_data = pd.read_csv('/datasets/personal_new.csv', sep=',', engine='python')\n",
    "except:\n",
    "    personal_data = pd.read_csv('https://code.s3.yandex.net/datasets/personal_new.csv', sep=',', engine='python')"
   ]
  },
  {
   "cell_type": "code",
   "execution_count": 6,
   "id": "99dde855",
   "metadata": {},
   "outputs": [],
   "source": [
    "try:\n",
    "    internet_data = pd.read_csv('/datasets/internet_new.csv', sep=',', engine='python')\n",
    "except:\n",
    "    internet_data = pd.read_csv('https://code.s3.yandex.net/datasets/internet_new.csv', sep=',', engine='python')"
   ]
  },
  {
   "cell_type": "code",
   "execution_count": 7,
   "id": "91633865",
   "metadata": {},
   "outputs": [],
   "source": [
    "try:\n",
    "    phone_data = pd.read_csv('/datasets/phone_new.csv', sep=',', engine='python')\n",
    "except:\n",
    "    phone_data = pd.read_csv('https://code.s3.yandex.net/datasets/phone_new.csv', sep=',', engine='python')"
   ]
  },
  {
   "cell_type": "markdown",
   "id": "91fb8396",
   "metadata": {},
   "source": [
    "### Вывод первых десяти строк таблицы"
   ]
  },
  {
   "cell_type": "code",
   "execution_count": 8,
   "id": "5b99130d",
   "metadata": {},
   "outputs": [
    {
     "data": {
      "text/html": [
       "<div>\n",
       "<style scoped>\n",
       "    .dataframe tbody tr th:only-of-type {\n",
       "        vertical-align: middle;\n",
       "    }\n",
       "\n",
       "    .dataframe tbody tr th {\n",
       "        vertical-align: top;\n",
       "    }\n",
       "\n",
       "    .dataframe thead th {\n",
       "        text-align: right;\n",
       "    }\n",
       "</style>\n",
       "<table border=\"1\" class=\"dataframe\">\n",
       "  <thead>\n",
       "    <tr style=\"text-align: right;\">\n",
       "      <th></th>\n",
       "      <th>customerID</th>\n",
       "      <th>BeginDate</th>\n",
       "      <th>EndDate</th>\n",
       "      <th>Type</th>\n",
       "      <th>PaperlessBilling</th>\n",
       "      <th>PaymentMethod</th>\n",
       "      <th>MonthlyCharges</th>\n",
       "      <th>TotalCharges</th>\n",
       "    </tr>\n",
       "  </thead>\n",
       "  <tbody>\n",
       "    <tr>\n",
       "      <th>0</th>\n",
       "      <td>7590-VHVEG</td>\n",
       "      <td>2020-01-01</td>\n",
       "      <td>No</td>\n",
       "      <td>Month-to-month</td>\n",
       "      <td>Yes</td>\n",
       "      <td>Electronic check</td>\n",
       "      <td>29.85</td>\n",
       "      <td>31.04</td>\n",
       "    </tr>\n",
       "    <tr>\n",
       "      <th>1</th>\n",
       "      <td>5575-GNVDE</td>\n",
       "      <td>2017-04-01</td>\n",
       "      <td>No</td>\n",
       "      <td>One year</td>\n",
       "      <td>No</td>\n",
       "      <td>Mailed check</td>\n",
       "      <td>56.95</td>\n",
       "      <td>2071.84</td>\n",
       "    </tr>\n",
       "    <tr>\n",
       "      <th>2</th>\n",
       "      <td>3668-QPYBK</td>\n",
       "      <td>2019-10-01</td>\n",
       "      <td>No</td>\n",
       "      <td>Month-to-month</td>\n",
       "      <td>Yes</td>\n",
       "      <td>Mailed check</td>\n",
       "      <td>53.85</td>\n",
       "      <td>226.17</td>\n",
       "    </tr>\n",
       "    <tr>\n",
       "      <th>3</th>\n",
       "      <td>7795-CFOCW</td>\n",
       "      <td>2016-05-01</td>\n",
       "      <td>No</td>\n",
       "      <td>One year</td>\n",
       "      <td>No</td>\n",
       "      <td>Bank transfer (automatic)</td>\n",
       "      <td>42.30</td>\n",
       "      <td>1960.6</td>\n",
       "    </tr>\n",
       "    <tr>\n",
       "      <th>4</th>\n",
       "      <td>9237-HQITU</td>\n",
       "      <td>2019-09-01</td>\n",
       "      <td>No</td>\n",
       "      <td>Month-to-month</td>\n",
       "      <td>Yes</td>\n",
       "      <td>Electronic check</td>\n",
       "      <td>70.70</td>\n",
       "      <td>353.5</td>\n",
       "    </tr>\n",
       "    <tr>\n",
       "      <th>5</th>\n",
       "      <td>9305-CDSKC</td>\n",
       "      <td>2019-03-01</td>\n",
       "      <td>No</td>\n",
       "      <td>Month-to-month</td>\n",
       "      <td>Yes</td>\n",
       "      <td>Electronic check</td>\n",
       "      <td>99.65</td>\n",
       "      <td>1150.96</td>\n",
       "    </tr>\n",
       "    <tr>\n",
       "      <th>6</th>\n",
       "      <td>1452-KIOVK</td>\n",
       "      <td>2018-04-01</td>\n",
       "      <td>No</td>\n",
       "      <td>Month-to-month</td>\n",
       "      <td>Yes</td>\n",
       "      <td>Credit card (automatic)</td>\n",
       "      <td>89.10</td>\n",
       "      <td>2058.21</td>\n",
       "    </tr>\n",
       "    <tr>\n",
       "      <th>7</th>\n",
       "      <td>6713-OKOMC</td>\n",
       "      <td>2019-04-01</td>\n",
       "      <td>No</td>\n",
       "      <td>Month-to-month</td>\n",
       "      <td>No</td>\n",
       "      <td>Mailed check</td>\n",
       "      <td>29.75</td>\n",
       "      <td>300.48</td>\n",
       "    </tr>\n",
       "    <tr>\n",
       "      <th>8</th>\n",
       "      <td>7892-POOKP</td>\n",
       "      <td>2017-07-01</td>\n",
       "      <td>No</td>\n",
       "      <td>Month-to-month</td>\n",
       "      <td>Yes</td>\n",
       "      <td>Electronic check</td>\n",
       "      <td>104.80</td>\n",
       "      <td>3573.68</td>\n",
       "    </tr>\n",
       "    <tr>\n",
       "      <th>9</th>\n",
       "      <td>6388-TABGU</td>\n",
       "      <td>2014-12-01</td>\n",
       "      <td>2017-05-01</td>\n",
       "      <td>One year</td>\n",
       "      <td>No</td>\n",
       "      <td>Bank transfer (automatic)</td>\n",
       "      <td>56.15</td>\n",
       "      <td>1628.35</td>\n",
       "    </tr>\n",
       "  </tbody>\n",
       "</table>\n",
       "</div>"
      ],
      "text/plain": [
       "   customerID   BeginDate     EndDate            Type PaperlessBilling  \\\n",
       "0  7590-VHVEG  2020-01-01          No  Month-to-month              Yes   \n",
       "1  5575-GNVDE  2017-04-01          No        One year               No   \n",
       "2  3668-QPYBK  2019-10-01          No  Month-to-month              Yes   \n",
       "3  7795-CFOCW  2016-05-01          No        One year               No   \n",
       "4  9237-HQITU  2019-09-01          No  Month-to-month              Yes   \n",
       "5  9305-CDSKC  2019-03-01          No  Month-to-month              Yes   \n",
       "6  1452-KIOVK  2018-04-01          No  Month-to-month              Yes   \n",
       "7  6713-OKOMC  2019-04-01          No  Month-to-month               No   \n",
       "8  7892-POOKP  2017-07-01          No  Month-to-month              Yes   \n",
       "9  6388-TABGU  2014-12-01  2017-05-01        One year               No   \n",
       "\n",
       "               PaymentMethod  MonthlyCharges TotalCharges  \n",
       "0           Electronic check           29.85        31.04  \n",
       "1               Mailed check           56.95      2071.84  \n",
       "2               Mailed check           53.85       226.17  \n",
       "3  Bank transfer (automatic)           42.30       1960.6  \n",
       "4           Electronic check           70.70        353.5  \n",
       "5           Electronic check           99.65      1150.96  \n",
       "6    Credit card (automatic)           89.10      2058.21  \n",
       "7               Mailed check           29.75       300.48  \n",
       "8           Electronic check          104.80      3573.68  \n",
       "9  Bank transfer (automatic)           56.15      1628.35  "
      ]
     },
     "execution_count": 8,
     "metadata": {},
     "output_type": "execute_result"
    }
   ],
   "source": [
    "contract_data.head(10)"
   ]
  },
  {
   "cell_type": "code",
   "execution_count": 9,
   "id": "368dc61c",
   "metadata": {},
   "outputs": [
    {
     "data": {
      "text/html": [
       "<div>\n",
       "<style scoped>\n",
       "    .dataframe tbody tr th:only-of-type {\n",
       "        vertical-align: middle;\n",
       "    }\n",
       "\n",
       "    .dataframe tbody tr th {\n",
       "        vertical-align: top;\n",
       "    }\n",
       "\n",
       "    .dataframe thead th {\n",
       "        text-align: right;\n",
       "    }\n",
       "</style>\n",
       "<table border=\"1\" class=\"dataframe\">\n",
       "  <thead>\n",
       "    <tr style=\"text-align: right;\">\n",
       "      <th></th>\n",
       "      <th>customerID</th>\n",
       "      <th>gender</th>\n",
       "      <th>SeniorCitizen</th>\n",
       "      <th>Partner</th>\n",
       "      <th>Dependents</th>\n",
       "    </tr>\n",
       "  </thead>\n",
       "  <tbody>\n",
       "    <tr>\n",
       "      <th>0</th>\n",
       "      <td>7590-VHVEG</td>\n",
       "      <td>Female</td>\n",
       "      <td>0</td>\n",
       "      <td>Yes</td>\n",
       "      <td>No</td>\n",
       "    </tr>\n",
       "    <tr>\n",
       "      <th>1</th>\n",
       "      <td>5575-GNVDE</td>\n",
       "      <td>Male</td>\n",
       "      <td>0</td>\n",
       "      <td>No</td>\n",
       "      <td>No</td>\n",
       "    </tr>\n",
       "    <tr>\n",
       "      <th>2</th>\n",
       "      <td>3668-QPYBK</td>\n",
       "      <td>Male</td>\n",
       "      <td>0</td>\n",
       "      <td>No</td>\n",
       "      <td>No</td>\n",
       "    </tr>\n",
       "    <tr>\n",
       "      <th>3</th>\n",
       "      <td>7795-CFOCW</td>\n",
       "      <td>Male</td>\n",
       "      <td>0</td>\n",
       "      <td>No</td>\n",
       "      <td>No</td>\n",
       "    </tr>\n",
       "    <tr>\n",
       "      <th>4</th>\n",
       "      <td>9237-HQITU</td>\n",
       "      <td>Female</td>\n",
       "      <td>0</td>\n",
       "      <td>No</td>\n",
       "      <td>No</td>\n",
       "    </tr>\n",
       "    <tr>\n",
       "      <th>5</th>\n",
       "      <td>9305-CDSKC</td>\n",
       "      <td>Female</td>\n",
       "      <td>0</td>\n",
       "      <td>No</td>\n",
       "      <td>No</td>\n",
       "    </tr>\n",
       "    <tr>\n",
       "      <th>6</th>\n",
       "      <td>1452-KIOVK</td>\n",
       "      <td>Male</td>\n",
       "      <td>0</td>\n",
       "      <td>No</td>\n",
       "      <td>Yes</td>\n",
       "    </tr>\n",
       "    <tr>\n",
       "      <th>7</th>\n",
       "      <td>6713-OKOMC</td>\n",
       "      <td>Female</td>\n",
       "      <td>0</td>\n",
       "      <td>No</td>\n",
       "      <td>No</td>\n",
       "    </tr>\n",
       "    <tr>\n",
       "      <th>8</th>\n",
       "      <td>7892-POOKP</td>\n",
       "      <td>Female</td>\n",
       "      <td>0</td>\n",
       "      <td>Yes</td>\n",
       "      <td>No</td>\n",
       "    </tr>\n",
       "    <tr>\n",
       "      <th>9</th>\n",
       "      <td>6388-TABGU</td>\n",
       "      <td>Male</td>\n",
       "      <td>0</td>\n",
       "      <td>No</td>\n",
       "      <td>Yes</td>\n",
       "    </tr>\n",
       "  </tbody>\n",
       "</table>\n",
       "</div>"
      ],
      "text/plain": [
       "   customerID  gender  SeniorCitizen Partner Dependents\n",
       "0  7590-VHVEG  Female              0     Yes         No\n",
       "1  5575-GNVDE    Male              0      No         No\n",
       "2  3668-QPYBK    Male              0      No         No\n",
       "3  7795-CFOCW    Male              0      No         No\n",
       "4  9237-HQITU  Female              0      No         No\n",
       "5  9305-CDSKC  Female              0      No         No\n",
       "6  1452-KIOVK    Male              0      No        Yes\n",
       "7  6713-OKOMC  Female              0      No         No\n",
       "8  7892-POOKP  Female              0     Yes         No\n",
       "9  6388-TABGU    Male              0      No        Yes"
      ]
     },
     "execution_count": 9,
     "metadata": {},
     "output_type": "execute_result"
    }
   ],
   "source": [
    "personal_data.head(10)"
   ]
  },
  {
   "cell_type": "code",
   "execution_count": 10,
   "id": "c392b7c6",
   "metadata": {},
   "outputs": [
    {
     "data": {
      "text/html": [
       "<div>\n",
       "<style scoped>\n",
       "    .dataframe tbody tr th:only-of-type {\n",
       "        vertical-align: middle;\n",
       "    }\n",
       "\n",
       "    .dataframe tbody tr th {\n",
       "        vertical-align: top;\n",
       "    }\n",
       "\n",
       "    .dataframe thead th {\n",
       "        text-align: right;\n",
       "    }\n",
       "</style>\n",
       "<table border=\"1\" class=\"dataframe\">\n",
       "  <thead>\n",
       "    <tr style=\"text-align: right;\">\n",
       "      <th></th>\n",
       "      <th>customerID</th>\n",
       "      <th>InternetService</th>\n",
       "      <th>OnlineSecurity</th>\n",
       "      <th>OnlineBackup</th>\n",
       "      <th>DeviceProtection</th>\n",
       "      <th>TechSupport</th>\n",
       "      <th>StreamingTV</th>\n",
       "      <th>StreamingMovies</th>\n",
       "    </tr>\n",
       "  </thead>\n",
       "  <tbody>\n",
       "    <tr>\n",
       "      <th>0</th>\n",
       "      <td>7590-VHVEG</td>\n",
       "      <td>DSL</td>\n",
       "      <td>No</td>\n",
       "      <td>Yes</td>\n",
       "      <td>No</td>\n",
       "      <td>No</td>\n",
       "      <td>No</td>\n",
       "      <td>No</td>\n",
       "    </tr>\n",
       "    <tr>\n",
       "      <th>1</th>\n",
       "      <td>5575-GNVDE</td>\n",
       "      <td>DSL</td>\n",
       "      <td>Yes</td>\n",
       "      <td>No</td>\n",
       "      <td>Yes</td>\n",
       "      <td>No</td>\n",
       "      <td>No</td>\n",
       "      <td>No</td>\n",
       "    </tr>\n",
       "    <tr>\n",
       "      <th>2</th>\n",
       "      <td>3668-QPYBK</td>\n",
       "      <td>DSL</td>\n",
       "      <td>Yes</td>\n",
       "      <td>Yes</td>\n",
       "      <td>No</td>\n",
       "      <td>No</td>\n",
       "      <td>No</td>\n",
       "      <td>No</td>\n",
       "    </tr>\n",
       "    <tr>\n",
       "      <th>3</th>\n",
       "      <td>7795-CFOCW</td>\n",
       "      <td>DSL</td>\n",
       "      <td>Yes</td>\n",
       "      <td>No</td>\n",
       "      <td>Yes</td>\n",
       "      <td>Yes</td>\n",
       "      <td>No</td>\n",
       "      <td>No</td>\n",
       "    </tr>\n",
       "    <tr>\n",
       "      <th>4</th>\n",
       "      <td>9237-HQITU</td>\n",
       "      <td>Fiber optic</td>\n",
       "      <td>No</td>\n",
       "      <td>No</td>\n",
       "      <td>No</td>\n",
       "      <td>No</td>\n",
       "      <td>No</td>\n",
       "      <td>No</td>\n",
       "    </tr>\n",
       "    <tr>\n",
       "      <th>5</th>\n",
       "      <td>9305-CDSKC</td>\n",
       "      <td>Fiber optic</td>\n",
       "      <td>No</td>\n",
       "      <td>No</td>\n",
       "      <td>Yes</td>\n",
       "      <td>No</td>\n",
       "      <td>Yes</td>\n",
       "      <td>Yes</td>\n",
       "    </tr>\n",
       "    <tr>\n",
       "      <th>6</th>\n",
       "      <td>1452-KIOVK</td>\n",
       "      <td>Fiber optic</td>\n",
       "      <td>No</td>\n",
       "      <td>Yes</td>\n",
       "      <td>No</td>\n",
       "      <td>No</td>\n",
       "      <td>Yes</td>\n",
       "      <td>No</td>\n",
       "    </tr>\n",
       "    <tr>\n",
       "      <th>7</th>\n",
       "      <td>6713-OKOMC</td>\n",
       "      <td>DSL</td>\n",
       "      <td>Yes</td>\n",
       "      <td>No</td>\n",
       "      <td>No</td>\n",
       "      <td>No</td>\n",
       "      <td>No</td>\n",
       "      <td>No</td>\n",
       "    </tr>\n",
       "    <tr>\n",
       "      <th>8</th>\n",
       "      <td>7892-POOKP</td>\n",
       "      <td>Fiber optic</td>\n",
       "      <td>No</td>\n",
       "      <td>No</td>\n",
       "      <td>Yes</td>\n",
       "      <td>Yes</td>\n",
       "      <td>Yes</td>\n",
       "      <td>Yes</td>\n",
       "    </tr>\n",
       "    <tr>\n",
       "      <th>9</th>\n",
       "      <td>6388-TABGU</td>\n",
       "      <td>DSL</td>\n",
       "      <td>Yes</td>\n",
       "      <td>Yes</td>\n",
       "      <td>No</td>\n",
       "      <td>No</td>\n",
       "      <td>No</td>\n",
       "      <td>No</td>\n",
       "    </tr>\n",
       "  </tbody>\n",
       "</table>\n",
       "</div>"
      ],
      "text/plain": [
       "   customerID InternetService OnlineSecurity OnlineBackup DeviceProtection  \\\n",
       "0  7590-VHVEG             DSL             No          Yes               No   \n",
       "1  5575-GNVDE             DSL            Yes           No              Yes   \n",
       "2  3668-QPYBK             DSL            Yes          Yes               No   \n",
       "3  7795-CFOCW             DSL            Yes           No              Yes   \n",
       "4  9237-HQITU     Fiber optic             No           No               No   \n",
       "5  9305-CDSKC     Fiber optic             No           No              Yes   \n",
       "6  1452-KIOVK     Fiber optic             No          Yes               No   \n",
       "7  6713-OKOMC             DSL            Yes           No               No   \n",
       "8  7892-POOKP     Fiber optic             No           No              Yes   \n",
       "9  6388-TABGU             DSL            Yes          Yes               No   \n",
       "\n",
       "  TechSupport StreamingTV StreamingMovies  \n",
       "0          No          No              No  \n",
       "1          No          No              No  \n",
       "2          No          No              No  \n",
       "3         Yes          No              No  \n",
       "4          No          No              No  \n",
       "5          No         Yes             Yes  \n",
       "6          No         Yes              No  \n",
       "7          No          No              No  \n",
       "8         Yes         Yes             Yes  \n",
       "9          No          No              No  "
      ]
     },
     "execution_count": 10,
     "metadata": {},
     "output_type": "execute_result"
    }
   ],
   "source": [
    "internet_data.head(10)"
   ]
  },
  {
   "cell_type": "code",
   "execution_count": 11,
   "id": "be6e8e25",
   "metadata": {},
   "outputs": [
    {
     "data": {
      "text/html": [
       "<div>\n",
       "<style scoped>\n",
       "    .dataframe tbody tr th:only-of-type {\n",
       "        vertical-align: middle;\n",
       "    }\n",
       "\n",
       "    .dataframe tbody tr th {\n",
       "        vertical-align: top;\n",
       "    }\n",
       "\n",
       "    .dataframe thead th {\n",
       "        text-align: right;\n",
       "    }\n",
       "</style>\n",
       "<table border=\"1\" class=\"dataframe\">\n",
       "  <thead>\n",
       "    <tr style=\"text-align: right;\">\n",
       "      <th></th>\n",
       "      <th>customerID</th>\n",
       "      <th>MultipleLines</th>\n",
       "    </tr>\n",
       "  </thead>\n",
       "  <tbody>\n",
       "    <tr>\n",
       "      <th>0</th>\n",
       "      <td>5575-GNVDE</td>\n",
       "      <td>No</td>\n",
       "    </tr>\n",
       "    <tr>\n",
       "      <th>1</th>\n",
       "      <td>3668-QPYBK</td>\n",
       "      <td>No</td>\n",
       "    </tr>\n",
       "    <tr>\n",
       "      <th>2</th>\n",
       "      <td>9237-HQITU</td>\n",
       "      <td>No</td>\n",
       "    </tr>\n",
       "    <tr>\n",
       "      <th>3</th>\n",
       "      <td>9305-CDSKC</td>\n",
       "      <td>Yes</td>\n",
       "    </tr>\n",
       "    <tr>\n",
       "      <th>4</th>\n",
       "      <td>1452-KIOVK</td>\n",
       "      <td>Yes</td>\n",
       "    </tr>\n",
       "    <tr>\n",
       "      <th>5</th>\n",
       "      <td>7892-POOKP</td>\n",
       "      <td>Yes</td>\n",
       "    </tr>\n",
       "    <tr>\n",
       "      <th>6</th>\n",
       "      <td>6388-TABGU</td>\n",
       "      <td>No</td>\n",
       "    </tr>\n",
       "    <tr>\n",
       "      <th>7</th>\n",
       "      <td>9763-GRSKD</td>\n",
       "      <td>No</td>\n",
       "    </tr>\n",
       "    <tr>\n",
       "      <th>8</th>\n",
       "      <td>7469-LKBCI</td>\n",
       "      <td>No</td>\n",
       "    </tr>\n",
       "    <tr>\n",
       "      <th>9</th>\n",
       "      <td>8091-TTVAX</td>\n",
       "      <td>Yes</td>\n",
       "    </tr>\n",
       "  </tbody>\n",
       "</table>\n",
       "</div>"
      ],
      "text/plain": [
       "   customerID MultipleLines\n",
       "0  5575-GNVDE            No\n",
       "1  3668-QPYBK            No\n",
       "2  9237-HQITU            No\n",
       "3  9305-CDSKC           Yes\n",
       "4  1452-KIOVK           Yes\n",
       "5  7892-POOKP           Yes\n",
       "6  6388-TABGU            No\n",
       "7  9763-GRSKD            No\n",
       "8  7469-LKBCI            No\n",
       "9  8091-TTVAX           Yes"
      ]
     },
     "execution_count": 11,
     "metadata": {},
     "output_type": "execute_result"
    }
   ],
   "source": [
    "phone_data.head(10)"
   ]
  },
  {
   "cell_type": "markdown",
   "id": "51f7749b",
   "metadata": {},
   "source": [
    "### Вывод основной информации о датафреймах"
   ]
  },
  {
   "cell_type": "code",
   "execution_count": 12,
   "id": "6a8a9239",
   "metadata": {},
   "outputs": [
    {
     "name": "stdout",
     "output_type": "stream",
     "text": [
      "<class 'pandas.core.frame.DataFrame'>\n",
      "RangeIndex: 7043 entries, 0 to 7042\n",
      "Data columns (total 8 columns):\n",
      " #   Column            Non-Null Count  Dtype  \n",
      "---  ------            --------------  -----  \n",
      " 0   customerID        7043 non-null   object \n",
      " 1   BeginDate         7043 non-null   object \n",
      " 2   EndDate           7043 non-null   object \n",
      " 3   Type              7043 non-null   object \n",
      " 4   PaperlessBilling  7043 non-null   object \n",
      " 5   PaymentMethod     7043 non-null   object \n",
      " 6   MonthlyCharges    7043 non-null   float64\n",
      " 7   TotalCharges      7043 non-null   object \n",
      "dtypes: float64(1), object(7)\n",
      "memory usage: 440.3+ KB\n"
     ]
    }
   ],
   "source": [
    "contract_data.info()"
   ]
  },
  {
   "cell_type": "code",
   "execution_count": 13,
   "id": "7ad880bd",
   "metadata": {},
   "outputs": [
    {
     "name": "stdout",
     "output_type": "stream",
     "text": [
      "<class 'pandas.core.frame.DataFrame'>\n",
      "RangeIndex: 7043 entries, 0 to 7042\n",
      "Data columns (total 5 columns):\n",
      " #   Column         Non-Null Count  Dtype \n",
      "---  ------         --------------  ----- \n",
      " 0   customerID     7043 non-null   object\n",
      " 1   gender         7043 non-null   object\n",
      " 2   SeniorCitizen  7043 non-null   int64 \n",
      " 3   Partner        7043 non-null   object\n",
      " 4   Dependents     7043 non-null   object\n",
      "dtypes: int64(1), object(4)\n",
      "memory usage: 275.2+ KB\n"
     ]
    }
   ],
   "source": [
    "personal_data.info()"
   ]
  },
  {
   "cell_type": "code",
   "execution_count": 14,
   "id": "0e535290",
   "metadata": {},
   "outputs": [
    {
     "name": "stdout",
     "output_type": "stream",
     "text": [
      "<class 'pandas.core.frame.DataFrame'>\n",
      "RangeIndex: 5517 entries, 0 to 5516\n",
      "Data columns (total 8 columns):\n",
      " #   Column            Non-Null Count  Dtype \n",
      "---  ------            --------------  ----- \n",
      " 0   customerID        5517 non-null   object\n",
      " 1   InternetService   5517 non-null   object\n",
      " 2   OnlineSecurity    5517 non-null   object\n",
      " 3   OnlineBackup      5517 non-null   object\n",
      " 4   DeviceProtection  5517 non-null   object\n",
      " 5   TechSupport       5517 non-null   object\n",
      " 6   StreamingTV       5517 non-null   object\n",
      " 7   StreamingMovies   5517 non-null   object\n",
      "dtypes: object(8)\n",
      "memory usage: 344.9+ KB\n"
     ]
    }
   ],
   "source": [
    "internet_data.info()"
   ]
  },
  {
   "cell_type": "code",
   "execution_count": 15,
   "id": "b674e22d",
   "metadata": {},
   "outputs": [
    {
     "name": "stdout",
     "output_type": "stream",
     "text": [
      "<class 'pandas.core.frame.DataFrame'>\n",
      "RangeIndex: 6361 entries, 0 to 6360\n",
      "Data columns (total 2 columns):\n",
      " #   Column         Non-Null Count  Dtype \n",
      "---  ------         --------------  ----- \n",
      " 0   customerID     6361 non-null   object\n",
      " 1   MultipleLines  6361 non-null   object\n",
      "dtypes: object(2)\n",
      "memory usage: 99.5+ KB\n"
     ]
    }
   ],
   "source": [
    "phone_data.info()"
   ]
  },
  {
   "cell_type": "code",
   "execution_count": 16,
   "id": "855f6174",
   "metadata": {},
   "outputs": [
    {
     "data": {
      "text/html": [
       "<div>\n",
       "<style scoped>\n",
       "    .dataframe tbody tr th:only-of-type {\n",
       "        vertical-align: middle;\n",
       "    }\n",
       "\n",
       "    .dataframe tbody tr th {\n",
       "        vertical-align: top;\n",
       "    }\n",
       "\n",
       "    .dataframe thead th {\n",
       "        text-align: right;\n",
       "    }\n",
       "</style>\n",
       "<table border=\"1\" class=\"dataframe\">\n",
       "  <thead>\n",
       "    <tr style=\"text-align: right;\">\n",
       "      <th></th>\n",
       "      <th>MonthlyCharges</th>\n",
       "    </tr>\n",
       "  </thead>\n",
       "  <tbody>\n",
       "    <tr>\n",
       "      <th>count</th>\n",
       "      <td>7043.000000</td>\n",
       "    </tr>\n",
       "    <tr>\n",
       "      <th>mean</th>\n",
       "      <td>64.761692</td>\n",
       "    </tr>\n",
       "    <tr>\n",
       "      <th>std</th>\n",
       "      <td>30.090047</td>\n",
       "    </tr>\n",
       "    <tr>\n",
       "      <th>min</th>\n",
       "      <td>18.250000</td>\n",
       "    </tr>\n",
       "    <tr>\n",
       "      <th>25%</th>\n",
       "      <td>35.500000</td>\n",
       "    </tr>\n",
       "    <tr>\n",
       "      <th>50%</th>\n",
       "      <td>70.350000</td>\n",
       "    </tr>\n",
       "    <tr>\n",
       "      <th>75%</th>\n",
       "      <td>89.850000</td>\n",
       "    </tr>\n",
       "    <tr>\n",
       "      <th>max</th>\n",
       "      <td>118.750000</td>\n",
       "    </tr>\n",
       "  </tbody>\n",
       "</table>\n",
       "</div>"
      ],
      "text/plain": [
       "       MonthlyCharges\n",
       "count     7043.000000\n",
       "mean        64.761692\n",
       "std         30.090047\n",
       "min         18.250000\n",
       "25%         35.500000\n",
       "50%         70.350000\n",
       "75%         89.850000\n",
       "max        118.750000"
      ]
     },
     "execution_count": 16,
     "metadata": {},
     "output_type": "execute_result"
    }
   ],
   "source": [
    "contract_data.describe()"
   ]
  },
  {
   "cell_type": "code",
   "execution_count": 17,
   "id": "a6f95a97",
   "metadata": {},
   "outputs": [
    {
     "data": {
      "text/html": [
       "<div>\n",
       "<style scoped>\n",
       "    .dataframe tbody tr th:only-of-type {\n",
       "        vertical-align: middle;\n",
       "    }\n",
       "\n",
       "    .dataframe tbody tr th {\n",
       "        vertical-align: top;\n",
       "    }\n",
       "\n",
       "    .dataframe thead th {\n",
       "        text-align: right;\n",
       "    }\n",
       "</style>\n",
       "<table border=\"1\" class=\"dataframe\">\n",
       "  <thead>\n",
       "    <tr style=\"text-align: right;\">\n",
       "      <th></th>\n",
       "      <th>SeniorCitizen</th>\n",
       "    </tr>\n",
       "  </thead>\n",
       "  <tbody>\n",
       "    <tr>\n",
       "      <th>count</th>\n",
       "      <td>7043.000000</td>\n",
       "    </tr>\n",
       "    <tr>\n",
       "      <th>mean</th>\n",
       "      <td>0.162147</td>\n",
       "    </tr>\n",
       "    <tr>\n",
       "      <th>std</th>\n",
       "      <td>0.368612</td>\n",
       "    </tr>\n",
       "    <tr>\n",
       "      <th>min</th>\n",
       "      <td>0.000000</td>\n",
       "    </tr>\n",
       "    <tr>\n",
       "      <th>25%</th>\n",
       "      <td>0.000000</td>\n",
       "    </tr>\n",
       "    <tr>\n",
       "      <th>50%</th>\n",
       "      <td>0.000000</td>\n",
       "    </tr>\n",
       "    <tr>\n",
       "      <th>75%</th>\n",
       "      <td>0.000000</td>\n",
       "    </tr>\n",
       "    <tr>\n",
       "      <th>max</th>\n",
       "      <td>1.000000</td>\n",
       "    </tr>\n",
       "  </tbody>\n",
       "</table>\n",
       "</div>"
      ],
      "text/plain": [
       "       SeniorCitizen\n",
       "count    7043.000000\n",
       "mean        0.162147\n",
       "std         0.368612\n",
       "min         0.000000\n",
       "25%         0.000000\n",
       "50%         0.000000\n",
       "75%         0.000000\n",
       "max         1.000000"
      ]
     },
     "execution_count": 17,
     "metadata": {},
     "output_type": "execute_result"
    }
   ],
   "source": [
    "personal_data.describe()"
   ]
  },
  {
   "cell_type": "code",
   "execution_count": 18,
   "id": "d6f577ea",
   "metadata": {},
   "outputs": [
    {
     "data": {
      "text/html": [
       "<div>\n",
       "<style scoped>\n",
       "    .dataframe tbody tr th:only-of-type {\n",
       "        vertical-align: middle;\n",
       "    }\n",
       "\n",
       "    .dataframe tbody tr th {\n",
       "        vertical-align: top;\n",
       "    }\n",
       "\n",
       "    .dataframe thead th {\n",
       "        text-align: right;\n",
       "    }\n",
       "</style>\n",
       "<table border=\"1\" class=\"dataframe\">\n",
       "  <thead>\n",
       "    <tr style=\"text-align: right;\">\n",
       "      <th></th>\n",
       "      <th>customerID</th>\n",
       "      <th>InternetService</th>\n",
       "      <th>OnlineSecurity</th>\n",
       "      <th>OnlineBackup</th>\n",
       "      <th>DeviceProtection</th>\n",
       "      <th>TechSupport</th>\n",
       "      <th>StreamingTV</th>\n",
       "      <th>StreamingMovies</th>\n",
       "    </tr>\n",
       "  </thead>\n",
       "  <tbody>\n",
       "    <tr>\n",
       "      <th>count</th>\n",
       "      <td>5517</td>\n",
       "      <td>5517</td>\n",
       "      <td>5517</td>\n",
       "      <td>5517</td>\n",
       "      <td>5517</td>\n",
       "      <td>5517</td>\n",
       "      <td>5517</td>\n",
       "      <td>5517</td>\n",
       "    </tr>\n",
       "    <tr>\n",
       "      <th>unique</th>\n",
       "      <td>5517</td>\n",
       "      <td>2</td>\n",
       "      <td>2</td>\n",
       "      <td>2</td>\n",
       "      <td>2</td>\n",
       "      <td>2</td>\n",
       "      <td>2</td>\n",
       "      <td>2</td>\n",
       "    </tr>\n",
       "    <tr>\n",
       "      <th>top</th>\n",
       "      <td>7590-VHVEG</td>\n",
       "      <td>Fiber optic</td>\n",
       "      <td>No</td>\n",
       "      <td>No</td>\n",
       "      <td>No</td>\n",
       "      <td>No</td>\n",
       "      <td>No</td>\n",
       "      <td>No</td>\n",
       "    </tr>\n",
       "    <tr>\n",
       "      <th>freq</th>\n",
       "      <td>1</td>\n",
       "      <td>3096</td>\n",
       "      <td>3498</td>\n",
       "      <td>3088</td>\n",
       "      <td>3095</td>\n",
       "      <td>3473</td>\n",
       "      <td>2810</td>\n",
       "      <td>2785</td>\n",
       "    </tr>\n",
       "  </tbody>\n",
       "</table>\n",
       "</div>"
      ],
      "text/plain": [
       "        customerID InternetService OnlineSecurity OnlineBackup  \\\n",
       "count         5517            5517           5517         5517   \n",
       "unique        5517               2              2            2   \n",
       "top     7590-VHVEG     Fiber optic             No           No   \n",
       "freq             1            3096           3498         3088   \n",
       "\n",
       "       DeviceProtection TechSupport StreamingTV StreamingMovies  \n",
       "count              5517        5517        5517            5517  \n",
       "unique                2           2           2               2  \n",
       "top                  No          No          No              No  \n",
       "freq               3095        3473        2810            2785  "
      ]
     },
     "execution_count": 18,
     "metadata": {},
     "output_type": "execute_result"
    }
   ],
   "source": [
    "internet_data.describe()"
   ]
  },
  {
   "cell_type": "code",
   "execution_count": 19,
   "id": "aa63f75e",
   "metadata": {},
   "outputs": [
    {
     "data": {
      "text/html": [
       "<div>\n",
       "<style scoped>\n",
       "    .dataframe tbody tr th:only-of-type {\n",
       "        vertical-align: middle;\n",
       "    }\n",
       "\n",
       "    .dataframe tbody tr th {\n",
       "        vertical-align: top;\n",
       "    }\n",
       "\n",
       "    .dataframe thead th {\n",
       "        text-align: right;\n",
       "    }\n",
       "</style>\n",
       "<table border=\"1\" class=\"dataframe\">\n",
       "  <thead>\n",
       "    <tr style=\"text-align: right;\">\n",
       "      <th></th>\n",
       "      <th>customerID</th>\n",
       "      <th>MultipleLines</th>\n",
       "    </tr>\n",
       "  </thead>\n",
       "  <tbody>\n",
       "    <tr>\n",
       "      <th>count</th>\n",
       "      <td>6361</td>\n",
       "      <td>6361</td>\n",
       "    </tr>\n",
       "    <tr>\n",
       "      <th>unique</th>\n",
       "      <td>6361</td>\n",
       "      <td>2</td>\n",
       "    </tr>\n",
       "    <tr>\n",
       "      <th>top</th>\n",
       "      <td>5575-GNVDE</td>\n",
       "      <td>No</td>\n",
       "    </tr>\n",
       "    <tr>\n",
       "      <th>freq</th>\n",
       "      <td>1</td>\n",
       "      <td>3390</td>\n",
       "    </tr>\n",
       "  </tbody>\n",
       "</table>\n",
       "</div>"
      ],
      "text/plain": [
       "        customerID MultipleLines\n",
       "count         6361          6361\n",
       "unique        6361             2\n",
       "top     5575-GNVDE            No\n",
       "freq             1          3390"
      ]
     },
     "execution_count": 19,
     "metadata": {},
     "output_type": "execute_result"
    }
   ],
   "source": [
    "phone_data.describe()"
   ]
  },
  {
   "cell_type": "markdown",
   "id": "0db34b43",
   "metadata": {},
   "source": [
    "### Вывод"
   ]
  },
  {
   "cell_type": "markdown",
   "id": "4a292d11",
   "metadata": {},
   "source": [
    "Согласно документации к данным, датафреймы имеют следующую информацию:\n",
    "- `contract_new.csv` — информация о договоре;\n",
    "- `personal_new.csv` — персональные данные клиента;\n",
    "- `internet_new.csv` — информация об интернет-услугах;\n",
    "- `phone_new.csv` — информация об услугах телефонии.\n",
    "\n",
    "Описание полей данных:\n",
    "- `BeginDate` – дата начала пользования услугами,\n",
    "- `EndDate` – дата окончания пользования услугами,\n",
    "- `Type` – тип договора: ежемесячный, годовой и т.д,\n",
    "- `PaperlessBilling` – факт выставления счёта на электронную почту,\n",
    "- `PaymentMethod` – способ оплаты,\n",
    "- `MonthlyCharges` – ежемесячные траты на услуги,\n",
    "- `TotalCharges` – всего потрачено денег на услуги,\n",
    "- `Dependents` – наличие иждивенцев,\n",
    "- `Senior Citizen` – наличие пенсионного статуса по возрасту,\n",
    "- `Partner` – наличие супруга(и),\n",
    "- `MultipleLines` – наличие возможности ведения параллельных линий во время звонка.\n",
    "\n",
    "Целевым признаком будет являться столбец `EndDate` из датафрейма `contract_data`. \n",
    "\n",
    "Данные не имеют дубликатов, но в датафреймах неравное количество строк: в `contract_data` и `personal_data` 7043 строки, в `internet_data` 5517 строк и в `phone_data` 6361 строка. Необходимо будет объединить датафреймы и провести предобработку данных."
   ]
  },
  {
   "cell_type": "markdown",
   "id": "4f64bb53",
   "metadata": {},
   "source": [
    "**План работы:**\n",
    "1. Провести предобработку данных;\n",
    "2. Подготовить данные для дальнейшей работы с моделью: определить информативные и неинформативные признаки, разбить данные на выборки, преобразовать категориальные признаки в численные и промасштабировать признаки;\n",
    "3. Построить несколько различных моделей с разными параметрами для выбора лучшей по метрике AUC-ROC;\n",
    "4. Протестировать модель;"
   ]
  },
  {
   "cell_type": "markdown",
   "id": "81418c2d",
   "metadata": {},
   "source": [
    "## Предобработка данных"
   ]
  },
  {
   "cell_type": "markdown",
   "id": "044cfc8c",
   "metadata": {},
   "source": [
    "### Соединение датафреймов"
   ]
  },
  {
   "cell_type": "markdown",
   "id": "e635995b",
   "metadata": {},
   "source": [
    "Соединим все датафреймы с помощью столбца `customerID`:"
   ]
  },
  {
   "cell_type": "code",
   "execution_count": 20,
   "id": "ac388d97",
   "metadata": {},
   "outputs": [],
   "source": [
    "data = contract_data.join(\n",
    "    personal_data.set_index('customerID'), on='customerID').join(\n",
    "    phone_data.set_index('customerID'), on='customerID').join(\n",
    "    internet_data.set_index('customerID'), on='customerID')"
   ]
  },
  {
   "cell_type": "markdown",
   "id": "a8c2b1ca",
   "metadata": {},
   "source": [
    "Рассмотрим датафрейм после объединения:"
   ]
  },
  {
   "cell_type": "code",
   "execution_count": 21,
   "id": "70794943",
   "metadata": {},
   "outputs": [
    {
     "name": "stdout",
     "output_type": "stream",
     "text": [
      "<class 'pandas.core.frame.DataFrame'>\n",
      "RangeIndex: 7043 entries, 0 to 7042\n",
      "Data columns (total 20 columns):\n",
      " #   Column            Non-Null Count  Dtype  \n",
      "---  ------            --------------  -----  \n",
      " 0   customerID        7043 non-null   object \n",
      " 1   BeginDate         7043 non-null   object \n",
      " 2   EndDate           7043 non-null   object \n",
      " 3   Type              7043 non-null   object \n",
      " 4   PaperlessBilling  7043 non-null   object \n",
      " 5   PaymentMethod     7043 non-null   object \n",
      " 6   MonthlyCharges    7043 non-null   float64\n",
      " 7   TotalCharges      7043 non-null   object \n",
      " 8   gender            7043 non-null   object \n",
      " 9   SeniorCitizen     7043 non-null   int64  \n",
      " 10  Partner           7043 non-null   object \n",
      " 11  Dependents        7043 non-null   object \n",
      " 12  MultipleLines     6361 non-null   object \n",
      " 13  InternetService   5517 non-null   object \n",
      " 14  OnlineSecurity    5517 non-null   object \n",
      " 15  OnlineBackup      5517 non-null   object \n",
      " 16  DeviceProtection  5517 non-null   object \n",
      " 17  TechSupport       5517 non-null   object \n",
      " 18  StreamingTV       5517 non-null   object \n",
      " 19  StreamingMovies   5517 non-null   object \n",
      "dtypes: float64(1), int64(1), object(18)\n",
      "memory usage: 1.1+ MB\n"
     ]
    }
   ],
   "source": [
    "data.info()"
   ]
  },
  {
   "cell_type": "code",
   "execution_count": 22,
   "id": "cfeb57f2",
   "metadata": {},
   "outputs": [
    {
     "data": {
      "text/html": [
       "<div>\n",
       "<style scoped>\n",
       "    .dataframe tbody tr th:only-of-type {\n",
       "        vertical-align: middle;\n",
       "    }\n",
       "\n",
       "    .dataframe tbody tr th {\n",
       "        vertical-align: top;\n",
       "    }\n",
       "\n",
       "    .dataframe thead th {\n",
       "        text-align: right;\n",
       "    }\n",
       "</style>\n",
       "<table border=\"1\" class=\"dataframe\">\n",
       "  <thead>\n",
       "    <tr style=\"text-align: right;\">\n",
       "      <th></th>\n",
       "      <th>MonthlyCharges</th>\n",
       "      <th>SeniorCitizen</th>\n",
       "    </tr>\n",
       "  </thead>\n",
       "  <tbody>\n",
       "    <tr>\n",
       "      <th>count</th>\n",
       "      <td>7043.000000</td>\n",
       "      <td>7043.000000</td>\n",
       "    </tr>\n",
       "    <tr>\n",
       "      <th>mean</th>\n",
       "      <td>64.761692</td>\n",
       "      <td>0.162147</td>\n",
       "    </tr>\n",
       "    <tr>\n",
       "      <th>std</th>\n",
       "      <td>30.090047</td>\n",
       "      <td>0.368612</td>\n",
       "    </tr>\n",
       "    <tr>\n",
       "      <th>min</th>\n",
       "      <td>18.250000</td>\n",
       "      <td>0.000000</td>\n",
       "    </tr>\n",
       "    <tr>\n",
       "      <th>25%</th>\n",
       "      <td>35.500000</td>\n",
       "      <td>0.000000</td>\n",
       "    </tr>\n",
       "    <tr>\n",
       "      <th>50%</th>\n",
       "      <td>70.350000</td>\n",
       "      <td>0.000000</td>\n",
       "    </tr>\n",
       "    <tr>\n",
       "      <th>75%</th>\n",
       "      <td>89.850000</td>\n",
       "      <td>0.000000</td>\n",
       "    </tr>\n",
       "    <tr>\n",
       "      <th>max</th>\n",
       "      <td>118.750000</td>\n",
       "      <td>1.000000</td>\n",
       "    </tr>\n",
       "  </tbody>\n",
       "</table>\n",
       "</div>"
      ],
      "text/plain": [
       "       MonthlyCharges  SeniorCitizen\n",
       "count     7043.000000    7043.000000\n",
       "mean        64.761692       0.162147\n",
       "std         30.090047       0.368612\n",
       "min         18.250000       0.000000\n",
       "25%         35.500000       0.000000\n",
       "50%         70.350000       0.000000\n",
       "75%         89.850000       0.000000\n",
       "max        118.750000       1.000000"
      ]
     },
     "execution_count": 22,
     "metadata": {},
     "output_type": "execute_result"
    }
   ],
   "source": [
    "data.describe()"
   ]
  },
  {
   "cell_type": "markdown",
   "id": "530ac74c",
   "metadata": {},
   "source": [
    "### Изменение названий столбцов датафреймов"
   ]
  },
  {
   "cell_type": "code",
   "execution_count": 23,
   "id": "bb7f2ff4",
   "metadata": {},
   "outputs": [],
   "source": [
    "data.columns = data.columns.str.replace(r\"([A-Z])\", \n",
    "                                        r\" \\1\", \n",
    "                                        regex=True).str.lower().str.replace(' ', '_').str[1:]"
   ]
  },
  {
   "cell_type": "code",
   "execution_count": 24,
   "id": "c0de5ece",
   "metadata": {},
   "outputs": [],
   "source": [
    "data = data.rename(columns={'ustomer_i_d' : 'customer_id',\n",
    "                            'ender' : 'gender',\n",
    "                            'streaming_t_v' : 'streaming_tv'})"
   ]
  },
  {
   "cell_type": "code",
   "execution_count": 25,
   "id": "3e3a07f5",
   "metadata": {},
   "outputs": [
    {
     "data": {
      "text/plain": [
       "Index(['customer_id', 'begin_date', 'end_date', 'type', 'paperless_billing',\n",
       "       'payment_method', 'monthly_charges', 'total_charges', 'gender',\n",
       "       'senior_citizen', 'partner', 'dependents', 'multiple_lines',\n",
       "       'internet_service', 'online_security', 'online_backup',\n",
       "       'device_protection', 'tech_support', 'streaming_tv',\n",
       "       'streaming_movies'],\n",
       "      dtype='object')"
      ]
     },
     "execution_count": 25,
     "metadata": {},
     "output_type": "execute_result"
    }
   ],
   "source": [
    "data.columns"
   ]
  },
  {
   "cell_type": "markdown",
   "id": "a1549f00",
   "metadata": {},
   "source": [
    "### Обработка целевого признака"
   ]
  },
  {
   "cell_type": "markdown",
   "id": "bd7aa638",
   "metadata": {},
   "source": [
    "Явного целевого признака в датафрейме нет, поэтому необходимо создать столбец `target`, в котором значения будут равны 0, если в столбце `end_date` значение `No`, и 1, если в столбце `end_date` любое другое значение."
   ]
  },
  {
   "cell_type": "code",
   "execution_count": 26,
   "id": "a9b547f8",
   "metadata": {},
   "outputs": [],
   "source": [
    "data.loc[data['end_date'] == 'No', 'target'] = 0"
   ]
  },
  {
   "cell_type": "code",
   "execution_count": 27,
   "id": "073d866f",
   "metadata": {},
   "outputs": [],
   "source": [
    "data.loc[data['end_date'] != 'No', 'target'] = 1"
   ]
  },
  {
   "cell_type": "code",
   "execution_count": 28,
   "id": "453e9d63",
   "metadata": {},
   "outputs": [],
   "source": [
    "data['target'] = data['target'].astype('int')"
   ]
  },
  {
   "cell_type": "markdown",
   "id": "78476a73",
   "metadata": {},
   "source": [
    "### Заполение пропусков"
   ]
  },
  {
   "cell_type": "markdown",
   "id": "1b9f686d",
   "metadata": {},
   "source": [
    "В столбце `total_charges` были замечены незаполненные значения. Так как в этом столбце значения — это сумма, которую заплатил клиент за все время пребывания с компанией, то можно предположить, что значения пустуют, если клиенты на момент выгрузки данных еще ничего не платили."
   ]
  },
  {
   "cell_type": "code",
   "execution_count": 29,
   "id": "76510361",
   "metadata": {},
   "outputs": [
    {
     "data": {
      "text/html": [
       "<div>\n",
       "<style scoped>\n",
       "    .dataframe tbody tr th:only-of-type {\n",
       "        vertical-align: middle;\n",
       "    }\n",
       "\n",
       "    .dataframe tbody tr th {\n",
       "        vertical-align: top;\n",
       "    }\n",
       "\n",
       "    .dataframe thead th {\n",
       "        text-align: right;\n",
       "    }\n",
       "</style>\n",
       "<table border=\"1\" class=\"dataframe\">\n",
       "  <thead>\n",
       "    <tr style=\"text-align: right;\">\n",
       "      <th></th>\n",
       "      <th>customer_id</th>\n",
       "      <th>begin_date</th>\n",
       "      <th>end_date</th>\n",
       "      <th>type</th>\n",
       "      <th>paperless_billing</th>\n",
       "      <th>payment_method</th>\n",
       "      <th>monthly_charges</th>\n",
       "      <th>total_charges</th>\n",
       "      <th>gender</th>\n",
       "      <th>senior_citizen</th>\n",
       "      <th>...</th>\n",
       "      <th>dependents</th>\n",
       "      <th>multiple_lines</th>\n",
       "      <th>internet_service</th>\n",
       "      <th>online_security</th>\n",
       "      <th>online_backup</th>\n",
       "      <th>device_protection</th>\n",
       "      <th>tech_support</th>\n",
       "      <th>streaming_tv</th>\n",
       "      <th>streaming_movies</th>\n",
       "      <th>target</th>\n",
       "    </tr>\n",
       "  </thead>\n",
       "  <tbody>\n",
       "    <tr>\n",
       "      <th>488</th>\n",
       "      <td>4472-LVYGI</td>\n",
       "      <td>2020-02-01</td>\n",
       "      <td>No</td>\n",
       "      <td>Two year</td>\n",
       "      <td>Yes</td>\n",
       "      <td>Bank transfer (automatic)</td>\n",
       "      <td>52.55</td>\n",
       "      <td></td>\n",
       "      <td>Female</td>\n",
       "      <td>0</td>\n",
       "      <td>...</td>\n",
       "      <td>Yes</td>\n",
       "      <td>NaN</td>\n",
       "      <td>DSL</td>\n",
       "      <td>Yes</td>\n",
       "      <td>No</td>\n",
       "      <td>Yes</td>\n",
       "      <td>Yes</td>\n",
       "      <td>Yes</td>\n",
       "      <td>No</td>\n",
       "      <td>0</td>\n",
       "    </tr>\n",
       "    <tr>\n",
       "      <th>753</th>\n",
       "      <td>3115-CZMZD</td>\n",
       "      <td>2020-02-01</td>\n",
       "      <td>No</td>\n",
       "      <td>Two year</td>\n",
       "      <td>No</td>\n",
       "      <td>Mailed check</td>\n",
       "      <td>20.25</td>\n",
       "      <td></td>\n",
       "      <td>Male</td>\n",
       "      <td>0</td>\n",
       "      <td>...</td>\n",
       "      <td>Yes</td>\n",
       "      <td>No</td>\n",
       "      <td>NaN</td>\n",
       "      <td>NaN</td>\n",
       "      <td>NaN</td>\n",
       "      <td>NaN</td>\n",
       "      <td>NaN</td>\n",
       "      <td>NaN</td>\n",
       "      <td>NaN</td>\n",
       "      <td>0</td>\n",
       "    </tr>\n",
       "    <tr>\n",
       "      <th>936</th>\n",
       "      <td>5709-LVOEQ</td>\n",
       "      <td>2020-02-01</td>\n",
       "      <td>No</td>\n",
       "      <td>Two year</td>\n",
       "      <td>No</td>\n",
       "      <td>Mailed check</td>\n",
       "      <td>80.85</td>\n",
       "      <td></td>\n",
       "      <td>Female</td>\n",
       "      <td>0</td>\n",
       "      <td>...</td>\n",
       "      <td>Yes</td>\n",
       "      <td>No</td>\n",
       "      <td>DSL</td>\n",
       "      <td>Yes</td>\n",
       "      <td>Yes</td>\n",
       "      <td>Yes</td>\n",
       "      <td>No</td>\n",
       "      <td>Yes</td>\n",
       "      <td>Yes</td>\n",
       "      <td>0</td>\n",
       "    </tr>\n",
       "    <tr>\n",
       "      <th>1082</th>\n",
       "      <td>4367-NUYAO</td>\n",
       "      <td>2020-02-01</td>\n",
       "      <td>No</td>\n",
       "      <td>Two year</td>\n",
       "      <td>No</td>\n",
       "      <td>Mailed check</td>\n",
       "      <td>25.75</td>\n",
       "      <td></td>\n",
       "      <td>Male</td>\n",
       "      <td>0</td>\n",
       "      <td>...</td>\n",
       "      <td>Yes</td>\n",
       "      <td>Yes</td>\n",
       "      <td>NaN</td>\n",
       "      <td>NaN</td>\n",
       "      <td>NaN</td>\n",
       "      <td>NaN</td>\n",
       "      <td>NaN</td>\n",
       "      <td>NaN</td>\n",
       "      <td>NaN</td>\n",
       "      <td>0</td>\n",
       "    </tr>\n",
       "    <tr>\n",
       "      <th>1340</th>\n",
       "      <td>1371-DWPAZ</td>\n",
       "      <td>2020-02-01</td>\n",
       "      <td>No</td>\n",
       "      <td>Two year</td>\n",
       "      <td>No</td>\n",
       "      <td>Credit card (automatic)</td>\n",
       "      <td>56.05</td>\n",
       "      <td></td>\n",
       "      <td>Female</td>\n",
       "      <td>0</td>\n",
       "      <td>...</td>\n",
       "      <td>Yes</td>\n",
       "      <td>NaN</td>\n",
       "      <td>DSL</td>\n",
       "      <td>Yes</td>\n",
       "      <td>Yes</td>\n",
       "      <td>Yes</td>\n",
       "      <td>Yes</td>\n",
       "      <td>Yes</td>\n",
       "      <td>No</td>\n",
       "      <td>0</td>\n",
       "    </tr>\n",
       "    <tr>\n",
       "      <th>3331</th>\n",
       "      <td>7644-OMVMY</td>\n",
       "      <td>2020-02-01</td>\n",
       "      <td>No</td>\n",
       "      <td>Two year</td>\n",
       "      <td>No</td>\n",
       "      <td>Mailed check</td>\n",
       "      <td>19.85</td>\n",
       "      <td></td>\n",
       "      <td>Male</td>\n",
       "      <td>0</td>\n",
       "      <td>...</td>\n",
       "      <td>Yes</td>\n",
       "      <td>No</td>\n",
       "      <td>NaN</td>\n",
       "      <td>NaN</td>\n",
       "      <td>NaN</td>\n",
       "      <td>NaN</td>\n",
       "      <td>NaN</td>\n",
       "      <td>NaN</td>\n",
       "      <td>NaN</td>\n",
       "      <td>0</td>\n",
       "    </tr>\n",
       "    <tr>\n",
       "      <th>3826</th>\n",
       "      <td>3213-VVOLG</td>\n",
       "      <td>2020-02-01</td>\n",
       "      <td>No</td>\n",
       "      <td>Two year</td>\n",
       "      <td>No</td>\n",
       "      <td>Mailed check</td>\n",
       "      <td>25.35</td>\n",
       "      <td></td>\n",
       "      <td>Male</td>\n",
       "      <td>0</td>\n",
       "      <td>...</td>\n",
       "      <td>Yes</td>\n",
       "      <td>Yes</td>\n",
       "      <td>NaN</td>\n",
       "      <td>NaN</td>\n",
       "      <td>NaN</td>\n",
       "      <td>NaN</td>\n",
       "      <td>NaN</td>\n",
       "      <td>NaN</td>\n",
       "      <td>NaN</td>\n",
       "      <td>0</td>\n",
       "    </tr>\n",
       "    <tr>\n",
       "      <th>4380</th>\n",
       "      <td>2520-SGTTA</td>\n",
       "      <td>2020-02-01</td>\n",
       "      <td>No</td>\n",
       "      <td>Two year</td>\n",
       "      <td>No</td>\n",
       "      <td>Mailed check</td>\n",
       "      <td>20.00</td>\n",
       "      <td></td>\n",
       "      <td>Female</td>\n",
       "      <td>0</td>\n",
       "      <td>...</td>\n",
       "      <td>Yes</td>\n",
       "      <td>No</td>\n",
       "      <td>NaN</td>\n",
       "      <td>NaN</td>\n",
       "      <td>NaN</td>\n",
       "      <td>NaN</td>\n",
       "      <td>NaN</td>\n",
       "      <td>NaN</td>\n",
       "      <td>NaN</td>\n",
       "      <td>0</td>\n",
       "    </tr>\n",
       "    <tr>\n",
       "      <th>5218</th>\n",
       "      <td>2923-ARZLG</td>\n",
       "      <td>2020-02-01</td>\n",
       "      <td>No</td>\n",
       "      <td>One year</td>\n",
       "      <td>Yes</td>\n",
       "      <td>Mailed check</td>\n",
       "      <td>19.70</td>\n",
       "      <td></td>\n",
       "      <td>Male</td>\n",
       "      <td>0</td>\n",
       "      <td>...</td>\n",
       "      <td>Yes</td>\n",
       "      <td>No</td>\n",
       "      <td>NaN</td>\n",
       "      <td>NaN</td>\n",
       "      <td>NaN</td>\n",
       "      <td>NaN</td>\n",
       "      <td>NaN</td>\n",
       "      <td>NaN</td>\n",
       "      <td>NaN</td>\n",
       "      <td>0</td>\n",
       "    </tr>\n",
       "    <tr>\n",
       "      <th>6670</th>\n",
       "      <td>4075-WKNIU</td>\n",
       "      <td>2020-02-01</td>\n",
       "      <td>No</td>\n",
       "      <td>Two year</td>\n",
       "      <td>No</td>\n",
       "      <td>Mailed check</td>\n",
       "      <td>73.35</td>\n",
       "      <td></td>\n",
       "      <td>Female</td>\n",
       "      <td>0</td>\n",
       "      <td>...</td>\n",
       "      <td>Yes</td>\n",
       "      <td>Yes</td>\n",
       "      <td>DSL</td>\n",
       "      <td>No</td>\n",
       "      <td>Yes</td>\n",
       "      <td>Yes</td>\n",
       "      <td>Yes</td>\n",
       "      <td>Yes</td>\n",
       "      <td>No</td>\n",
       "      <td>0</td>\n",
       "    </tr>\n",
       "    <tr>\n",
       "      <th>6754</th>\n",
       "      <td>2775-SEFEE</td>\n",
       "      <td>2020-02-01</td>\n",
       "      <td>No</td>\n",
       "      <td>Two year</td>\n",
       "      <td>Yes</td>\n",
       "      <td>Bank transfer (automatic)</td>\n",
       "      <td>61.90</td>\n",
       "      <td></td>\n",
       "      <td>Male</td>\n",
       "      <td>0</td>\n",
       "      <td>...</td>\n",
       "      <td>Yes</td>\n",
       "      <td>Yes</td>\n",
       "      <td>DSL</td>\n",
       "      <td>Yes</td>\n",
       "      <td>Yes</td>\n",
       "      <td>No</td>\n",
       "      <td>Yes</td>\n",
       "      <td>No</td>\n",
       "      <td>No</td>\n",
       "      <td>0</td>\n",
       "    </tr>\n",
       "  </tbody>\n",
       "</table>\n",
       "<p>11 rows × 21 columns</p>\n",
       "</div>"
      ],
      "text/plain": [
       "     customer_id  begin_date end_date      type paperless_billing  \\\n",
       "488   4472-LVYGI  2020-02-01       No  Two year               Yes   \n",
       "753   3115-CZMZD  2020-02-01       No  Two year                No   \n",
       "936   5709-LVOEQ  2020-02-01       No  Two year                No   \n",
       "1082  4367-NUYAO  2020-02-01       No  Two year                No   \n",
       "1340  1371-DWPAZ  2020-02-01       No  Two year                No   \n",
       "3331  7644-OMVMY  2020-02-01       No  Two year                No   \n",
       "3826  3213-VVOLG  2020-02-01       No  Two year                No   \n",
       "4380  2520-SGTTA  2020-02-01       No  Two year                No   \n",
       "5218  2923-ARZLG  2020-02-01       No  One year               Yes   \n",
       "6670  4075-WKNIU  2020-02-01       No  Two year                No   \n",
       "6754  2775-SEFEE  2020-02-01       No  Two year               Yes   \n",
       "\n",
       "                 payment_method  monthly_charges total_charges  gender  \\\n",
       "488   Bank transfer (automatic)            52.55                Female   \n",
       "753                Mailed check            20.25                  Male   \n",
       "936                Mailed check            80.85                Female   \n",
       "1082               Mailed check            25.75                  Male   \n",
       "1340    Credit card (automatic)            56.05                Female   \n",
       "3331               Mailed check            19.85                  Male   \n",
       "3826               Mailed check            25.35                  Male   \n",
       "4380               Mailed check            20.00                Female   \n",
       "5218               Mailed check            19.70                  Male   \n",
       "6670               Mailed check            73.35                Female   \n",
       "6754  Bank transfer (automatic)            61.90                  Male   \n",
       "\n",
       "      senior_citizen  ... dependents multiple_lines internet_service  \\\n",
       "488                0  ...        Yes            NaN              DSL   \n",
       "753                0  ...        Yes             No              NaN   \n",
       "936                0  ...        Yes             No              DSL   \n",
       "1082               0  ...        Yes            Yes              NaN   \n",
       "1340               0  ...        Yes            NaN              DSL   \n",
       "3331               0  ...        Yes             No              NaN   \n",
       "3826               0  ...        Yes            Yes              NaN   \n",
       "4380               0  ...        Yes             No              NaN   \n",
       "5218               0  ...        Yes             No              NaN   \n",
       "6670               0  ...        Yes            Yes              DSL   \n",
       "6754               0  ...        Yes            Yes              DSL   \n",
       "\n",
       "     online_security online_backup device_protection tech_support  \\\n",
       "488              Yes            No               Yes          Yes   \n",
       "753              NaN           NaN               NaN          NaN   \n",
       "936              Yes           Yes               Yes           No   \n",
       "1082             NaN           NaN               NaN          NaN   \n",
       "1340             Yes           Yes               Yes          Yes   \n",
       "3331             NaN           NaN               NaN          NaN   \n",
       "3826             NaN           NaN               NaN          NaN   \n",
       "4380             NaN           NaN               NaN          NaN   \n",
       "5218             NaN           NaN               NaN          NaN   \n",
       "6670              No           Yes               Yes          Yes   \n",
       "6754             Yes           Yes                No          Yes   \n",
       "\n",
       "     streaming_tv streaming_movies target  \n",
       "488           Yes               No      0  \n",
       "753           NaN              NaN      0  \n",
       "936           Yes              Yes      0  \n",
       "1082          NaN              NaN      0  \n",
       "1340          Yes               No      0  \n",
       "3331          NaN              NaN      0  \n",
       "3826          NaN              NaN      0  \n",
       "4380          NaN              NaN      0  \n",
       "5218          NaN              NaN      0  \n",
       "6670          Yes               No      0  \n",
       "6754           No               No      0  \n",
       "\n",
       "[11 rows x 21 columns]"
      ]
     },
     "execution_count": 29,
     "metadata": {},
     "output_type": "execute_result"
    }
   ],
   "source": [
    "data.loc[data['total_charges'] == ' ']"
   ]
  },
  {
   "cell_type": "markdown",
   "id": "d4354996",
   "metadata": {},
   "source": [
    "01.02.2020 — это как раз дата выгрузки данных, поэтому можно заполнить пропущенные значения 0:"
   ]
  },
  {
   "cell_type": "code",
   "execution_count": 30,
   "id": "5c8b0684",
   "metadata": {},
   "outputs": [],
   "source": [
    "data.loc[data['total_charges'] == ' ', 'total_charges'] = 0"
   ]
  },
  {
   "cell_type": "markdown",
   "id": "9741e104",
   "metadata": {},
   "source": [
    "После соединения датафреймов появились пропущенные значения, так как не все клиенты пользовались всеми услугами компании. Можем заполнить пропущенные значения на `No`:"
   ]
  },
  {
   "cell_type": "code",
   "execution_count": 31,
   "id": "3b049404",
   "metadata": {},
   "outputs": [],
   "source": [
    "data = data.fillna('No')"
   ]
  },
  {
   "cell_type": "markdown",
   "id": "aa20efaa",
   "metadata": {},
   "source": [
    "### Изменение типов данных"
   ]
  },
  {
   "cell_type": "markdown",
   "id": "1877df5b",
   "metadata": {},
   "source": [
    "Чтобы изменить тип данных столбца `end_date` заменим все значения `No` на `2020-02-01`, так как это дата выгрузки данных."
   ]
  },
  {
   "cell_type": "code",
   "execution_count": 32,
   "id": "477d11e8",
   "metadata": {},
   "outputs": [],
   "source": [
    "data.loc[data['end_date'] == 'No', 'end_date'] = '2020-02-01'"
   ]
  },
  {
   "cell_type": "markdown",
   "id": "f5f23912",
   "metadata": {},
   "source": [
    "Теперь можем изменим тип данных колонок `end_date` и `begin_date` на datetime:"
   ]
  },
  {
   "cell_type": "code",
   "execution_count": 33,
   "id": "6a0566ca",
   "metadata": {},
   "outputs": [],
   "source": [
    "data['begin_date'] = pd.to_datetime(data['begin_date'])"
   ]
  },
  {
   "cell_type": "code",
   "execution_count": 34,
   "id": "1ff18ccb",
   "metadata": {},
   "outputs": [],
   "source": [
    "data['end_date'] = pd.to_datetime(data['end_date'])"
   ]
  },
  {
   "cell_type": "markdown",
   "id": "9205a7c4",
   "metadata": {},
   "source": [
    "Изменим тип данных `total_charges` на float:"
   ]
  },
  {
   "cell_type": "code",
   "execution_count": 35,
   "id": "b202ee95",
   "metadata": {},
   "outputs": [],
   "source": [
    "data['total_charges'] = data['total_charges'].astype('float')"
   ]
  },
  {
   "cell_type": "markdown",
   "id": "21a7a29b",
   "metadata": {},
   "source": [
    "### Анализ и графики"
   ]
  },
  {
   "cell_type": "code",
   "execution_count": 36,
   "id": "69307c35",
   "metadata": {
    "scrolled": false
   },
   "outputs": [
    {
     "data": {
      "image/png": "[encoded data removed]",
      "text/plain": [
       "<Figure size 658.875x600 with 1 Axes>"
      ]
     },
     "metadata": {},
     "output_type": "display_data"
    },
    {
     "data": {
      "image/png": "[encoded data removed]",
      "text/plain": [
       "<Figure size 658.875x600 with 1 Axes>"
      ]
     },
     "metadata": {},
     "output_type": "display_data"
    },
    {
     "data": {
      "image/png": "[encoded data removed]",
      "text/plain": [
       "<Figure size 658.875x600 with 1 Axes>"
      ]
     },
     "metadata": {},
     "output_type": "display_data"
    },
    {
     "data": {
      "image/png": "[encoded data removed]",
      "text/plain": [
       "<Figure size 658.875x600 with 1 Axes>"
      ]
     },
     "metadata": {},
     "output_type": "display_data"
    },
    {
     "data": {
      "image/png": "[encoded data removed]",
      "text/plain": [
       "<Figure size 658.875x600 with 1 Axes>"
      ]
     },
     "metadata": {},
     "output_type": "display_data"
    },
    {
     "data": {
      "image/png": "[encoded data removed]",
      "text/plain": [
       "<Figure size 658.875x600 with 1 Axes>"
      ]
     },
     "metadata": {},
     "output_type": "display_data"
    },
    {
     "data": {
      "image/png": "[encoded data removed]",
      "text/plain": [
       "<Figure size 658.875x600 with 1 Axes>"
      ]
     },
     "metadata": {},
     "output_type": "display_data"
    },
    {
     "data": {
      "image/png": "[encoded data removed]",
      "text/plain": [
       "<Figure size 658.875x600 with 1 Axes>"
      ]
     },
     "metadata": {},
     "output_type": "display_data"
    },
    {
     "data": {
      "image/png": "[encoded data removed]",
      "text/plain": [
       "<Figure size 658.875x600 with 1 Axes>"
      ]
     },
     "metadata": {},
     "output_type": "display_data"
    },
    {
     "data": {
      "image/png": "[encoded data removed]",
      "text/plain": [
       "<Figure size 658.875x600 with 1 Axes>"
      ]
     },
     "metadata": {},
     "output_type": "display_data"
    },
    {
     "data": {
      "image/png": "[encoded data removed]",
      "text/plain": [
       "<Figure size 658.875x600 with 1 Axes>"
      ]
     },
     "metadata": {},
     "output_type": "display_data"
    },
    {
     "data": {
      "image/png": "[encoded data removed]",
      "text/plain": [
       "<Figure size 658.875x600 with 1 Axes>"
      ]
     },
     "metadata": {},
     "output_type": "display_data"
    },
    {
     "data": {
      "image/png": "[encoded data removed]",
      "text/plain": [
       "<Figure size 658.875x600 with 1 Axes>"
      ]
     },
     "metadata": {},
     "output_type": "display_data"
    },
    {
     "data": {
      "image/png": "[encoded data removed]",
      "text/plain": [
       "<Figure size 658.875x600 with 1 Axes>"
      ]
     },
     "metadata": {},
     "output_type": "display_data"
    },
    {
     "data": {
      "image/png": "[encoded data removed]",
      "text/plain": [
       "<Figure size 658.875x600 with 1 Axes>"
      ]
     },
     "metadata": {},
     "output_type": "display_data"
    },
    {
     "data": {
      "image/png": "[encoded data removed]",
      "text/plain": [
       "<Figure size 658.875x600 with 1 Axes>"
      ]
     },
     "metadata": {},
     "output_type": "display_data"
    },
    {
     "data": {
      "image/png": "[encoded data removed]",
      "text/plain": [
       "<Figure size 658.875x600 with 1 Axes>"
      ]
     },
     "metadata": {},
     "output_type": "display_data"
    },
    {
     "data": {
      "image/png": "[encoded data removed]",
      "text/plain": [
       "<Figure size 658.875x600 with 1 Axes>"
      ]
     },
     "metadata": {},
     "output_type": "display_data"
    },
    {
     "data": {
      "image/png": "[encoded data removed]",
      "text/plain": [
       "<Figure size 658.875x600 with 1 Axes>"
      ]
     },
     "metadata": {},
     "output_type": "display_data"
    },
    {
     "data": {
      "image/png": "[encoded data removed]",
      "text/plain": [
       "<Figure size 658.875x600 with 1 Axes>"
      ]
     },
     "metadata": {},
     "output_type": "display_data"
    }
   ],
   "source": [
    "for_plot = list(data.columns)\n",
    "for_plot.remove('customer_id')\n",
    "\n",
    "for x in for_plot:\n",
    "    sns.displot(data, x=x, kind='hist', hue='target', height=6)"
   ]
  },
  {
   "cell_type": "markdown",
   "id": "8dfa1238",
   "metadata": {},
   "source": [
    "### Вывод"
   ]
  },
  {
   "cell_type": "markdown",
   "id": "ba4ef19e",
   "metadata": {},
   "source": [
    "Предобработка обнаружила несколько проблем в данных:\n",
    "\n",
    "- пропущенные значения,\n",
    "- неверные типы данных,\n",
    "- стиль заголовков.\n",
    "\n",
    "При анализе графиков были выявлены следующие закономерности:\n",
    "\n",
    "- большинство ушедших клиентов пользовались такими функциями, как каталог фильмов, стриминговое телевидение, возможность ведения параллельных линий во время звонка\n",
    "- минимальное количество дней контракта у ушедших клиентво составило 28, а максимальное — более 2000\n",
    "- минимальная выплата в месяц у ушедших клиентов составляла около 20, а максимальная — более 100, при этом большинство ушедших клиентов платили более 100 в месяц.\n",
    "\n",
    "Теперь можно перейти к подготовке данных."
   ]
  },
  {
   "cell_type": "markdown",
   "id": "110fb723",
   "metadata": {},
   "source": [
    "## Подготовка данных"
   ]
  },
  {
   "cell_type": "markdown",
   "id": "3e6c3b6e",
   "metadata": {},
   "source": [
    "### Добавление столбцов "
   ]
  },
  {
   "cell_type": "markdown",
   "id": "ad71e3ef",
   "metadata": {},
   "source": [
    "Добавим новый признак, значения в котором будут обозначать количество дней, которые провел клиент с компанией на момент выгрузки данных:"
   ]
  },
  {
   "cell_type": "code",
   "execution_count": 37,
   "id": "731d8322",
   "metadata": {},
   "outputs": [],
   "source": [
    "data['total_time'] = data['end_date'].dt.to_period('D').astype('int') - data['begin_date'].dt.to_period('D').astype('int')"
   ]
  },
  {
   "cell_type": "markdown",
   "id": "01a35db2",
   "metadata": {},
   "source": [
    "### Удаление неинформативных признаков"
   ]
  },
  {
   "cell_type": "markdown",
   "id": "7130d9c4",
   "metadata": {},
   "source": [
    "Так как `customer_id` содержит уникальные id клиентов, то можно удалить данный столбец, так как это не повлияет на обучение модели:"
   ]
  },
  {
   "cell_type": "code",
   "execution_count": 38,
   "id": "123d49a0",
   "metadata": {},
   "outputs": [],
   "source": [
    "data = data.drop(columns='customer_id', axis=1)"
   ]
  },
  {
   "cell_type": "markdown",
   "id": "700ead2b",
   "metadata": {},
   "source": [
    "В предыдущем разделе был создан столбец `total_time`, поэтому можно удалить столбцы `begin_date` и `end_date`:"
   ]
  },
  {
   "cell_type": "code",
   "execution_count": 39,
   "id": "9bd68c4e",
   "metadata": {},
   "outputs": [],
   "source": [
    "data = data.drop(columns=['begin_date', 'end_date'], axis=1)"
   ]
  },
  {
   "cell_type": "markdown",
   "id": "7b915deb",
   "metadata": {},
   "source": [
    "### Разбиение данных на выборки"
   ]
  },
  {
   "cell_type": "code",
   "execution_count": 40,
   "id": "72702398",
   "metadata": {},
   "outputs": [],
   "source": [
    "features = data.drop('target', axis=1)\n",
    "target = data['target']"
   ]
  },
  {
   "cell_type": "markdown",
   "id": "08226780",
   "metadata": {},
   "source": [
    "Разбиваем данные на обучающую и тестовую выборки в отношении 3:1:"
   ]
  },
  {
   "cell_type": "code",
   "execution_count": 41,
   "id": "83aeb3f6",
   "metadata": {},
   "outputs": [],
   "source": [
    "features_train, features_test, target_train, target_test = train_test_split(\n",
    "    features, target, test_size=0.25, stratify=target, random_state=RANDOM_STATE)"
   ]
  },
  {
   "cell_type": "markdown",
   "id": "c852210e",
   "metadata": {},
   "source": [
    "Количество объектов и признаков в обучающей выборке:"
   ]
  },
  {
   "cell_type": "code",
   "execution_count": 42,
   "id": "7444ec35",
   "metadata": {},
   "outputs": [
    {
     "data": {
      "text/plain": [
       "(5282, 18)"
      ]
     },
     "execution_count": 42,
     "metadata": {},
     "output_type": "execute_result"
    }
   ],
   "source": [
    "features_train.shape "
   ]
  },
  {
   "cell_type": "markdown",
   "id": "aa26eb09",
   "metadata": {},
   "source": [
    "Количество объектов и признаков в тестовой выборке:"
   ]
  },
  {
   "cell_type": "code",
   "execution_count": 43,
   "id": "c3938ef9",
   "metadata": {},
   "outputs": [
    {
     "data": {
      "text/plain": [
       "(1761, 18)"
      ]
     },
     "execution_count": 43,
     "metadata": {},
     "output_type": "execute_result"
    }
   ],
   "source": [
    "features_test.shape "
   ]
  },
  {
   "cell_type": "markdown",
   "id": "5c7d1dfd",
   "metadata": {},
   "source": [
    "### Корреляция признаков"
   ]
  },
  {
   "cell_type": "markdown",
   "id": "527f21db",
   "metadata": {},
   "source": [
    "Рассмотрим матрицу корреляций признаков:"
   ]
  },
  {
   "cell_type": "code",
   "execution_count": 44,
   "id": "db6e4652",
   "metadata": {},
   "outputs": [
    {
     "name": "stdout",
     "output_type": "stream",
     "text": [
      "interval columns not set, guessing: ['monthly_charges', 'total_charges', 'senior_citizen', 'target', 'total_time']\n"
     ]
    },
    {
     "data": {
      "text/html": [
       "<div>\n",
       "<style scoped>\n",
       "    .dataframe tbody tr th:only-of-type {\n",
       "        vertical-align: middle;\n",
       "    }\n",
       "\n",
       "    .dataframe tbody tr th {\n",
       "        vertical-align: top;\n",
       "    }\n",
       "\n",
       "    .dataframe thead th {\n",
       "        text-align: right;\n",
       "    }\n",
       "</style>\n",
       "<table border=\"1\" class=\"dataframe\">\n",
       "  <thead>\n",
       "    <tr style=\"text-align: right;\">\n",
       "      <th></th>\n",
       "      <th>type</th>\n",
       "      <th>paperless_billing</th>\n",
       "      <th>payment_method</th>\n",
       "      <th>monthly_charges</th>\n",
       "      <th>total_charges</th>\n",
       "      <th>gender</th>\n",
       "      <th>senior_citizen</th>\n",
       "      <th>partner</th>\n",
       "      <th>dependents</th>\n",
       "      <th>multiple_lines</th>\n",
       "      <th>internet_service</th>\n",
       "      <th>online_security</th>\n",
       "      <th>online_backup</th>\n",
       "      <th>device_protection</th>\n",
       "      <th>tech_support</th>\n",
       "      <th>streaming_tv</th>\n",
       "      <th>streaming_movies</th>\n",
       "      <th>target</th>\n",
       "      <th>total_time</th>\n",
       "    </tr>\n",
       "  </thead>\n",
       "  <tbody>\n",
       "    <tr>\n",
       "      <th>type</th>\n",
       "      <td>1.000000</td>\n",
       "      <td>0.106860</td>\n",
       "      <td>0.277462</td>\n",
       "      <td>0.388444</td>\n",
       "      <td>0.470860</td>\n",
       "      <td>0.000000</td>\n",
       "      <td>0.086231</td>\n",
       "      <td>0.179736</td>\n",
       "      <td>0.147680</td>\n",
       "      <td>0.065498</td>\n",
       "      <td>0.505187</td>\n",
       "      <td>0.152145</td>\n",
       "      <td>0.098884</td>\n",
       "      <td>0.137610</td>\n",
       "      <td>0.179999</td>\n",
       "      <td>0.066961</td>\n",
       "      <td>0.069608</td>\n",
       "      <td>0.094015</td>\n",
       "      <td>0.634155</td>\n",
       "    </tr>\n",
       "    <tr>\n",
       "      <th>paperless_billing</th>\n",
       "      <td>0.106860</td>\n",
       "      <td>1.000000</td>\n",
       "      <td>0.370495</td>\n",
       "      <td>0.467812</td>\n",
       "      <td>0.201703</td>\n",
       "      <td>0.000000</td>\n",
       "      <td>0.242133</td>\n",
       "      <td>0.013218</td>\n",
       "      <td>0.172593</td>\n",
       "      <td>0.252972</td>\n",
       "      <td>0.231438</td>\n",
       "      <td>0.000000</td>\n",
       "      <td>0.196443</td>\n",
       "      <td>0.160796</td>\n",
       "      <td>0.055929</td>\n",
       "      <td>0.343524</td>\n",
       "      <td>0.325551</td>\n",
       "      <td>0.083398</td>\n",
       "      <td>0.026799</td>\n",
       "    </tr>\n",
       "    <tr>\n",
       "      <th>payment_method</th>\n",
       "      <td>0.277462</td>\n",
       "      <td>0.370495</td>\n",
       "      <td>1.000000</td>\n",
       "      <td>0.399526</td>\n",
       "      <td>0.335666</td>\n",
       "      <td>0.000000</td>\n",
       "      <td>0.292725</td>\n",
       "      <td>0.243008</td>\n",
       "      <td>0.224903</td>\n",
       "      <td>0.339313</td>\n",
       "      <td>0.323886</td>\n",
       "      <td>0.262911</td>\n",
       "      <td>0.282475</td>\n",
       "      <td>0.306866</td>\n",
       "      <td>0.272101</td>\n",
       "      <td>0.377209</td>\n",
       "      <td>0.378907</td>\n",
       "      <td>0.214832</td>\n",
       "      <td>0.350964</td>\n",
       "    </tr>\n",
       "    <tr>\n",
       "      <th>monthly_charges</th>\n",
       "      <td>0.388444</td>\n",
       "      <td>0.467812</td>\n",
       "      <td>0.399526</td>\n",
       "      <td>1.000000</td>\n",
       "      <td>0.710905</td>\n",
       "      <td>0.008175</td>\n",
       "      <td>0.304985</td>\n",
       "      <td>0.203545</td>\n",
       "      <td>0.184366</td>\n",
       "      <td>0.675883</td>\n",
       "      <td>0.919002</td>\n",
       "      <td>0.551621</td>\n",
       "      <td>0.629541</td>\n",
       "      <td>0.667481</td>\n",
       "      <td>0.576525</td>\n",
       "      <td>0.835340</td>\n",
       "      <td>0.833307</td>\n",
       "      <td>0.226280</td>\n",
       "      <td>0.387727</td>\n",
       "    </tr>\n",
       "    <tr>\n",
       "      <th>total_charges</th>\n",
       "      <td>0.470860</td>\n",
       "      <td>0.201703</td>\n",
       "      <td>0.335666</td>\n",
       "      <td>0.710905</td>\n",
       "      <td>1.000000</td>\n",
       "      <td>0.000000</td>\n",
       "      <td>0.135650</td>\n",
       "      <td>0.381958</td>\n",
       "      <td>0.084247</td>\n",
       "      <td>0.573191</td>\n",
       "      <td>0.490081</td>\n",
       "      <td>0.522090</td>\n",
       "      <td>0.622445</td>\n",
       "      <td>0.640977</td>\n",
       "      <td>0.550065</td>\n",
       "      <td>0.641488</td>\n",
       "      <td>0.643210</td>\n",
       "      <td>0.302890</td>\n",
       "      <td>0.848337</td>\n",
       "    </tr>\n",
       "    <tr>\n",
       "      <th>gender</th>\n",
       "      <td>0.000000</td>\n",
       "      <td>0.000000</td>\n",
       "      <td>0.000000</td>\n",
       "      <td>0.008175</td>\n",
       "      <td>0.000000</td>\n",
       "      <td>1.000000</td>\n",
       "      <td>0.000000</td>\n",
       "      <td>0.000000</td>\n",
       "      <td>0.000000</td>\n",
       "      <td>0.000000</td>\n",
       "      <td>0.000000</td>\n",
       "      <td>0.018397</td>\n",
       "      <td>0.009882</td>\n",
       "      <td>0.000000</td>\n",
       "      <td>0.000000</td>\n",
       "      <td>0.000000</td>\n",
       "      <td>0.000000</td>\n",
       "      <td>0.008581</td>\n",
       "      <td>0.000000</td>\n",
       "    </tr>\n",
       "    <tr>\n",
       "      <th>senior_citizen</th>\n",
       "      <td>0.086231</td>\n",
       "      <td>0.242133</td>\n",
       "      <td>0.292725</td>\n",
       "      <td>0.304985</td>\n",
       "      <td>0.135650</td>\n",
       "      <td>0.000000</td>\n",
       "      <td>1.000000</td>\n",
       "      <td>0.016992</td>\n",
       "      <td>0.324576</td>\n",
       "      <td>0.221313</td>\n",
       "      <td>0.160702</td>\n",
       "      <td>0.057028</td>\n",
       "      <td>0.102065</td>\n",
       "      <td>0.090686</td>\n",
       "      <td>0.092565</td>\n",
       "      <td>0.163120</td>\n",
       "      <td>0.186141</td>\n",
       "      <td>0.086159</td>\n",
       "      <td>0.063315</td>\n",
       "    </tr>\n",
       "    <tr>\n",
       "      <th>partner</th>\n",
       "      <td>0.179736</td>\n",
       "      <td>0.013218</td>\n",
       "      <td>0.243008</td>\n",
       "      <td>0.203545</td>\n",
       "      <td>0.381958</td>\n",
       "      <td>0.000000</td>\n",
       "      <td>0.016992</td>\n",
       "      <td>1.000000</td>\n",
       "      <td>0.652122</td>\n",
       "      <td>0.220101</td>\n",
       "      <td>0.000000</td>\n",
       "      <td>0.221673</td>\n",
       "      <td>0.219223</td>\n",
       "      <td>0.238079</td>\n",
       "      <td>0.185993</td>\n",
       "      <td>0.193258</td>\n",
       "      <td>0.182011</td>\n",
       "      <td>0.226688</td>\n",
       "      <td>0.453688</td>\n",
       "    </tr>\n",
       "    <tr>\n",
       "      <th>dependents</th>\n",
       "      <td>0.147680</td>\n",
       "      <td>0.172593</td>\n",
       "      <td>0.224903</td>\n",
       "      <td>0.184366</td>\n",
       "      <td>0.084247</td>\n",
       "      <td>0.000000</td>\n",
       "      <td>0.324576</td>\n",
       "      <td>0.652122</td>\n",
       "      <td>1.000000</td>\n",
       "      <td>0.033103</td>\n",
       "      <td>0.108463</td>\n",
       "      <td>0.124945</td>\n",
       "      <td>0.031533</td>\n",
       "      <td>0.010416</td>\n",
       "      <td>0.096912</td>\n",
       "      <td>0.017331</td>\n",
       "      <td>0.058999</td>\n",
       "      <td>0.046871</td>\n",
       "      <td>0.198729</td>\n",
       "    </tr>\n",
       "    <tr>\n",
       "      <th>multiple_lines</th>\n",
       "      <td>0.065498</td>\n",
       "      <td>0.252972</td>\n",
       "      <td>0.339313</td>\n",
       "      <td>0.675883</td>\n",
       "      <td>0.573191</td>\n",
       "      <td>0.000000</td>\n",
       "      <td>0.221313</td>\n",
       "      <td>0.220101</td>\n",
       "      <td>0.033103</td>\n",
       "      <td>1.000000</td>\n",
       "      <td>0.225383</td>\n",
       "      <td>0.151886</td>\n",
       "      <td>0.311403</td>\n",
       "      <td>0.309757</td>\n",
       "      <td>0.155739</td>\n",
       "      <td>0.392239</td>\n",
       "      <td>0.394553</td>\n",
       "      <td>0.261237</td>\n",
       "      <td>0.398222</td>\n",
       "    </tr>\n",
       "    <tr>\n",
       "      <th>internet_service</th>\n",
       "      <td>0.505187</td>\n",
       "      <td>0.231438</td>\n",
       "      <td>0.323886</td>\n",
       "      <td>0.919002</td>\n",
       "      <td>0.490081</td>\n",
       "      <td>0.000000</td>\n",
       "      <td>0.160702</td>\n",
       "      <td>0.000000</td>\n",
       "      <td>0.108463</td>\n",
       "      <td>0.225383</td>\n",
       "      <td>1.000000</td>\n",
       "      <td>0.241421</td>\n",
       "      <td>0.233602</td>\n",
       "      <td>0.232916</td>\n",
       "      <td>0.239663</td>\n",
       "      <td>0.272818</td>\n",
       "      <td>0.272782</td>\n",
       "      <td>0.056621</td>\n",
       "      <td>0.060845</td>\n",
       "    </tr>\n",
       "    <tr>\n",
       "      <th>online_security</th>\n",
       "      <td>0.152145</td>\n",
       "      <td>0.000000</td>\n",
       "      <td>0.262911</td>\n",
       "      <td>0.551621</td>\n",
       "      <td>0.522090</td>\n",
       "      <td>0.018397</td>\n",
       "      <td>0.057028</td>\n",
       "      <td>0.221673</td>\n",
       "      <td>0.124945</td>\n",
       "      <td>0.151886</td>\n",
       "      <td>0.241421</td>\n",
       "      <td>1.000000</td>\n",
       "      <td>0.430425</td>\n",
       "      <td>0.418474</td>\n",
       "      <td>0.528391</td>\n",
       "      <td>0.272186</td>\n",
       "      <td>0.289097</td>\n",
       "      <td>0.132594</td>\n",
       "      <td>0.395693</td>\n",
       "    </tr>\n",
       "    <tr>\n",
       "      <th>online_backup</th>\n",
       "      <td>0.098884</td>\n",
       "      <td>0.196443</td>\n",
       "      <td>0.282475</td>\n",
       "      <td>0.629541</td>\n",
       "      <td>0.622445</td>\n",
       "      <td>0.009882</td>\n",
       "      <td>0.102065</td>\n",
       "      <td>0.219223</td>\n",
       "      <td>0.031533</td>\n",
       "      <td>0.311403</td>\n",
       "      <td>0.233602</td>\n",
       "      <td>0.430425</td>\n",
       "      <td>1.000000</td>\n",
       "      <td>0.458211</td>\n",
       "      <td>0.445130</td>\n",
       "      <td>0.428007</td>\n",
       "      <td>0.417170</td>\n",
       "      <td>0.229482</td>\n",
       "      <td>0.414982</td>\n",
       "    </tr>\n",
       "    <tr>\n",
       "      <th>device_protection</th>\n",
       "      <td>0.137610</td>\n",
       "      <td>0.160796</td>\n",
       "      <td>0.306866</td>\n",
       "      <td>0.667481</td>\n",
       "      <td>0.640977</td>\n",
       "      <td>0.000000</td>\n",
       "      <td>0.090686</td>\n",
       "      <td>0.238079</td>\n",
       "      <td>0.010416</td>\n",
       "      <td>0.309757</td>\n",
       "      <td>0.232916</td>\n",
       "      <td>0.418474</td>\n",
       "      <td>0.458211</td>\n",
       "      <td>1.000000</td>\n",
       "      <td>0.499267</td>\n",
       "      <td>0.575536</td>\n",
       "      <td>0.589888</td>\n",
       "      <td>0.218380</td>\n",
       "      <td>0.426931</td>\n",
       "    </tr>\n",
       "    <tr>\n",
       "      <th>tech_support</th>\n",
       "      <td>0.179999</td>\n",
       "      <td>0.055929</td>\n",
       "      <td>0.272101</td>\n",
       "      <td>0.576525</td>\n",
       "      <td>0.550065</td>\n",
       "      <td>0.000000</td>\n",
       "      <td>0.092565</td>\n",
       "      <td>0.185993</td>\n",
       "      <td>0.096912</td>\n",
       "      <td>0.155739</td>\n",
       "      <td>0.239663</td>\n",
       "      <td>0.528391</td>\n",
       "      <td>0.445130</td>\n",
       "      <td>0.499267</td>\n",
       "      <td>1.000000</td>\n",
       "      <td>0.422242</td>\n",
       "      <td>0.424078</td>\n",
       "      <td>0.103652</td>\n",
       "      <td>0.404795</td>\n",
       "    </tr>\n",
       "    <tr>\n",
       "      <th>streaming_tv</th>\n",
       "      <td>0.066961</td>\n",
       "      <td>0.343524</td>\n",
       "      <td>0.377209</td>\n",
       "      <td>0.835340</td>\n",
       "      <td>0.641488</td>\n",
       "      <td>0.000000</td>\n",
       "      <td>0.163120</td>\n",
       "      <td>0.193258</td>\n",
       "      <td>0.017331</td>\n",
       "      <td>0.392239</td>\n",
       "      <td>0.272818</td>\n",
       "      <td>0.272186</td>\n",
       "      <td>0.428007</td>\n",
       "      <td>0.575536</td>\n",
       "      <td>0.422242</td>\n",
       "      <td>1.000000</td>\n",
       "      <td>0.742479</td>\n",
       "      <td>0.200198</td>\n",
       "      <td>0.339313</td>\n",
       "    </tr>\n",
       "    <tr>\n",
       "      <th>streaming_movies</th>\n",
       "      <td>0.069608</td>\n",
       "      <td>0.325551</td>\n",
       "      <td>0.378907</td>\n",
       "      <td>0.833307</td>\n",
       "      <td>0.643210</td>\n",
       "      <td>0.000000</td>\n",
       "      <td>0.186141</td>\n",
       "      <td>0.182011</td>\n",
       "      <td>0.058999</td>\n",
       "      <td>0.394553</td>\n",
       "      <td>0.272782</td>\n",
       "      <td>0.289097</td>\n",
       "      <td>0.417170</td>\n",
       "      <td>0.589888</td>\n",
       "      <td>0.424078</td>\n",
       "      <td>0.742479</td>\n",
       "      <td>1.000000</td>\n",
       "      <td>0.222232</td>\n",
       "      <td>0.339313</td>\n",
       "    </tr>\n",
       "    <tr>\n",
       "      <th>target</th>\n",
       "      <td>0.094015</td>\n",
       "      <td>0.083398</td>\n",
       "      <td>0.214832</td>\n",
       "      <td>0.226280</td>\n",
       "      <td>0.302890</td>\n",
       "      <td>0.008581</td>\n",
       "      <td>0.086159</td>\n",
       "      <td>0.226688</td>\n",
       "      <td>0.046871</td>\n",
       "      <td>0.261237</td>\n",
       "      <td>0.056621</td>\n",
       "      <td>0.132594</td>\n",
       "      <td>0.229482</td>\n",
       "      <td>0.218380</td>\n",
       "      <td>0.103652</td>\n",
       "      <td>0.200198</td>\n",
       "      <td>0.222232</td>\n",
       "      <td>1.000000</td>\n",
       "      <td>0.374569</td>\n",
       "    </tr>\n",
       "    <tr>\n",
       "      <th>total_time</th>\n",
       "      <td>0.634155</td>\n",
       "      <td>0.026799</td>\n",
       "      <td>0.350964</td>\n",
       "      <td>0.387727</td>\n",
       "      <td>0.848337</td>\n",
       "      <td>0.000000</td>\n",
       "      <td>0.063315</td>\n",
       "      <td>0.453688</td>\n",
       "      <td>0.198729</td>\n",
       "      <td>0.398222</td>\n",
       "      <td>0.060845</td>\n",
       "      <td>0.395693</td>\n",
       "      <td>0.414982</td>\n",
       "      <td>0.426931</td>\n",
       "      <td>0.404795</td>\n",
       "      <td>0.339313</td>\n",
       "      <td>0.339313</td>\n",
       "      <td>0.374569</td>\n",
       "      <td>1.000000</td>\n",
       "    </tr>\n",
       "  </tbody>\n",
       "</table>\n",
       "</div>"
      ],
      "text/plain": [
       "                       type  paperless_billing  payment_method  \\\n",
       "type               1.000000           0.106860        0.277462   \n",
       "paperless_billing  0.106860           1.000000        0.370495   \n",
       "payment_method     0.277462           0.370495        1.000000   \n",
       "monthly_charges    0.388444           0.467812        0.399526   \n",
       "total_charges      0.470860           0.201703        0.335666   \n",
       "gender             0.000000           0.000000        0.000000   \n",
       "senior_citizen     0.086231           0.242133        0.292725   \n",
       "partner            0.179736           0.013218        0.243008   \n",
       "dependents         0.147680           0.172593        0.224903   \n",
       "multiple_lines     0.065498           0.252972        0.339313   \n",
       "internet_service   0.505187           0.231438        0.323886   \n",
       "online_security    0.152145           0.000000        0.262911   \n",
       "online_backup      0.098884           0.196443        0.282475   \n",
       "device_protection  0.137610           0.160796        0.306866   \n",
       "tech_support       0.179999           0.055929        0.272101   \n",
       "streaming_tv       0.066961           0.343524        0.377209   \n",
       "streaming_movies   0.069608           0.325551        0.378907   \n",
       "target             0.094015           0.083398        0.214832   \n",
       "total_time         0.634155           0.026799        0.350964   \n",
       "\n",
       "                   monthly_charges  total_charges    gender  senior_citizen  \\\n",
       "type                      0.388444       0.470860  0.000000        0.086231   \n",
       "paperless_billing         0.467812       0.201703  0.000000        0.242133   \n",
       "payment_method            0.399526       0.335666  0.000000        0.292725   \n",
       "monthly_charges           1.000000       0.710905  0.008175        0.304985   \n",
       "total_charges             0.710905       1.000000  0.000000        0.135650   \n",
       "gender                    0.008175       0.000000  1.000000        0.000000   \n",
       "senior_citizen            0.304985       0.135650  0.000000        1.000000   \n",
       "partner                   0.203545       0.381958  0.000000        0.016992   \n",
       "dependents                0.184366       0.084247  0.000000        0.324576   \n",
       "multiple_lines            0.675883       0.573191  0.000000        0.221313   \n",
       "internet_service          0.919002       0.490081  0.000000        0.160702   \n",
       "online_security           0.551621       0.522090  0.018397        0.057028   \n",
       "online_backup             0.629541       0.622445  0.009882        0.102065   \n",
       "device_protection         0.667481       0.640977  0.000000        0.090686   \n",
       "tech_support              0.576525       0.550065  0.000000        0.092565   \n",
       "streaming_tv              0.835340       0.641488  0.000000        0.163120   \n",
       "streaming_movies          0.833307       0.643210  0.000000        0.186141   \n",
       "target                    0.226280       0.302890  0.008581        0.086159   \n",
       "total_time                0.387727       0.848337  0.000000        0.063315   \n",
       "\n",
       "                    partner  dependents  multiple_lines  internet_service  \\\n",
       "type               0.179736    0.147680        0.065498          0.505187   \n",
       "paperless_billing  0.013218    0.172593        0.252972          0.231438   \n",
       "payment_method     0.243008    0.224903        0.339313          0.323886   \n",
       "monthly_charges    0.203545    0.184366        0.675883          0.919002   \n",
       "total_charges      0.381958    0.084247        0.573191          0.490081   \n",
       "gender             0.000000    0.000000        0.000000          0.000000   \n",
       "senior_citizen     0.016992    0.324576        0.221313          0.160702   \n",
       "partner            1.000000    0.652122        0.220101          0.000000   \n",
       "dependents         0.652122    1.000000        0.033103          0.108463   \n",
       "multiple_lines     0.220101    0.033103        1.000000          0.225383   \n",
       "internet_service   0.000000    0.108463        0.225383          1.000000   \n",
       "online_security    0.221673    0.124945        0.151886          0.241421   \n",
       "online_backup      0.219223    0.031533        0.311403          0.233602   \n",
       "device_protection  0.238079    0.010416        0.309757          0.232916   \n",
       "tech_support       0.185993    0.096912        0.155739          0.239663   \n",
       "streaming_tv       0.193258    0.017331        0.392239          0.272818   \n",
       "streaming_movies   0.182011    0.058999        0.394553          0.272782   \n",
       "target             0.226688    0.046871        0.261237          0.056621   \n",
       "total_time         0.453688    0.198729        0.398222          0.060845   \n",
       "\n",
       "                   online_security  online_backup  device_protection  \\\n",
       "type                      0.152145       0.098884           0.137610   \n",
       "paperless_billing         0.000000       0.196443           0.160796   \n",
       "payment_method            0.262911       0.282475           0.306866   \n",
       "monthly_charges           0.551621       0.629541           0.667481   \n",
       "total_charges             0.522090       0.622445           0.640977   \n",
       "gender                    0.018397       0.009882           0.000000   \n",
       "senior_citizen            0.057028       0.102065           0.090686   \n",
       "partner                   0.221673       0.219223           0.238079   \n",
       "dependents                0.124945       0.031533           0.010416   \n",
       "multiple_lines            0.151886       0.311403           0.309757   \n",
       "internet_service          0.241421       0.233602           0.232916   \n",
       "online_security           1.000000       0.430425           0.418474   \n",
       "online_backup             0.430425       1.000000           0.458211   \n",
       "device_protection         0.418474       0.458211           1.000000   \n",
       "tech_support              0.528391       0.445130           0.499267   \n",
       "streaming_tv              0.272186       0.428007           0.575536   \n",
       "streaming_movies          0.289097       0.417170           0.589888   \n",
       "target                    0.132594       0.229482           0.218380   \n",
       "total_time                0.395693       0.414982           0.426931   \n",
       "\n",
       "                   tech_support  streaming_tv  streaming_movies    target  \\\n",
       "type                   0.179999      0.066961          0.069608  0.094015   \n",
       "paperless_billing      0.055929      0.343524          0.325551  0.083398   \n",
       "payment_method         0.272101      0.377209          0.378907  0.214832   \n",
       "monthly_charges        0.576525      0.835340          0.833307  0.226280   \n",
       "total_charges          0.550065      0.641488          0.643210  0.302890   \n",
       "gender                 0.000000      0.000000          0.000000  0.008581   \n",
       "senior_citizen         0.092565      0.163120          0.186141  0.086159   \n",
       "partner                0.185993      0.193258          0.182011  0.226688   \n",
       "dependents             0.096912      0.017331          0.058999  0.046871   \n",
       "multiple_lines         0.155739      0.392239          0.394553  0.261237   \n",
       "internet_service       0.239663      0.272818          0.272782  0.056621   \n",
       "online_security        0.528391      0.272186          0.289097  0.132594   \n",
       "online_backup          0.445130      0.428007          0.417170  0.229482   \n",
       "device_protection      0.499267      0.575536          0.589888  0.218380   \n",
       "tech_support           1.000000      0.422242          0.424078  0.103652   \n",
       "streaming_tv           0.422242      1.000000          0.742479  0.200198   \n",
       "streaming_movies       0.424078      0.742479          1.000000  0.222232   \n",
       "target                 0.103652      0.200198          0.222232  1.000000   \n",
       "total_time             0.404795      0.339313          0.339313  0.374569   \n",
       "\n",
       "                   total_time  \n",
       "type                 0.634155  \n",
       "paperless_billing    0.026799  \n",
       "payment_method       0.350964  \n",
       "monthly_charges      0.387727  \n",
       "total_charges        0.848337  \n",
       "gender               0.000000  \n",
       "senior_citizen       0.063315  \n",
       "partner              0.453688  \n",
       "dependents           0.198729  \n",
       "multiple_lines       0.398222  \n",
       "internet_service     0.060845  \n",
       "online_security      0.395693  \n",
       "online_backup        0.414982  \n",
       "device_protection    0.426931  \n",
       "tech_support         0.404795  \n",
       "streaming_tv         0.339313  \n",
       "streaming_movies     0.339313  \n",
       "target               0.374569  \n",
       "total_time           1.000000  "
      ]
     },
     "execution_count": 44,
     "metadata": {},
     "output_type": "execute_result"
    }
   ],
   "source": [
    "data.phik_matrix()"
   ]
  },
  {
   "cell_type": "markdown",
   "id": "b46c86ee",
   "metadata": {},
   "source": [
    "Высокая корреляция присутствует между признаками `monthly_charges` и `total_charges`."
   ]
  },
  {
   "cell_type": "markdown",
   "id": "ba66e00e",
   "metadata": {},
   "source": [
    "### Вывод"
   ]
  },
  {
   "cell_type": "markdown",
   "id": "61f7578f",
   "metadata": {},
   "source": [
    "На этапе подготовки был добавлен новый признак `total_time`, обозначающий количество месяцев, в течение которых клиент пользуется услугами компании, а также были удалены неинформативные признаки. После этого данные были разбиты на тренировочную и тестовую в отношении 3:1.\n",
    "При анализе матрицы корреляции признаков были выявлены коррелирующие признаки: `monthly_charges` и `total_charges`."
   ]
  },
  {
   "cell_type": "markdown",
   "id": "ba0272d1",
   "metadata": {},
   "source": [
    "## Обучение моделей"
   ]
  },
  {
   "cell_type": "code",
   "execution_count": 45,
   "id": "250d0e19",
   "metadata": {},
   "outputs": [],
   "source": [
    "features_train_forest = features_train.copy()\n",
    "features_test_forest = features_test.copy()\n",
    "\n",
    "features_train_light = features_train.copy()\n",
    "features_test_light = features_test.copy()"
   ]
  },
  {
   "cell_type": "markdown",
   "id": "2b06200a",
   "metadata": {},
   "source": [
    "Определим названия колонок для последующих кодировки и масштабирования:"
   ]
  },
  {
   "cell_type": "code",
   "execution_count": 46,
   "id": "9ce553cd",
   "metadata": {},
   "outputs": [],
   "source": [
    "categorical = features_train.select_dtypes(include='object').columns.to_list() #категориальные признаки\n",
    "\n",
    "numeric = features_train.select_dtypes(exclude='object').columns.to_list() #количественные признаки \n",
    "numeric.remove('senior_citizen') #убираем данный столбец, так как он уже закодирован"
   ]
  },
  {
   "cell_type": "markdown",
   "id": "38084793",
   "metadata": {},
   "source": [
    "Для обучения модели LightGBM изменим тип категориальных данных на `category`:"
   ]
  },
  {
   "cell_type": "code",
   "execution_count": 47,
   "id": "dbf0eb09",
   "metadata": {},
   "outputs": [],
   "source": [
    "features_train_light[categorical] = features_train_light[categorical].astype('category')\n",
    "features_test_light[categorical] = features_test_light[categorical].astype('category')"
   ]
  },
  {
   "cell_type": "markdown",
   "id": "8664151b",
   "metadata": {},
   "source": [
    "Для обучения моделей будем использовать pipeline, для этого готовим функции для масштабирования и кодирования и используемые модели:"
   ]
  },
  {
   "cell_type": "code",
   "execution_count": 48,
   "id": "bdbf86e8",
   "metadata": {},
   "outputs": [],
   "source": [
    "transformer = make_column_transformer(\n",
    "    (\n",
    "        OrdinalEncoder(handle_unknown='use_encoded_value', unknown_value=-1),\n",
    "        categorical\n",
    "    ),\n",
    "    (\n",
    "        StandardScaler(), \n",
    "        numeric\n",
    "    ),\n",
    "    remainder='passthrough'\n",
    ")\n",
    "\n",
    "forest = RandomForestClassifier(random_state=RANDOM_STATE)\n",
    "lightgbm = lgb.LGBMClassifier()"
   ]
  },
  {
   "cell_type": "markdown",
   "id": "a6805e26",
   "metadata": {},
   "source": [
    "### Случайный лес"
   ]
  },
  {
   "cell_type": "code",
   "execution_count": 49,
   "id": "75684bfa",
   "metadata": {},
   "outputs": [
    {
     "name": "stdout",
     "output_type": "stream",
     "text": [
      "best_score: 0.8262330475329887\n",
      "best_params: {'randomforestclassifier__n_estimators': 51, 'randomforestclassifier__max_depth': 7}\n"
     ]
    }
   ],
   "source": [
    "pipeline_forest = make_pipeline(transformer, forest)\n",
    "\n",
    "params_forest = {'randomforestclassifier__n_estimators' : range(50, 60, 1),\n",
    "                 'randomforestclassifier__max_depth' : range(5, 20, 1)}\n",
    "\n",
    "grid_forest = RandomizedSearchCV(\n",
    "    pipeline_forest, \n",
    "    param_distributions=params_forest, \n",
    "    scoring='roc_auc',\n",
    "    n_iter=100,\n",
    "    n_jobs=-1,\n",
    "    random_state=RANDOM_STATE\n",
    ")\n",
    "\n",
    "grid_forest.fit(features_train_forest, target_train)\n",
    "\n",
    "best_score = grid_forest.best_score_ \n",
    "best_params = grid_forest.best_params_\n",
    "print(f'best_score: {best_score}')\n",
    "print(f'best_params: {best_params}')"
   ]
  },
  {
   "cell_type": "markdown",
   "id": "48b4ae94",
   "metadata": {},
   "source": [
    "### LightGBM"
   ]
  },
  {
   "cell_type": "code",
   "execution_count": 50,
   "id": "12168c37",
   "metadata": {},
   "outputs": [
    {
     "name": "stdout",
     "output_type": "stream",
     "text": [
      "best_score: 0.8534748934965428\n",
      "best_params: {'lgbmclassifier__n_estimators': 79, 'lgbmclassifier__max_depth': 11}\n"
     ]
    }
   ],
   "source": [
    "pipeline_light = make_pipeline(lightgbm)\n",
    "\n",
    "params_light = {'lgbmclassifier__n_estimators' : range(70, 80, 1),\n",
    "                'lgbmclassifier__max_depth' : range(10, 20, 1)}\n",
    "\n",
    "grid_light = RandomizedSearchCV(\n",
    "    pipeline_light, \n",
    "    param_distributions=params_light, \n",
    "    scoring='roc_auc',\n",
    "    n_iter=100,\n",
    "    n_jobs=-1,\n",
    "    random_state=RANDOM_STATE\n",
    ")\n",
    "\n",
    "grid_light.fit(features_train_light, target_train)\n",
    "\n",
    "light_best_score = grid_light.best_score_ \n",
    "light_best_params = grid_light.best_params_\n",
    "print(f'best_score: {light_best_score}')\n",
    "print(f'best_params: {light_best_params}')"
   ]
  },
  {
   "cell_type": "markdown",
   "id": "37c6c922",
   "metadata": {},
   "source": [
    "### Вывод"
   ]
  },
  {
   "cell_type": "markdown",
   "id": "cce67b39",
   "metadata": {},
   "source": [
    "С помощью `RandomizedSearchCV` через пайплайн в данном разделе были подобраны гиперпараметры и обучены модели случайного леса и LightGBM. LightGBM показала лучшую ROC-AUC метрику."
   ]
  },
  {
   "cell_type": "markdown",
   "id": "9e26efdb",
   "metadata": {},
   "source": [
    "## Анализ модели и тестирование"
   ]
  },
  {
   "cell_type": "markdown",
   "id": "dd0d635b",
   "metadata": {},
   "source": [
    "### Построение ROC-кривой"
   ]
  },
  {
   "cell_type": "markdown",
   "id": "b4c29ab3",
   "metadata": {},
   "source": [
    "Построим ROC-кривую для модели LightGBM:"
   ]
  },
  {
   "cell_type": "code",
   "execution_count": 51,
   "id": "0af7f523",
   "metadata": {},
   "outputs": [
    {
     "name": "stdout",
     "output_type": "stream",
     "text": [
      "AUC-ROC: 0.8712418940413557\n",
      "[[0.98890533 0.01109467]\n",
      " [0.41693485 0.58306515]\n",
      " [0.95910203 0.04089797]\n",
      " ...\n",
      " [0.76134601 0.23865399]\n",
      " [0.90599505 0.09400495]\n",
      " [0.75215173 0.24784827]]\n"
     ]
    }
   ],
   "source": [
    "probabilities_test = grid_light.best_estimator_.predict_proba(features_test_light)\n",
    "probabilities_one_test = probabilities_test[:, 1]\n",
    "\n",
    "print('AUC-ROC:', roc_auc_score(target_test, probabilities_one_test))\n",
    "print(probabilities_test)"
   ]
  },
  {
   "cell_type": "code",
   "execution_count": 52,
   "id": "d6a10a16",
   "metadata": {},
   "outputs": [
    {
     "data": {
      "image/png": "[encoded data removed]",
      "text/plain": [
       "<Figure size 640x480 with 1 Axes>"
      ]
     },
     "metadata": {},
     "output_type": "display_data"
    }
   ],
   "source": [
    "fpr, tpr, thresholds = roc_curve(target_test, probabilities_one_test) \n",
    "\n",
    "plt.figure()\n",
    "\n",
    "plt.plot(fpr, tpr)\n",
    "plt.plot([0, 1], [0, 1], linestyle='--')\n",
    "\n",
    "plt.xlim([0.0, 1.0])\n",
    "plt.ylim([0.0, 1.0])\n",
    "\n",
    "plt.xlabel('False Positive Rate')\n",
    "plt.ylabel('True Positive Rate')\n",
    "\n",
    "plt.title('ROC-кривая')\n",
    "\n",
    "plt.show()"
   ]
  },
  {
   "cell_type": "markdown",
   "id": "245ffbfc",
   "metadata": {},
   "source": [
    "### Важность признаков"
   ]
  },
  {
   "cell_type": "code",
   "execution_count": 62,
   "id": "40cd9963",
   "metadata": {},
   "outputs": [
    {
     "data": {
      "image/png": "[encoded data removed]",
      "text/plain": [
       "<Figure size 1500x1000 with 1 Axes>"
      ]
     },
     "metadata": {},
     "output_type": "display_data"
    }
   ],
   "source": [
    "feature_imp = pd.Series(grid_light.best_estimator_[0].feature_importances_,\n",
    "                         features_train_light.columns)\n",
    "\n",
    "fig, ax = plt.subplots(figsize=(15,10))\n",
    "feature_imp.plot.bar(ax=ax)\n",
    "ax.set_title(\"Важность признаков\")\n",
    "ax.set_ylabel('Важность, %')\n",
    "fig.tight_layout()"
   ]
  },
  {
   "cell_type": "markdown",
   "id": "99cfe71c",
   "metadata": {},
   "source": [
    "### Вывод"
   ]
  },
  {
   "cell_type": "markdown",
   "id": "eed99784",
   "metadata": {},
   "source": [
    "При тестировании модель LightGBM выдает высокое значение метрики AUC-ROC. На графике важности признаков видно, что модель больше всего котирует такие признаки, как `monthly_charges`, `total_charges` и `total_time`. "
   ]
  },
  {
   "cell_type": "markdown",
   "id": "0d65f514",
   "metadata": {},
   "source": [
    "## Отчет"
   ]
  },
  {
   "cell_type": "markdown",
   "id": "b2db93f5",
   "metadata": {},
   "source": [
    "* Какие пункты плана были выполнены, а какие — нет. Почему?\n",
    "\n",
    "Все пункты плана были выполнены, но кодирование и масштабирование были произведены только для модели случайного леса, так как для модели LightGBM это не требуется.\n",
    "\n",
    "* Какие трудности возникли и как вы их преодолели?\n",
    "\n",
    "Трудности возникли с преодолением порогового значения AUC-ROC, но с помощью изменения диапазона подбора гиперпараметров необходимое значение было получено.\n",
    "\n",
    "* Какие ключевые шаги в решении задачи вы выделили?\n",
    "\n",
    "1. Изучение общей информации датафрейма\n",
    "\n",
    "2. Предобработка данных \n",
    "\n",
    "3. Подготовка данных для дальнейшего корректного обучения моделей\n",
    "\n",
    "4. Обучение моделей и поиск наилучших моделей с помощью подбора гиперпараметров\n",
    "\n",
    "5. Тестирование лучшей по метрике модели\n",
    "\n",
    "* Какие признаки использовали для обучения модели и какая предобработка этих признаков была выполнена?\n",
    "\n",
    "Для обучения моделей были использованы все признаки, кроме `customer_id`, `begin_date` и `end_date`, а на основе двух последних признаков был создан новый — `total_time`. В признаках были заполнены пропуски, а также изменены типы данных.\n",
    "\n",
    "* Какая ваша итоговая модель, какие у неё гиперпараметы и какое качество?\n",
    "\n",
    "Итоговой моделью является модель LightGBM, у которой n_estimators=79 и max_depth=11. Значение AUC-ROC данной модели на тестовой выборке составило примерно 0.87."
   ]
  },
  {
   "cell_type": "markdown",
   "id": "ad484cc0",
   "metadata": {},
   "source": [
    "Для удобства все датафреймы были соединены по столбцу `customer_id`. Для обучения моделей использовались все признаки, кроме `customer_id`, `begin_date` и `end_date`, а на основе двух последних признаков был создан новый — `total_time`, содержащий количество дней договора для каждого клиента. \n",
    "\n",
    "В предобработке данных был добавлен целевой признак `target`, так как явно в датафрейме он не был обозначен, после чего все неверные типы данных были изменены, а пропуски в столбце `total_charges` заполнены. \n",
    "\n",
    "Для успешного обучения моделей была произведена подготовка данных: данные были разбиты на обучающую и тестовую выборку в отношении 3:1, после чего была рассмотрена корреляция признаков. Высоко корелирующих признаков, кроме `monthly_charges` и `total_charges`, обнаружено не было. \n",
    "\n",
    "Далее были рассмотрены две модели: модель случайного леса и LightGBM. С помощью RandomizedSearchCV через пайплайн были подобраны гиперпараметры лучших по AUC-ROC моделей. Таблица сравнения значений ниже:"
   ]
  },
  {
   "cell_type": "code",
   "execution_count": 64,
   "id": "ae2b7de1",
   "metadata": {},
   "outputs": [
    {
     "data": {
      "text/html": [
       "<div>\n",
       "<style scoped>\n",
       "    .dataframe tbody tr th:only-of-type {\n",
       "        vertical-align: middle;\n",
       "    }\n",
       "\n",
       "    .dataframe tbody tr th {\n",
       "        vertical-align: top;\n",
       "    }\n",
       "\n",
       "    .dataframe thead th {\n",
       "        text-align: right;\n",
       "    }\n",
       "</style>\n",
       "<table border=\"1\" class=\"dataframe\">\n",
       "  <thead>\n",
       "    <tr style=\"text-align: right;\">\n",
       "      <th></th>\n",
       "      <th>AUC-ROC</th>\n",
       "    </tr>\n",
       "  </thead>\n",
       "  <tbody>\n",
       "    <tr>\n",
       "      <th>Случайный лес</th>\n",
       "      <td>0.826233</td>\n",
       "    </tr>\n",
       "    <tr>\n",
       "      <th>LightGBM</th>\n",
       "      <td>0.853475</td>\n",
       "    </tr>\n",
       "  </tbody>\n",
       "</table>\n",
       "</div>"
      ],
      "text/plain": [
       "                AUC-ROC\n",
       "Случайный лес  0.826233\n",
       "LightGBM       0.853475"
      ]
     },
     "execution_count": 64,
     "metadata": {},
     "output_type": "execute_result"
    }
   ],
   "source": [
    "result = pd.DataFrame(\n",
    "    [best_score, light_best_score], \n",
    "    index=['Случайный лес', 'LightGBM'], \n",
    "    columns=['AUC-ROC']\n",
    ")\n",
    "result"
   ]
  },
  {
   "cell_type": "markdown",
   "id": "32b8f37f",
   "metadata": {},
   "source": [
    "Лучшей моделью стала LightGBM с гиперпараметрами n_estimators=79 и max_depth=11. Данная модель была протестирована, и на тестовой выборке было получено значение AUC-ROC, равное примерно 0.87.\n",
    "\n",
    "Рассмотрим важность признаков для модели LightGBM:"
   ]
  },
  {
   "cell_type": "code",
   "execution_count": 66,
   "id": "05abd8e7",
   "metadata": {},
   "outputs": [
    {
     "data": {
      "image/png": "[encoded data removed]",
      "text/plain": [
       "<Figure size 1500x1000 with 1 Axes>"
      ]
     },
     "metadata": {},
     "output_type": "display_data"
    }
   ],
   "source": [
    "fig, ax = plt.subplots(figsize=(15,10))\n",
    "feature_imp.plot.bar(ax=ax)\n",
    "ax.set_title(\"Важность признаков\")\n",
    "ax.set_ylabel('Важность, %')\n",
    "fig.tight_layout()"
   ]
  },
  {
   "cell_type": "markdown",
   "id": "7bd360ec",
   "metadata": {},
   "source": [
    "На графике заметно, что LightGBM котирует по большей части количественные признаки: \n",
    "* `total_time` — количество дней, которые клиент провел пользуясь услугами компании, \n",
    "* `monthly_charges` — ежемесячные траты на услуги,\n",
    "* `total_charges` — общие траты на услуги за все время пребывания с компанией."
   ]
  }
 ],
 "metadata": {
  "ExecuteTimeLog": [
   {
    "duration": 7,
    "start_time": "2023-04-17T10:04:56.168Z"
   },
   {
    "duration": 2769,
    "start_time": "2023-04-17T10:04:57.215Z"
   },
   {
    "duration": 67,
    "start_time": "2023-04-17T10:05:07.839Z"
   },
   {
    "duration": 117,
    "start_time": "2023-04-17T10:05:08.218Z"
   },
   {
    "duration": 35,
    "start_time": "2023-04-17T10:05:08.567Z"
   },
   {
    "duration": 36,
    "start_time": "2023-04-17T10:05:08.885Z"
   },
   {
    "duration": 16,
    "start_time": "2023-04-17T10:05:09.748Z"
   },
   {
    "duration": 8,
    "start_time": "2023-04-17T10:05:09.771Z"
   },
   {
    "duration": 11,
    "start_time": "2023-04-17T10:05:09.816Z"
   },
   {
    "duration": 6,
    "start_time": "2023-04-17T10:05:09.852Z"
   },
   {
    "duration": 14,
    "start_time": "2023-04-17T10:05:09.917Z"
   },
   {
    "duration": 11,
    "start_time": "2023-04-17T10:05:09.932Z"
   },
   {
    "duration": 11,
    "start_time": "2023-04-17T10:05:09.965Z"
   },
   {
    "duration": 11,
    "start_time": "2023-04-17T10:05:10.385Z"
   },
   {
    "duration": 11,
    "start_time": "2023-04-17T10:05:10.912Z"
   },
   {
    "duration": 10,
    "start_time": "2023-04-17T10:05:10.930Z"
   },
   {
    "duration": 28,
    "start_time": "2023-04-17T10:05:10.958Z"
   },
   {
    "duration": 18,
    "start_time": "2023-04-17T10:05:11.011Z"
   },
   {
    "duration": 27,
    "start_time": "2023-04-17T10:05:12.185Z"
   },
   {
    "duration": 17,
    "start_time": "2023-04-17T10:05:12.249Z"
   },
   {
    "duration": 18,
    "start_time": "2023-04-17T10:05:13.157Z"
   },
   {
    "duration": 4,
    "start_time": "2023-04-17T10:05:13.234Z"
   },
   {
    "duration": 5,
    "start_time": "2023-04-17T10:05:13.249Z"
   },
   {
    "duration": 4,
    "start_time": "2023-04-17T10:05:13.279Z"
   },
   {
    "duration": 5,
    "start_time": "2023-04-17T10:05:14.276Z"
   },
   {
    "duration": 4,
    "start_time": "2023-04-17T10:05:14.312Z"
   },
   {
    "duration": 3,
    "start_time": "2023-04-17T10:05:14.338Z"
   },
   {
    "duration": 23,
    "start_time": "2023-04-17T10:05:14.909Z"
   },
   {
    "duration": 5,
    "start_time": "2023-04-17T10:05:15.936Z"
   },
   {
    "duration": 10,
    "start_time": "2023-04-17T10:05:16.476Z"
   },
   {
    "duration": 4,
    "start_time": "2023-04-17T10:05:17.818Z"
   },
   {
    "duration": 6,
    "start_time": "2023-04-17T10:05:18.414Z"
   },
   {
    "duration": 5,
    "start_time": "2023-04-17T10:05:18.686Z"
   },
   {
    "duration": 5,
    "start_time": "2023-04-17T10:05:19.349Z"
   },
   {
    "duration": 10685,
    "start_time": "2023-04-17T10:05:20.558Z"
   },
   {
    "duration": 7,
    "start_time": "2023-04-17T10:05:53.117Z"
   },
   {
    "duration": 4,
    "start_time": "2023-04-17T10:05:56.312Z"
   },
   {
    "duration": 4,
    "start_time": "2023-04-17T10:05:57.811Z"
   },
   {
    "duration": 4,
    "start_time": "2023-04-17T10:06:13.062Z"
   },
   {
    "duration": 8,
    "start_time": "2023-04-17T10:06:15.114Z"
   },
   {
    "duration": 3,
    "start_time": "2023-04-17T10:06:17.303Z"
   },
   {
    "duration": 4,
    "start_time": "2023-04-17T10:06:18.231Z"
   },
   {
    "duration": 975,
    "start_time": "2023-04-17T10:06:21.182Z"
   },
   {
    "duration": 3,
    "start_time": "2023-04-17T10:07:00.761Z"
   },
   {
    "duration": 7,
    "start_time": "2023-04-17T10:07:02.715Z"
   },
   {
    "duration": 161,
    "start_time": "2023-04-17T10:07:16.542Z"
   },
   {
    "duration": 24,
    "start_time": "2023-04-17T10:09:03.630Z"
   },
   {
    "duration": 4,
    "start_time": "2023-04-17T10:09:17.029Z"
   },
   {
    "duration": 25,
    "start_time": "2023-04-17T10:12:53.230Z"
   },
   {
    "duration": 53,
    "start_time": "2023-04-17T10:14:55.126Z"
   },
   {
    "duration": 37,
    "start_time": "2023-04-17T10:14:55.420Z"
   },
   {
    "duration": 36,
    "start_time": "2023-04-17T10:14:55.722Z"
   },
   {
    "duration": 24,
    "start_time": "2023-04-17T10:14:55.985Z"
   },
   {
    "duration": 12,
    "start_time": "2023-04-17T10:14:56.622Z"
   },
   {
    "duration": 11,
    "start_time": "2023-04-17T10:14:56.953Z"
   },
   {
    "duration": 12,
    "start_time": "2023-04-17T10:14:57.318Z"
   },
   {
    "duration": 8,
    "start_time": "2023-04-17T10:14:57.657Z"
   },
   {
    "duration": 14,
    "start_time": "2023-04-17T10:14:58.358Z"
   },
   {
    "duration": 13,
    "start_time": "2023-04-17T10:14:58.682Z"
   },
   {
    "duration": 11,
    "start_time": "2023-04-17T10:14:58.983Z"
   },
   {
    "duration": 11,
    "start_time": "2023-04-17T10:14:59.267Z"
   },
   {
    "duration": 11,
    "start_time": "2023-04-17T10:14:59.564Z"
   },
   {
    "duration": 12,
    "start_time": "2023-04-17T10:14:59.867Z"
   },
   {
    "duration": 26,
    "start_time": "2023-04-17T10:15:00.310Z"
   },
   {
    "duration": 17,
    "start_time": "2023-04-17T10:15:00.826Z"
   },
   {
    "duration": 25,
    "start_time": "2023-04-17T10:15:02.326Z"
   },
   {
    "duration": 16,
    "start_time": "2023-04-17T10:15:02.841Z"
   },
   {
    "duration": 18,
    "start_time": "2023-04-17T10:15:02.926Z"
   },
   {
    "duration": 5,
    "start_time": "2023-04-17T10:15:03.309Z"
   },
   {
    "duration": 4,
    "start_time": "2023-04-17T10:15:03.773Z"
   },
   {
    "duration": 4,
    "start_time": "2023-04-17T10:15:03.826Z"
   },
   {
    "duration": 5,
    "start_time": "2023-04-17T10:15:03.944Z"
   },
   {
    "duration": 4,
    "start_time": "2023-04-17T10:15:03.967Z"
   },
   {
    "duration": 4,
    "start_time": "2023-04-17T10:15:04.550Z"
   },
   {
    "duration": 28,
    "start_time": "2023-04-17T10:15:06.971Z"
   },
   {
    "duration": 6,
    "start_time": "2023-04-17T10:15:09.335Z"
   },
   {
    "duration": 10,
    "start_time": "2023-04-17T10:15:09.873Z"
   },
   {
    "duration": 4,
    "start_time": "2023-04-17T10:15:12.052Z"
   },
   {
    "duration": 5,
    "start_time": "2023-04-17T10:15:12.634Z"
   },
   {
    "duration": 10,
    "start_time": "2023-04-17T10:15:12.641Z"
   },
   {
    "duration": 6,
    "start_time": "2023-04-17T10:15:13.530Z"
   },
   {
    "duration": 6,
    "start_time": "2023-04-17T10:15:17.818Z"
   },
   {
    "duration": 35,
    "start_time": "2023-04-17T10:15:19.455Z"
   },
   {
    "duration": 12,
    "start_time": "2023-04-17T10:15:49.259Z"
   },
   {
    "duration": 68,
    "start_time": "2023-04-17T12:50:36.944Z"
   }
  ],
  "kernelspec": {
   "display_name": "Python 3 (ipykernel)",
   "language": "python",
   "name": "python3"
  },
  "language_info": {
   "codemirror_mode": {
    "name": "ipython",
    "version": 3
   },
   "file_extension": ".py",
   "mimetype": "text/x-python",
   "name": "python",
   "nbconvert_exporter": "python",
   "pygments_lexer": "ipython3",
   "version": "3.9.13"
  },
  "toc": {
   "base_numbering": 1,
   "nav_menu": {},
   "number_sections": true,
   "sideBar": true,
   "skip_h1_title": true,
   "title_cell": "Содержание",
   "title_sidebar": "Contents",
   "toc_cell": true,
   "toc_position": {
    "height": "991.804px",
    "left": "23px",
    "top": "110.795px",
    "width": "673.821px"
   },
   "toc_section_display": true,
   "toc_window_display": true
  }
 },
 "nbformat": 4,
 "nbformat_minor": 5
}
