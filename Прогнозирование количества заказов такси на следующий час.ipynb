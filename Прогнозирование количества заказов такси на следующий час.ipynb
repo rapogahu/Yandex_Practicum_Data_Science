{
 "cells": [
  {
   "cell_type": "markdown",
   "metadata": {
    "toc": true
   },
   "source": [
    "<h1>Содержание<span class=\"tocSkip\"></span></h1>\n",
    "<div class=\"toc\"><ul class=\"toc-item\"><li><span><a href=\"#Подготовка\" data-toc-modified-id=\"Подготовка-1\"><span class=\"toc-item-num\">1&nbsp;&nbsp;</span>Подготовка</a></span><ul class=\"toc-item\"><li><span><a href=\"#Импорт-необходимых-библиотек\" data-toc-modified-id=\"Импорт-необходимых-библиотек-1.1\"><span class=\"toc-item-num\">1.1&nbsp;&nbsp;</span>Импорт необходимых библиотек</a></span></li><li><span><a href=\"#Открытие-файла\" data-toc-modified-id=\"Открытие-файла-1.2\"><span class=\"toc-item-num\">1.2&nbsp;&nbsp;</span>Открытие файла</a></span></li><li><span><a href=\"#Вывод-первых-десяти-строк-таблицы\" data-toc-modified-id=\"Вывод-первых-десяти-строк-таблицы-1.3\"><span class=\"toc-item-num\">1.3&nbsp;&nbsp;</span>Вывод первых десяти строк таблицы</a></span></li><li><span><a href=\"#Ресемплирование\" data-toc-modified-id=\"Ресемплирование-1.4\"><span class=\"toc-item-num\">1.4&nbsp;&nbsp;</span>Ресемплирование</a></span></li><li><span><a href=\"#Вывод\" data-toc-modified-id=\"Вывод-1.5\"><span class=\"toc-item-num\">1.5&nbsp;&nbsp;</span>Вывод</a></span></li></ul></li><li><span><a href=\"#Анализ\" data-toc-modified-id=\"Анализ-2\"><span class=\"toc-item-num\">2&nbsp;&nbsp;</span>Анализ</a></span><ul class=\"toc-item\"><li><span><a href=\"#Тренд-и-сезонность\" data-toc-modified-id=\"Тренд-и-сезонность-2.1\"><span class=\"toc-item-num\">2.1&nbsp;&nbsp;</span>Тренд и сезонность</a></span></li><li><span><a href=\"#Создание-признаков\" data-toc-modified-id=\"Создание-признаков-2.2\"><span class=\"toc-item-num\">2.2&nbsp;&nbsp;</span>Создание признаков</a></span></li><li><span><a href=\"#Вывод\" data-toc-modified-id=\"Вывод-2.3\"><span class=\"toc-item-num\">2.3&nbsp;&nbsp;</span>Вывод</a></span></li></ul></li><li><span><a href=\"#Обучение\" data-toc-modified-id=\"Обучение-3\"><span class=\"toc-item-num\">3&nbsp;&nbsp;</span>Обучение</a></span><ul class=\"toc-item\"><li><span><a href=\"#Разбиение-данных-на-выборки\" data-toc-modified-id=\"Разбиение-данных-на-выборки-3.1\"><span class=\"toc-item-num\">3.1&nbsp;&nbsp;</span>Разбиение данных на выборки</a></span></li><li><span><a href=\"#Разбиение-данных-на-целевой-признак-и-признаки\" data-toc-modified-id=\"Разбиение-данных-на-целевой-признак-и-признаки-3.2\"><span class=\"toc-item-num\">3.2&nbsp;&nbsp;</span>Разбиение данных на целевой признак и признаки</a></span></li><li><span><a href=\"#Линейная-регрессия\" data-toc-modified-id=\"Линейная-регрессия-3.3\"><span class=\"toc-item-num\">3.3&nbsp;&nbsp;</span>Линейная регрессия</a></span></li><li><span><a href=\"#LightGBM\" data-toc-modified-id=\"LightGBM-3.4\"><span class=\"toc-item-num\">3.4&nbsp;&nbsp;</span>LightGBM</a></span></li><li><span><a href=\"#Случайный-лес\" data-toc-modified-id=\"Случайный-лес-3.5\"><span class=\"toc-item-num\">3.5&nbsp;&nbsp;</span>Случайный лес</a></span></li><li><span><a href=\"#Вывод\" data-toc-modified-id=\"Вывод-3.6\"><span class=\"toc-item-num\">3.6&nbsp;&nbsp;</span>Вывод</a></span></li></ul></li><li><span><a href=\"#Тестирование\" data-toc-modified-id=\"Тестирование-4\"><span class=\"toc-item-num\">4&nbsp;&nbsp;</span>Тестирование</a></span><ul class=\"toc-item\"><li><span><a href=\"#Вывод\" data-toc-modified-id=\"Вывод-4.1\"><span class=\"toc-item-num\">4.1&nbsp;&nbsp;</span>Вывод</a></span></li></ul></li><li><span><a href=\"#Вывод\" data-toc-modified-id=\"Вывод-5\"><span class=\"toc-item-num\">5&nbsp;&nbsp;</span>Вывод</a></span></li></ul></div>"
   ]
  },
  {
   "cell_type": "markdown",
   "metadata": {},
   "source": [
    "#  Прогнозирование заказов такси"
   ]
  },
  {
   "cell_type": "markdown",
   "metadata": {},
   "source": [
    "Компания «Чётенькое такси» собрала исторические данные о заказах такси в аэропортах. Чтобы привлекать больше водителей в период пиковой нагрузки, нужно спрогнозировать количество заказов такси на следующий час. Постройте модель для такого предсказания.\n",
    "\n",
    "**Цель исследования** — построить модель для прогноза количества заказов такси на следующий час, метрика RMSE которой на тестовой выборке будет не больше 48.\n",
    "\n",
    "**Ход исследования:**\n",
    "1. Загрузить данные и выполнить их ресемплирование по одному часу.\n",
    "2. Проанализировать данные.\n",
    "3. Обучить разные модели с различными гиперпараметрами. Сделать тестовую выборку размером 10% от исходных данных.\n",
    "4. Проверить данные на тестовой выборке и сделать выводы."
   ]
  },
  {
   "cell_type": "markdown",
   "metadata": {},
   "source": [
    "## Подготовка"
   ]
  },
  {
   "cell_type": "markdown",
   "metadata": {},
   "source": [
    "### Импорт необходимых библиотек"
   ]
  },
  {
   "cell_type": "code",
   "execution_count": 1,
   "metadata": {},
   "outputs": [],
   "source": [
    "import pandas as pd\n",
    "\n",
    "from statsmodels.tsa.seasonal import seasonal_decompose\n",
    "import matplotlib.pyplot as plt\n",
    "\n",
    "from sklearn.model_selection import train_test_split \n",
    "\n",
    "from sklearn.ensemble import RandomForestRegressor\n",
    "from sklearn.linear_model import LinearRegression\n",
    "import lightgbm as lgb\n",
    "\n",
    "from sklearn.metrics import mean_squared_error\n",
    "\n",
    "from sklearn.model_selection import RandomizedSearchCV\n",
    "from sklearn.model_selection import TimeSeriesSplit"
   ]
  },
  {
   "cell_type": "markdown",
   "metadata": {},
   "source": [
    "### Открытие файла"
   ]
  },
  {
   "cell_type": "code",
   "execution_count": 2,
   "metadata": {},
   "outputs": [],
   "source": [
    "try:\n",
    "    data = pd.read_csv('/datasets/taxi.csv', engine='python', index_col=[0], parse_dates=[0])\n",
    "except:\n",
    "    data = pd.read_csv('https://code.s3.yandex.net/datasets/taxi.csv', engine='python', index_col=[0], parse_dates=[0])"
   ]
  },
  {
   "cell_type": "code",
   "execution_count": 3,
   "metadata": {},
   "outputs": [],
   "source": [
    "data.sort_index(inplace=True)"
   ]
  },
  {
   "cell_type": "markdown",
   "metadata": {},
   "source": [
    "### Вывод первых десяти строк таблицы"
   ]
  },
  {
   "cell_type": "code",
   "execution_count": 4,
   "metadata": {},
   "outputs": [
    {
     "data": {
      "text/html": [
       "<div>\n",
       "<style scoped>\n",
       "    .dataframe tbody tr th:only-of-type {\n",
       "        vertical-align: middle;\n",
       "    }\n",
       "\n",
       "    .dataframe tbody tr th {\n",
       "        vertical-align: top;\n",
       "    }\n",
       "\n",
       "    .dataframe thead th {\n",
       "        text-align: right;\n",
       "    }\n",
       "</style>\n",
       "<table border=\"1\" class=\"dataframe\">\n",
       "  <thead>\n",
       "    <tr style=\"text-align: right;\">\n",
       "      <th></th>\n",
       "      <th>num_orders</th>\n",
       "    </tr>\n",
       "    <tr>\n",
       "      <th>datetime</th>\n",
       "      <th></th>\n",
       "    </tr>\n",
       "  </thead>\n",
       "  <tbody>\n",
       "    <tr>\n",
       "      <th>2018-03-01 00:00:00</th>\n",
       "      <td>9</td>\n",
       "    </tr>\n",
       "    <tr>\n",
       "      <th>2018-03-01 00:10:00</th>\n",
       "      <td>14</td>\n",
       "    </tr>\n",
       "    <tr>\n",
       "      <th>2018-03-01 00:20:00</th>\n",
       "      <td>28</td>\n",
       "    </tr>\n",
       "    <tr>\n",
       "      <th>2018-03-01 00:30:00</th>\n",
       "      <td>20</td>\n",
       "    </tr>\n",
       "    <tr>\n",
       "      <th>2018-03-01 00:40:00</th>\n",
       "      <td>32</td>\n",
       "    </tr>\n",
       "    <tr>\n",
       "      <th>2018-03-01 00:50:00</th>\n",
       "      <td>21</td>\n",
       "    </tr>\n",
       "    <tr>\n",
       "      <th>2018-03-01 01:00:00</th>\n",
       "      <td>7</td>\n",
       "    </tr>\n",
       "    <tr>\n",
       "      <th>2018-03-01 01:10:00</th>\n",
       "      <td>5</td>\n",
       "    </tr>\n",
       "    <tr>\n",
       "      <th>2018-03-01 01:20:00</th>\n",
       "      <td>17</td>\n",
       "    </tr>\n",
       "    <tr>\n",
       "      <th>2018-03-01 01:30:00</th>\n",
       "      <td>12</td>\n",
       "    </tr>\n",
       "  </tbody>\n",
       "</table>\n",
       "</div>"
      ],
      "text/plain": [
       "                     num_orders\n",
       "datetime                       \n",
       "2018-03-01 00:00:00           9\n",
       "2018-03-01 00:10:00          14\n",
       "2018-03-01 00:20:00          28\n",
       "2018-03-01 00:30:00          20\n",
       "2018-03-01 00:40:00          32\n",
       "2018-03-01 00:50:00          21\n",
       "2018-03-01 01:00:00           7\n",
       "2018-03-01 01:10:00           5\n",
       "2018-03-01 01:20:00          17\n",
       "2018-03-01 01:30:00          12"
      ]
     },
     "execution_count": 4,
     "metadata": {},
     "output_type": "execute_result"
    }
   ],
   "source": [
    "data.head(10)"
   ]
  },
  {
   "cell_type": "markdown",
   "metadata": {},
   "source": [
    "### Ресемплирование"
   ]
  },
  {
   "cell_type": "markdown",
   "metadata": {},
   "source": [
    "Выполним ресемплирование данных по одному часу:"
   ]
  },
  {
   "cell_type": "code",
   "execution_count": 5,
   "metadata": {},
   "outputs": [],
   "source": [
    "data = data.resample('1H').sum()"
   ]
  },
  {
   "cell_type": "markdown",
   "metadata": {},
   "source": [
    "### Вывод"
   ]
  },
  {
   "cell_type": "markdown",
   "metadata": {},
   "source": [
    "Согласно документации к данным:\n",
    "* `num_orders` — количество заказов такси,\n",
    "* `datetime` — время заказов.\n",
    "\n",
    "`num_orders` является целевым признаком. Необходимо проанализировать временной ряд, создать признаки, после чего перейти к обучению моделей."
   ]
  },
  {
   "cell_type": "markdown",
   "metadata": {},
   "source": [
    "## Анализ"
   ]
  },
  {
   "cell_type": "markdown",
   "metadata": {},
   "source": [
    "### Тренд и сезонность"
   ]
  },
  {
   "cell_type": "markdown",
   "metadata": {},
   "source": [
    "Проанализируем данные с помощью тренда и сезонности. Разложим весь временной ряд на тренд:"
   ]
  },
  {
   "cell_type": "code",
   "execution_count": 6,
   "metadata": {},
   "outputs": [],
   "source": [
    "decomposed = seasonal_decompose(data)"
   ]
  },
  {
   "cell_type": "code",
   "execution_count": 7,
   "metadata": {},
   "outputs": [
    {
     "data": {
      "text/plain": [
       "Text(0.5, 1.0, 'Trend')"
      ]
     },
     "execution_count": 7,
     "metadata": {},
     "output_type": "execute_result"
    },
    {
     "data": {
      "image/png": "[encoded data removed]",
      "text/plain": [
       "<Figure size 1000x600 with 1 Axes>"
      ]
     },
     "metadata": {},
     "output_type": "display_data"
    }
   ],
   "source": [
    "plt.figure(figsize=(10, 6))\n",
    "decomposed.trend.plot(ax=plt.gca())\n",
    "plt.title('Trend')"
   ]
  },
  {
   "cell_type": "markdown",
   "metadata": {},
   "source": [
    "В данном случае тренд восходящий. Построим график сезонности за первые три дня в данных:"
   ]
  },
  {
   "cell_type": "code",
   "execution_count": 8,
   "metadata": {},
   "outputs": [
    {
     "data": {
      "text/plain": [
       "Text(0.5, 1.0, 'Seasonality')"
      ]
     },
     "execution_count": 8,
     "metadata": {},
     "output_type": "execute_result"
    },
    {
     "data": {
      "image/png": "[encoded data removed]",
      "text/plain": [
       "<Figure size 1000x600 with 1 Axes>"
      ]
     },
     "metadata": {},
     "output_type": "display_data"
    }
   ],
   "source": [
    "plt.figure(figsize=(10, 6))\n",
    "decomposed.seasonal['2018-03-01':'2018-03-03'].plot(ax=plt.gca()) \n",
    "plt.title('Seasonality')"
   ]
  },
  {
   "cell_type": "markdown",
   "metadata": {},
   "source": [
    "На графике сезонности видно, что количество заказов меньше всего в 06:00, а больше всего в 00:00. Паттерн повторяется ежедневно."
   ]
  },
  {
   "cell_type": "markdown",
   "metadata": {},
   "source": [
    "### Создание признаков"
   ]
  },
  {
   "cell_type": "markdown",
   "metadata": {},
   "source": [
    "Создадим такие признаки, как день недели, час, отстающее значение и скользящее среднее:"
   ]
  },
  {
   "cell_type": "code",
   "execution_count": 10,
   "metadata": {},
   "outputs": [
    {
     "name": "stderr",
     "output_type": "stream",
     "text": [
      "C:\\Users\\sushi\\AppData\\Local\\Temp\\ipykernel_21124\\2635838501.py:6: PerformanceWarning: DataFrame is highly fragmented.  This is usually the result of calling `frame.insert` many times, which has poor performance.  Consider joining all columns at once using pd.concat(axis=1) instead. To get a de-fragmented frame, use `newframe = frame.copy()`\n",
      "  data['lag_{}'.format(lag)] = data['num_orders'].shift(lag)\n",
      "C:\\Users\\sushi\\AppData\\Local\\Temp\\ipykernel_21124\\2635838501.py:6: PerformanceWarning: DataFrame is highly fragmented.  This is usually the result of calling `frame.insert` many times, which has poor performance.  Consider joining all columns at once using pd.concat(axis=1) instead. To get a de-fragmented frame, use `newframe = frame.copy()`\n",
      "  data['lag_{}'.format(lag)] = data['num_orders'].shift(lag)\n",
      "C:\\Users\\sushi\\AppData\\Local\\Temp\\ipykernel_21124\\2635838501.py:6: PerformanceWarning: DataFrame is highly fragmented.  This is usually the result of calling `frame.insert` many times, which has poor performance.  Consider joining all columns at once using pd.concat(axis=1) instead. To get a de-fragmented frame, use `newframe = frame.copy()`\n",
      "  data['lag_{}'.format(lag)] = data['num_orders'].shift(lag)\n",
      "C:\\Users\\sushi\\AppData\\Local\\Temp\\ipykernel_21124\\2635838501.py:6: PerformanceWarning: DataFrame is highly fragmented.  This is usually the result of calling `frame.insert` many times, which has poor performance.  Consider joining all columns at once using pd.concat(axis=1) instead. To get a de-fragmented frame, use `newframe = frame.copy()`\n",
      "  data['lag_{}'.format(lag)] = data['num_orders'].shift(lag)\n",
      "C:\\Users\\sushi\\AppData\\Local\\Temp\\ipykernel_21124\\2635838501.py:6: PerformanceWarning: DataFrame is highly fragmented.  This is usually the result of calling `frame.insert` many times, which has poor performance.  Consider joining all columns at once using pd.concat(axis=1) instead. To get a de-fragmented frame, use `newframe = frame.copy()`\n",
      "  data['lag_{}'.format(lag)] = data['num_orders'].shift(lag)\n",
      "C:\\Users\\sushi\\AppData\\Local\\Temp\\ipykernel_21124\\2635838501.py:6: PerformanceWarning: DataFrame is highly fragmented.  This is usually the result of calling `frame.insert` many times, which has poor performance.  Consider joining all columns at once using pd.concat(axis=1) instead. To get a de-fragmented frame, use `newframe = frame.copy()`\n",
      "  data['lag_{}'.format(lag)] = data['num_orders'].shift(lag)\n",
      "C:\\Users\\sushi\\AppData\\Local\\Temp\\ipykernel_21124\\2635838501.py:6: PerformanceWarning: DataFrame is highly fragmented.  This is usually the result of calling `frame.insert` many times, which has poor performance.  Consider joining all columns at once using pd.concat(axis=1) instead. To get a de-fragmented frame, use `newframe = frame.copy()`\n",
      "  data['lag_{}'.format(lag)] = data['num_orders'].shift(lag)\n",
      "C:\\Users\\sushi\\AppData\\Local\\Temp\\ipykernel_21124\\2635838501.py:6: PerformanceWarning: DataFrame is highly fragmented.  This is usually the result of calling `frame.insert` many times, which has poor performance.  Consider joining all columns at once using pd.concat(axis=1) instead. To get a de-fragmented frame, use `newframe = frame.copy()`\n",
      "  data['lag_{}'.format(lag)] = data['num_orders'].shift(lag)\n",
      "C:\\Users\\sushi\\AppData\\Local\\Temp\\ipykernel_21124\\2635838501.py:6: PerformanceWarning: DataFrame is highly fragmented.  This is usually the result of calling `frame.insert` many times, which has poor performance.  Consider joining all columns at once using pd.concat(axis=1) instead. To get a de-fragmented frame, use `newframe = frame.copy()`\n",
      "  data['lag_{}'.format(lag)] = data['num_orders'].shift(lag)\n",
      "C:\\Users\\sushi\\AppData\\Local\\Temp\\ipykernel_21124\\2635838501.py:6: PerformanceWarning: DataFrame is highly fragmented.  This is usually the result of calling `frame.insert` many times, which has poor performance.  Consider joining all columns at once using pd.concat(axis=1) instead. To get a de-fragmented frame, use `newframe = frame.copy()`\n",
      "  data['lag_{}'.format(lag)] = data['num_orders'].shift(lag)\n",
      "C:\\Users\\sushi\\AppData\\Local\\Temp\\ipykernel_21124\\2635838501.py:6: PerformanceWarning: DataFrame is highly fragmented.  This is usually the result of calling `frame.insert` many times, which has poor performance.  Consider joining all columns at once using pd.concat(axis=1) instead. To get a de-fragmented frame, use `newframe = frame.copy()`\n",
      "  data['lag_{}'.format(lag)] = data['num_orders'].shift(lag)\n",
      "C:\\Users\\sushi\\AppData\\Local\\Temp\\ipykernel_21124\\2635838501.py:6: PerformanceWarning: DataFrame is highly fragmented.  This is usually the result of calling `frame.insert` many times, which has poor performance.  Consider joining all columns at once using pd.concat(axis=1) instead. To get a de-fragmented frame, use `newframe = frame.copy()`\n",
      "  data['lag_{}'.format(lag)] = data['num_orders'].shift(lag)\n",
      "C:\\Users\\sushi\\AppData\\Local\\Temp\\ipykernel_21124\\2635838501.py:6: PerformanceWarning: DataFrame is highly fragmented.  This is usually the result of calling `frame.insert` many times, which has poor performance.  Consider joining all columns at once using pd.concat(axis=1) instead. To get a de-fragmented frame, use `newframe = frame.copy()`\n",
      "  data['lag_{}'.format(lag)] = data['num_orders'].shift(lag)\n",
      "C:\\Users\\sushi\\AppData\\Local\\Temp\\ipykernel_21124\\2635838501.py:6: PerformanceWarning: DataFrame is highly fragmented.  This is usually the result of calling `frame.insert` many times, which has poor performance.  Consider joining all columns at once using pd.concat(axis=1) instead. To get a de-fragmented frame, use `newframe = frame.copy()`\n",
      "  data['lag_{}'.format(lag)] = data['num_orders'].shift(lag)\n",
      "C:\\Users\\sushi\\AppData\\Local\\Temp\\ipykernel_21124\\2635838501.py:6: PerformanceWarning: DataFrame is highly fragmented.  This is usually the result of calling `frame.insert` many times, which has poor performance.  Consider joining all columns at once using pd.concat(axis=1) instead. To get a de-fragmented frame, use `newframe = frame.copy()`\n",
      "  data['lag_{}'.format(lag)] = data['num_orders'].shift(lag)\n",
      "C:\\Users\\sushi\\AppData\\Local\\Temp\\ipykernel_21124\\2635838501.py:6: PerformanceWarning: DataFrame is highly fragmented.  This is usually the result of calling `frame.insert` many times, which has poor performance.  Consider joining all columns at once using pd.concat(axis=1) instead. To get a de-fragmented frame, use `newframe = frame.copy()`\n",
      "  data['lag_{}'.format(lag)] = data['num_orders'].shift(lag)\n",
      "C:\\Users\\sushi\\AppData\\Local\\Temp\\ipykernel_21124\\2635838501.py:6: PerformanceWarning: DataFrame is highly fragmented.  This is usually the result of calling `frame.insert` many times, which has poor performance.  Consider joining all columns at once using pd.concat(axis=1) instead. To get a de-fragmented frame, use `newframe = frame.copy()`\n",
      "  data['lag_{}'.format(lag)] = data['num_orders'].shift(lag)\n",
      "C:\\Users\\sushi\\AppData\\Local\\Temp\\ipykernel_21124\\2635838501.py:6: PerformanceWarning: DataFrame is highly fragmented.  This is usually the result of calling `frame.insert` many times, which has poor performance.  Consider joining all columns at once using pd.concat(axis=1) instead. To get a de-fragmented frame, use `newframe = frame.copy()`\n",
      "  data['lag_{}'.format(lag)] = data['num_orders'].shift(lag)\n",
      "C:\\Users\\sushi\\AppData\\Local\\Temp\\ipykernel_21124\\2635838501.py:6: PerformanceWarning: DataFrame is highly fragmented.  This is usually the result of calling `frame.insert` many times, which has poor performance.  Consider joining all columns at once using pd.concat(axis=1) instead. To get a de-fragmented frame, use `newframe = frame.copy()`\n",
      "  data['lag_{}'.format(lag)] = data['num_orders'].shift(lag)\n",
      "C:\\Users\\sushi\\AppData\\Local\\Temp\\ipykernel_21124\\2635838501.py:6: PerformanceWarning: DataFrame is highly fragmented.  This is usually the result of calling `frame.insert` many times, which has poor performance.  Consider joining all columns at once using pd.concat(axis=1) instead. To get a de-fragmented frame, use `newframe = frame.copy()`\n",
      "  data['lag_{}'.format(lag)] = data['num_orders'].shift(lag)\n",
      "C:\\Users\\sushi\\AppData\\Local\\Temp\\ipykernel_21124\\2635838501.py:6: PerformanceWarning: DataFrame is highly fragmented.  This is usually the result of calling `frame.insert` many times, which has poor performance.  Consider joining all columns at once using pd.concat(axis=1) instead. To get a de-fragmented frame, use `newframe = frame.copy()`\n",
      "  data['lag_{}'.format(lag)] = data['num_orders'].shift(lag)\n",
      "C:\\Users\\sushi\\AppData\\Local\\Temp\\ipykernel_21124\\2635838501.py:6: PerformanceWarning: DataFrame is highly fragmented.  This is usually the result of calling `frame.insert` many times, which has poor performance.  Consider joining all columns at once using pd.concat(axis=1) instead. To get a de-fragmented frame, use `newframe = frame.copy()`\n",
      "  data['lag_{}'.format(lag)] = data['num_orders'].shift(lag)\n",
      "C:\\Users\\sushi\\AppData\\Local\\Temp\\ipykernel_21124\\2635838501.py:6: PerformanceWarning: DataFrame is highly fragmented.  This is usually the result of calling `frame.insert` many times, which has poor performance.  Consider joining all columns at once using pd.concat(axis=1) instead. To get a de-fragmented frame, use `newframe = frame.copy()`\n",
      "  data['lag_{}'.format(lag)] = data['num_orders'].shift(lag)\n",
      "C:\\Users\\sushi\\AppData\\Local\\Temp\\ipykernel_21124\\2635838501.py:6: PerformanceWarning: DataFrame is highly fragmented.  This is usually the result of calling `frame.insert` many times, which has poor performance.  Consider joining all columns at once using pd.concat(axis=1) instead. To get a de-fragmented frame, use `newframe = frame.copy()`\n",
      "  data['lag_{}'.format(lag)] = data['num_orders'].shift(lag)\n",
      "C:\\Users\\sushi\\AppData\\Local\\Temp\\ipykernel_21124\\2635838501.py:6: PerformanceWarning: DataFrame is highly fragmented.  This is usually the result of calling `frame.insert` many times, which has poor performance.  Consider joining all columns at once using pd.concat(axis=1) instead. To get a de-fragmented frame, use `newframe = frame.copy()`\n",
      "  data['lag_{}'.format(lag)] = data['num_orders'].shift(lag)\n",
      "C:\\Users\\sushi\\AppData\\Local\\Temp\\ipykernel_21124\\2635838501.py:6: PerformanceWarning: DataFrame is highly fragmented.  This is usually the result of calling `frame.insert` many times, which has poor performance.  Consider joining all columns at once using pd.concat(axis=1) instead. To get a de-fragmented frame, use `newframe = frame.copy()`\n",
      "  data['lag_{}'.format(lag)] = data['num_orders'].shift(lag)\n",
      "C:\\Users\\sushi\\AppData\\Local\\Temp\\ipykernel_21124\\2635838501.py:6: PerformanceWarning: DataFrame is highly fragmented.  This is usually the result of calling `frame.insert` many times, which has poor performance.  Consider joining all columns at once using pd.concat(axis=1) instead. To get a de-fragmented frame, use `newframe = frame.copy()`\n",
      "  data['lag_{}'.format(lag)] = data['num_orders'].shift(lag)\n",
      "C:\\Users\\sushi\\AppData\\Local\\Temp\\ipykernel_21124\\2635838501.py:6: PerformanceWarning: DataFrame is highly fragmented.  This is usually the result of calling `frame.insert` many times, which has poor performance.  Consider joining all columns at once using pd.concat(axis=1) instead. To get a de-fragmented frame, use `newframe = frame.copy()`\n",
      "  data['lag_{}'.format(lag)] = data['num_orders'].shift(lag)\n",
      "C:\\Users\\sushi\\AppData\\Local\\Temp\\ipykernel_21124\\2635838501.py:6: PerformanceWarning: DataFrame is highly fragmented.  This is usually the result of calling `frame.insert` many times, which has poor performance.  Consider joining all columns at once using pd.concat(axis=1) instead. To get a de-fragmented frame, use `newframe = frame.copy()`\n",
      "  data['lag_{}'.format(lag)] = data['num_orders'].shift(lag)\n",
      "C:\\Users\\sushi\\AppData\\Local\\Temp\\ipykernel_21124\\2635838501.py:6: PerformanceWarning: DataFrame is highly fragmented.  This is usually the result of calling `frame.insert` many times, which has poor performance.  Consider joining all columns at once using pd.concat(axis=1) instead. To get a de-fragmented frame, use `newframe = frame.copy()`\n",
      "  data['lag_{}'.format(lag)] = data['num_orders'].shift(lag)\n",
      "C:\\Users\\sushi\\AppData\\Local\\Temp\\ipykernel_21124\\2635838501.py:6: PerformanceWarning: DataFrame is highly fragmented.  This is usually the result of calling `frame.insert` many times, which has poor performance.  Consider joining all columns at once using pd.concat(axis=1) instead. To get a de-fragmented frame, use `newframe = frame.copy()`\n",
      "  data['lag_{}'.format(lag)] = data['num_orders'].shift(lag)\n",
      "C:\\Users\\sushi\\AppData\\Local\\Temp\\ipykernel_21124\\2635838501.py:6: PerformanceWarning: DataFrame is highly fragmented.  This is usually the result of calling `frame.insert` many times, which has poor performance.  Consider joining all columns at once using pd.concat(axis=1) instead. To get a de-fragmented frame, use `newframe = frame.copy()`\n",
      "  data['lag_{}'.format(lag)] = data['num_orders'].shift(lag)\n",
      "C:\\Users\\sushi\\AppData\\Local\\Temp\\ipykernel_21124\\2635838501.py:6: PerformanceWarning: DataFrame is highly fragmented.  This is usually the result of calling `frame.insert` many times, which has poor performance.  Consider joining all columns at once using pd.concat(axis=1) instead. To get a de-fragmented frame, use `newframe = frame.copy()`\n",
      "  data['lag_{}'.format(lag)] = data['num_orders'].shift(lag)\n",
      "C:\\Users\\sushi\\AppData\\Local\\Temp\\ipykernel_21124\\2635838501.py:6: PerformanceWarning: DataFrame is highly fragmented.  This is usually the result of calling `frame.insert` many times, which has poor performance.  Consider joining all columns at once using pd.concat(axis=1) instead. To get a de-fragmented frame, use `newframe = frame.copy()`\n",
      "  data['lag_{}'.format(lag)] = data['num_orders'].shift(lag)\n",
      "C:\\Users\\sushi\\AppData\\Local\\Temp\\ipykernel_21124\\2635838501.py:6: PerformanceWarning: DataFrame is highly fragmented.  This is usually the result of calling `frame.insert` many times, which has poor performance.  Consider joining all columns at once using pd.concat(axis=1) instead. To get a de-fragmented frame, use `newframe = frame.copy()`\n",
      "  data['lag_{}'.format(lag)] = data['num_orders'].shift(lag)\n",
      "C:\\Users\\sushi\\AppData\\Local\\Temp\\ipykernel_21124\\2635838501.py:6: PerformanceWarning: DataFrame is highly fragmented.  This is usually the result of calling `frame.insert` many times, which has poor performance.  Consider joining all columns at once using pd.concat(axis=1) instead. To get a de-fragmented frame, use `newframe = frame.copy()`\n",
      "  data['lag_{}'.format(lag)] = data['num_orders'].shift(lag)\n",
      "C:\\Users\\sushi\\AppData\\Local\\Temp\\ipykernel_21124\\2635838501.py:6: PerformanceWarning: DataFrame is highly fragmented.  This is usually the result of calling `frame.insert` many times, which has poor performance.  Consider joining all columns at once using pd.concat(axis=1) instead. To get a de-fragmented frame, use `newframe = frame.copy()`\n",
      "  data['lag_{}'.format(lag)] = data['num_orders'].shift(lag)\n",
      "C:\\Users\\sushi\\AppData\\Local\\Temp\\ipykernel_21124\\2635838501.py:6: PerformanceWarning: DataFrame is highly fragmented.  This is usually the result of calling `frame.insert` many times, which has poor performance.  Consider joining all columns at once using pd.concat(axis=1) instead. To get a de-fragmented frame, use `newframe = frame.copy()`\n",
      "  data['lag_{}'.format(lag)] = data['num_orders'].shift(lag)\n",
      "C:\\Users\\sushi\\AppData\\Local\\Temp\\ipykernel_21124\\2635838501.py:6: PerformanceWarning: DataFrame is highly fragmented.  This is usually the result of calling `frame.insert` many times, which has poor performance.  Consider joining all columns at once using pd.concat(axis=1) instead. To get a de-fragmented frame, use `newframe = frame.copy()`\n",
      "  data['lag_{}'.format(lag)] = data['num_orders'].shift(lag)\n",
      "C:\\Users\\sushi\\AppData\\Local\\Temp\\ipykernel_21124\\2635838501.py:6: PerformanceWarning: DataFrame is highly fragmented.  This is usually the result of calling `frame.insert` many times, which has poor performance.  Consider joining all columns at once using pd.concat(axis=1) instead. To get a de-fragmented frame, use `newframe = frame.copy()`\n",
      "  data['lag_{}'.format(lag)] = data['num_orders'].shift(lag)\n",
      "C:\\Users\\sushi\\AppData\\Local\\Temp\\ipykernel_21124\\2635838501.py:6: PerformanceWarning: DataFrame is highly fragmented.  This is usually the result of calling `frame.insert` many times, which has poor performance.  Consider joining all columns at once using pd.concat(axis=1) instead. To get a de-fragmented frame, use `newframe = frame.copy()`\n",
      "  data['lag_{}'.format(lag)] = data['num_orders'].shift(lag)\n",
      "C:\\Users\\sushi\\AppData\\Local\\Temp\\ipykernel_21124\\2635838501.py:6: PerformanceWarning: DataFrame is highly fragmented.  This is usually the result of calling `frame.insert` many times, which has poor performance.  Consider joining all columns at once using pd.concat(axis=1) instead. To get a de-fragmented frame, use `newframe = frame.copy()`\n",
      "  data['lag_{}'.format(lag)] = data['num_orders'].shift(lag)\n",
      "C:\\Users\\sushi\\AppData\\Local\\Temp\\ipykernel_21124\\2635838501.py:6: PerformanceWarning: DataFrame is highly fragmented.  This is usually the result of calling `frame.insert` many times, which has poor performance.  Consider joining all columns at once using pd.concat(axis=1) instead. To get a de-fragmented frame, use `newframe = frame.copy()`\n",
      "  data['lag_{}'.format(lag)] = data['num_orders'].shift(lag)\n",
      "C:\\Users\\sushi\\AppData\\Local\\Temp\\ipykernel_21124\\2635838501.py:6: PerformanceWarning: DataFrame is highly fragmented.  This is usually the result of calling `frame.insert` many times, which has poor performance.  Consider joining all columns at once using pd.concat(axis=1) instead. To get a de-fragmented frame, use `newframe = frame.copy()`\n",
      "  data['lag_{}'.format(lag)] = data['num_orders'].shift(lag)\n",
      "C:\\Users\\sushi\\AppData\\Local\\Temp\\ipykernel_21124\\2635838501.py:6: PerformanceWarning: DataFrame is highly fragmented.  This is usually the result of calling `frame.insert` many times, which has poor performance.  Consider joining all columns at once using pd.concat(axis=1) instead. To get a de-fragmented frame, use `newframe = frame.copy()`\n",
      "  data['lag_{}'.format(lag)] = data['num_orders'].shift(lag)\n",
      "C:\\Users\\sushi\\AppData\\Local\\Temp\\ipykernel_21124\\2635838501.py:6: PerformanceWarning: DataFrame is highly fragmented.  This is usually the result of calling `frame.insert` many times, which has poor performance.  Consider joining all columns at once using pd.concat(axis=1) instead. To get a de-fragmented frame, use `newframe = frame.copy()`\n",
      "  data['lag_{}'.format(lag)] = data['num_orders'].shift(lag)\n",
      "C:\\Users\\sushi\\AppData\\Local\\Temp\\ipykernel_21124\\2635838501.py:6: PerformanceWarning: DataFrame is highly fragmented.  This is usually the result of calling `frame.insert` many times, which has poor performance.  Consider joining all columns at once using pd.concat(axis=1) instead. To get a de-fragmented frame, use `newframe = frame.copy()`\n",
      "  data['lag_{}'.format(lag)] = data['num_orders'].shift(lag)\n",
      "C:\\Users\\sushi\\AppData\\Local\\Temp\\ipykernel_21124\\2635838501.py:6: PerformanceWarning: DataFrame is highly fragmented.  This is usually the result of calling `frame.insert` many times, which has poor performance.  Consider joining all columns at once using pd.concat(axis=1) instead. To get a de-fragmented frame, use `newframe = frame.copy()`\n",
      "  data['lag_{}'.format(lag)] = data['num_orders'].shift(lag)\n",
      "C:\\Users\\sushi\\AppData\\Local\\Temp\\ipykernel_21124\\2635838501.py:6: PerformanceWarning: DataFrame is highly fragmented.  This is usually the result of calling `frame.insert` many times, which has poor performance.  Consider joining all columns at once using pd.concat(axis=1) instead. To get a de-fragmented frame, use `newframe = frame.copy()`\n",
      "  data['lag_{}'.format(lag)] = data['num_orders'].shift(lag)\n",
      "C:\\Users\\sushi\\AppData\\Local\\Temp\\ipykernel_21124\\2635838501.py:6: PerformanceWarning: DataFrame is highly fragmented.  This is usually the result of calling `frame.insert` many times, which has poor performance.  Consider joining all columns at once using pd.concat(axis=1) instead. To get a de-fragmented frame, use `newframe = frame.copy()`\n",
      "  data['lag_{}'.format(lag)] = data['num_orders'].shift(lag)\n",
      "C:\\Users\\sushi\\AppData\\Local\\Temp\\ipykernel_21124\\2635838501.py:6: PerformanceWarning: DataFrame is highly fragmented.  This is usually the result of calling `frame.insert` many times, which has poor performance.  Consider joining all columns at once using pd.concat(axis=1) instead. To get a de-fragmented frame, use `newframe = frame.copy()`\n",
      "  data['lag_{}'.format(lag)] = data['num_orders'].shift(lag)\n",
      "C:\\Users\\sushi\\AppData\\Local\\Temp\\ipykernel_21124\\2635838501.py:6: PerformanceWarning: DataFrame is highly fragmented.  This is usually the result of calling `frame.insert` many times, which has poor performance.  Consider joining all columns at once using pd.concat(axis=1) instead. To get a de-fragmented frame, use `newframe = frame.copy()`\n",
      "  data['lag_{}'.format(lag)] = data['num_orders'].shift(lag)\n",
      "C:\\Users\\sushi\\AppData\\Local\\Temp\\ipykernel_21124\\2635838501.py:6: PerformanceWarning: DataFrame is highly fragmented.  This is usually the result of calling `frame.insert` many times, which has poor performance.  Consider joining all columns at once using pd.concat(axis=1) instead. To get a de-fragmented frame, use `newframe = frame.copy()`\n",
      "  data['lag_{}'.format(lag)] = data['num_orders'].shift(lag)\n",
      "C:\\Users\\sushi\\AppData\\Local\\Temp\\ipykernel_21124\\2635838501.py:6: PerformanceWarning: DataFrame is highly fragmented.  This is usually the result of calling `frame.insert` many times, which has poor performance.  Consider joining all columns at once using pd.concat(axis=1) instead. To get a de-fragmented frame, use `newframe = frame.copy()`\n",
      "  data['lag_{}'.format(lag)] = data['num_orders'].shift(lag)\n",
      "C:\\Users\\sushi\\AppData\\Local\\Temp\\ipykernel_21124\\2635838501.py:6: PerformanceWarning: DataFrame is highly fragmented.  This is usually the result of calling `frame.insert` many times, which has poor performance.  Consider joining all columns at once using pd.concat(axis=1) instead. To get a de-fragmented frame, use `newframe = frame.copy()`\n",
      "  data['lag_{}'.format(lag)] = data['num_orders'].shift(lag)\n",
      "C:\\Users\\sushi\\AppData\\Local\\Temp\\ipykernel_21124\\2635838501.py:6: PerformanceWarning: DataFrame is highly fragmented.  This is usually the result of calling `frame.insert` many times, which has poor performance.  Consider joining all columns at once using pd.concat(axis=1) instead. To get a de-fragmented frame, use `newframe = frame.copy()`\n",
      "  data['lag_{}'.format(lag)] = data['num_orders'].shift(lag)\n",
      "C:\\Users\\sushi\\AppData\\Local\\Temp\\ipykernel_21124\\2635838501.py:6: PerformanceWarning: DataFrame is highly fragmented.  This is usually the result of calling `frame.insert` many times, which has poor performance.  Consider joining all columns at once using pd.concat(axis=1) instead. To get a de-fragmented frame, use `newframe = frame.copy()`\n",
      "  data['lag_{}'.format(lag)] = data['num_orders'].shift(lag)\n",
      "C:\\Users\\sushi\\AppData\\Local\\Temp\\ipykernel_21124\\2635838501.py:6: PerformanceWarning: DataFrame is highly fragmented.  This is usually the result of calling `frame.insert` many times, which has poor performance.  Consider joining all columns at once using pd.concat(axis=1) instead. To get a de-fragmented frame, use `newframe = frame.copy()`\n",
      "  data['lag_{}'.format(lag)] = data['num_orders'].shift(lag)\n",
      "C:\\Users\\sushi\\AppData\\Local\\Temp\\ipykernel_21124\\2635838501.py:6: PerformanceWarning: DataFrame is highly fragmented.  This is usually the result of calling `frame.insert` many times, which has poor performance.  Consider joining all columns at once using pd.concat(axis=1) instead. To get a de-fragmented frame, use `newframe = frame.copy()`\n",
      "  data['lag_{}'.format(lag)] = data['num_orders'].shift(lag)\n",
      "C:\\Users\\sushi\\AppData\\Local\\Temp\\ipykernel_21124\\2635838501.py:6: PerformanceWarning: DataFrame is highly fragmented.  This is usually the result of calling `frame.insert` many times, which has poor performance.  Consider joining all columns at once using pd.concat(axis=1) instead. To get a de-fragmented frame, use `newframe = frame.copy()`\n",
      "  data['lag_{}'.format(lag)] = data['num_orders'].shift(lag)\n",
      "C:\\Users\\sushi\\AppData\\Local\\Temp\\ipykernel_21124\\2635838501.py:6: PerformanceWarning: DataFrame is highly fragmented.  This is usually the result of calling `frame.insert` many times, which has poor performance.  Consider joining all columns at once using pd.concat(axis=1) instead. To get a de-fragmented frame, use `newframe = frame.copy()`\n",
      "  data['lag_{}'.format(lag)] = data['num_orders'].shift(lag)\n",
      "C:\\Users\\sushi\\AppData\\Local\\Temp\\ipykernel_21124\\2635838501.py:6: PerformanceWarning: DataFrame is highly fragmented.  This is usually the result of calling `frame.insert` many times, which has poor performance.  Consider joining all columns at once using pd.concat(axis=1) instead. To get a de-fragmented frame, use `newframe = frame.copy()`\n",
      "  data['lag_{}'.format(lag)] = data['num_orders'].shift(lag)\n",
      "C:\\Users\\sushi\\AppData\\Local\\Temp\\ipykernel_21124\\2635838501.py:6: PerformanceWarning: DataFrame is highly fragmented.  This is usually the result of calling `frame.insert` many times, which has poor performance.  Consider joining all columns at once using pd.concat(axis=1) instead. To get a de-fragmented frame, use `newframe = frame.copy()`\n",
      "  data['lag_{}'.format(lag)] = data['num_orders'].shift(lag)\n",
      "C:\\Users\\sushi\\AppData\\Local\\Temp\\ipykernel_21124\\2635838501.py:6: PerformanceWarning: DataFrame is highly fragmented.  This is usually the result of calling `frame.insert` many times, which has poor performance.  Consider joining all columns at once using pd.concat(axis=1) instead. To get a de-fragmented frame, use `newframe = frame.copy()`\n",
      "  data['lag_{}'.format(lag)] = data['num_orders'].shift(lag)\n",
      "C:\\Users\\sushi\\AppData\\Local\\Temp\\ipykernel_21124\\2635838501.py:6: PerformanceWarning: DataFrame is highly fragmented.  This is usually the result of calling `frame.insert` many times, which has poor performance.  Consider joining all columns at once using pd.concat(axis=1) instead. To get a de-fragmented frame, use `newframe = frame.copy()`\n",
      "  data['lag_{}'.format(lag)] = data['num_orders'].shift(lag)\n",
      "C:\\Users\\sushi\\AppData\\Local\\Temp\\ipykernel_21124\\2635838501.py:6: PerformanceWarning: DataFrame is highly fragmented.  This is usually the result of calling `frame.insert` many times, which has poor performance.  Consider joining all columns at once using pd.concat(axis=1) instead. To get a de-fragmented frame, use `newframe = frame.copy()`\n",
      "  data['lag_{}'.format(lag)] = data['num_orders'].shift(lag)\n",
      "C:\\Users\\sushi\\AppData\\Local\\Temp\\ipykernel_21124\\2635838501.py:6: PerformanceWarning: DataFrame is highly fragmented.  This is usually the result of calling `frame.insert` many times, which has poor performance.  Consider joining all columns at once using pd.concat(axis=1) instead. To get a de-fragmented frame, use `newframe = frame.copy()`\n",
      "  data['lag_{}'.format(lag)] = data['num_orders'].shift(lag)\n",
      "C:\\Users\\sushi\\AppData\\Local\\Temp\\ipykernel_21124\\2635838501.py:6: PerformanceWarning: DataFrame is highly fragmented.  This is usually the result of calling `frame.insert` many times, which has poor performance.  Consider joining all columns at once using pd.concat(axis=1) instead. To get a de-fragmented frame, use `newframe = frame.copy()`\n",
      "  data['lag_{}'.format(lag)] = data['num_orders'].shift(lag)\n",
      "C:\\Users\\sushi\\AppData\\Local\\Temp\\ipykernel_21124\\2635838501.py:6: PerformanceWarning: DataFrame is highly fragmented.  This is usually the result of calling `frame.insert` many times, which has poor performance.  Consider joining all columns at once using pd.concat(axis=1) instead. To get a de-fragmented frame, use `newframe = frame.copy()`\n",
      "  data['lag_{}'.format(lag)] = data['num_orders'].shift(lag)\n",
      "C:\\Users\\sushi\\AppData\\Local\\Temp\\ipykernel_21124\\2635838501.py:6: PerformanceWarning: DataFrame is highly fragmented.  This is usually the result of calling `frame.insert` many times, which has poor performance.  Consider joining all columns at once using pd.concat(axis=1) instead. To get a de-fragmented frame, use `newframe = frame.copy()`\n",
      "  data['lag_{}'.format(lag)] = data['num_orders'].shift(lag)\n",
      "C:\\Users\\sushi\\AppData\\Local\\Temp\\ipykernel_21124\\2635838501.py:6: PerformanceWarning: DataFrame is highly fragmented.  This is usually the result of calling `frame.insert` many times, which has poor performance.  Consider joining all columns at once using pd.concat(axis=1) instead. To get a de-fragmented frame, use `newframe = frame.copy()`\n",
      "  data['lag_{}'.format(lag)] = data['num_orders'].shift(lag)\n",
      "C:\\Users\\sushi\\AppData\\Local\\Temp\\ipykernel_21124\\2635838501.py:8: PerformanceWarning: DataFrame is highly fragmented.  This is usually the result of calling `frame.insert` many times, which has poor performance.  Consider joining all columns at once using pd.concat(axis=1) instead. To get a de-fragmented frame, use `newframe = frame.copy()`\n",
      "  data['rolling_mean'] = data['num_orders'].shift().rolling(rolling_mean_size).mean()\n"
     ]
    }
   ],
   "source": [
    "def make_features(data, max_lag, rolling_mean_size):\n",
    "    data['dayofweek'] = data.index.dayofweek\n",
    "    data['hour'] = data.index.hour\n",
    "    \n",
    "    for lag in range(1, max_lag + 1):\n",
    "        data['lag_{}'.format(lag)] = data['num_orders'].shift(lag)\n",
    "\n",
    "    data['rolling_mean'] = data['num_orders'].shift().rolling(rolling_mean_size).mean()\n",
    "\n",
    "make_features(data, 168, 168)"
   ]
  },
  {
   "cell_type": "markdown",
   "metadata": {},
   "source": [
    "### Вывод"
   ]
  },
  {
   "cell_type": "markdown",
   "metadata": {},
   "source": [
    "Графики тренда и сезонности показывают восходящий тренд и ежедневные увеличения количества заказов в 00:00 и уменьшения — в 06:00. \n",
    "\n",
    "Перед обучением моделей временной ряд был преобразован в стационарный, и были созданы признаки: день недели, час, отстающее значение и скользящее среднее."
   ]
  },
  {
   "cell_type": "markdown",
   "metadata": {},
   "source": [
    "## Обучение"
   ]
  },
  {
   "cell_type": "markdown",
   "metadata": {},
   "source": [
    "### Разбиение данных на выборки"
   ]
  },
  {
   "cell_type": "markdown",
   "metadata": {},
   "source": [
    "Разделим данные на обучающую и тестовую выборку в отношении 9:1:"
   ]
  },
  {
   "cell_type": "code",
   "execution_count": 11,
   "metadata": {},
   "outputs": [],
   "source": [
    "train, test = train_test_split(data, shuffle=False, test_size=0.1)\n",
    "train = train.dropna()"
   ]
  },
  {
   "cell_type": "markdown",
   "metadata": {},
   "source": [
    "### Разбиение данных на целевой признак и признаки"
   ]
  },
  {
   "cell_type": "code",
   "execution_count": 12,
   "metadata": {},
   "outputs": [],
   "source": [
    "features_train = train.drop(['num_orders'], axis=1)\n",
    "features_test = test.drop(['num_orders'], axis=1)\n",
    "target_train = train['num_orders']\n",
    "target_test = test['num_orders']"
   ]
  },
  {
   "cell_type": "markdown",
   "metadata": {},
   "source": [
    "### Линейная регрессия"
   ]
  },
  {
   "cell_type": "markdown",
   "metadata": {},
   "source": [
    "Обучим модель линейной регрессии:"
   ]
  },
  {
   "cell_type": "code",
   "execution_count": 13,
   "metadata": {},
   "outputs": [
    {
     "name": "stdout",
     "output_type": "stream",
     "text": [
      "Метрика RMSE для линейной регрессии на валидационной выборке: 26.414544084544314\n"
     ]
    }
   ],
   "source": [
    "reg_features_train, reg_features_valid, reg_target_train, reg_target_valid = train_test_split(\n",
    "    features_train, target_train, test_size=0.25, shuffle=False)\n",
    "\n",
    "reg_model = LinearRegression()\n",
    "reg_model.fit(reg_features_train, reg_target_train)\n",
    "reg_pred = reg_model.predict(reg_features_valid)\n",
    "\n",
    "print('Метрика RMSE для линейной регрессии на валидационной выборке:', mean_squared_error(\n",
    "    reg_target_valid, reg_pred, squared=False))"
   ]
  },
  {
   "cell_type": "markdown",
   "metadata": {},
   "source": [
    "### LightGBM"
   ]
  },
  {
   "cell_type": "code",
   "execution_count": 14,
   "metadata": {},
   "outputs": [],
   "source": [
    "tscv = TimeSeriesSplit(n_splits=10)"
   ]
  },
  {
   "cell_type": "markdown",
   "metadata": {},
   "source": [
    "С помощью кросс-валидации подберем гиперпараметры для модели LightGBM и обучим лучшую модель:"
   ]
  },
  {
   "cell_type": "code",
   "execution_count": 15,
   "metadata": {},
   "outputs": [
    {
     "name": "stdout",
     "output_type": "stream",
     "text": [
      "LGBMRegressor(max_depth=11, n_estimators=19, random_state=12345)\n",
      "Метрика RMSE для модели LightGBM на валидационной выборке: 23.101860077372454\n"
     ]
    }
   ],
   "source": [
    "light_regressor = lgb.LGBMRegressor(random_state=12345)\n",
    "\n",
    "params = {'n_estimators' : range(10, 20, 1),\n",
    "             'max_depth' : range(10, 20, 1)}\n",
    "\n",
    "grid = RandomizedSearchCV(light_regressor, params, cv=tscv, scoring='neg_root_mean_squared_error', n_iter=5)\n",
    "grid.fit(features_train, target_train)\n",
    "\n",
    "light_regressor = grid.best_estimator_\n",
    "\n",
    "print(light_regressor)\n",
    "print('Метрика RMSE для модели LightGBM на валидационной выборке:', grid.best_score_ * (-1))"
   ]
  },
  {
   "cell_type": "markdown",
   "metadata": {},
   "source": [
    "### Случайный лес"
   ]
  },
  {
   "cell_type": "markdown",
   "metadata": {},
   "source": [
    "С помощью кросс-валидации подберем гиперпараметры для модели случайного леса и обучим лучшую модель:"
   ]
  },
  {
   "cell_type": "code",
   "execution_count": 16,
   "metadata": {},
   "outputs": [
    {
     "name": "stdout",
     "output_type": "stream",
     "text": [
      "RandomForestRegressor(max_depth=10, n_estimators=16, random_state=12345)\n",
      "Метрика RMSE для случайного леса на валидационной выборке: 22.70917869191173\n"
     ]
    }
   ],
   "source": [
    "forest_model = RandomForestRegressor(random_state=12345)\n",
    "\n",
    "params = {'n_estimators' : range(10, 20, 1),\n",
    "             'max_depth' : range(10, 20, 1)}\n",
    "\n",
    "grid = RandomizedSearchCV(forest_model, params, cv=tscv, scoring='neg_root_mean_squared_error', n_iter=5, n_jobs=-1)\n",
    "grid.fit(features_train, target_train)\n",
    "\n",
    "forest_model = grid.best_estimator_\n",
    "\n",
    "print(forest_model)\n",
    "print('Метрика RMSE для случайного леса на валидационной выборке:', grid.best_score_ * (-1))"
   ]
  },
  {
   "cell_type": "markdown",
   "metadata": {},
   "source": [
    "### Вывод"
   ]
  },
  {
   "cell_type": "markdown",
   "metadata": {},
   "source": [
    "Для выбора лучшей модели были обучены линейная регрессия, случайный лес и LightGBM. С помощью кросс-валидации для моделей случайного леса и LightGBM были подобраны такие гиперпараметры, при которых метрика RMSE минимальна."
   ]
  },
  {
   "cell_type": "markdown",
   "metadata": {},
   "source": [
    "## Тестирование"
   ]
  },
  {
   "cell_type": "code",
   "execution_count": 20,
   "metadata": {},
   "outputs": [
    {
     "name": "stdout",
     "output_type": "stream",
     "text": [
      "RMSE модели LightGBM на тестовой выборке: 40.01152072358435\n"
     ]
    }
   ],
   "source": [
    "final_pred = forest_model.predict(features_test)\n",
    "print('RMSE модели LightGBM на тестовой выборке:', mean_squared_error(\n",
    "    target_test, final_pred, squared=False))"
   ]
  },
  {
   "cell_type": "markdown",
   "metadata": {},
   "source": [
    "### Вывод"
   ]
  },
  {
   "cell_type": "markdown",
   "metadata": {},
   "source": [
    "Минимальную метрику RMSE показала модель случайного леса — она равна примерно 22.7. Модели случайного леса и линейной регрессии показали наибольшую метрику. "
   ]
  },
  {
   "cell_type": "markdown",
   "metadata": {},
   "source": [
    "## Вывод"
   ]
  },
  {
   "cell_type": "markdown",
   "metadata": {},
   "source": [
    "На этапе анализа были рассмотрены тренд и сезонность. Временной ряд был преобразован в стационарный, были созданы признаки для последующей работы с моделями. \n",
    "\n",
    "Для выбора наилучшей модели были представлены модели линейной регрессии, случайного леса и LightGBM. С помощью кросс-валидации для них были подобраны гиперпараметры таким образом, чтобы метрика RMSE была минимальной. \n",
    "\n",
    "На валидационной выборке лучшим показателем RMSE обладает модель случайного леса. На тестовой выборке ее метрика RMSE составила около 40."
   ]
  }
 ],
 "metadata": {
  "ExecuteTimeLog": [
   {
    "duration": 1833,
    "start_time": "2023-02-24T10:19:25.055Z"
   },
   {
    "duration": 1696,
    "start_time": "2023-02-24T14:18:16.066Z"
   },
   {
    "duration": 181,
    "start_time": "2023-02-24T14:18:17.765Z"
   },
   {
    "duration": 6,
    "start_time": "2023-02-24T14:18:17.950Z"
   },
   {
    "duration": 15,
    "start_time": "2023-02-24T14:18:17.958Z"
   },
   {
    "duration": 8,
    "start_time": "2023-02-24T14:18:17.975Z"
   },
   {
    "duration": 6,
    "start_time": "2023-02-24T14:18:17.985Z"
   },
   {
    "duration": 324,
    "start_time": "2023-02-24T14:18:17.993Z"
   },
   {
    "duration": 179,
    "start_time": "2023-02-24T14:18:18.319Z"
   },
   {
    "duration": 4,
    "start_time": "2023-02-24T14:18:18.500Z"
   },
   {
    "duration": 15,
    "start_time": "2023-02-24T14:18:18.505Z"
   },
   {
    "duration": 7,
    "start_time": "2023-02-24T14:19:36.004Z"
   },
   {
    "duration": 111,
    "start_time": "2023-02-24T14:19:36.013Z"
   },
   {
    "duration": 3,
    "start_time": "2023-02-24T14:19:36.125Z"
   },
   {
    "duration": 15,
    "start_time": "2023-02-24T14:19:36.130Z"
   },
   {
    "duration": 22,
    "start_time": "2023-02-24T14:19:36.147Z"
   },
   {
    "duration": 12,
    "start_time": "2023-02-24T14:19:36.170Z"
   },
   {
    "duration": 241,
    "start_time": "2023-02-24T14:19:36.184Z"
   },
   {
    "duration": 168,
    "start_time": "2023-02-24T14:19:36.427Z"
   },
   {
    "duration": 8,
    "start_time": "2023-02-24T14:19:36.597Z"
   },
   {
    "duration": 12,
    "start_time": "2023-02-24T14:19:36.607Z"
   },
   {
    "duration": 12,
    "start_time": "2023-02-24T14:19:36.637Z"
   },
   {
    "duration": 21,
    "start_time": "2023-02-24T14:19:36.651Z"
   },
   {
    "duration": 18,
    "start_time": "2023-02-24T14:19:36.674Z"
   },
   {
    "duration": 106,
    "start_time": "2023-02-24T14:19:36.695Z"
   },
   {
    "duration": 19,
    "start_time": "2023-02-24T14:19:36.803Z"
   },
   {
    "duration": 17,
    "start_time": "2023-02-24T14:19:36.824Z"
   },
   {
    "duration": 696,
    "start_time": "2023-02-24T14:19:36.847Z"
   },
   {
    "duration": 87,
    "start_time": "2023-02-24T14:19:37.551Z"
   },
   {
    "duration": 195032,
    "start_time": "2023-02-24T14:19:37.640Z"
   },
   {
    "duration": 0,
    "start_time": "2023-02-24T14:22:52.675Z"
   },
   {
    "duration": 1,
    "start_time": "2023-02-24T14:22:52.677Z"
   },
   {
    "duration": 4,
    "start_time": "2023-02-24T14:57:09.725Z"
   },
   {
    "duration": 159,
    "start_time": "2023-02-24T14:57:09.731Z"
   },
   {
    "duration": 3,
    "start_time": "2023-02-24T14:57:09.891Z"
   },
   {
    "duration": 10,
    "start_time": "2023-02-24T14:57:09.895Z"
   },
   {
    "duration": 7,
    "start_time": "2023-02-24T14:57:09.907Z"
   },
   {
    "duration": 10,
    "start_time": "2023-02-24T14:57:09.916Z"
   },
   {
    "duration": 232,
    "start_time": "2023-02-24T14:57:09.937Z"
   },
   {
    "duration": 179,
    "start_time": "2023-02-24T14:57:10.171Z"
   },
   {
    "duration": 5,
    "start_time": "2023-02-24T14:57:10.356Z"
   },
   {
    "duration": 127,
    "start_time": "2023-02-24T14:57:10.363Z"
   },
   {
    "duration": 19,
    "start_time": "2023-02-24T14:57:10.492Z"
   },
   {
    "duration": 6,
    "start_time": "2023-02-24T14:57:10.513Z"
   },
   {
    "duration": 934,
    "start_time": "2023-02-24T14:57:10.521Z"
   },
   {
    "duration": 10,
    "start_time": "2023-02-24T14:57:11.538Z"
   }
  ],
  "kernelspec": {
   "display_name": "Python 3 (ipykernel)",
   "language": "python",
   "name": "python3"
  },
  "language_info": {
   "codemirror_mode": {
    "name": "ipython",
    "version": 3
   },
   "file_extension": ".py",
   "mimetype": "text/x-python",
   "name": "python",
   "nbconvert_exporter": "python",
   "pygments_lexer": "ipython3",
   "version": "3.9.13"
  },
  "toc": {
   "base_numbering": 1,
   "nav_menu": {},
   "number_sections": true,
   "sideBar": false,
   "skip_h1_title": true,
   "title_cell": "Содержание",
   "title_sidebar": "Contents",
   "toc_cell": true,
   "toc_position": {
    "height": "991.818px",
    "left": "25px",
    "top": "110.795px",
    "width": "511.989px"
   },
   "toc_section_display": true,
   "toc_window_display": true
  }
 },
 "nbformat": 4,
 "nbformat_minor": 2
}
