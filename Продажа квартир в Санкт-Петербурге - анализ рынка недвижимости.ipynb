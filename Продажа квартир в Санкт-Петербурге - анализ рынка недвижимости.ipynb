{
 "cells": [
  {
   "cell_type": "markdown",
   "id": "cb1e8a3e",
   "metadata": {},
   "source": [
    "# Исследование объявлений о продаже квартир\n",
    "\n",
    "Доступны данные сервиса Яндекс.Недвижимость — архив объявлений о продаже квартир в Санкт-Петербурге и соседних населённых пунктов за несколько лет. Нужно научиться определять рыночную стоимость объектов недвижимости.\n",
    "\n",
    "По каждой квартире на продажу доступны два вида данных. Первые вписаны пользователем, вторые — получены автоматически на основе картографических данных. Например, расстояние до центра, аэропорта, ближайшего парка и водоёма. \n",
    "\n",
    "**Цель исследования** — выполнить предобработку данных и изучить их, чтобы найти интересные особенности и зависимости, которые существуют на рынке недвижимости.\n",
    "\n",
    "**Ход исследования**\n",
    "\n",
    "Данные сервиса Яндекс.Недвижимость необходимо изучить и провести преобработку данных. Затем осуществить исследовательский анализ данных и написать общий вывод.\n",
    "\n",
    "Таким образом, исследование пройдёт в четыре этапа:\n",
    " 1. Обзор данных.\n",
    " 2. Предобработка данных.\n",
    " 3. Исследовательский анализ данных.\n",
    " 4. Вывод."
   ]
  },
  {
   "cell_type": "markdown",
   "id": "59132110",
   "metadata": {},
   "source": [
    "### 1. Откройте файл с данными и изучите общую информацию. "
   ]
  },
  {
   "cell_type": "markdown",
   "id": "66b3d257",
   "metadata": {},
   "source": [
    "#### 1.1 Импорт необходимых библиотек."
   ]
  },
  {
   "cell_type": "code",
   "execution_count": 2,
   "id": "f3473851",
   "metadata": {},
   "outputs": [],
   "source": [
    "import pandas as pd\n",
    "import matplotlib.pyplot as plt\n",
    "import numpy as np"
   ]
  },
  {
   "cell_type": "markdown",
   "id": "6753cce3",
   "metadata": {},
   "source": [
    "#### 1.2 Открытие файла."
   ]
  },
  {
   "cell_type": "code",
   "execution_count": 3,
   "id": "eb588e04",
   "metadata": {},
   "outputs": [],
   "source": [
    "try:\n",
    "    data = pd.read_csv('/datasets/real_estate_data.csv', sep='\\\\t', engine='python')\n",
    "except:\n",
    "    data = pd.read_csv('https://code.s3.yandex.net/datasets/real_estate_data.csv', sep='\\\\t', engine='python')"
   ]
  },
  {
   "cell_type": "markdown",
   "id": "a62f21b9",
   "metadata": {},
   "source": [
    "#### 1.3 Вывод первых десяти строк таблицы."
   ]
  },
  {
   "cell_type": "code",
   "execution_count": 4,
   "id": "071f7dac",
   "metadata": {},
   "outputs": [
    {
     "data": {
      "text/html": [
       "<div>\n",
       "<style scoped>\n",
       "    .dataframe tbody tr th:only-of-type {\n",
       "        vertical-align: middle;\n",
       "    }\n",
       "\n",
       "    .dataframe tbody tr th {\n",
       "        vertical-align: top;\n",
       "    }\n",
       "\n",
       "    .dataframe thead th {\n",
       "        text-align: right;\n",
       "    }\n",
       "</style>\n",
       "<table border=\"1\" class=\"dataframe\">\n",
       "  <thead>\n",
       "    <tr style=\"text-align: right;\">\n",
       "      <th></th>\n",
       "      <th>total_images</th>\n",
       "      <th>last_price</th>\n",
       "      <th>total_area</th>\n",
       "      <th>first_day_exposition</th>\n",
       "      <th>rooms</th>\n",
       "      <th>ceiling_height</th>\n",
       "      <th>floors_total</th>\n",
       "      <th>living_area</th>\n",
       "      <th>floor</th>\n",
       "      <th>is_apartment</th>\n",
       "      <th>...</th>\n",
       "      <th>kitchen_area</th>\n",
       "      <th>balcony</th>\n",
       "      <th>locality_name</th>\n",
       "      <th>airports_nearest</th>\n",
       "      <th>cityCenters_nearest</th>\n",
       "      <th>parks_around3000</th>\n",
       "      <th>parks_nearest</th>\n",
       "      <th>ponds_around3000</th>\n",
       "      <th>ponds_nearest</th>\n",
       "      <th>days_exposition</th>\n",
       "    </tr>\n",
       "  </thead>\n",
       "  <tbody>\n",
       "    <tr>\n",
       "      <th>0</th>\n",
       "      <td>20</td>\n",
       "      <td>13000000.0</td>\n",
       "      <td>108.00</td>\n",
       "      <td>2019-03-07T00:00:00</td>\n",
       "      <td>3</td>\n",
       "      <td>2.70</td>\n",
       "      <td>16.0</td>\n",
       "      <td>51.00</td>\n",
       "      <td>8</td>\n",
       "      <td>NaN</td>\n",
       "      <td>...</td>\n",
       "      <td>25.00</td>\n",
       "      <td>NaN</td>\n",
       "      <td>Санкт-Петербург</td>\n",
       "      <td>18863.0</td>\n",
       "      <td>16028.0</td>\n",
       "      <td>1.0</td>\n",
       "      <td>482.0</td>\n",
       "      <td>2.0</td>\n",
       "      <td>755.0</td>\n",
       "      <td>NaN</td>\n",
       "    </tr>\n",
       "    <tr>\n",
       "      <th>1</th>\n",
       "      <td>7</td>\n",
       "      <td>3350000.0</td>\n",
       "      <td>40.40</td>\n",
       "      <td>2018-12-04T00:00:00</td>\n",
       "      <td>1</td>\n",
       "      <td>NaN</td>\n",
       "      <td>11.0</td>\n",
       "      <td>18.60</td>\n",
       "      <td>1</td>\n",
       "      <td>NaN</td>\n",
       "      <td>...</td>\n",
       "      <td>11.00</td>\n",
       "      <td>2.0</td>\n",
       "      <td>посёлок Шушары</td>\n",
       "      <td>12817.0</td>\n",
       "      <td>18603.0</td>\n",
       "      <td>0.0</td>\n",
       "      <td>NaN</td>\n",
       "      <td>0.0</td>\n",
       "      <td>NaN</td>\n",
       "      <td>81.0</td>\n",
       "    </tr>\n",
       "    <tr>\n",
       "      <th>2</th>\n",
       "      <td>10</td>\n",
       "      <td>5196000.0</td>\n",
       "      <td>56.00</td>\n",
       "      <td>2015-08-20T00:00:00</td>\n",
       "      <td>2</td>\n",
       "      <td>NaN</td>\n",
       "      <td>5.0</td>\n",
       "      <td>34.30</td>\n",
       "      <td>4</td>\n",
       "      <td>NaN</td>\n",
       "      <td>...</td>\n",
       "      <td>8.30</td>\n",
       "      <td>0.0</td>\n",
       "      <td>Санкт-Петербург</td>\n",
       "      <td>21741.0</td>\n",
       "      <td>13933.0</td>\n",
       "      <td>1.0</td>\n",
       "      <td>90.0</td>\n",
       "      <td>2.0</td>\n",
       "      <td>574.0</td>\n",
       "      <td>558.0</td>\n",
       "    </tr>\n",
       "    <tr>\n",
       "      <th>3</th>\n",
       "      <td>0</td>\n",
       "      <td>64900000.0</td>\n",
       "      <td>159.00</td>\n",
       "      <td>2015-07-24T00:00:00</td>\n",
       "      <td>3</td>\n",
       "      <td>NaN</td>\n",
       "      <td>14.0</td>\n",
       "      <td>NaN</td>\n",
       "      <td>9</td>\n",
       "      <td>NaN</td>\n",
       "      <td>...</td>\n",
       "      <td>NaN</td>\n",
       "      <td>0.0</td>\n",
       "      <td>Санкт-Петербург</td>\n",
       "      <td>28098.0</td>\n",
       "      <td>6800.0</td>\n",
       "      <td>2.0</td>\n",
       "      <td>84.0</td>\n",
       "      <td>3.0</td>\n",
       "      <td>234.0</td>\n",
       "      <td>424.0</td>\n",
       "    </tr>\n",
       "    <tr>\n",
       "      <th>4</th>\n",
       "      <td>2</td>\n",
       "      <td>10000000.0</td>\n",
       "      <td>100.00</td>\n",
       "      <td>2018-06-19T00:00:00</td>\n",
       "      <td>2</td>\n",
       "      <td>3.03</td>\n",
       "      <td>14.0</td>\n",
       "      <td>32.00</td>\n",
       "      <td>13</td>\n",
       "      <td>NaN</td>\n",
       "      <td>...</td>\n",
       "      <td>41.00</td>\n",
       "      <td>NaN</td>\n",
       "      <td>Санкт-Петербург</td>\n",
       "      <td>31856.0</td>\n",
       "      <td>8098.0</td>\n",
       "      <td>2.0</td>\n",
       "      <td>112.0</td>\n",
       "      <td>1.0</td>\n",
       "      <td>48.0</td>\n",
       "      <td>121.0</td>\n",
       "    </tr>\n",
       "    <tr>\n",
       "      <th>5</th>\n",
       "      <td>10</td>\n",
       "      <td>2890000.0</td>\n",
       "      <td>30.40</td>\n",
       "      <td>2018-09-10T00:00:00</td>\n",
       "      <td>1</td>\n",
       "      <td>NaN</td>\n",
       "      <td>12.0</td>\n",
       "      <td>14.40</td>\n",
       "      <td>5</td>\n",
       "      <td>NaN</td>\n",
       "      <td>...</td>\n",
       "      <td>9.10</td>\n",
       "      <td>NaN</td>\n",
       "      <td>городской посёлок Янино-1</td>\n",
       "      <td>NaN</td>\n",
       "      <td>NaN</td>\n",
       "      <td>NaN</td>\n",
       "      <td>NaN</td>\n",
       "      <td>NaN</td>\n",
       "      <td>NaN</td>\n",
       "      <td>55.0</td>\n",
       "    </tr>\n",
       "    <tr>\n",
       "      <th>6</th>\n",
       "      <td>6</td>\n",
       "      <td>3700000.0</td>\n",
       "      <td>37.30</td>\n",
       "      <td>2017-11-02T00:00:00</td>\n",
       "      <td>1</td>\n",
       "      <td>NaN</td>\n",
       "      <td>26.0</td>\n",
       "      <td>10.60</td>\n",
       "      <td>6</td>\n",
       "      <td>NaN</td>\n",
       "      <td>...</td>\n",
       "      <td>14.40</td>\n",
       "      <td>1.0</td>\n",
       "      <td>посёлок Парголово</td>\n",
       "      <td>52996.0</td>\n",
       "      <td>19143.0</td>\n",
       "      <td>0.0</td>\n",
       "      <td>NaN</td>\n",
       "      <td>0.0</td>\n",
       "      <td>NaN</td>\n",
       "      <td>155.0</td>\n",
       "    </tr>\n",
       "    <tr>\n",
       "      <th>7</th>\n",
       "      <td>5</td>\n",
       "      <td>7915000.0</td>\n",
       "      <td>71.60</td>\n",
       "      <td>2019-04-18T00:00:00</td>\n",
       "      <td>2</td>\n",
       "      <td>NaN</td>\n",
       "      <td>24.0</td>\n",
       "      <td>NaN</td>\n",
       "      <td>22</td>\n",
       "      <td>NaN</td>\n",
       "      <td>...</td>\n",
       "      <td>18.90</td>\n",
       "      <td>2.0</td>\n",
       "      <td>Санкт-Петербург</td>\n",
       "      <td>23982.0</td>\n",
       "      <td>11634.0</td>\n",
       "      <td>0.0</td>\n",
       "      <td>NaN</td>\n",
       "      <td>0.0</td>\n",
       "      <td>NaN</td>\n",
       "      <td>NaN</td>\n",
       "    </tr>\n",
       "    <tr>\n",
       "      <th>8</th>\n",
       "      <td>20</td>\n",
       "      <td>2900000.0</td>\n",
       "      <td>33.16</td>\n",
       "      <td>2018-05-23T00:00:00</td>\n",
       "      <td>1</td>\n",
       "      <td>NaN</td>\n",
       "      <td>27.0</td>\n",
       "      <td>15.43</td>\n",
       "      <td>26</td>\n",
       "      <td>NaN</td>\n",
       "      <td>...</td>\n",
       "      <td>8.81</td>\n",
       "      <td>NaN</td>\n",
       "      <td>посёлок Мурино</td>\n",
       "      <td>NaN</td>\n",
       "      <td>NaN</td>\n",
       "      <td>NaN</td>\n",
       "      <td>NaN</td>\n",
       "      <td>NaN</td>\n",
       "      <td>NaN</td>\n",
       "      <td>189.0</td>\n",
       "    </tr>\n",
       "    <tr>\n",
       "      <th>9</th>\n",
       "      <td>18</td>\n",
       "      <td>5400000.0</td>\n",
       "      <td>61.00</td>\n",
       "      <td>2017-02-26T00:00:00</td>\n",
       "      <td>3</td>\n",
       "      <td>2.50</td>\n",
       "      <td>9.0</td>\n",
       "      <td>43.60</td>\n",
       "      <td>7</td>\n",
       "      <td>NaN</td>\n",
       "      <td>...</td>\n",
       "      <td>6.50</td>\n",
       "      <td>2.0</td>\n",
       "      <td>Санкт-Петербург</td>\n",
       "      <td>50898.0</td>\n",
       "      <td>15008.0</td>\n",
       "      <td>0.0</td>\n",
       "      <td>NaN</td>\n",
       "      <td>0.0</td>\n",
       "      <td>NaN</td>\n",
       "      <td>289.0</td>\n",
       "    </tr>\n",
       "  </tbody>\n",
       "</table>\n",
       "<p>10 rows × 22 columns</p>\n",
       "</div>"
      ],
      "text/plain": [
       "   total_images  last_price  total_area first_day_exposition  rooms  \\\n",
       "0            20  13000000.0      108.00  2019-03-07T00:00:00      3   \n",
       "1             7   3350000.0       40.40  2018-12-04T00:00:00      1   \n",
       "2            10   5196000.0       56.00  2015-08-20T00:00:00      2   \n",
       "3             0  64900000.0      159.00  2015-07-24T00:00:00      3   \n",
       "4             2  10000000.0      100.00  2018-06-19T00:00:00      2   \n",
       "5            10   2890000.0       30.40  2018-09-10T00:00:00      1   \n",
       "6             6   3700000.0       37.30  2017-11-02T00:00:00      1   \n",
       "7             5   7915000.0       71.60  2019-04-18T00:00:00      2   \n",
       "8            20   2900000.0       33.16  2018-05-23T00:00:00      1   \n",
       "9            18   5400000.0       61.00  2017-02-26T00:00:00      3   \n",
       "\n",
       "   ceiling_height  floors_total  living_area  floor is_apartment  ...  \\\n",
       "0            2.70          16.0        51.00      8          NaN  ...   \n",
       "1             NaN          11.0        18.60      1          NaN  ...   \n",
       "2             NaN           5.0        34.30      4          NaN  ...   \n",
       "3             NaN          14.0          NaN      9          NaN  ...   \n",
       "4            3.03          14.0        32.00     13          NaN  ...   \n",
       "5             NaN          12.0        14.40      5          NaN  ...   \n",
       "6             NaN          26.0        10.60      6          NaN  ...   \n",
       "7             NaN          24.0          NaN     22          NaN  ...   \n",
       "8             NaN          27.0        15.43     26          NaN  ...   \n",
       "9            2.50           9.0        43.60      7          NaN  ...   \n",
       "\n",
       "   kitchen_area  balcony              locality_name  airports_nearest  \\\n",
       "0         25.00      NaN            Санкт-Петербург           18863.0   \n",
       "1         11.00      2.0             посёлок Шушары           12817.0   \n",
       "2          8.30      0.0            Санкт-Петербург           21741.0   \n",
       "3           NaN      0.0            Санкт-Петербург           28098.0   \n",
       "4         41.00      NaN            Санкт-Петербург           31856.0   \n",
       "5          9.10      NaN  городской посёлок Янино-1               NaN   \n",
       "6         14.40      1.0          посёлок Парголово           52996.0   \n",
       "7         18.90      2.0            Санкт-Петербург           23982.0   \n",
       "8          8.81      NaN             посёлок Мурино               NaN   \n",
       "9          6.50      2.0            Санкт-Петербург           50898.0   \n",
       "\n",
       "  cityCenters_nearest  parks_around3000  parks_nearest  ponds_around3000  \\\n",
       "0             16028.0               1.0          482.0               2.0   \n",
       "1             18603.0               0.0            NaN               0.0   \n",
       "2             13933.0               1.0           90.0               2.0   \n",
       "3              6800.0               2.0           84.0               3.0   \n",
       "4              8098.0               2.0          112.0               1.0   \n",
       "5                 NaN               NaN            NaN               NaN   \n",
       "6             19143.0               0.0            NaN               0.0   \n",
       "7             11634.0               0.0            NaN               0.0   \n",
       "8                 NaN               NaN            NaN               NaN   \n",
       "9             15008.0               0.0            NaN               0.0   \n",
       "\n",
       "   ponds_nearest  days_exposition  \n",
       "0          755.0              NaN  \n",
       "1            NaN             81.0  \n",
       "2          574.0            558.0  \n",
       "3          234.0            424.0  \n",
       "4           48.0            121.0  \n",
       "5            NaN             55.0  \n",
       "6            NaN            155.0  \n",
       "7            NaN              NaN  \n",
       "8            NaN            189.0  \n",
       "9            NaN            289.0  \n",
       "\n",
       "[10 rows x 22 columns]"
      ]
     },
     "execution_count": 4,
     "metadata": {},
     "output_type": "execute_result"
    }
   ],
   "source": [
    "data.head(10)"
   ]
  },
  {
   "cell_type": "markdown",
   "id": "6507a96b",
   "metadata": {},
   "source": [
    "#### 1.4 Вывод основной информации о датафрейме. "
   ]
  },
  {
   "cell_type": "code",
   "execution_count": 5,
   "id": "7a2b1770",
   "metadata": {},
   "outputs": [
    {
     "name": "stdout",
     "output_type": "stream",
     "text": [
      "<class 'pandas.core.frame.DataFrame'>\n",
      "RangeIndex: 23699 entries, 0 to 23698\n",
      "Data columns (total 22 columns):\n",
      " #   Column                Non-Null Count  Dtype  \n",
      "---  ------                --------------  -----  \n",
      " 0   total_images          23699 non-null  int64  \n",
      " 1   last_price            23699 non-null  float64\n",
      " 2   total_area            23699 non-null  float64\n",
      " 3   first_day_exposition  23699 non-null  object \n",
      " 4   rooms                 23699 non-null  int64  \n",
      " 5   ceiling_height        14504 non-null  float64\n",
      " 6   floors_total          23613 non-null  float64\n",
      " 7   living_area           21796 non-null  float64\n",
      " 8   floor                 23699 non-null  int64  \n",
      " 9   is_apartment          2775 non-null   object \n",
      " 10  studio                23699 non-null  bool   \n",
      " 11  open_plan             23699 non-null  bool   \n",
      " 12  kitchen_area          21421 non-null  float64\n",
      " 13  balcony               12180 non-null  float64\n",
      " 14  locality_name         23650 non-null  object \n",
      " 15  airports_nearest      18157 non-null  float64\n",
      " 16  cityCenters_nearest   18180 non-null  float64\n",
      " 17  parks_around3000      18181 non-null  float64\n",
      " 18  parks_nearest         8079 non-null   float64\n",
      " 19  ponds_around3000      18181 non-null  float64\n",
      " 20  ponds_nearest         9110 non-null   float64\n",
      " 21  days_exposition       20518 non-null  float64\n",
      "dtypes: bool(2), float64(14), int64(3), object(3)\n",
      "memory usage: 3.7+ MB\n"
     ]
    }
   ],
   "source": [
    "data.info()"
   ]
  },
  {
   "cell_type": "markdown",
   "id": "707897b2",
   "metadata": {},
   "source": [
    "#### 1.5 Построение гистограмм для всех столбцов датафрейма."
   ]
  },
  {
   "cell_type": "code",
   "execution_count": 6,
   "id": "d48ac2b6",
   "metadata": {},
   "outputs": [
    {
     "data": {
      "image/png": "[encoded data removed]",
      "text/plain": [
       "<Figure size 2000x2000 with 20 Axes>"
      ]
     },
     "metadata": {},
     "output_type": "display_data"
    }
   ],
   "source": [
    "data.hist(figsize=(20,20));"
   ]
  },
  {
   "cell_type": "markdown",
   "id": "320c5845",
   "metadata": {},
   "source": [
    "#### 1.6 Вывод\n",
    "\n",
    "Итак, в таблице двадцать два столбца.\n",
    "\n",
    "Согласно документации к данным:\n",
    "* `airports_nearest` — расстояние до ближайшего аэропорта в метрах (м);\n",
    "* `balcony` — число балконов;  \n",
    "* `ceiling_height` — высота потолков в метрах (м);\n",
    "* `cityCenters_nearest` — расстояние до центра города в метрах (м);\n",
    "* `days_exposition` — сколько дней было размещено объявление (от публикации до снятия);\n",
    "* `first_day_exposition` — дата публикации;\n",
    "* `floor` — этаж;\n",
    "* `floors_total` — всего этажей в доме;\n",
    "* `is_apartment` — апартаменты (булев тип);\n",
    "* `kitchen_area` — площадь кухни в квадратных метрах (м²);\n",
    "* `last_price` — цена на момент снятия с публикации;\n",
    "* `living_area` — жилая площадь в квадратных метрах (м²);\n",
    "* `locality_name` — название населенного пункта;\n",
    "* `open_plan` — свободная планировка (булев тип);\n",
    "* `parks_around3000` — число парков в радиусе 3 км;\n",
    "* `parks_nearest` — расстояние до ближайшего парка (м);\n",
    "* `ponds_around3000` — число водоёмов в радиусе 3 км;\n",
    "* `ponds_nearest` — расстояние до ближайшего водоёма в метрах (м);\n",
    "* `rooms` — число комнат;\n",
    "* `studio` — квартира-студия (булев тип);\n",
    "* `total_area` — общая площадь квартиры в квадратных метрах (м²);\n",
    "* `total_images` — число фотографий квартиры в объявлении.\n",
    "\n",
    "Количество значений в столбцах различается, значит, в данных есть пропущенные значения, а на выводе первых десяти строк таблицы уже заметны неверные типы данных. Данных достаточно для последующего анализа, но сперва необходимо их обработать."
   ]
  },
  {
   "cell_type": "markdown",
   "id": "5802ace9",
   "metadata": {},
   "source": [
    "### 2. Предобработка данных"
   ]
  },
  {
   "cell_type": "markdown",
   "id": "f59e0487",
   "metadata": {},
   "source": [
    "#### 2.1 Обработка пропусков"
   ]
  },
  {
   "cell_type": "code",
   "execution_count": 7,
   "id": "43e784e1",
   "metadata": {},
   "outputs": [
    {
     "data": {
      "text/plain": [
       "total_images                0\n",
       "last_price                  0\n",
       "total_area                  0\n",
       "first_day_exposition        0\n",
       "rooms                       0\n",
       "ceiling_height           9195\n",
       "floors_total               86\n",
       "living_area              1903\n",
       "floor                       0\n",
       "is_apartment            20924\n",
       "studio                      0\n",
       "open_plan                   0\n",
       "kitchen_area             2278\n",
       "balcony                 11519\n",
       "locality_name              49\n",
       "airports_nearest         5542\n",
       "cityCenters_nearest      5519\n",
       "parks_around3000         5518\n",
       "parks_nearest           15620\n",
       "ponds_around3000         5518\n",
       "ponds_nearest           14589\n",
       "days_exposition          3181\n",
       "dtype: int64"
      ]
     },
     "execution_count": 7,
     "metadata": {},
     "output_type": "execute_result"
    }
   ],
   "source": [
    "data.isna().sum() #определение количества пропусков в датафрейме"
   ]
  },
  {
   "cell_type": "markdown",
   "id": "6074205f",
   "metadata": {},
   "source": [
    "Проверим количество пропусков в процентах:"
   ]
  },
  {
   "cell_type": "code",
   "execution_count": 8,
   "id": "f6825d07",
   "metadata": {},
   "outputs": [
    {
     "data": {
      "text/html": [
       "<style type=\"text/css\">\n",
       "#T_2ed86_row0_col0, #T_2ed86_row1_col0, #T_2ed86_row2_col0, #T_2ed86_row3_col0, #T_2ed86_row4_col0, #T_2ed86_row6_col0, #T_2ed86_row8_col0, #T_2ed86_row10_col0, #T_2ed86_row11_col0, #T_2ed86_row14_col0 {\n",
       "  background-color: #3b4cc0;\n",
       "  color: #f1f1f1;\n",
       "}\n",
       "#T_2ed86_row5_col0 {\n",
       "  background-color: #cdd9ec;\n",
       "  color: #000000;\n",
       "}\n",
       "#T_2ed86_row7_col0 {\n",
       "  background-color: #5673e0;\n",
       "  color: #f1f1f1;\n",
       "}\n",
       "#T_2ed86_row9_col0 {\n",
       "  background-color: #b40426;\n",
       "  color: #f1f1f1;\n",
       "}\n",
       "#T_2ed86_row12_col0 {\n",
       "  background-color: #5e7de7;\n",
       "  color: #f1f1f1;\n",
       "}\n",
       "#T_2ed86_row13_col0 {\n",
       "  background-color: #ead4c8;\n",
       "  color: #000000;\n",
       "}\n",
       "#T_2ed86_row15_col0, #T_2ed86_row16_col0, #T_2ed86_row17_col0, #T_2ed86_row19_col0 {\n",
       "  background-color: #90b2fe;\n",
       "  color: #000000;\n",
       "}\n",
       "#T_2ed86_row18_col0 {\n",
       "  background-color: #f4987a;\n",
       "  color: #000000;\n",
       "}\n",
       "#T_2ed86_row20_col0 {\n",
       "  background-color: #f7aa8c;\n",
       "  color: #000000;\n",
       "}\n",
       "#T_2ed86_row21_col0 {\n",
       "  background-color: #688aef;\n",
       "  color: #f1f1f1;\n",
       "}\n",
       "</style>\n",
       "<table id=\"T_2ed86\">\n",
       "  <thead>\n",
       "    <tr>\n",
       "      <th class=\"blank level0\" >&nbsp;</th>\n",
       "      <th id=\"T_2ed86_level0_col0\" class=\"col_heading level0 col0\" >0</th>\n",
       "    </tr>\n",
       "  </thead>\n",
       "  <tbody>\n",
       "    <tr>\n",
       "      <th id=\"T_2ed86_level0_row0\" class=\"row_heading level0 row0\" >total_images</th>\n",
       "      <td id=\"T_2ed86_row0_col0\" class=\"data row0 col0\" >0.000000</td>\n",
       "    </tr>\n",
       "    <tr>\n",
       "      <th id=\"T_2ed86_level0_row1\" class=\"row_heading level0 row1\" >last_price</th>\n",
       "      <td id=\"T_2ed86_row1_col0\" class=\"data row1 col0\" >0.000000</td>\n",
       "    </tr>\n",
       "    <tr>\n",
       "      <th id=\"T_2ed86_level0_row2\" class=\"row_heading level0 row2\" >total_area</th>\n",
       "      <td id=\"T_2ed86_row2_col0\" class=\"data row2 col0\" >0.000000</td>\n",
       "    </tr>\n",
       "    <tr>\n",
       "      <th id=\"T_2ed86_level0_row3\" class=\"row_heading level0 row3\" >first_day_exposition</th>\n",
       "      <td id=\"T_2ed86_row3_col0\" class=\"data row3 col0\" >0.000000</td>\n",
       "    </tr>\n",
       "    <tr>\n",
       "      <th id=\"T_2ed86_level0_row4\" class=\"row_heading level0 row4\" >rooms</th>\n",
       "      <td id=\"T_2ed86_row4_col0\" class=\"data row4 col0\" >0.000000</td>\n",
       "    </tr>\n",
       "    <tr>\n",
       "      <th id=\"T_2ed86_level0_row5\" class=\"row_heading level0 row5\" >ceiling_height</th>\n",
       "      <td id=\"T_2ed86_row5_col0\" class=\"data row5 col0\" >39.000000</td>\n",
       "    </tr>\n",
       "    <tr>\n",
       "      <th id=\"T_2ed86_level0_row6\" class=\"row_heading level0 row6\" >floors_total</th>\n",
       "      <td id=\"T_2ed86_row6_col0\" class=\"data row6 col0\" >0.000000</td>\n",
       "    </tr>\n",
       "    <tr>\n",
       "      <th id=\"T_2ed86_level0_row7\" class=\"row_heading level0 row7\" >living_area</th>\n",
       "      <td id=\"T_2ed86_row7_col0\" class=\"data row7 col0\" >8.000000</td>\n",
       "    </tr>\n",
       "    <tr>\n",
       "      <th id=\"T_2ed86_level0_row8\" class=\"row_heading level0 row8\" >floor</th>\n",
       "      <td id=\"T_2ed86_row8_col0\" class=\"data row8 col0\" >0.000000</td>\n",
       "    </tr>\n",
       "    <tr>\n",
       "      <th id=\"T_2ed86_level0_row9\" class=\"row_heading level0 row9\" >is_apartment</th>\n",
       "      <td id=\"T_2ed86_row9_col0\" class=\"data row9 col0\" >88.000000</td>\n",
       "    </tr>\n",
       "    <tr>\n",
       "      <th id=\"T_2ed86_level0_row10\" class=\"row_heading level0 row10\" >studio</th>\n",
       "      <td id=\"T_2ed86_row10_col0\" class=\"data row10 col0\" >0.000000</td>\n",
       "    </tr>\n",
       "    <tr>\n",
       "      <th id=\"T_2ed86_level0_row11\" class=\"row_heading level0 row11\" >open_plan</th>\n",
       "      <td id=\"T_2ed86_row11_col0\" class=\"data row11 col0\" >0.000000</td>\n",
       "    </tr>\n",
       "    <tr>\n",
       "      <th id=\"T_2ed86_level0_row12\" class=\"row_heading level0 row12\" >kitchen_area</th>\n",
       "      <td id=\"T_2ed86_row12_col0\" class=\"data row12 col0\" >10.000000</td>\n",
       "    </tr>\n",
       "    <tr>\n",
       "      <th id=\"T_2ed86_level0_row13\" class=\"row_heading level0 row13\" >balcony</th>\n",
       "      <td id=\"T_2ed86_row13_col0\" class=\"data row13 col0\" >49.000000</td>\n",
       "    </tr>\n",
       "    <tr>\n",
       "      <th id=\"T_2ed86_level0_row14\" class=\"row_heading level0 row14\" >locality_name</th>\n",
       "      <td id=\"T_2ed86_row14_col0\" class=\"data row14 col0\" >0.000000</td>\n",
       "    </tr>\n",
       "    <tr>\n",
       "      <th id=\"T_2ed86_level0_row15\" class=\"row_heading level0 row15\" >airports_nearest</th>\n",
       "      <td id=\"T_2ed86_row15_col0\" class=\"data row15 col0\" >23.000000</td>\n",
       "    </tr>\n",
       "    <tr>\n",
       "      <th id=\"T_2ed86_level0_row16\" class=\"row_heading level0 row16\" >cityCenters_nearest</th>\n",
       "      <td id=\"T_2ed86_row16_col0\" class=\"data row16 col0\" >23.000000</td>\n",
       "    </tr>\n",
       "    <tr>\n",
       "      <th id=\"T_2ed86_level0_row17\" class=\"row_heading level0 row17\" >parks_around3000</th>\n",
       "      <td id=\"T_2ed86_row17_col0\" class=\"data row17 col0\" >23.000000</td>\n",
       "    </tr>\n",
       "    <tr>\n",
       "      <th id=\"T_2ed86_level0_row18\" class=\"row_heading level0 row18\" >parks_nearest</th>\n",
       "      <td id=\"T_2ed86_row18_col0\" class=\"data row18 col0\" >66.000000</td>\n",
       "    </tr>\n",
       "    <tr>\n",
       "      <th id=\"T_2ed86_level0_row19\" class=\"row_heading level0 row19\" >ponds_around3000</th>\n",
       "      <td id=\"T_2ed86_row19_col0\" class=\"data row19 col0\" >23.000000</td>\n",
       "    </tr>\n",
       "    <tr>\n",
       "      <th id=\"T_2ed86_level0_row20\" class=\"row_heading level0 row20\" >ponds_nearest</th>\n",
       "      <td id=\"T_2ed86_row20_col0\" class=\"data row20 col0\" >62.000000</td>\n",
       "    </tr>\n",
       "    <tr>\n",
       "      <th id=\"T_2ed86_level0_row21\" class=\"row_heading level0 row21\" >days_exposition</th>\n",
       "      <td id=\"T_2ed86_row21_col0\" class=\"data row21 col0\" >13.000000</td>\n",
       "    </tr>\n",
       "  </tbody>\n",
       "</table>\n"
      ],
      "text/plain": [
       "<pandas.io.formats.style.Styler at 0x2577bd68a00>"
      ]
     },
     "execution_count": 8,
     "metadata": {},
     "output_type": "execute_result"
    }
   ],
   "source": [
    "pd.DataFrame(round(data.isna().mean()*100,)).style.background_gradient('coolwarm')"
   ]
  },
  {
   "cell_type": "markdown",
   "id": "26596991",
   "metadata": {},
   "source": [
    "В столбце с количеством балконов (`balcony`) 11519 пропусков. Можно их заменить на 0, так как вероятно, что продавцы не указывали количество балконов ввиду их отсутствия."
   ]
  },
  {
   "cell_type": "code",
   "execution_count": 9,
   "id": "800f6ec2",
   "metadata": {},
   "outputs": [],
   "source": [
    "data['balcony'] = data['balcony'].fillna(0)"
   ]
  },
  {
   "cell_type": "markdown",
   "id": "cd0f8eff",
   "metadata": {},
   "source": [
    "То же и для столбца `is_apartment` — недвижимость не является апартаментами, из-за чего можно предположить, что продавец не стал указывать это совсем."
   ]
  },
  {
   "cell_type": "code",
   "execution_count": 10,
   "id": "430f341e",
   "metadata": {},
   "outputs": [],
   "source": [
    "data['is_apartment'] = data['is_apartment'].fillna(False)"
   ]
  },
  {
   "cell_type": "markdown",
   "id": "cdf00f77",
   "metadata": {},
   "source": [
    "Для столбцов с расстояниями очень много пропусков. Это картографические данные, поэтому самостоятельно рассчитать их невозможно, а если брать среднее значение или медиану, то репрезентативность выборки упадет (особенно в случаях со столбцами `parks_nearest` и `ponds_nearest`, так как в них пропусков больше 60%).\n",
    "\n",
    "В случае со столбцом `airports_nearest` можно еще предположить, что в населенном пункте его нет."
   ]
  },
  {
   "cell_type": "code",
   "execution_count": 11,
   "id": "3c22a07c",
   "metadata": {},
   "outputs": [],
   "source": [
    "data['parks_nearest'] = data['parks_nearest'].fillna(-1)\n",
    "data['ponds_nearest'] = data['ponds_nearest'].fillna(-1)\n",
    "data['airports_nearest'] = data['airports_nearest'].fillna(-1)\n",
    "data['cityCenters_nearest'] = data['cityCenters_nearest'].fillna(-1)"
   ]
  },
  {
   "cell_type": "markdown",
   "id": "d0a49e6e",
   "metadata": {},
   "source": [
    "В столбцах `parks_around3000` и `ponds_around3000` обозначено количество парков и водоемов в радиусе трех километров. Так же как и с `airport_nearest`, вероятно, что парков и водоемов поблизости нет."
   ]
  },
  {
   "cell_type": "code",
   "execution_count": 12,
   "id": "7af1aedf",
   "metadata": {},
   "outputs": [],
   "source": [
    "data['parks_around3000'] = data['parks_around3000'].fillna(0)\n",
    "data['ponds_around3000'] = data['ponds_around3000'].fillna(0)"
   ]
  },
  {
   "cell_type": "markdown",
   "id": "2e8f85a3",
   "metadata": {},
   "source": [
    "В столбце `days_exposition` содержатся данные о количестве дней, в течение которых объявление было размещено от публикации до снятия. Можно предположить, что из-за человеческого фактора столбец недозаполнен."
   ]
  },
  {
   "cell_type": "code",
   "execution_count": 13,
   "id": "3fc527bf",
   "metadata": {},
   "outputs": [],
   "source": [
    "data['days_exposition'] = data['days_exposition'].fillna(-1)"
   ]
  },
  {
   "cell_type": "markdown",
   "id": "0ac69444",
   "metadata": {},
   "source": [
    "Немного пропусков есть в столбце `locality_name` и `floors_total`. Возможности указать правильное название населенного пункта, как и количества этажей в доме, нет, поэтому стоит вписать вместо них \"не указано\" и -1."
   ]
  },
  {
   "cell_type": "code",
   "execution_count": 14,
   "id": "89e4f227",
   "metadata": {},
   "outputs": [],
   "source": [
    "data['locality_name'] = data['locality_name'].fillna('Не указано')"
   ]
  },
  {
   "cell_type": "code",
   "execution_count": 15,
   "id": "86433955",
   "metadata": {},
   "outputs": [],
   "source": [
    "data['floors_total'] = data['floors_total'].fillna(-1) "
   ]
  },
  {
   "cell_type": "markdown",
   "id": "0fdbaa73",
   "metadata": {},
   "source": [
    "Для столбцов `living_area` и `kitchen_area` пропуски можно заполнить с помощью cтолбца `total_area`. Посчитаем отношение жилой площади ко всей площади и отношение площади кухни ко всей площади для каждого объявления.  "
   ]
  },
  {
   "cell_type": "code",
   "execution_count": 16,
   "id": "9895c8e1",
   "metadata": {},
   "outputs": [],
   "source": [
    "data['conversion_living'] = data['living_area'] / data['total_area']\n",
    "data['conversion_kitchen'] = data['kitchen_area'] / data['total_area']"
   ]
  },
  {
   "cell_type": "markdown",
   "id": "6108c349",
   "metadata": {},
   "source": [
    "Затем для объявлений с определенным количеством комнат заполним пропуски произведением медианы конверсий на общую площадь квартиры каждого объявления."
   ]
  },
  {
   "cell_type": "code",
   "execution_count": 17,
   "id": "28ef02fb",
   "metadata": {},
   "outputs": [],
   "source": [
    "for room in data['rooms'].unique():\n",
    "    data.loc[(data['rooms'] == room) & (data['living_area'].isna()), 'living_area'] = \\\n",
    "    data.loc[(data['rooms'] == room), 'conversion_living'].median() * \\\n",
    "    data.loc[(data['rooms'] == room) & (data['living_area'].isna()), 'total_area']\n",
    "    \n",
    "    data.loc[(data['rooms'] == room) & (data['kitchen_area'].isna()), 'kitchen_area'] = \\\n",
    "    data.loc[(data['rooms'] == room), 'conversion_kitchen'].median() * \\\n",
    "    data.loc[(data['rooms'] == room) & (data['kitchen_area'].isna()), 'total_area']"
   ]
  },
  {
   "cell_type": "markdown",
   "id": "f2163e46",
   "metadata": {},
   "source": [
    "В столбце `kitchen_area` еще остались пропуски. Но заметим одну интересную особенность:"
   ]
  },
  {
   "cell_type": "code",
   "execution_count": 18,
   "id": "3459610c",
   "metadata": {},
   "outputs": [
    {
     "data": {
      "text/html": [
       "<div>\n",
       "<style scoped>\n",
       "    .dataframe tbody tr th:only-of-type {\n",
       "        vertical-align: middle;\n",
       "    }\n",
       "\n",
       "    .dataframe tbody tr th {\n",
       "        vertical-align: top;\n",
       "    }\n",
       "\n",
       "    .dataframe thead th {\n",
       "        text-align: right;\n",
       "    }\n",
       "</style>\n",
       "<table border=\"1\" class=\"dataframe\">\n",
       "  <thead>\n",
       "    <tr style=\"text-align: right;\">\n",
       "      <th></th>\n",
       "      <th>total_images</th>\n",
       "      <th>last_price</th>\n",
       "      <th>total_area</th>\n",
       "      <th>first_day_exposition</th>\n",
       "      <th>rooms</th>\n",
       "      <th>ceiling_height</th>\n",
       "      <th>floors_total</th>\n",
       "      <th>living_area</th>\n",
       "      <th>floor</th>\n",
       "      <th>is_apartment</th>\n",
       "      <th>...</th>\n",
       "      <th>locality_name</th>\n",
       "      <th>airports_nearest</th>\n",
       "      <th>cityCenters_nearest</th>\n",
       "      <th>parks_around3000</th>\n",
       "      <th>parks_nearest</th>\n",
       "      <th>ponds_around3000</th>\n",
       "      <th>ponds_nearest</th>\n",
       "      <th>days_exposition</th>\n",
       "      <th>conversion_living</th>\n",
       "      <th>conversion_kitchen</th>\n",
       "    </tr>\n",
       "  </thead>\n",
       "  <tbody>\n",
       "    <tr>\n",
       "      <th>144</th>\n",
       "      <td>1</td>\n",
       "      <td>2450000.0</td>\n",
       "      <td>27.00</td>\n",
       "      <td>2017-03-30T00:00:00</td>\n",
       "      <td>0</td>\n",
       "      <td>NaN</td>\n",
       "      <td>24.0</td>\n",
       "      <td>15.500000</td>\n",
       "      <td>2</td>\n",
       "      <td>False</td>\n",
       "      <td>...</td>\n",
       "      <td>посёлок Мурино</td>\n",
       "      <td>-1.0</td>\n",
       "      <td>-1.0</td>\n",
       "      <td>0.0</td>\n",
       "      <td>-1.0</td>\n",
       "      <td>0.0</td>\n",
       "      <td>-1.0</td>\n",
       "      <td>181.0</td>\n",
       "      <td>0.574074</td>\n",
       "      <td>NaN</td>\n",
       "    </tr>\n",
       "    <tr>\n",
       "      <th>349</th>\n",
       "      <td>4</td>\n",
       "      <td>2320000.0</td>\n",
       "      <td>25.00</td>\n",
       "      <td>2017-09-27T00:00:00</td>\n",
       "      <td>0</td>\n",
       "      <td>NaN</td>\n",
       "      <td>14.0</td>\n",
       "      <td>17.000000</td>\n",
       "      <td>1</td>\n",
       "      <td>False</td>\n",
       "      <td>...</td>\n",
       "      <td>деревня Кудрово</td>\n",
       "      <td>-1.0</td>\n",
       "      <td>-1.0</td>\n",
       "      <td>0.0</td>\n",
       "      <td>-1.0</td>\n",
       "      <td>0.0</td>\n",
       "      <td>-1.0</td>\n",
       "      <td>45.0</td>\n",
       "      <td>0.680000</td>\n",
       "      <td>NaN</td>\n",
       "    </tr>\n",
       "    <tr>\n",
       "      <th>440</th>\n",
       "      <td>8</td>\n",
       "      <td>2480000.0</td>\n",
       "      <td>27.11</td>\n",
       "      <td>2018-03-12T00:00:00</td>\n",
       "      <td>0</td>\n",
       "      <td>NaN</td>\n",
       "      <td>17.0</td>\n",
       "      <td>24.750000</td>\n",
       "      <td>4</td>\n",
       "      <td>False</td>\n",
       "      <td>...</td>\n",
       "      <td>Санкт-Петербург</td>\n",
       "      <td>38171.0</td>\n",
       "      <td>15015.0</td>\n",
       "      <td>0.0</td>\n",
       "      <td>-1.0</td>\n",
       "      <td>2.0</td>\n",
       "      <td>982.0</td>\n",
       "      <td>64.0</td>\n",
       "      <td>0.912947</td>\n",
       "      <td>NaN</td>\n",
       "    </tr>\n",
       "    <tr>\n",
       "      <th>508</th>\n",
       "      <td>0</td>\n",
       "      <td>3375000.0</td>\n",
       "      <td>34.40</td>\n",
       "      <td>2017-03-28T00:00:00</td>\n",
       "      <td>0</td>\n",
       "      <td>NaN</td>\n",
       "      <td>26.0</td>\n",
       "      <td>24.300000</td>\n",
       "      <td>19</td>\n",
       "      <td>False</td>\n",
       "      <td>...</td>\n",
       "      <td>посёлок Парголово</td>\n",
       "      <td>53115.0</td>\n",
       "      <td>19292.0</td>\n",
       "      <td>0.0</td>\n",
       "      <td>-1.0</td>\n",
       "      <td>1.0</td>\n",
       "      <td>593.0</td>\n",
       "      <td>430.0</td>\n",
       "      <td>0.706395</td>\n",
       "      <td>NaN</td>\n",
       "    </tr>\n",
       "    <tr>\n",
       "      <th>608</th>\n",
       "      <td>2</td>\n",
       "      <td>1850000.0</td>\n",
       "      <td>25.00</td>\n",
       "      <td>2019-02-20T00:00:00</td>\n",
       "      <td>0</td>\n",
       "      <td>NaN</td>\n",
       "      <td>10.0</td>\n",
       "      <td>17.241379</td>\n",
       "      <td>7</td>\n",
       "      <td>False</td>\n",
       "      <td>...</td>\n",
       "      <td>посёлок Шушары</td>\n",
       "      <td>-1.0</td>\n",
       "      <td>-1.0</td>\n",
       "      <td>0.0</td>\n",
       "      <td>-1.0</td>\n",
       "      <td>0.0</td>\n",
       "      <td>-1.0</td>\n",
       "      <td>29.0</td>\n",
       "      <td>NaN</td>\n",
       "      <td>NaN</td>\n",
       "    </tr>\n",
       "    <tr>\n",
       "      <th>...</th>\n",
       "      <td>...</td>\n",
       "      <td>...</td>\n",
       "      <td>...</td>\n",
       "      <td>...</td>\n",
       "      <td>...</td>\n",
       "      <td>...</td>\n",
       "      <td>...</td>\n",
       "      <td>...</td>\n",
       "      <td>...</td>\n",
       "      <td>...</td>\n",
       "      <td>...</td>\n",
       "      <td>...</td>\n",
       "      <td>...</td>\n",
       "      <td>...</td>\n",
       "      <td>...</td>\n",
       "      <td>...</td>\n",
       "      <td>...</td>\n",
       "      <td>...</td>\n",
       "      <td>...</td>\n",
       "      <td>...</td>\n",
       "      <td>...</td>\n",
       "    </tr>\n",
       "    <tr>\n",
       "      <th>23210</th>\n",
       "      <td>7</td>\n",
       "      <td>3200000.0</td>\n",
       "      <td>26.00</td>\n",
       "      <td>2017-09-01T00:00:00</td>\n",
       "      <td>0</td>\n",
       "      <td>NaN</td>\n",
       "      <td>25.0</td>\n",
       "      <td>18.000000</td>\n",
       "      <td>16</td>\n",
       "      <td>False</td>\n",
       "      <td>...</td>\n",
       "      <td>Санкт-Петербург</td>\n",
       "      <td>11405.0</td>\n",
       "      <td>13222.0</td>\n",
       "      <td>0.0</td>\n",
       "      <td>-1.0</td>\n",
       "      <td>1.0</td>\n",
       "      <td>623.0</td>\n",
       "      <td>14.0</td>\n",
       "      <td>0.692308</td>\n",
       "      <td>NaN</td>\n",
       "    </tr>\n",
       "    <tr>\n",
       "      <th>23442</th>\n",
       "      <td>0</td>\n",
       "      <td>2500000.0</td>\n",
       "      <td>27.70</td>\n",
       "      <td>2017-09-28T00:00:00</td>\n",
       "      <td>0</td>\n",
       "      <td>NaN</td>\n",
       "      <td>24.0</td>\n",
       "      <td>18.000000</td>\n",
       "      <td>4</td>\n",
       "      <td>False</td>\n",
       "      <td>...</td>\n",
       "      <td>посёлок Мурино</td>\n",
       "      <td>-1.0</td>\n",
       "      <td>-1.0</td>\n",
       "      <td>0.0</td>\n",
       "      <td>-1.0</td>\n",
       "      <td>0.0</td>\n",
       "      <td>-1.0</td>\n",
       "      <td>4.0</td>\n",
       "      <td>0.649819</td>\n",
       "      <td>NaN</td>\n",
       "    </tr>\n",
       "    <tr>\n",
       "      <th>23554</th>\n",
       "      <td>15</td>\n",
       "      <td>3350000.0</td>\n",
       "      <td>26.00</td>\n",
       "      <td>2018-09-07T00:00:00</td>\n",
       "      <td>0</td>\n",
       "      <td>NaN</td>\n",
       "      <td>19.0</td>\n",
       "      <td>17.931034</td>\n",
       "      <td>8</td>\n",
       "      <td>False</td>\n",
       "      <td>...</td>\n",
       "      <td>Санкт-Петербург</td>\n",
       "      <td>18090.0</td>\n",
       "      <td>17092.0</td>\n",
       "      <td>0.0</td>\n",
       "      <td>-1.0</td>\n",
       "      <td>2.0</td>\n",
       "      <td>112.0</td>\n",
       "      <td>31.0</td>\n",
       "      <td>NaN</td>\n",
       "      <td>NaN</td>\n",
       "    </tr>\n",
       "    <tr>\n",
       "      <th>23592</th>\n",
       "      <td>10</td>\n",
       "      <td>1450000.0</td>\n",
       "      <td>29.00</td>\n",
       "      <td>2017-11-11T00:00:00</td>\n",
       "      <td>0</td>\n",
       "      <td>NaN</td>\n",
       "      <td>9.0</td>\n",
       "      <td>18.000000</td>\n",
       "      <td>8</td>\n",
       "      <td>False</td>\n",
       "      <td>...</td>\n",
       "      <td>Никольское</td>\n",
       "      <td>-1.0</td>\n",
       "      <td>-1.0</td>\n",
       "      <td>0.0</td>\n",
       "      <td>-1.0</td>\n",
       "      <td>0.0</td>\n",
       "      <td>-1.0</td>\n",
       "      <td>82.0</td>\n",
       "      <td>0.620690</td>\n",
       "      <td>NaN</td>\n",
       "    </tr>\n",
       "    <tr>\n",
       "      <th>23637</th>\n",
       "      <td>8</td>\n",
       "      <td>2350000.0</td>\n",
       "      <td>26.00</td>\n",
       "      <td>2018-06-26T00:00:00</td>\n",
       "      <td>0</td>\n",
       "      <td>NaN</td>\n",
       "      <td>25.0</td>\n",
       "      <td>17.000000</td>\n",
       "      <td>4</td>\n",
       "      <td>False</td>\n",
       "      <td>...</td>\n",
       "      <td>посёлок Бугры</td>\n",
       "      <td>-1.0</td>\n",
       "      <td>-1.0</td>\n",
       "      <td>0.0</td>\n",
       "      <td>-1.0</td>\n",
       "      <td>0.0</td>\n",
       "      <td>-1.0</td>\n",
       "      <td>207.0</td>\n",
       "      <td>0.653846</td>\n",
       "      <td>NaN</td>\n",
       "    </tr>\n",
       "  </tbody>\n",
       "</table>\n",
       "<p>197 rows × 24 columns</p>\n",
       "</div>"
      ],
      "text/plain": [
       "       total_images  last_price  total_area first_day_exposition  rooms  \\\n",
       "144               1   2450000.0       27.00  2017-03-30T00:00:00      0   \n",
       "349               4   2320000.0       25.00  2017-09-27T00:00:00      0   \n",
       "440               8   2480000.0       27.11  2018-03-12T00:00:00      0   \n",
       "508               0   3375000.0       34.40  2017-03-28T00:00:00      0   \n",
       "608               2   1850000.0       25.00  2019-02-20T00:00:00      0   \n",
       "...             ...         ...         ...                  ...    ...   \n",
       "23210             7   3200000.0       26.00  2017-09-01T00:00:00      0   \n",
       "23442             0   2500000.0       27.70  2017-09-28T00:00:00      0   \n",
       "23554            15   3350000.0       26.00  2018-09-07T00:00:00      0   \n",
       "23592            10   1450000.0       29.00  2017-11-11T00:00:00      0   \n",
       "23637             8   2350000.0       26.00  2018-06-26T00:00:00      0   \n",
       "\n",
       "       ceiling_height  floors_total  living_area  floor  is_apartment  ...  \\\n",
       "144               NaN          24.0    15.500000      2         False  ...   \n",
       "349               NaN          14.0    17.000000      1         False  ...   \n",
       "440               NaN          17.0    24.750000      4         False  ...   \n",
       "508               NaN          26.0    24.300000     19         False  ...   \n",
       "608               NaN          10.0    17.241379      7         False  ...   \n",
       "...               ...           ...          ...    ...           ...  ...   \n",
       "23210             NaN          25.0    18.000000     16         False  ...   \n",
       "23442             NaN          24.0    18.000000      4         False  ...   \n",
       "23554             NaN          19.0    17.931034      8         False  ...   \n",
       "23592             NaN           9.0    18.000000      8         False  ...   \n",
       "23637             NaN          25.0    17.000000      4         False  ...   \n",
       "\n",
       "           locality_name  airports_nearest  cityCenters_nearest  \\\n",
       "144       посёлок Мурино              -1.0                 -1.0   \n",
       "349      деревня Кудрово              -1.0                 -1.0   \n",
       "440      Санкт-Петербург           38171.0              15015.0   \n",
       "508    посёлок Парголово           53115.0              19292.0   \n",
       "608       посёлок Шушары              -1.0                 -1.0   \n",
       "...                  ...               ...                  ...   \n",
       "23210    Санкт-Петербург           11405.0              13222.0   \n",
       "23442     посёлок Мурино              -1.0                 -1.0   \n",
       "23554    Санкт-Петербург           18090.0              17092.0   \n",
       "23592         Никольское              -1.0                 -1.0   \n",
       "23637      посёлок Бугры              -1.0                 -1.0   \n",
       "\n",
       "       parks_around3000 parks_nearest  ponds_around3000  ponds_nearest  \\\n",
       "144                 0.0          -1.0               0.0           -1.0   \n",
       "349                 0.0          -1.0               0.0           -1.0   \n",
       "440                 0.0          -1.0               2.0          982.0   \n",
       "508                 0.0          -1.0               1.0          593.0   \n",
       "608                 0.0          -1.0               0.0           -1.0   \n",
       "...                 ...           ...               ...            ...   \n",
       "23210               0.0          -1.0               1.0          623.0   \n",
       "23442               0.0          -1.0               0.0           -1.0   \n",
       "23554               0.0          -1.0               2.0          112.0   \n",
       "23592               0.0          -1.0               0.0           -1.0   \n",
       "23637               0.0          -1.0               0.0           -1.0   \n",
       "\n",
       "       days_exposition  conversion_living  conversion_kitchen  \n",
       "144              181.0           0.574074                 NaN  \n",
       "349               45.0           0.680000                 NaN  \n",
       "440               64.0           0.912947                 NaN  \n",
       "508              430.0           0.706395                 NaN  \n",
       "608               29.0                NaN                 NaN  \n",
       "...                ...                ...                 ...  \n",
       "23210             14.0           0.692308                 NaN  \n",
       "23442              4.0           0.649819                 NaN  \n",
       "23554             31.0                NaN                 NaN  \n",
       "23592             82.0           0.620690                 NaN  \n",
       "23637            207.0           0.653846                 NaN  \n",
       "\n",
       "[197 rows x 24 columns]"
      ]
     },
     "execution_count": 18,
     "metadata": {},
     "output_type": "execute_result"
    }
   ],
   "source": [
    "data[(data['rooms'] == 0) & (data['kitchen_area'].isna())]"
   ]
  },
  {
   "cell_type": "code",
   "execution_count": 19,
   "id": "b7a72d30",
   "metadata": {},
   "outputs": [
    {
     "data": {
      "text/plain": [
       "197"
      ]
     },
     "execution_count": 19,
     "metadata": {},
     "output_type": "execute_result"
    }
   ],
   "source": [
    "data['kitchen_area'].isna().sum()"
   ]
  },
  {
   "cell_type": "markdown",
   "id": "12aa7f18",
   "metadata": {},
   "source": [
    "Количество пропусков в `kitchen_area` совпадает с количеством строк в датафрейме, в котором нет комнат, так что в таких объявлениях скорее всего площадь кухни включена в жилую площадь. Значит, оставшиеся пропуски можно заполнить нулями."
   ]
  },
  {
   "cell_type": "code",
   "execution_count": 20,
   "id": "d85a9abf",
   "metadata": {},
   "outputs": [],
   "source": [
    "data['kitchen_area'] = data['kitchen_area'].fillna(0)"
   ]
  },
  {
   "cell_type": "markdown",
   "id": "4b578c10",
   "metadata": {},
   "source": [
    "Столбец с высотой потолков `ceiling_height` имеет 9195 пропусков. Это не картографические данные, следовательно, возникли пропуски из-за человеческого фактора, но заполнить их корректно нет возможности, поэтому заполним их -1."
   ]
  },
  {
   "cell_type": "code",
   "execution_count": 21,
   "id": "fce567ec",
   "metadata": {},
   "outputs": [],
   "source": [
    "data['ceiling_height'] = data['ceiling_height'].fillna(-1)"
   ]
  },
  {
   "cell_type": "code",
   "execution_count": 22,
   "id": "b139259f",
   "metadata": {},
   "outputs": [
    {
     "data": {
      "text/plain": [
       "total_images               0\n",
       "last_price                 0\n",
       "total_area                 0\n",
       "first_day_exposition       0\n",
       "rooms                      0\n",
       "ceiling_height             0\n",
       "floors_total               0\n",
       "living_area                0\n",
       "floor                      0\n",
       "is_apartment               0\n",
       "studio                     0\n",
       "open_plan                  0\n",
       "kitchen_area               0\n",
       "balcony                    0\n",
       "locality_name              0\n",
       "airports_nearest           0\n",
       "cityCenters_nearest        0\n",
       "parks_around3000           0\n",
       "parks_nearest              0\n",
       "ponds_around3000           0\n",
       "ponds_nearest              0\n",
       "days_exposition            0\n",
       "conversion_living       1903\n",
       "conversion_kitchen      2278\n",
       "dtype: int64"
      ]
     },
     "execution_count": 22,
     "metadata": {},
     "output_type": "execute_result"
    }
   ],
   "source": [
    "data.isna().sum()"
   ]
  },
  {
   "cell_type": "markdown",
   "id": "487b43c8",
   "metadata": {},
   "source": [
    "#### 2.2 Изменение типов данных"
   ]
  },
  {
   "cell_type": "code",
   "execution_count": 23,
   "id": "64a583f1",
   "metadata": {},
   "outputs": [
    {
     "name": "stdout",
     "output_type": "stream",
     "text": [
      "<class 'pandas.core.frame.DataFrame'>\n",
      "RangeIndex: 23699 entries, 0 to 23698\n",
      "Data columns (total 24 columns):\n",
      " #   Column                Non-Null Count  Dtype  \n",
      "---  ------                --------------  -----  \n",
      " 0   total_images          23699 non-null  int64  \n",
      " 1   last_price            23699 non-null  float64\n",
      " 2   total_area            23699 non-null  float64\n",
      " 3   first_day_exposition  23699 non-null  object \n",
      " 4   rooms                 23699 non-null  int64  \n",
      " 5   ceiling_height        23699 non-null  float64\n",
      " 6   floors_total          23699 non-null  float64\n",
      " 7   living_area           23699 non-null  float64\n",
      " 8   floor                 23699 non-null  int64  \n",
      " 9   is_apartment          23699 non-null  bool   \n",
      " 10  studio                23699 non-null  bool   \n",
      " 11  open_plan             23699 non-null  bool   \n",
      " 12  kitchen_area          23699 non-null  float64\n",
      " 13  balcony               23699 non-null  float64\n",
      " 14  locality_name         23699 non-null  object \n",
      " 15  airports_nearest      23699 non-null  float64\n",
      " 16  cityCenters_nearest   23699 non-null  float64\n",
      " 17  parks_around3000      23699 non-null  float64\n",
      " 18  parks_nearest         23699 non-null  float64\n",
      " 19  ponds_around3000      23699 non-null  float64\n",
      " 20  ponds_nearest         23699 non-null  float64\n",
      " 21  days_exposition       23699 non-null  float64\n",
      " 22  conversion_living     21796 non-null  float64\n",
      " 23  conversion_kitchen    21421 non-null  float64\n",
      "dtypes: bool(3), float64(16), int64(3), object(2)\n",
      "memory usage: 3.9+ MB\n"
     ]
    }
   ],
   "source": [
    "data.info()"
   ]
  },
  {
   "cell_type": "markdown",
   "id": "ab8c1b3b",
   "metadata": {},
   "source": [
    "Уже в выводе первых десяти строк датафрейма был замечен тип object вместо datetime в столбце `first_day_exposition`. Исправим это с помощью метода `to_datetime`."
   ]
  },
  {
   "cell_type": "code",
   "execution_count": 24,
   "id": "5e95a1e1",
   "metadata": {},
   "outputs": [],
   "source": [
    "data['first_day_exposition'] = pd.to_datetime(\n",
    "    data['first_day_exposition'], format='%Y-%m-%dT%H:%M:%S'\n",
    ")"
   ]
  },
  {
   "cell_type": "markdown",
   "id": "e1ed0a81",
   "metadata": {},
   "source": [
    "В столбцах `ponds_around3000`, `parks_around3000`, `balcony`, `days_exposition` и `floors_total` содержатся соответственно количества водоемов, парков, балконов, дней размещения объявления и этажей в доме. Они не могут быть вещественными числами, поэтому меняем их тип на int."
   ]
  },
  {
   "cell_type": "code",
   "execution_count": 25,
   "id": "c3713881",
   "metadata": {},
   "outputs": [],
   "source": [
    "data['ponds_around3000'] = data['ponds_around3000'].astype('int')\n",
    "data['parks_around3000'] = data['parks_around3000'].astype('int')\n",
    "data['balcony'] = data['balcony'].astype('int')\n",
    "data['days_exposition'] = data['days_exposition'].astype('int')\n",
    "data['floors_total'] = data['floors_total'].astype('int')"
   ]
  },
  {
   "cell_type": "code",
   "execution_count": 26,
   "id": "f615ddab",
   "metadata": {},
   "outputs": [],
   "source": [
    "data['last_price'] = data['last_price'].astype('int')"
   ]
  },
  {
   "cell_type": "code",
   "execution_count": 27,
   "id": "b624d12f",
   "metadata": {},
   "outputs": [
    {
     "name": "stdout",
     "output_type": "stream",
     "text": [
      "<class 'pandas.core.frame.DataFrame'>\n",
      "RangeIndex: 23699 entries, 0 to 23698\n",
      "Data columns (total 24 columns):\n",
      " #   Column                Non-Null Count  Dtype         \n",
      "---  ------                --------------  -----         \n",
      " 0   total_images          23699 non-null  int64         \n",
      " 1   last_price            23699 non-null  int32         \n",
      " 2   total_area            23699 non-null  float64       \n",
      " 3   first_day_exposition  23699 non-null  datetime64[ns]\n",
      " 4   rooms                 23699 non-null  int64         \n",
      " 5   ceiling_height        23699 non-null  float64       \n",
      " 6   floors_total          23699 non-null  int32         \n",
      " 7   living_area           23699 non-null  float64       \n",
      " 8   floor                 23699 non-null  int64         \n",
      " 9   is_apartment          23699 non-null  bool          \n",
      " 10  studio                23699 non-null  bool          \n",
      " 11  open_plan             23699 non-null  bool          \n",
      " 12  kitchen_area          23699 non-null  float64       \n",
      " 13  balcony               23699 non-null  int32         \n",
      " 14  locality_name         23699 non-null  object        \n",
      " 15  airports_nearest      23699 non-null  float64       \n",
      " 16  cityCenters_nearest   23699 non-null  float64       \n",
      " 17  parks_around3000      23699 non-null  int32         \n",
      " 18  parks_nearest         23699 non-null  float64       \n",
      " 19  ponds_around3000      23699 non-null  int32         \n",
      " 20  ponds_nearest         23699 non-null  float64       \n",
      " 21  days_exposition       23699 non-null  int32         \n",
      " 22  conversion_living     21796 non-null  float64       \n",
      " 23  conversion_kitchen    21421 non-null  float64       \n",
      "dtypes: bool(3), datetime64[ns](1), float64(10), int32(6), int64(3), object(1)\n",
      "memory usage: 3.3+ MB\n"
     ]
    }
   ],
   "source": [
    "data.info()"
   ]
  },
  {
   "cell_type": "markdown",
   "id": "c819e5d2",
   "metadata": {},
   "source": [
    "#### 2.3 Обработка дубликатов"
   ]
  },
  {
   "cell_type": "markdown",
   "id": "6e3f27d0",
   "metadata": {},
   "source": [
    "Часто неявные дубликаты встречаются в строках, в данном датафрейме такой столбец `locality_name`. Выведем его уникальные отсортированные значения."
   ]
  },
  {
   "cell_type": "code",
   "execution_count": 28,
   "id": "dff869bb",
   "metadata": {},
   "outputs": [
    {
     "data": {
      "text/plain": [
       "array(['Бокситогорск', 'Волосово', 'Волхов', 'Всеволожск', 'Выборг',\n",
       "       'Высоцк', 'Гатчина', 'Зеленогорск', 'Ивангород', 'Каменногорск',\n",
       "       'Кингисепп', 'Кириши', 'Кировск', 'Колпино', 'Коммунар',\n",
       "       'Красное Село', 'Кронштадт', 'Кудрово', 'Лодейное Поле',\n",
       "       'Ломоносов', 'Луга', 'Любань', 'Мурино', 'Не указано',\n",
       "       'Никольское', 'Новая Ладога', 'Отрадное', 'Павловск', 'Петергоф',\n",
       "       'Пикалёво', 'Подпорожье', 'Приморск', 'Приозерск', 'Пушкин',\n",
       "       'Санкт-Петербург', 'Светогорск', 'Сертолово', 'Сестрорецк',\n",
       "       'Сланцы', 'Сосновый Бор', 'Сясьстрой', 'Тихвин', 'Тосно',\n",
       "       'Шлиссельбург', 'городской поселок Большая Ижора',\n",
       "       'городской поселок Янино-1', 'городской посёлок Будогощь',\n",
       "       'городской посёлок Виллози', 'городской посёлок Лесогорский',\n",
       "       'городской посёлок Мга', 'городской посёлок Назия',\n",
       "       'городской посёлок Новоселье', 'городской посёлок Павлово',\n",
       "       'городской посёлок Рощино', 'городской посёлок Свирьстрой',\n",
       "       'городской посёлок Советский', 'городской посёлок Фёдоровское',\n",
       "       'городской посёлок Янино-1', 'деревня Агалатово', 'деревня Аро',\n",
       "       'деревня Батово', 'деревня Бегуницы', 'деревня Белогорка',\n",
       "       'деревня Большая Вруда', 'деревня Большая Пустомержа',\n",
       "       'деревня Большие Колпаны', 'деревня Большое Рейзино',\n",
       "       'деревня Большой Сабск', 'деревня Бор', 'деревня Борисова Грива',\n",
       "       'деревня Ваганово', 'деревня Вартемяги', 'деревня Вахнова Кара',\n",
       "       'деревня Выскатка', 'деревня Гарболово', 'деревня Глинка',\n",
       "       'деревня Горбунки', 'деревня Гостилицы', 'деревня Заклинье',\n",
       "       'деревня Заневка', 'деревня Зимитицы', 'деревня Извара',\n",
       "       'деревня Иссад', 'деревня Калитино', 'деревня Кальтино',\n",
       "       'деревня Камышовка', 'деревня Каськово', 'деревня Келози',\n",
       "       'деревня Кипень', 'деревня Кисельня', 'деревня Колтуши',\n",
       "       'деревня Коркино', 'деревня Котлы', 'деревня Кривко',\n",
       "       'деревня Кудрово', 'деревня Кузьмолово', 'деревня Курковицы',\n",
       "       'деревня Куровицы', 'деревня Куттузи', 'деревня Лаврики',\n",
       "       'деревня Лаголово', 'деревня Лампово', 'деревня Лесколово',\n",
       "       'деревня Лопухинка', 'деревня Лупполово',\n",
       "       'деревня Малая Романовка', 'деревня Малое Верево',\n",
       "       'деревня Малое Карлино', 'деревня Малые Колпаны',\n",
       "       'деревня Мануйлово', 'деревня Меньково', 'деревня Мины',\n",
       "       'деревня Мистолово', 'деревня Ненимяки', 'деревня Нижние Осельки',\n",
       "       'деревня Нижняя', 'деревня Низино', 'деревня Новое Девяткино',\n",
       "       'деревня Новолисино', 'деревня Нурма', 'деревня Оржицы',\n",
       "       'деревня Парицы', 'деревня Пельгора', 'деревня Пеники',\n",
       "       'деревня Пижма', 'деревня Пикколово', 'деревня Пудомяги',\n",
       "       'деревня Пустынка', 'деревня Пчева', 'деревня Рабитицы',\n",
       "       'деревня Разбегаево', 'деревня Раздолье', 'деревня Разметелево',\n",
       "       'деревня Рапполово', 'деревня Реброво', 'деревня Русско',\n",
       "       'деревня Сижно', 'деревня Снегирёвка', 'деревня Старая',\n",
       "       'деревня Старая Пустошь', 'деревня Старое Хинколово',\n",
       "       'деревня Старополье', 'деревня Старосиверская',\n",
       "       'деревня Старые Бегуницы', 'деревня Суоранда',\n",
       "       'деревня Сяськелево', 'деревня Тарасово', 'деревня Терпилицы',\n",
       "       'деревня Тихковицы', 'деревня Тойворово', 'деревня Торосово',\n",
       "       'деревня Торошковичи', 'деревня Трубников Бор',\n",
       "       'деревня Фалилеево', 'деревня Фёдоровское', 'деревня Хапо-Ое',\n",
       "       'деревня Хязельки', 'деревня Чудской Бор', 'деревня Шпаньково',\n",
       "       'деревня Щеглово', 'деревня Юкки', 'деревня Ялгино',\n",
       "       'деревня Яльгелево', 'деревня Ям-Тесово',\n",
       "       'коттеджный поселок Кивеннапа Север', 'коттеджный поселок Счастье',\n",
       "       'коттеджный посёлок Лесное', 'поселок Аннино', 'поселок Барышево',\n",
       "       'поселок Бугры', 'поселок Возрождение', 'поселок Войсковицы',\n",
       "       'поселок Володарское', 'поселок Гаврилово', 'поселок Гарболово',\n",
       "       'поселок Гладкое', 'поселок Глажево', 'поселок Глебычево',\n",
       "       'поселок Гончарово', 'поселок Громово', 'поселок Дружноселье',\n",
       "       'поселок Елизаветино', 'поселок Жилгородок', 'поселок Жилпосёлок',\n",
       "       'поселок Житково', 'поселок Заводской', 'поселок Запорожское',\n",
       "       'поселок Зимитицы', 'поселок Ильичёво', 'поселок Калитино',\n",
       "       'поселок Каложицы', 'поселок Кингисеппский', 'поселок Кирпичное',\n",
       "       'поселок Кобралово', 'поселок Кобринское', 'поселок Коммунары',\n",
       "       'поселок Коробицыно', 'поселок Котельский',\n",
       "       'поселок Красная Долина', 'поселок Красносельское',\n",
       "       'поселок Лесное', 'поселок Лисий Нос', 'поселок Лукаши',\n",
       "       'поселок Любань', 'поселок Мельниково', 'поселок Мичуринское',\n",
       "       'поселок Молодцово', 'поселок Мурино', 'поселок Новый Свет',\n",
       "       'поселок Новый Учхоз', 'поселок Оредеж',\n",
       "       'поселок Пансионат Зелёный Бор', 'поселок Первомайское',\n",
       "       'поселок Перово', 'поселок Петровское', 'поселок Победа',\n",
       "       'поселок Поляны', 'поселок Почап', 'поселок Починок',\n",
       "       'поселок Пушное', 'поселок Пчевжа', 'поселок Рабитицы',\n",
       "       'поселок Романовка', 'поселок Ромашки', 'поселок Рябово',\n",
       "       'поселок Севастьяново', 'поселок Селезнёво', 'поселок Сельцо',\n",
       "       'поселок Семиозерье', 'поселок Семрино', 'поселок Серебрянский',\n",
       "       'поселок Совхозный', 'поселок Старая Малукса',\n",
       "       'поселок Стеклянный', 'поселок Сумино', 'поселок Суходолье',\n",
       "       'поселок Тельмана', 'поселок Терволово', 'поселок Торковичи',\n",
       "       'поселок Тёсово-4', 'поселок Углово', 'поселок Усть-Луга',\n",
       "       'поселок Ушаки', 'поселок Цвелодубово', 'поселок Цвылёво',\n",
       "       'поселок городского типа Большая Ижора',\n",
       "       'поселок городского типа Вырица',\n",
       "       'поселок городского типа Дружная Горка',\n",
       "       'поселок городского типа Дубровка',\n",
       "       'поселок городского типа Ефимовский',\n",
       "       'поселок городского типа Кондратьево',\n",
       "       'поселок городского типа Красный Бор',\n",
       "       'поселок городского типа Кузьмоловский',\n",
       "       'поселок городского типа Лебяжье',\n",
       "       'поселок городского типа Лесогорский',\n",
       "       'поселок городского типа Назия',\n",
       "       'поселок городского типа Никольский',\n",
       "       'поселок городского типа Приладожский',\n",
       "       'поселок городского типа Рахья', 'поселок городского типа Рощино',\n",
       "       'поселок городского типа Рябово',\n",
       "       'поселок городского типа Синявино',\n",
       "       'поселок городского типа Советский',\n",
       "       'поселок городского типа Токсово',\n",
       "       'поселок городского типа Форносово',\n",
       "       'поселок городского типа имени Свердлова',\n",
       "       'поселок станции Вещево', 'поселок станции Корнево',\n",
       "       'поселок станции Лужайка', 'поселок станции Приветнинское',\n",
       "       'посёлок Александровская', 'посёлок Алексеевка', 'посёлок Аннино',\n",
       "       'посёлок Белоостров', 'посёлок Бугры', 'посёлок Возрождение',\n",
       "       'посёлок Войскорово', 'посёлок Высокоключевой',\n",
       "       'посёлок Гаврилово', 'посёлок Дзержинского', 'посёлок Жилгородок',\n",
       "       'посёлок Ильичёво', 'посёлок Кикерино', 'посёлок Кобралово',\n",
       "       'посёлок Коробицыно', 'посёлок Левашово', 'посёлок Ленинское',\n",
       "       'посёлок Лисий Нос', 'посёлок Мельниково', 'посёлок Металлострой',\n",
       "       'посёлок Мичуринское', 'посёлок Молодёжное', 'посёлок Мурино',\n",
       "       'посёлок Мыза-Ивановка', 'посёлок Новогорелово',\n",
       "       'посёлок Новый Свет', 'посёлок Пансионат Зелёный Бор',\n",
       "       'посёлок Парголово', 'посёлок Перово', 'посёлок Песочный',\n",
       "       'посёлок Петро-Славянка', 'посёлок Петровское',\n",
       "       'посёлок Платформа 69-й километр', 'посёлок Плодовое',\n",
       "       'посёлок Плоское', 'посёлок Победа', 'посёлок Поляны',\n",
       "       'посёлок Понтонный', 'посёлок Пригородный', 'посёлок Пудость',\n",
       "       'посёлок Репино', 'посёлок Ропша', 'посёлок Сапёрное',\n",
       "       'посёлок Сапёрный', 'посёлок Сосново', 'посёлок Старая Малукса',\n",
       "       'посёлок Стеклянный', 'посёлок Стрельна', 'посёлок Суйда',\n",
       "       'посёлок Сумино', 'посёлок Тельмана', 'посёлок Терволово',\n",
       "       'посёлок Торфяное', 'посёлок Усть-Ижора', 'посёлок Усть-Луга',\n",
       "       'посёлок Форт Красная Горка', 'посёлок Шугозеро', 'посёлок Шушары',\n",
       "       'посёлок Щеглово', 'посёлок городского типа Важины',\n",
       "       'посёлок городского типа Вознесенье',\n",
       "       'посёлок городского типа Вырица',\n",
       "       'посёлок городского типа Красный Бор',\n",
       "       'посёлок городского типа Кузнечное',\n",
       "       'посёлок городского типа Кузьмоловский',\n",
       "       'посёлок городского типа Лебяжье', 'посёлок городского типа Мга',\n",
       "       'посёлок городского типа Павлово',\n",
       "       'посёлок городского типа Рощино', 'посёлок городского типа Рябово',\n",
       "       'посёлок городского типа Сиверский',\n",
       "       'посёлок городского типа Тайцы', 'посёлок городского типа Токсово',\n",
       "       'посёлок городского типа Ульяновка',\n",
       "       'посёлок городского типа Форносово',\n",
       "       'посёлок городского типа имени Морозова',\n",
       "       'посёлок городского типа имени Свердлова',\n",
       "       'посёлок при железнодорожной станции Вещево',\n",
       "       'посёлок при железнодорожной станции Приветнинское',\n",
       "       'посёлок станции Громово', 'посёлок станции Свирь',\n",
       "       'садоводческое некоммерческое товарищество Лесная Поляна',\n",
       "       'садовое товарищество Новая Ропша',\n",
       "       'садовое товарищество Приладожский', 'садовое товарищество Рахья',\n",
       "       'садовое товарищество Садко', 'село Копорье', 'село Никольское',\n",
       "       'село Павлово', 'село Паша', 'село Путилово', 'село Рождествено',\n",
       "       'село Русско-Высоцкое', 'село Старая Ладога', 'село Шум'],\n",
       "      dtype=object)"
      ]
     },
     "execution_count": 28,
     "metadata": {},
     "output_type": "execute_result"
    }
   ],
   "source": [
    "data['locality_name'].sort_values().unique()"
   ]
  },
  {
   "cell_type": "markdown",
   "id": "45052a75",
   "metadata": {},
   "source": [
    "Дубликаты можно заметить в видах населенных пунктов, например, \"Мурино\", \"поселок Мурино\" и \"посёлок Мурино\", поэтому можно оставить только названия населенных пунктов."
   ]
  },
  {
   "cell_type": "code",
   "execution_count": 29,
   "id": "b2f85dda",
   "metadata": {},
   "outputs": [],
   "source": [
    "data['locality_name'] = data['locality_name'].replace(r'([^А-Я]+)?([А-Я])(.+)?', r'\\2\\3', regex=True) \n",
    "#заменяем все данные в столбце 'locality_name' на названия населенных пунктов с помощью регулярных выражений"
   ]
  },
  {
   "cell_type": "markdown",
   "id": "d197f85f",
   "metadata": {},
   "source": [
    "Чтобы убедиться, что в данном столбце не осталось еще неявных дубликатов, выведем отсортированные уникальные значения еще раз."
   ]
  },
  {
   "cell_type": "code",
   "execution_count": 30,
   "id": "1ec26f00",
   "metadata": {},
   "outputs": [
    {
     "data": {
      "text/plain": [
       "array(['Агалатово', 'Александровская', 'Алексеевка', 'Аннино', 'Аро',\n",
       "       'Барышево', 'Батово', 'Бегуницы', 'Белогорка', 'Белоостров',\n",
       "       'Бокситогорск', 'Большая Вруда', 'Большая Ижора',\n",
       "       'Большая Пустомержа', 'Большие Колпаны', 'Большое Рейзино',\n",
       "       'Большой Сабск', 'Бор', 'Борисова Грива', 'Бугры', 'Будогощь',\n",
       "       'Ваганово', 'Важины', 'Вартемяги', 'Вахнова Кара', 'Вещево',\n",
       "       'Виллози', 'Вознесенье', 'Возрождение', 'Войсковицы', 'Войскорово',\n",
       "       'Володарское', 'Волосово', 'Волхов', 'Всеволожск', 'Выборг',\n",
       "       'Вырица', 'Выскатка', 'Высокоключевой', 'Высоцк', 'Гаврилово',\n",
       "       'Гарболово', 'Гатчина', 'Гладкое', 'Глажево', 'Глебычево',\n",
       "       'Глинка', 'Гончарово', 'Горбунки', 'Гостилицы', 'Громово',\n",
       "       'Дзержинского', 'Дружная Горка', 'Дружноселье', 'Дубровка',\n",
       "       'Елизаветино', 'Ефимовский', 'Жилгородок', 'Жилпосёлок', 'Житково',\n",
       "       'Заводской', 'Заклинье', 'Заневка', 'Запорожское', 'Зеленогорск',\n",
       "       'Зимитицы', 'Ивангород', 'Извара', 'Ильичёво', 'Иссад', 'Калитино',\n",
       "       'Каложицы', 'Кальтино', 'Каменногорск', 'Камышовка', 'Каськово',\n",
       "       'Келози', 'Кивеннапа Север', 'Кикерино', 'Кингисепп',\n",
       "       'Кингисеппский', 'Кипень', 'Кириши', 'Кировск', 'Кирпичное',\n",
       "       'Кисельня', 'Кобралово', 'Кобринское', 'Колпино', 'Колтуши',\n",
       "       'Коммунар', 'Коммунары', 'Кондратьево', 'Копорье', 'Коркино',\n",
       "       'Корнево', 'Коробицыно', 'Котельский', 'Котлы', 'Красная Долина',\n",
       "       'Красное Село', 'Красносельское', 'Красный Бор', 'Кривко',\n",
       "       'Кронштадт', 'Кудрово', 'Кузнечное', 'Кузьмолово', 'Кузьмоловский',\n",
       "       'Курковицы', 'Куровицы', 'Куттузи', 'Лаврики', 'Лаголово',\n",
       "       'Лампово', 'Лебяжье', 'Левашово', 'Ленинское', 'Лесколово',\n",
       "       'Лесная Поляна', 'Лесное', 'Лесогорский', 'Лисий Нос',\n",
       "       'Лодейное Поле', 'Ломоносов', 'Лопухинка', 'Луга', 'Лужайка',\n",
       "       'Лукаши', 'Лупполово', 'Любань', 'Малая Романовка', 'Малое Верево',\n",
       "       'Малое Карлино', 'Малые Колпаны', 'Мануйлово', 'Мга', 'Мельниково',\n",
       "       'Меньково', 'Металлострой', 'Мины', 'Мистолово', 'Мичуринское',\n",
       "       'Молодцово', 'Молодёжное', 'Морозова', 'Мурино', 'Мыза-Ивановка',\n",
       "       'Назия', 'Не указано', 'Ненимяки', 'Нижние Осельки', 'Нижняя',\n",
       "       'Низино', 'Никольский', 'Никольское', 'Новая Ладога',\n",
       "       'Новая Ропша', 'Новогорелово', 'Новое Девяткино', 'Новолисино',\n",
       "       'Новоселье', 'Новый Свет', 'Новый Учхоз', 'Нурма', 'Оредеж',\n",
       "       'Оржицы', 'Отрадное', 'Павлово', 'Павловск',\n",
       "       'Пансионат Зелёный Бор', 'Парголово', 'Парицы', 'Паша', 'Пельгора',\n",
       "       'Пеники', 'Первомайское', 'Перово', 'Песочный', 'Петергоф',\n",
       "       'Петро-Славянка', 'Петровское', 'Пижма', 'Пикалёво', 'Пикколово',\n",
       "       'Платформа 69-й километр', 'Плодовое', 'Плоское', 'Победа',\n",
       "       'Подпорожье', 'Поляны', 'Понтонный', 'Почап', 'Починок',\n",
       "       'Приветнинское', 'Пригородный', 'Приладожский', 'Приморск',\n",
       "       'Приозерск', 'Пудомяги', 'Пудость', 'Пустынка', 'Путилово',\n",
       "       'Пушкин', 'Пушное', 'Пчева', 'Пчевжа', 'Рабитицы', 'Разбегаево',\n",
       "       'Раздолье', 'Разметелево', 'Рапполово', 'Рахья', 'Реброво',\n",
       "       'Репино', 'Рождествено', 'Романовка', 'Ромашки', 'Ропша', 'Рощино',\n",
       "       'Русско', 'Русско-Высоцкое', 'Рябово', 'Садко', 'Санкт-Петербург',\n",
       "       'Сапёрное', 'Сапёрный', 'Свердлова', 'Светогорск', 'Свирь',\n",
       "       'Свирьстрой', 'Севастьяново', 'Селезнёво', 'Сельцо', 'Семиозерье',\n",
       "       'Семрино', 'Серебрянский', 'Сертолово', 'Сестрорецк', 'Сиверский',\n",
       "       'Сижно', 'Синявино', 'Сланцы', 'Снегирёвка', 'Советский',\n",
       "       'Совхозный', 'Сосново', 'Сосновый Бор', 'Старая', 'Старая Ладога',\n",
       "       'Старая Малукса', 'Старая Пустошь', 'Старое Хинколово',\n",
       "       'Старополье', 'Старосиверская', 'Старые Бегуницы', 'Стеклянный',\n",
       "       'Стрельна', 'Суйда', 'Сумино', 'Суоранда', 'Суходолье', 'Счастье',\n",
       "       'Сяськелево', 'Сясьстрой', 'Тайцы', 'Тарасово', 'Тельмана',\n",
       "       'Терволово', 'Терпилицы', 'Тихвин', 'Тихковицы', 'Тойворово',\n",
       "       'Токсово', 'Торковичи', 'Торосово', 'Торошковичи', 'Торфяное',\n",
       "       'Тосно', 'Трубников Бор', 'Тёсово-4', 'Углово', 'Ульяновка',\n",
       "       'Усть-Ижора', 'Усть-Луга', 'Ушаки', 'Фалилеево', 'Форносово',\n",
       "       'Форт Красная Горка', 'Фёдоровское', 'Хапо-Ое', 'Хязельки',\n",
       "       'Цвелодубово', 'Цвылёво', 'Чудской Бор', 'Шлиссельбург',\n",
       "       'Шпаньково', 'Шугозеро', 'Шум', 'Шушары', 'Щеглово', 'Юкки',\n",
       "       'Ялгино', 'Яльгелево', 'Ям-Тесово', 'Янино-1'], dtype=object)"
      ]
     },
     "execution_count": 30,
     "metadata": {},
     "output_type": "execute_result"
    }
   ],
   "source": [
    "data['locality_name'].sort_values().unique()"
   ]
  },
  {
   "cell_type": "markdown",
   "id": "4db7ce4e",
   "metadata": {},
   "source": [
    "#### 2.4 Обработка аномальных значений"
   ]
  },
  {
   "cell_type": "markdown",
   "id": "63200808",
   "metadata": {},
   "source": [
    "В столбце с высотой потолка `ceiling_height` был замечен очень странный разброс по значениям: от 1 до 100. Выведем уникальные отсортированные значения этого столбца."
   ]
  },
  {
   "cell_type": "code",
   "execution_count": 31,
   "id": "5aa46b5e",
   "metadata": {},
   "outputs": [
    {
     "data": {
      "text/plain": [
       "array([ -1.  ,   1.  ,   1.2 ,   1.75,   2.  ,   2.2 ,   2.25,   2.3 ,\n",
       "         2.34,   2.4 ,   2.45,   2.46,   2.47,   2.48,   2.49,   2.5 ,\n",
       "         2.51,   2.52,   2.53,   2.54,   2.55,   2.56,   2.57,   2.58,\n",
       "         2.59,   2.6 ,   2.61,   2.62,   2.63,   2.64,   2.65,   2.66,\n",
       "         2.67,   2.68,   2.69,   2.7 ,   2.71,   2.72,   2.73,   2.74,\n",
       "         2.75,   2.76,   2.77,   2.78,   2.79,   2.8 ,   2.81,   2.82,\n",
       "         2.83,   2.84,   2.85,   2.86,   2.87,   2.88,   2.89,   2.9 ,\n",
       "         2.91,   2.92,   2.93,   2.94,   2.95,   2.96,   2.97,   2.98,\n",
       "         2.99,   3.  ,   3.01,   3.02,   3.03,   3.04,   3.05,   3.06,\n",
       "         3.07,   3.08,   3.09,   3.1 ,   3.11,   3.12,   3.13,   3.14,\n",
       "         3.15,   3.16,   3.17,   3.18,   3.2 ,   3.21,   3.22,   3.23,\n",
       "         3.24,   3.25,   3.26,   3.27,   3.28,   3.29,   3.3 ,   3.31,\n",
       "         3.32,   3.33,   3.34,   3.35,   3.36,   3.37,   3.38,   3.39,\n",
       "         3.4 ,   3.42,   3.43,   3.44,   3.45,   3.46,   3.47,   3.48,\n",
       "         3.49,   3.5 ,   3.51,   3.52,   3.53,   3.54,   3.55,   3.56,\n",
       "         3.57,   3.58,   3.59,   3.6 ,   3.62,   3.63,   3.65,   3.66,\n",
       "         3.67,   3.68,   3.69,   3.7 ,   3.75,   3.76,   3.78,   3.8 ,\n",
       "         3.82,   3.83,   3.84,   3.85,   3.86,   3.87,   3.88,   3.9 ,\n",
       "         3.93,   3.95,   3.98,   4.  ,   4.06,   4.1 ,   4.14,   4.15,\n",
       "         4.19,   4.2 ,   4.25,   4.3 ,   4.37,   4.4 ,   4.45,   4.5 ,\n",
       "         4.65,   4.7 ,   4.8 ,   4.9 ,   5.  ,   5.2 ,   5.3 ,   5.5 ,\n",
       "         5.6 ,   5.8 ,   6.  ,   8.  ,   8.3 ,  10.3 ,  14.  ,  20.  ,\n",
       "        22.6 ,  24.  ,  25.  ,  26.  ,  27.  ,  27.5 ,  32.  , 100.  ])"
      ]
     },
     "execution_count": 31,
     "metadata": {},
     "output_type": "execute_result"
    }
   ],
   "source": [
    "data['ceiling_height'].sort_values().unique()"
   ]
  },
  {
   "cell_type": "markdown",
   "id": "61522b02",
   "metadata": {},
   "source": [
    "Можно предположить, что высота потолка от 20 и до 32 включительно была вписана по ошибке, и на самом деле это вещественные значения от 2.0 и до 3.2."
   ]
  },
  {
   "cell_type": "code",
   "execution_count": 32,
   "id": "2fd9de38",
   "metadata": {},
   "outputs": [],
   "source": [
    "data.loc[data['ceiling_height'] >= 20, 'ceiling_height'] = data.loc[data['ceiling_height'] >= 20, 'ceiling_height'] / 10"
   ]
  },
  {
   "cell_type": "code",
   "execution_count": 33,
   "id": "9ec39a43",
   "metadata": {},
   "outputs": [
    {
     "data": {
      "text/plain": [
       "array([-1.  ,  1.  ,  1.2 ,  1.75,  2.  ,  2.2 ,  2.25,  2.26,  2.3 ,\n",
       "        2.34,  2.4 ,  2.45,  2.46,  2.47,  2.48,  2.49,  2.5 ,  2.51,\n",
       "        2.52,  2.53,  2.54,  2.55,  2.56,  2.57,  2.58,  2.59,  2.6 ,\n",
       "        2.61,  2.62,  2.63,  2.64,  2.65,  2.66,  2.67,  2.68,  2.69,\n",
       "        2.7 ,  2.71,  2.72,  2.73,  2.74,  2.75,  2.76,  2.77,  2.78,\n",
       "        2.79,  2.8 ,  2.81,  2.82,  2.83,  2.84,  2.85,  2.86,  2.87,\n",
       "        2.88,  2.89,  2.9 ,  2.91,  2.92,  2.93,  2.94,  2.95,  2.96,\n",
       "        2.97,  2.98,  2.99,  3.  ,  3.01,  3.02,  3.03,  3.04,  3.05,\n",
       "        3.06,  3.07,  3.08,  3.09,  3.1 ,  3.11,  3.12,  3.13,  3.14,\n",
       "        3.15,  3.16,  3.17,  3.18,  3.2 ,  3.21,  3.22,  3.23,  3.24,\n",
       "        3.25,  3.26,  3.27,  3.28,  3.29,  3.3 ,  3.31,  3.32,  3.33,\n",
       "        3.34,  3.35,  3.36,  3.37,  3.38,  3.39,  3.4 ,  3.42,  3.43,\n",
       "        3.44,  3.45,  3.46,  3.47,  3.48,  3.49,  3.5 ,  3.51,  3.52,\n",
       "        3.53,  3.54,  3.55,  3.56,  3.57,  3.58,  3.59,  3.6 ,  3.62,\n",
       "        3.63,  3.65,  3.66,  3.67,  3.68,  3.69,  3.7 ,  3.75,  3.76,\n",
       "        3.78,  3.8 ,  3.82,  3.83,  3.84,  3.85,  3.86,  3.87,  3.88,\n",
       "        3.9 ,  3.93,  3.95,  3.98,  4.  ,  4.06,  4.1 ,  4.14,  4.15,\n",
       "        4.19,  4.2 ,  4.25,  4.3 ,  4.37,  4.4 ,  4.45,  4.5 ,  4.65,\n",
       "        4.7 ,  4.8 ,  4.9 ,  5.  ,  5.2 ,  5.3 ,  5.5 ,  5.6 ,  5.8 ,\n",
       "        6.  ,  8.  ,  8.3 , 10.  , 10.3 , 14.  ])"
      ]
     },
     "execution_count": 33,
     "metadata": {},
     "output_type": "execute_result"
    }
   ],
   "source": [
    "data['ceiling_height'].sort_values().unique()"
   ]
  },
  {
   "cell_type": "markdown",
   "id": "cd19bb75",
   "metadata": {},
   "source": [
    "Высота потолка меньше 2 метров и больше 8 вызывает вопросы. Стоит удалить данные значения, так как восстановить корректные невозможно."
   ]
  },
  {
   "cell_type": "code",
   "execution_count": 34,
   "id": "315df432",
   "metadata": {},
   "outputs": [],
   "source": [
    "data.loc[(data['ceiling_height'] < 2) | (data['ceiling_height'] > 8), 'ceiling_height'] = -1"
   ]
  },
  {
   "cell_type": "markdown",
   "id": "104d0e13",
   "metadata": {},
   "source": [
    "В столбце `last_price` также присутствует аномальное минимальное значение. Вероятно, это ошибка продавца: домножим на 1000."
   ]
  },
  {
   "cell_type": "code",
   "execution_count": 35,
   "id": "659a3701",
   "metadata": {},
   "outputs": [
    {
     "data": {
      "text/html": [
       "<div>\n",
       "<style scoped>\n",
       "    .dataframe tbody tr th:only-of-type {\n",
       "        vertical-align: middle;\n",
       "    }\n",
       "\n",
       "    .dataframe tbody tr th {\n",
       "        vertical-align: top;\n",
       "    }\n",
       "\n",
       "    .dataframe thead th {\n",
       "        text-align: right;\n",
       "    }\n",
       "</style>\n",
       "<table border=\"1\" class=\"dataframe\">\n",
       "  <thead>\n",
       "    <tr style=\"text-align: right;\">\n",
       "      <th></th>\n",
       "      <th>total_images</th>\n",
       "      <th>last_price</th>\n",
       "      <th>total_area</th>\n",
       "      <th>first_day_exposition</th>\n",
       "      <th>rooms</th>\n",
       "      <th>ceiling_height</th>\n",
       "      <th>floors_total</th>\n",
       "      <th>living_area</th>\n",
       "      <th>floor</th>\n",
       "      <th>is_apartment</th>\n",
       "      <th>...</th>\n",
       "      <th>locality_name</th>\n",
       "      <th>airports_nearest</th>\n",
       "      <th>cityCenters_nearest</th>\n",
       "      <th>parks_around3000</th>\n",
       "      <th>parks_nearest</th>\n",
       "      <th>ponds_around3000</th>\n",
       "      <th>ponds_nearest</th>\n",
       "      <th>days_exposition</th>\n",
       "      <th>conversion_living</th>\n",
       "      <th>conversion_kitchen</th>\n",
       "    </tr>\n",
       "  </thead>\n",
       "  <tbody>\n",
       "    <tr>\n",
       "      <th>8793</th>\n",
       "      <td>7</td>\n",
       "      <td>12190</td>\n",
       "      <td>109.0</td>\n",
       "      <td>2019-03-20</td>\n",
       "      <td>2</td>\n",
       "      <td>2.75</td>\n",
       "      <td>25</td>\n",
       "      <td>32.0</td>\n",
       "      <td>25</td>\n",
       "      <td>False</td>\n",
       "      <td>...</td>\n",
       "      <td>Санкт-Петербург</td>\n",
       "      <td>36421.0</td>\n",
       "      <td>9176.0</td>\n",
       "      <td>1</td>\n",
       "      <td>805.0</td>\n",
       "      <td>0</td>\n",
       "      <td>-1.0</td>\n",
       "      <td>8</td>\n",
       "      <td>0.293578</td>\n",
       "      <td>0.37156</td>\n",
       "    </tr>\n",
       "  </tbody>\n",
       "</table>\n",
       "<p>1 rows × 24 columns</p>\n",
       "</div>"
      ],
      "text/plain": [
       "      total_images  last_price  total_area first_day_exposition  rooms  \\\n",
       "8793             7       12190       109.0           2019-03-20      2   \n",
       "\n",
       "      ceiling_height  floors_total  living_area  floor  is_apartment  ...  \\\n",
       "8793            2.75            25         32.0     25         False  ...   \n",
       "\n",
       "        locality_name  airports_nearest  cityCenters_nearest  \\\n",
       "8793  Санкт-Петербург           36421.0               9176.0   \n",
       "\n",
       "      parks_around3000 parks_nearest  ponds_around3000  ponds_nearest  \\\n",
       "8793                 1         805.0                 0           -1.0   \n",
       "\n",
       "      days_exposition  conversion_living  conversion_kitchen  \n",
       "8793                8           0.293578             0.37156  \n",
       "\n",
       "[1 rows x 24 columns]"
      ]
     },
     "execution_count": 35,
     "metadata": {},
     "output_type": "execute_result"
    }
   ],
   "source": [
    "data[data['last_price'] == data['last_price'].min()]"
   ]
  },
  {
   "cell_type": "code",
   "execution_count": 36,
   "id": "fa8f42ac",
   "metadata": {},
   "outputs": [],
   "source": [
    "data.loc[data['last_price'] == data['last_price'].min(), 'last_price'] *= 1000"
   ]
  },
  {
   "cell_type": "markdown",
   "id": "11d5fd83",
   "metadata": {},
   "source": [
    "Проверим количество дубликатов:"
   ]
  },
  {
   "cell_type": "code",
   "execution_count": 37,
   "id": "2b8a60d0",
   "metadata": {},
   "outputs": [
    {
     "data": {
      "text/plain": [
       "0"
      ]
     },
     "execution_count": 37,
     "metadata": {},
     "output_type": "execute_result"
    }
   ],
   "source": [
    "data.duplicated().sum()"
   ]
  },
  {
   "cell_type": "markdown",
   "id": "8aa053b9",
   "metadata": {},
   "source": [
    "#### 2.5 Вывод\n",
    "Предобработка обнаружила три проблемы в данных:\n",
    "\n",
    "- пропущенные значения,\n",
    "- неправильные типы данных,\n",
    "- неявные дубликаты,\n",
    "- аномальные значения.\n",
    "\n",
    "Теперь можно перейти к исследовательскому анализу данных."
   ]
  },
  {
   "cell_type": "markdown",
   "id": "fbc0ee69",
   "metadata": {},
   "source": [
    "### 3. Посчитайте и добавьте в таблицу новые столбцы"
   ]
  },
  {
   "cell_type": "code",
   "execution_count": 38,
   "id": "fbb5c5b8",
   "metadata": {},
   "outputs": [],
   "source": [
    "#цена одного квадратного метра\n",
    "data['meter_price'] = np.round(data['last_price'] / data['total_area'], 1)"
   ]
  },
  {
   "cell_type": "code",
   "execution_count": 39,
   "id": "36f1a189",
   "metadata": {},
   "outputs": [],
   "source": [
    "#день недели публикации объявления (0 — понедельник, 1 — вторник и так далее)\n",
    "data['day_week_exposition'] = pd.DatetimeIndex(data['first_day_exposition']).dayofweek"
   ]
  },
  {
   "cell_type": "code",
   "execution_count": 40,
   "id": "9f8c7a4e",
   "metadata": {},
   "outputs": [],
   "source": [
    "#месяц публикации объявления\n",
    "data['month_exposition'] = pd.DatetimeIndex(data['first_day_exposition']).month"
   ]
  },
  {
   "cell_type": "code",
   "execution_count": 41,
   "id": "93470919",
   "metadata": {},
   "outputs": [],
   "source": [
    "#год публикации объявления\n",
    "data['year_exposition'] = pd.DatetimeIndex(data['first_day_exposition']).year"
   ]
  },
  {
   "cell_type": "code",
   "execution_count": 42,
   "id": "5da8bb35",
   "metadata": {},
   "outputs": [],
   "source": [
    "#тип этажа квартиры (значения — «первый», «последний», «другой»)\n",
    "data.loc[data['floor'] == 1,'type_of_floor'] = 'первый'\n",
    "data.loc[data['floor'] == data['floors_total'],'type_of_floor'] = 'последний'\n",
    "data.loc[(data['floor'] != 1) & (data['floor'] != data['floors_total']), 'type_of_floor'] = 'другой'"
   ]
  },
  {
   "cell_type": "code",
   "execution_count": 43,
   "id": "a00bde6d",
   "metadata": {},
   "outputs": [],
   "source": [
    "#расстояние до центра города в километрах (переведите из м в км и округлите до целых значений)\n",
    "data['cityCenter_km'] = round(data[data['cityCenters_nearest'] > 0]['cityCenters_nearest'] / 1000) "
   ]
  },
  {
   "cell_type": "markdown",
   "id": "27d94e3b",
   "metadata": {},
   "source": [
    "<div class=\"alert alert-block alert-success\">✔️\n",
    "    \n",
    "\n",
    "__Комментарий от ревьюера №1__\n",
    "\n",
    "Этот раздел выполнен качественно\n",
    "</div>"
   ]
  },
  {
   "cell_type": "markdown",
   "id": "6ba06b75",
   "metadata": {},
   "source": [
    "#### 3.1 Вывод \n",
    "Для последующего исследовательского анализа данных были добавлены следующие столбцы в датафрейм:\n",
    "* `meter_price` — цена одного квадратного метра;\n",
    "* `day_week_exposition` — день недели публикации объявления (0 — понедельник, 1 — вторник и так далее);\n",
    "* `month_exposition` — месяц публикации объявления;\n",
    "* `year_exposition` - год публикации объявления;\n",
    "* `type_of_floor` — тип этажа квартиры (значения — «первый», «последний», «другой»);\n",
    "* `cityCenter_km` — расстояние до центра города в километрах."
   ]
  },
  {
   "cell_type": "markdown",
   "id": "5fc8447d",
   "metadata": {},
   "source": [
    "### 4. Проведите исследовательский анализ данных"
   ]
  },
  {
   "cell_type": "markdown",
   "id": "6f032569",
   "metadata": {},
   "source": [
    "#### 4.1 Изучение параметров объектов через гистограммы."
   ]
  },
  {
   "cell_type": "markdown",
   "id": "3431ecae",
   "metadata": {},
   "source": [
    "##### 4.1.1 Общая площадь."
   ]
  },
  {
   "cell_type": "code",
   "execution_count": 44,
   "id": "c7d1fefe",
   "metadata": {},
   "outputs": [
    {
     "data": {
      "image/png": "[encoded data removed]",
      "text/plain": [
       "<Figure size 1000x500 with 2 Axes>"
      ]
     },
     "metadata": {},
     "output_type": "display_data"
    }
   ],
   "source": [
    "plt.subplot(1, 2, 1)\n",
    "data['total_area'].plot(kind='hist', bins=100, xlim=(0,900), figsize=(10,5), grid=True)\n",
    "\n",
    "plt.subplot(1, 2, 2)\n",
    "data['total_area'].plot(kind='hist', bins=100, xlim=(0,200), grid=True)\n",
    "plt.tight_layout()"
   ]
  },
  {
   "cell_type": "markdown",
   "id": "79e4bd87",
   "metadata": {},
   "source": [
    "Большинство квартир имеют площадь от 30 до 100 квадратных метров. Затем гистограмма идет на спад: чем больше площадь квартиры, тем меньше с такой площадью встречалось объявлений."
   ]
  },
  {
   "cell_type": "markdown",
   "id": "aa588226",
   "metadata": {},
   "source": [
    "##### 4.1.2 Жилая площадь."
   ]
  },
  {
   "cell_type": "code",
   "execution_count": 45,
   "id": "913768a7",
   "metadata": {},
   "outputs": [
    {
     "data": {
      "text/plain": [
       "<AxesSubplot:ylabel='Frequency'>"
      ]
     },
     "execution_count": 45,
     "metadata": {},
     "output_type": "execute_result"
    },
    {
     "data": {
      "image/png": "[encoded data removed]",
      "text/plain": [
       "<Figure size 640x480 with 1 Axes>"
      ]
     },
     "metadata": {},
     "output_type": "display_data"
    }
   ],
   "source": [
    "data['living_area'].plot(kind='hist', bins=10, xlim=(2,400), grid=True)"
   ]
  },
  {
   "cell_type": "markdown",
   "id": "2157a084",
   "metadata": {},
   "source": [
    "Чаще всего встречаются квартиры с жилой площадью от 2 квадратных метров и до 45 квадратных метров. Как и в случае с общей площадью, чем больше жилая площадь, тем меньше таких квартир встречалось."
   ]
  },
  {
   "cell_type": "markdown",
   "id": "2c2b2162",
   "metadata": {},
   "source": [
    "##### 4.1.3 Площадь кухни"
   ]
  },
  {
   "cell_type": "code",
   "execution_count": 46,
   "id": "6b26ff27",
   "metadata": {},
   "outputs": [
    {
     "data": {
      "text/plain": [
       "<AxesSubplot:ylabel='Frequency'>"
      ]
     },
     "execution_count": 46,
     "metadata": {},
     "output_type": "execute_result"
    },
    {
     "data": {
      "image/png": "[encoded data removed]",
      "text/plain": [
       "<Figure size 640x480 with 1 Axes>"
      ]
     },
     "metadata": {},
     "output_type": "display_data"
    }
   ],
   "source": [
    "data['kitchen_area'].plot(kind='hist', bins=10, grid=True)"
   ]
  },
  {
   "cell_type": "markdown",
   "id": "8b25eab1",
   "metadata": {},
   "source": [
    "Большинство квартир имеют площадь кухни от нуля и до 10 квадратных метров. Нулевая площадь кухни, вероятно, связана с ее совмещением с жилой площадью."
   ]
  },
  {
   "cell_type": "markdown",
   "id": "761a9978",
   "metadata": {},
   "source": [
    "##### 4.1.4 Цена объекта"
   ]
  },
  {
   "cell_type": "code",
   "execution_count": 47,
   "id": "d7285cdc",
   "metadata": {},
   "outputs": [
    {
     "data": {
      "text/plain": [
       "<AxesSubplot:>"
      ]
     },
     "execution_count": 47,
     "metadata": {},
     "output_type": "execute_result"
    },
    {
     "data": {
      "image/png": "[encoded data removed]",
      "text/plain": [
       "<Figure size 640x480 with 1 Axes>"
      ]
     },
     "metadata": {},
     "output_type": "display_data"
    }
   ],
   "source": [
    "data['last_price'].hist(bins=10) #цена объекта"
   ]
  },
  {
   "cell_type": "markdown",
   "id": "73ad217c",
   "metadata": {},
   "source": [
    "Подавляющее большинство квартир в данной таблице стоят менее ста миллионов."
   ]
  },
  {
   "cell_type": "markdown",
   "id": "cad9e335",
   "metadata": {},
   "source": [
    "##### 4.1.5 Количество комнат в квартире"
   ]
  },
  {
   "cell_type": "code",
   "execution_count": 48,
   "id": "ce00b58e",
   "metadata": {},
   "outputs": [
    {
     "data": {
      "text/plain": [
       "<AxesSubplot:>"
      ]
     },
     "execution_count": 48,
     "metadata": {},
     "output_type": "execute_result"
    },
    {
     "data": {
      "image/png": "[encoded data removed]",
      "text/plain": [
       "<Figure size 640x480 with 1 Axes>"
      ]
     },
     "metadata": {},
     "output_type": "display_data"
    }
   ],
   "source": [
    "data['rooms'].hist(bins=10) #количество комнат в квартире"
   ]
  },
  {
   "cell_type": "markdown",
   "id": "c3e3093a",
   "metadata": {},
   "source": [
    "В квартирах на продажу зачастую встречается не более двух комнат, от пяти и выше комнат — намного реже."
   ]
  },
  {
   "cell_type": "markdown",
   "id": "06ab32d0",
   "metadata": {},
   "source": [
    "##### 4.1.6 Высота потолка в квартире"
   ]
  },
  {
   "cell_type": "code",
   "execution_count": 49,
   "id": "dcd0977e",
   "metadata": {},
   "outputs": [
    {
     "data": {
      "text/plain": [
       "<AxesSubplot:>"
      ]
     },
     "execution_count": 49,
     "metadata": {},
     "output_type": "execute_result"
    },
    {
     "data": {
      "image/png": "[encoded data removed]",
      "text/plain": [
       "<Figure size 640x480 with 1 Axes>"
      ]
     },
     "metadata": {},
     "output_type": "display_data"
    }
   ],
   "source": [
    "data.loc[data['ceiling_height'] > -1, 'ceiling_height'].hist(bins=10) #высота потолка в квартире"
   ]
  },
  {
   "cell_type": "markdown",
   "id": "fa86b141",
   "metadata": {},
   "source": [
    "Самая часто встречающаяся высота потолков в квартирах от 2,5 метров и до 3,1 метров."
   ]
  },
  {
   "cell_type": "markdown",
   "id": "60742876",
   "metadata": {},
   "source": [
    "##### 4.1.7 Этаж квартиры"
   ]
  },
  {
   "cell_type": "code",
   "execution_count": 50,
   "id": "3d8192cf",
   "metadata": {},
   "outputs": [
    {
     "data": {
      "text/plain": [
       "<AxesSubplot:>"
      ]
     },
     "execution_count": 50,
     "metadata": {},
     "output_type": "execute_result"
    },
    {
     "data": {
      "image/png": "[encoded data removed]",
      "text/plain": [
       "<Figure size 640x480 with 1 Axes>"
      ]
     },
     "metadata": {},
     "output_type": "display_data"
    }
   ],
   "source": [
    "data.loc[data['floor'] > -1, 'floor'].hist(bins=8) #этаж квартиры"
   ]
  },
  {
   "cell_type": "markdown",
   "id": "4ec4e60d",
   "metadata": {},
   "source": [
    "Самые часто встречающиеся этажи, на которых располагаются квартиры — от первого до пятого."
   ]
  },
  {
   "cell_type": "markdown",
   "id": "b136e3ee",
   "metadata": {},
   "source": [
    "##### 4.1.8 Тип этажа квартиры"
   ]
  },
  {
   "cell_type": "code",
   "execution_count": 51,
   "id": "52b3426a",
   "metadata": {},
   "outputs": [
    {
     "data": {
      "text/plain": [
       "<AxesSubplot:>"
      ]
     },
     "execution_count": 51,
     "metadata": {},
     "output_type": "execute_result"
    },
    {
     "data": {
      "image/png": "[encoded data removed]",
      "text/plain": [
       "<Figure size 640x480 with 1 Axes>"
      ]
     },
     "metadata": {},
     "output_type": "display_data"
    }
   ],
   "source": [
    "data['type_of_floor'].hist(bins=10) #тип этажа квартиры"
   ]
  },
  {
   "cell_type": "markdown",
   "id": "0e57e83f",
   "metadata": {},
   "source": [
    "Большинство квартир располагаются не на первом и не на последнем этаже. <a id='ft'></a>"
   ]
  },
  {
   "cell_type": "markdown",
   "id": "9edfc58c",
   "metadata": {},
   "source": [
    "##### 4.1.9 Общее количество этажей в доме"
   ]
  },
  {
   "cell_type": "code",
   "execution_count": 52,
   "id": "bde1eebd",
   "metadata": {
    "scrolled": true
   },
   "outputs": [
    {
     "data": {
      "text/plain": [
       "<AxesSubplot:>"
      ]
     },
     "execution_count": 52,
     "metadata": {},
     "output_type": "execute_result"
    },
    {
     "data": {
      "image/png": "[encoded data removed]",
      "text/plain": [
       "<Figure size 640x480 with 1 Axes>"
      ]
     },
     "metadata": {},
     "output_type": "display_data"
    }
   ],
   "source": [
    "data.loc[data['floors_total'] > -1, 'floors_total'].hist(bins=10) #общее количество этажей в доме"
   ]
  },
  {
   "cell_type": "markdown",
   "id": "a5cc0dca",
   "metadata": {},
   "source": [
    "Большинство квартир в датасете располагаются в домах, в которых в среднем пять этажей."
   ]
  },
  {
   "cell_type": "markdown",
   "id": "fc27817d",
   "metadata": {},
   "source": [
    "##### 4.1.10 Расстояние до центра города в метрах"
   ]
  },
  {
   "cell_type": "code",
   "execution_count": 53,
   "id": "97b10a1f",
   "metadata": {},
   "outputs": [
    {
     "data": {
      "text/plain": [
       "<AxesSubplot:>"
      ]
     },
     "execution_count": 53,
     "metadata": {},
     "output_type": "execute_result"
    },
    {
     "data": {
      "image/png": "[encoded data removed]",
      "text/plain": [
       "<Figure size 640x480 with 1 Axes>"
      ]
     },
     "metadata": {},
     "output_type": "display_data"
    }
   ],
   "source": [
    "data.loc[data['cityCenters_nearest'] > -1, 'cityCenters_nearest'].hist(bins=10)"
   ]
  },
  {
   "cell_type": "markdown",
   "id": "555d0577",
   "metadata": {},
   "source": [
    "Больше всего квартир продавалось на расстоянии около 10000 метров от центра города, а меньше всего — на расстоянии 40000 метров и 60000 метров."
   ]
  },
  {
   "cell_type": "markdown",
   "id": "e9c39c10",
   "metadata": {},
   "source": [
    "##### 4.1.11 Расстояние до ближайшего аэропорта"
   ]
  },
  {
   "cell_type": "code",
   "execution_count": 54,
   "id": "d0e7e9a5",
   "metadata": {},
   "outputs": [
    {
     "data": {
      "text/plain": [
       "<AxesSubplot:>"
      ]
     },
     "execution_count": 54,
     "metadata": {},
     "output_type": "execute_result"
    },
    {
     "data": {
      "image/png": "[encoded data removed]",
      "text/plain": [
       "<Figure size 640x480 with 1 Axes>"
      ]
     },
     "metadata": {},
     "output_type": "display_data"
    }
   ],
   "source": [
    "data.loc[data['airports_nearest'] > -1, 'airports_nearest'].hist(bins=10) "
   ]
  },
  {
   "cell_type": "markdown",
   "id": "7d1673ff",
   "metadata": {},
   "source": [
    "Больше всего квартир продавалось на расстоянии около 20000 метров от ближайшего аэропорта, а меньше всего — на расстоянии более 60000 метров."
   ]
  },
  {
   "cell_type": "markdown",
   "id": "07245e2f",
   "metadata": {},
   "source": [
    "##### 4.1.12 Расстояние до ближайшего парка"
   ]
  },
  {
   "cell_type": "code",
   "execution_count": 55,
   "id": "fdd2a359",
   "metadata": {},
   "outputs": [
    {
     "data": {
      "text/plain": [
       "<AxesSubplot:>"
      ]
     },
     "execution_count": 55,
     "metadata": {},
     "output_type": "execute_result"
    },
    {
     "data": {
      "image/png": "[encoded data removed]",
      "text/plain": [
       "<Figure size 640x480 with 1 Axes>"
      ]
     },
     "metadata": {},
     "output_type": "display_data"
    }
   ],
   "source": [
    "data.loc[data['parks_nearest'] > -1, 'parks_nearest'].hist(bins=10) #расстояние до ближайшего парка"
   ]
  },
  {
   "cell_type": "markdown",
   "id": "cc724440",
   "metadata": {},
   "source": [
    "Больше всего квартир продавалось на расстоянии около 500 метров от ближайшего парка, а меньше всего — на расстоянии более 1500 метров."
   ]
  },
  {
   "cell_type": "markdown",
   "id": "cc516593",
   "metadata": {},
   "source": [
    "##### 4.1.13 День и месяц публикации объявления"
   ]
  },
  {
   "cell_type": "code",
   "execution_count": 56,
   "id": "c62182c1",
   "metadata": {},
   "outputs": [
    {
     "data": {
      "text/plain": [
       "<AxesSubplot:>"
      ]
     },
     "execution_count": 56,
     "metadata": {},
     "output_type": "execute_result"
    },
    {
     "data": {
      "image/png": "[encoded data removed]",
      "text/plain": [
       "<Figure size 1000x500 with 2 Axes>"
      ]
     },
     "metadata": {},
     "output_type": "display_data"
    }
   ],
   "source": [
    "plt.subplot(1, 2, 1)\n",
    "data['day_week_exposition'].hist(bins=7, figsize=(10,5)) #день публикации объявления\n",
    "\n",
    "plt.subplot(1, 2, 2)\n",
    "data['month_exposition'].hist(bins=12) #месяц публикации объявления"
   ]
  },
  {
   "cell_type": "markdown",
   "id": "c4414649",
   "metadata": {},
   "source": [
    "Большинство объявлений было опубликовано в такие дни недели как вторник и четверг, и в такие месяцы как февраль и март. По субботам и воскресеньям публикаций было меньше всего, как и в январе и в мае."
   ]
  },
  {
   "cell_type": "markdown",
   "id": "120f9685",
   "metadata": {},
   "source": [
    "#### 4.2 Изучите, как быстро продавались квартиры (столбец `days_exposition`). Этот параметр показывает, сколько дней было размещено каждое объявление."
   ]
  },
  {
   "cell_type": "code",
   "execution_count": 57,
   "id": "8ddb23a0",
   "metadata": {},
   "outputs": [
    {
     "data": {
      "text/plain": [
       "<AxesSubplot:>"
      ]
     },
     "execution_count": 57,
     "metadata": {},
     "output_type": "execute_result"
    },
    {
     "data": {
      "image/png": "[encoded data removed]",
      "text/plain": [
       "<Figure size 640x480 with 1 Axes>"
      ]
     },
     "metadata": {},
     "output_type": "display_data"
    }
   ],
   "source": [
    "data.loc[data['days_exposition'] > -1, 'days_exposition'].hist(bins=100)"
   ]
  },
  {
   "cell_type": "code",
   "execution_count": 58,
   "id": "f52fd899",
   "metadata": {
    "scrolled": true
   },
   "outputs": [
    {
     "data": {
      "image/png": "[encoded data removed]",
      "text/plain": [
       "<Figure size 1000x500 with 2 Axes>"
      ]
     },
     "metadata": {},
     "output_type": "display_data"
    }
   ],
   "source": [
    "plt.subplot(1, 2, 1)\n",
    "data.loc[data['days_exposition'] > -1, 'days_exposition'].hist(bins=100, figsize=(10,5), grid=True)\n",
    "\n",
    "plt.subplot(1, 2, 2)\n",
    "data.loc[data['days_exposition'] > -1, 'days_exposition'].hist(bins=100, range=(0,100),  grid=True)\n",
    "plt.tight_layout()"
   ]
  },
  {
   "cell_type": "markdown",
   "id": "a9816957",
   "metadata": {},
   "source": [
    "Есть интересные аномалии около 45 и 60 дней. Эти аномалии очень похожи на техническую особенность самой платформы: вероятнее, в эти дни платформа автоматически убирает объявления, если пользователь его не продлил."
   ]
  },
  {
   "cell_type": "markdown",
   "id": "5ec8ec69",
   "metadata": {},
   "source": [
    "На графике можно заметить, что большинство квартир продавались за период от одного дня и до ста дней. Вычислим среднее значение и медиану столбца `days_exposition`."
   ]
  },
  {
   "cell_type": "code",
   "execution_count": 59,
   "id": "3480f9dd",
   "metadata": {},
   "outputs": [
    {
     "name": "stdout",
     "output_type": "stream",
     "text": [
      "Среднее значение:  180.88863436982163\n",
      "Медиана:  95.0\n"
     ]
    }
   ],
   "source": [
    "print('Среднее значение: ', data.loc[data['days_exposition'] > -1, 'days_exposition'].mean())\n",
    "print('Медиана: ', data.loc[data['days_exposition'] > -1, 'days_exposition'].median())"
   ]
  },
  {
   "cell_type": "markdown",
   "id": "076bd8c2",
   "metadata": {},
   "source": [
    "Таким образом, в среднем продажа занимает около 180 дней. Продажи до 95 дней можно считать быстрыми, а продажи от 400 дней - необычно долгими."
   ]
  },
  {
   "cell_type": "markdown",
   "id": "eb7a665d",
   "metadata": {},
   "source": [
    "#### 4.3 Какие факторы больше всего влияют на общую (полную) стоимость объекта?"
   ]
  },
  {
   "cell_type": "markdown",
   "id": "4c645d3e",
   "metadata": {},
   "source": [
    "Прежде чем рассматривать определенные факторы влияния, необходимо отметить, что в некоторых населенных пунктах какие-то факторы преобладают в большей степени, а какие-то в меньшей. Также важно учитывать, что количество объявлений из Санкт-Петербурга намного превышает количество обявлений из Ленинградской области. "
   ]
  },
  {
   "cell_type": "code",
   "execution_count": 60,
   "id": "2b97fb65",
   "metadata": {},
   "outputs": [
    {
     "data": {
      "text/html": [
       "<div>\n",
       "<style scoped>\n",
       "    .dataframe tbody tr th:only-of-type {\n",
       "        vertical-align: middle;\n",
       "    }\n",
       "\n",
       "    .dataframe tbody tr th {\n",
       "        vertical-align: top;\n",
       "    }\n",
       "\n",
       "    .dataframe thead th {\n",
       "        text-align: right;\n",
       "    }\n",
       "</style>\n",
       "<table border=\"1\" class=\"dataframe\">\n",
       "  <thead>\n",
       "    <tr style=\"text-align: right;\">\n",
       "      <th></th>\n",
       "      <th>ads_count</th>\n",
       "    </tr>\n",
       "    <tr>\n",
       "      <th>locality_name</th>\n",
       "      <th></th>\n",
       "    </tr>\n",
       "  </thead>\n",
       "  <tbody>\n",
       "    <tr>\n",
       "      <th>Санкт-Петербург</th>\n",
       "      <td>15721</td>\n",
       "    </tr>\n",
       "    <tr>\n",
       "      <th>Мурино</th>\n",
       "      <td>590</td>\n",
       "    </tr>\n",
       "    <tr>\n",
       "      <th>Кудрово</th>\n",
       "      <td>472</td>\n",
       "    </tr>\n",
       "    <tr>\n",
       "      <th>Шушары</th>\n",
       "      <td>440</td>\n",
       "    </tr>\n",
       "    <tr>\n",
       "      <th>Всеволожск</th>\n",
       "      <td>398</td>\n",
       "    </tr>\n",
       "    <tr>\n",
       "      <th>Пушкин</th>\n",
       "      <td>369</td>\n",
       "    </tr>\n",
       "    <tr>\n",
       "      <th>Колпино</th>\n",
       "      <td>338</td>\n",
       "    </tr>\n",
       "    <tr>\n",
       "      <th>Парголово</th>\n",
       "      <td>327</td>\n",
       "    </tr>\n",
       "    <tr>\n",
       "      <th>Гатчина</th>\n",
       "      <td>307</td>\n",
       "    </tr>\n",
       "    <tr>\n",
       "      <th>Выборг</th>\n",
       "      <td>237</td>\n",
       "    </tr>\n",
       "    <tr>\n",
       "      <th>Петергоф</th>\n",
       "      <td>201</td>\n",
       "    </tr>\n",
       "    <tr>\n",
       "      <th>Сестрорецк</th>\n",
       "      <td>183</td>\n",
       "    </tr>\n",
       "    <tr>\n",
       "      <th>Красное Село</th>\n",
       "      <td>178</td>\n",
       "    </tr>\n",
       "    <tr>\n",
       "      <th>Новое Девяткино</th>\n",
       "      <td>144</td>\n",
       "    </tr>\n",
       "    <tr>\n",
       "      <th>Сертолово</th>\n",
       "      <td>142</td>\n",
       "    </tr>\n",
       "  </tbody>\n",
       "</table>\n",
       "</div>"
      ],
      "text/plain": [
       "                 ads_count\n",
       "locality_name             \n",
       "Санкт-Петербург      15721\n",
       "Мурино                 590\n",
       "Кудрово                472\n",
       "Шушары                 440\n",
       "Всеволожск             398\n",
       "Пушкин                 369\n",
       "Колпино                338\n",
       "Парголово              327\n",
       "Гатчина                307\n",
       "Выборг                 237\n",
       "Петергоф               201\n",
       "Сестрорецк             183\n",
       "Красное Село           178\n",
       "Новое Девяткино        144\n",
       "Сертолово              142"
      ]
     },
     "execution_count": 60,
     "metadata": {},
     "output_type": "execute_result"
    }
   ],
   "source": [
    "data.pivot_table(index='locality_name', values='last_price', aggfunc='count').sort_values(\n",
    "    by='last_price', \n",
    "    ascending=False\n",
    ").rename(\n",
    "    columns={'last_price': 'ads_count'}\n",
    ").head(15)"
   ]
  },
  {
   "cell_type": "markdown",
   "id": "e401a1ee",
   "metadata": {},
   "source": [
    "##### 4.3.1 Зависимость цены от общей площади."
   ]
  },
  {
   "cell_type": "code",
   "execution_count": 61,
   "id": "d2233e71",
   "metadata": {},
   "outputs": [
    {
     "data": {
      "text/html": [
       "<div>\n",
       "<style scoped>\n",
       "    .dataframe tbody tr th:only-of-type {\n",
       "        vertical-align: middle;\n",
       "    }\n",
       "\n",
       "    .dataframe tbody tr th {\n",
       "        vertical-align: top;\n",
       "    }\n",
       "\n",
       "    .dataframe thead th {\n",
       "        text-align: right;\n",
       "    }\n",
       "</style>\n",
       "<table border=\"1\" class=\"dataframe\">\n",
       "  <thead>\n",
       "    <tr style=\"text-align: right;\">\n",
       "      <th></th>\n",
       "      <th>total_area</th>\n",
       "      <th>last_price</th>\n",
       "    </tr>\n",
       "  </thead>\n",
       "  <tbody>\n",
       "    <tr>\n",
       "      <th>0</th>\n",
       "      <td>12.0</td>\n",
       "      <td>2400000.0</td>\n",
       "    </tr>\n",
       "    <tr>\n",
       "      <th>1</th>\n",
       "      <td>13.0</td>\n",
       "      <td>1850000.0</td>\n",
       "    </tr>\n",
       "    <tr>\n",
       "      <th>2</th>\n",
       "      <td>13.2</td>\n",
       "      <td>1686000.0</td>\n",
       "    </tr>\n",
       "    <tr>\n",
       "      <th>3</th>\n",
       "      <td>14.0</td>\n",
       "      <td>1190000.0</td>\n",
       "    </tr>\n",
       "    <tr>\n",
       "      <th>4</th>\n",
       "      <td>15.0</td>\n",
       "      <td>1725000.0</td>\n",
       "    </tr>\n",
       "    <tr>\n",
       "      <th>...</th>\n",
       "      <td>...</td>\n",
       "      <td>...</td>\n",
       "    </tr>\n",
       "    <tr>\n",
       "      <th>2177</th>\n",
       "      <td>590.0</td>\n",
       "      <td>65000000.0</td>\n",
       "    </tr>\n",
       "    <tr>\n",
       "      <th>2178</th>\n",
       "      <td>618.0</td>\n",
       "      <td>300000000.0</td>\n",
       "    </tr>\n",
       "    <tr>\n",
       "      <th>2179</th>\n",
       "      <td>631.0</td>\n",
       "      <td>140000000.0</td>\n",
       "    </tr>\n",
       "    <tr>\n",
       "      <th>2180</th>\n",
       "      <td>631.2</td>\n",
       "      <td>140000000.0</td>\n",
       "    </tr>\n",
       "    <tr>\n",
       "      <th>2181</th>\n",
       "      <td>900.0</td>\n",
       "      <td>420000000.0</td>\n",
       "    </tr>\n",
       "  </tbody>\n",
       "</table>\n",
       "<p>2182 rows × 2 columns</p>\n",
       "</div>"
      ],
      "text/plain": [
       "      total_area   last_price\n",
       "0           12.0    2400000.0\n",
       "1           13.0    1850000.0\n",
       "2           13.2    1686000.0\n",
       "3           14.0    1190000.0\n",
       "4           15.0    1725000.0\n",
       "...          ...          ...\n",
       "2177       590.0   65000000.0\n",
       "2178       618.0  300000000.0\n",
       "2179       631.0  140000000.0\n",
       "2180       631.2  140000000.0\n",
       "2181       900.0  420000000.0\n",
       "\n",
       "[2182 rows x 2 columns]"
      ]
     },
     "execution_count": 61,
     "metadata": {},
     "output_type": "execute_result"
    }
   ],
   "source": [
    "price_on_total_area = data.pivot_table(index='total_area', values='last_price', aggfunc='median').reset_index()\n",
    "price_on_total_area"
   ]
  },
  {
   "cell_type": "code",
   "execution_count": 63,
   "id": "0b732d39",
   "metadata": {},
   "outputs": [
    {
     "data": {
      "text/plain": [
       "<AxesSubplot:xlabel='total_area', ylabel='last_price'>"
      ]
     },
     "execution_count": 63,
     "metadata": {},
     "output_type": "execute_result"
    },
    {
     "data": {
      "image/png": "[encoded data removed]",
      "text/plain": [
       "<Figure size 640x480 with 1 Axes>"
      ]
     },
     "metadata": {},
     "output_type": "display_data"
    }
   ],
   "source": [
    "price_on_total_area.plot(x='total_area', y='last_price', kind='scatter')"
   ]
  },
  {
   "cell_type": "code",
   "execution_count": 64,
   "id": "2b6d046e",
   "metadata": {
    "scrolled": false
   },
   "outputs": [
    {
     "name": "stdout",
     "output_type": "stream",
     "text": [
      "0.7257910432358456\n"
     ]
    }
   ],
   "source": [
    "print(price_on_total_area['total_area'].corr(price_on_total_area['last_price']))"
   ]
  },
  {
   "cell_type": "markdown",
   "id": "fb73841a",
   "metadata": {},
   "source": [
    "На графике основная масса точек расположена там, где малые площади и малая стоимость. Далее по графику идет более частый разброс точек. Следовательно, в среднем чем больше площадь, тем больше стоимость квартиры.\n",
    "\n",
    "По корреляции Пирсона можно сказать, что зависимость между площадью квартиры и ценой достаточно высокая."
   ]
  },
  {
   "cell_type": "markdown",
   "id": "9907f179",
   "metadata": {},
   "source": [
    "Вероятно, такие скачки цен на графике обусловлены населенными пунктами, где продается жилье, так как квартиры одинаковой площади в Санкт-Петербурге и в Ленинградской области будут стоить по-разному. В целом на графике видна тенденция к тому, что чем больше площадь квартиры, тем больше она будет стоить."
   ]
  },
  {
   "cell_type": "markdown",
   "id": "408f450f",
   "metadata": {},
   "source": [
    "##### 4.3.2 Зависимость цены от жилой площади."
   ]
  },
  {
   "cell_type": "code",
   "execution_count": 65,
   "id": "aa6619ef",
   "metadata": {},
   "outputs": [
    {
     "data": {
      "text/html": [
       "<div>\n",
       "<style scoped>\n",
       "    .dataframe tbody tr th:only-of-type {\n",
       "        vertical-align: middle;\n",
       "    }\n",
       "\n",
       "    .dataframe tbody tr th {\n",
       "        vertical-align: top;\n",
       "    }\n",
       "\n",
       "    .dataframe thead th {\n",
       "        text-align: right;\n",
       "    }\n",
       "</style>\n",
       "<table border=\"1\" class=\"dataframe\">\n",
       "  <thead>\n",
       "    <tr style=\"text-align: right;\">\n",
       "      <th></th>\n",
       "      <th>living_area</th>\n",
       "      <th>last_price</th>\n",
       "    </tr>\n",
       "  </thead>\n",
       "  <tbody>\n",
       "    <tr>\n",
       "      <th>0</th>\n",
       "      <td>2.000000</td>\n",
       "      <td>4340000.0</td>\n",
       "    </tr>\n",
       "    <tr>\n",
       "      <th>1</th>\n",
       "      <td>3.000000</td>\n",
       "      <td>34715000.0</td>\n",
       "    </tr>\n",
       "    <tr>\n",
       "      <th>2</th>\n",
       "      <td>5.000000</td>\n",
       "      <td>2680000.0</td>\n",
       "    </tr>\n",
       "    <tr>\n",
       "      <th>3</th>\n",
       "      <td>5.400000</td>\n",
       "      <td>6100000.0</td>\n",
       "    </tr>\n",
       "    <tr>\n",
       "      <th>4</th>\n",
       "      <td>6.000000</td>\n",
       "      <td>3799000.0</td>\n",
       "    </tr>\n",
       "    <tr>\n",
       "      <th>...</th>\n",
       "      <td>...</td>\n",
       "      <td>...</td>\n",
       "    </tr>\n",
       "    <tr>\n",
       "      <th>2621</th>\n",
       "      <td>339.705882</td>\n",
       "      <td>230000000.0</td>\n",
       "    </tr>\n",
       "    <tr>\n",
       "      <th>2622</th>\n",
       "      <td>347.500000</td>\n",
       "      <td>91500000.0</td>\n",
       "    </tr>\n",
       "    <tr>\n",
       "      <th>2623</th>\n",
       "      <td>409.000000</td>\n",
       "      <td>65000000.0</td>\n",
       "    </tr>\n",
       "    <tr>\n",
       "      <th>2624</th>\n",
       "      <td>409.700000</td>\n",
       "      <td>420000000.0</td>\n",
       "    </tr>\n",
       "    <tr>\n",
       "      <th>2625</th>\n",
       "      <td>430.133948</td>\n",
       "      <td>140000000.0</td>\n",
       "    </tr>\n",
       "  </tbody>\n",
       "</table>\n",
       "<p>2626 rows × 2 columns</p>\n",
       "</div>"
      ],
      "text/plain": [
       "      living_area   last_price\n",
       "0        2.000000    4340000.0\n",
       "1        3.000000   34715000.0\n",
       "2        5.000000    2680000.0\n",
       "3        5.400000    6100000.0\n",
       "4        6.000000    3799000.0\n",
       "...           ...          ...\n",
       "2621   339.705882  230000000.0\n",
       "2622   347.500000   91500000.0\n",
       "2623   409.000000   65000000.0\n",
       "2624   409.700000  420000000.0\n",
       "2625   430.133948  140000000.0\n",
       "\n",
       "[2626 rows x 2 columns]"
      ]
     },
     "execution_count": 65,
     "metadata": {},
     "output_type": "execute_result"
    }
   ],
   "source": [
    "price_on_living_area = data.pivot_table(index='living_area', values='last_price', aggfunc='median').reset_index()\n",
    "price_on_living_area"
   ]
  },
  {
   "cell_type": "code",
   "execution_count": 67,
   "id": "a0124fea",
   "metadata": {},
   "outputs": [
    {
     "data": {
      "text/plain": [
       "<AxesSubplot:xlabel='living_area', ylabel='last_price'>"
      ]
     },
     "execution_count": 67,
     "metadata": {},
     "output_type": "execute_result"
    },
    {
     "data": {
      "image/png": "[encoded data removed]",
      "text/plain": [
       "<Figure size 640x480 with 1 Axes>"
      ]
     },
     "metadata": {},
     "output_type": "display_data"
    }
   ],
   "source": [
    "price_on_living_area.plot(x='living_area', y='last_price', kind='scatter')"
   ]
  },
  {
   "cell_type": "code",
   "execution_count": 68,
   "id": "ef970de5",
   "metadata": {},
   "outputs": [
    {
     "name": "stdout",
     "output_type": "stream",
     "text": [
      "0.6776064446095135\n"
     ]
    }
   ],
   "source": [
    "print(price_on_living_area['living_area'].corr(price_on_living_area['last_price']))"
   ]
  },
  {
   "cell_type": "markdown",
   "id": "fef03d2c",
   "metadata": {},
   "source": [
    "Как и в случае с общей площадью, чем больше жилая площадь, тем больше цена за квартиру."
   ]
  },
  {
   "cell_type": "markdown",
   "id": "b280c1a4",
   "metadata": {},
   "source": [
    "##### 4.3.3 Зависимость цены от площади кухни."
   ]
  },
  {
   "cell_type": "code",
   "execution_count": 69,
   "id": "5f5bf60f",
   "metadata": {},
   "outputs": [
    {
     "data": {
      "text/html": [
       "<div>\n",
       "<style scoped>\n",
       "    .dataframe tbody tr th:only-of-type {\n",
       "        vertical-align: middle;\n",
       "    }\n",
       "\n",
       "    .dataframe tbody tr th {\n",
       "        vertical-align: top;\n",
       "    }\n",
       "\n",
       "    .dataframe thead th {\n",
       "        text-align: right;\n",
       "    }\n",
       "</style>\n",
       "<table border=\"1\" class=\"dataframe\">\n",
       "  <thead>\n",
       "    <tr style=\"text-align: right;\">\n",
       "      <th></th>\n",
       "      <th>kitchen_area</th>\n",
       "      <th>last_price</th>\n",
       "    </tr>\n",
       "  </thead>\n",
       "  <tbody>\n",
       "    <tr>\n",
       "      <th>0</th>\n",
       "      <td>0.000000</td>\n",
       "      <td>2700000.0</td>\n",
       "    </tr>\n",
       "    <tr>\n",
       "      <th>1</th>\n",
       "      <td>1.300000</td>\n",
       "      <td>4250000.0</td>\n",
       "    </tr>\n",
       "    <tr>\n",
       "      <th>2</th>\n",
       "      <td>2.000000</td>\n",
       "      <td>2720000.0</td>\n",
       "    </tr>\n",
       "    <tr>\n",
       "      <th>3</th>\n",
       "      <td>2.300000</td>\n",
       "      <td>2940000.0</td>\n",
       "    </tr>\n",
       "    <tr>\n",
       "      <th>4</th>\n",
       "      <td>2.400000</td>\n",
       "      <td>2200000.0</td>\n",
       "    </tr>\n",
       "    <tr>\n",
       "      <th>...</th>\n",
       "      <td>...</td>\n",
       "      <td>...</td>\n",
       "    </tr>\n",
       "    <tr>\n",
       "      <th>1831</th>\n",
       "      <td>100.000000</td>\n",
       "      <td>65000000.0</td>\n",
       "    </tr>\n",
       "    <tr>\n",
       "      <th>1832</th>\n",
       "      <td>100.700000</td>\n",
       "      <td>12500000.0</td>\n",
       "    </tr>\n",
       "    <tr>\n",
       "      <th>1833</th>\n",
       "      <td>107.000000</td>\n",
       "      <td>85000000.0</td>\n",
       "    </tr>\n",
       "    <tr>\n",
       "      <th>1834</th>\n",
       "      <td>112.000000</td>\n",
       "      <td>420000000.0</td>\n",
       "    </tr>\n",
       "    <tr>\n",
       "      <th>1835</th>\n",
       "      <td>122.457061</td>\n",
       "      <td>43185328.0</td>\n",
       "    </tr>\n",
       "  </tbody>\n",
       "</table>\n",
       "<p>1836 rows × 2 columns</p>\n",
       "</div>"
      ],
      "text/plain": [
       "      kitchen_area   last_price\n",
       "0         0.000000    2700000.0\n",
       "1         1.300000    4250000.0\n",
       "2         2.000000    2720000.0\n",
       "3         2.300000    2940000.0\n",
       "4         2.400000    2200000.0\n",
       "...            ...          ...\n",
       "1831    100.000000   65000000.0\n",
       "1832    100.700000   12500000.0\n",
       "1833    107.000000   85000000.0\n",
       "1834    112.000000  420000000.0\n",
       "1835    122.457061   43185328.0\n",
       "\n",
       "[1836 rows x 2 columns]"
      ]
     },
     "execution_count": 69,
     "metadata": {},
     "output_type": "execute_result"
    }
   ],
   "source": [
    "price_on_kitchen_area = data.pivot_table(index='kitchen_area', values='last_price', aggfunc='median').reset_index()\n",
    "price_on_kitchen_area"
   ]
  },
  {
   "cell_type": "code",
   "execution_count": 71,
   "id": "b077776c",
   "metadata": {},
   "outputs": [
    {
     "data": {
      "text/plain": [
       "<AxesSubplot:xlabel='kitchen_area', ylabel='last_price'>"
      ]
     },
     "execution_count": 71,
     "metadata": {},
     "output_type": "execute_result"
    },
    {
     "data": {
      "image/png": "[encoded data removed]",
      "text/plain": [
       "<Figure size 640x480 with 1 Axes>"
      ]
     },
     "metadata": {},
     "output_type": "display_data"
    }
   ],
   "source": [
    "price_on_kitchen_area.plot(x='kitchen_area', y='last_price', kind='scatter')"
   ]
  },
  {
   "cell_type": "code",
   "execution_count": 72,
   "id": "d0c6d4d7",
   "metadata": {},
   "outputs": [
    {
     "name": "stdout",
     "output_type": "stream",
     "text": [
      "0.5637511053077838\n"
     ]
    }
   ],
   "source": [
    "print(price_on_kitchen_area['kitchen_area'].corr(price_on_kitchen_area['last_price']))"
   ]
  },
  {
   "cell_type": "markdown",
   "id": "f3eefa78",
   "metadata": {},
   "source": [
    "Как и в случае с общей площадью, чем больше площадь кухни, тем больше цена за квартиру, но корреляция по коэффициенту Пирсона не такая сильная и составляет всего 0,56."
   ]
  },
  {
   "cell_type": "markdown",
   "id": "41b20c59",
   "metadata": {},
   "source": [
    "##### 4.3.4 Зависимость цены от количества комнат."
   ]
  },
  {
   "cell_type": "code",
   "execution_count": 73,
   "id": "3d1617fe",
   "metadata": {},
   "outputs": [
    {
     "data": {
      "text/html": [
       "<div>\n",
       "<style scoped>\n",
       "    .dataframe tbody tr th:only-of-type {\n",
       "        vertical-align: middle;\n",
       "    }\n",
       "\n",
       "    .dataframe tbody tr th {\n",
       "        vertical-align: top;\n",
       "    }\n",
       "\n",
       "    .dataframe thead th {\n",
       "        text-align: right;\n",
       "    }\n",
       "</style>\n",
       "<table border=\"1\" class=\"dataframe\">\n",
       "  <thead>\n",
       "    <tr style=\"text-align: right;\">\n",
       "      <th></th>\n",
       "      <th>rooms</th>\n",
       "      <th>last_price</th>\n",
       "    </tr>\n",
       "  </thead>\n",
       "  <tbody>\n",
       "    <tr>\n",
       "      <th>0</th>\n",
       "      <td>0</td>\n",
       "      <td>2700000</td>\n",
       "    </tr>\n",
       "    <tr>\n",
       "      <th>1</th>\n",
       "      <td>1</td>\n",
       "      <td>3600000</td>\n",
       "    </tr>\n",
       "    <tr>\n",
       "      <th>2</th>\n",
       "      <td>2</td>\n",
       "      <td>4772669</td>\n",
       "    </tr>\n",
       "    <tr>\n",
       "      <th>3</th>\n",
       "      <td>3</td>\n",
       "      <td>6200000</td>\n",
       "    </tr>\n",
       "    <tr>\n",
       "      <th>4</th>\n",
       "      <td>4</td>\n",
       "      <td>9000000</td>\n",
       "    </tr>\n",
       "    <tr>\n",
       "      <th>5</th>\n",
       "      <td>5</td>\n",
       "      <td>14000000</td>\n",
       "    </tr>\n",
       "    <tr>\n",
       "      <th>6</th>\n",
       "      <td>6</td>\n",
       "      <td>19000000</td>\n",
       "    </tr>\n",
       "    <tr>\n",
       "      <th>7</th>\n",
       "      <td>7</td>\n",
       "      <td>24900000</td>\n",
       "    </tr>\n",
       "    <tr>\n",
       "      <th>8</th>\n",
       "      <td>8</td>\n",
       "      <td>23095000</td>\n",
       "    </tr>\n",
       "    <tr>\n",
       "      <th>9</th>\n",
       "      <td>9</td>\n",
       "      <td>23750000</td>\n",
       "    </tr>\n",
       "    <tr>\n",
       "      <th>10</th>\n",
       "      <td>10</td>\n",
       "      <td>23000000</td>\n",
       "    </tr>\n",
       "    <tr>\n",
       "      <th>11</th>\n",
       "      <td>11</td>\n",
       "      <td>25250000</td>\n",
       "    </tr>\n",
       "    <tr>\n",
       "      <th>12</th>\n",
       "      <td>12</td>\n",
       "      <td>420000000</td>\n",
       "    </tr>\n",
       "    <tr>\n",
       "      <th>13</th>\n",
       "      <td>14</td>\n",
       "      <td>26829500</td>\n",
       "    </tr>\n",
       "    <tr>\n",
       "      <th>14</th>\n",
       "      <td>15</td>\n",
       "      <td>65000000</td>\n",
       "    </tr>\n",
       "    <tr>\n",
       "      <th>15</th>\n",
       "      <td>16</td>\n",
       "      <td>28500000</td>\n",
       "    </tr>\n",
       "    <tr>\n",
       "      <th>16</th>\n",
       "      <td>19</td>\n",
       "      <td>32250000</td>\n",
       "    </tr>\n",
       "  </tbody>\n",
       "</table>\n",
       "</div>"
      ],
      "text/plain": [
       "    rooms  last_price\n",
       "0       0     2700000\n",
       "1       1     3600000\n",
       "2       2     4772669\n",
       "3       3     6200000\n",
       "4       4     9000000\n",
       "5       5    14000000\n",
       "6       6    19000000\n",
       "7       7    24900000\n",
       "8       8    23095000\n",
       "9       9    23750000\n",
       "10     10    23000000\n",
       "11     11    25250000\n",
       "12     12   420000000\n",
       "13     14    26829500\n",
       "14     15    65000000\n",
       "15     16    28500000\n",
       "16     19    32250000"
      ]
     },
     "execution_count": 73,
     "metadata": {},
     "output_type": "execute_result"
    }
   ],
   "source": [
    "price_on_rooms = data.pivot_table(index='rooms', values='last_price', aggfunc='median').reset_index()\n",
    "price_on_rooms"
   ]
  },
  {
   "cell_type": "code",
   "execution_count": 74,
   "id": "c1c7eab5",
   "metadata": {},
   "outputs": [
    {
     "data": {
      "text/plain": [
       "<AxesSubplot:xlabel='rooms'>"
      ]
     },
     "execution_count": 74,
     "metadata": {},
     "output_type": "execute_result"
    },
    {
     "data": {
      "image/png": "[encoded data removed]",
      "text/plain": [
       "<Figure size 640x480 with 1 Axes>"
      ]
     },
     "metadata": {},
     "output_type": "display_data"
    }
   ],
   "source": [
    "price_on_rooms.plot(x='rooms', y='last_price', kind='line')"
   ]
  },
  {
   "cell_type": "code",
   "execution_count": 75,
   "id": "bbf6bc8f",
   "metadata": {},
   "outputs": [
    {
     "name": "stdout",
     "output_type": "stream",
     "text": [
      "0.28609757818635584\n"
     ]
    }
   ],
   "source": [
    "print(price_on_rooms['rooms'].corr(price_on_rooms['last_price']))"
   ]
  },
  {
   "cell_type": "markdown",
   "id": "00909c66",
   "metadata": {},
   "source": [
    "В целом можно сказать, что чем больше комнат в квартире, тем больше она будет стоить, но здесь еще смежным особо влияющим фактором является площадь квартиры, а коэффициент Пирсона мал и составляет 0,28."
   ]
  },
  {
   "cell_type": "markdown",
   "id": "f2483b6c",
   "metadata": {},
   "source": [
    "##### 4.3.5 Зависимость цены от этажа, на котором расположена квартира (первый, последний, другой)."
   ]
  },
  {
   "cell_type": "code",
   "execution_count": 76,
   "id": "b169c20e",
   "metadata": {},
   "outputs": [
    {
     "data": {
      "text/html": [
       "<div>\n",
       "<style scoped>\n",
       "    .dataframe tbody tr th:only-of-type {\n",
       "        vertical-align: middle;\n",
       "    }\n",
       "\n",
       "    .dataframe tbody tr th {\n",
       "        vertical-align: top;\n",
       "    }\n",
       "\n",
       "    .dataframe thead th {\n",
       "        text-align: right;\n",
       "    }\n",
       "</style>\n",
       "<table border=\"1\" class=\"dataframe\">\n",
       "  <thead>\n",
       "    <tr style=\"text-align: right;\">\n",
       "      <th></th>\n",
       "      <th>last_price</th>\n",
       "    </tr>\n",
       "    <tr>\n",
       "      <th>type_of_floor</th>\n",
       "      <th></th>\n",
       "    </tr>\n",
       "  </thead>\n",
       "  <tbody>\n",
       "    <tr>\n",
       "      <th>другой</th>\n",
       "      <td>4850000</td>\n",
       "    </tr>\n",
       "    <tr>\n",
       "      <th>первый</th>\n",
       "      <td>3900000</td>\n",
       "    </tr>\n",
       "    <tr>\n",
       "      <th>последний</th>\n",
       "      <td>4300000</td>\n",
       "    </tr>\n",
       "  </tbody>\n",
       "</table>\n",
       "</div>"
      ],
      "text/plain": [
       "               last_price\n",
       "type_of_floor            \n",
       "другой            4850000\n",
       "первый            3900000\n",
       "последний         4300000"
      ]
     },
     "execution_count": 76,
     "metadata": {},
     "output_type": "execute_result"
    }
   ],
   "source": [
    "price_on_type_of_floor = data.pivot_table(index='type_of_floor', values='last_price', aggfunc='median')\n",
    "price_on_type_of_floor"
   ]
  },
  {
   "cell_type": "code",
   "execution_count": 77,
   "id": "28659ae2",
   "metadata": {},
   "outputs": [
    {
     "data": {
      "text/plain": [
       "<AxesSubplot:xlabel='type_of_floor'>"
      ]
     },
     "execution_count": 77,
     "metadata": {},
     "output_type": "execute_result"
    },
    {
     "data": {
      "image/png": "[encoded data removed]",
      "text/plain": [
       "<Figure size 640x480 with 1 Axes>"
      ]
     },
     "metadata": {},
     "output_type": "display_data"
    }
   ],
   "source": [
    "price_on_type_of_floor.plot(kind='bar')"
   ]
  },
  {
   "cell_type": "markdown",
   "id": "cac543d2",
   "metadata": {},
   "source": [
    "Квартиры дешевле на первых и последних этажах, а на других — дороже."
   ]
  },
  {
   "cell_type": "markdown",
   "id": "1a024a00",
   "metadata": {},
   "source": [
    "##### 4.3.6 Зависимость цены от дня недели размещения."
   ]
  },
  {
   "cell_type": "code",
   "execution_count": 78,
   "id": "545305d8",
   "metadata": {},
   "outputs": [
    {
     "data": {
      "text/html": [
       "<div>\n",
       "<style scoped>\n",
       "    .dataframe tbody tr th:only-of-type {\n",
       "        vertical-align: middle;\n",
       "    }\n",
       "\n",
       "    .dataframe tbody tr th {\n",
       "        vertical-align: top;\n",
       "    }\n",
       "\n",
       "    .dataframe thead th {\n",
       "        text-align: right;\n",
       "    }\n",
       "</style>\n",
       "<table border=\"1\" class=\"dataframe\">\n",
       "  <thead>\n",
       "    <tr style=\"text-align: right;\">\n",
       "      <th></th>\n",
       "      <th>last_price</th>\n",
       "    </tr>\n",
       "    <tr>\n",
       "      <th>day_week_exposition</th>\n",
       "      <th></th>\n",
       "    </tr>\n",
       "  </thead>\n",
       "  <tbody>\n",
       "    <tr>\n",
       "      <th>0</th>\n",
       "      <td>4650000</td>\n",
       "    </tr>\n",
       "    <tr>\n",
       "      <th>1</th>\n",
       "      <td>4730000</td>\n",
       "    </tr>\n",
       "    <tr>\n",
       "      <th>2</th>\n",
       "      <td>4700000</td>\n",
       "    </tr>\n",
       "    <tr>\n",
       "      <th>3</th>\n",
       "      <td>4650000</td>\n",
       "    </tr>\n",
       "    <tr>\n",
       "      <th>4</th>\n",
       "      <td>4585000</td>\n",
       "    </tr>\n",
       "    <tr>\n",
       "      <th>5</th>\n",
       "      <td>4555000</td>\n",
       "    </tr>\n",
       "    <tr>\n",
       "      <th>6</th>\n",
       "      <td>4550000</td>\n",
       "    </tr>\n",
       "  </tbody>\n",
       "</table>\n",
       "</div>"
      ],
      "text/plain": [
       "                     last_price\n",
       "day_week_exposition            \n",
       "0                       4650000\n",
       "1                       4730000\n",
       "2                       4700000\n",
       "3                       4650000\n",
       "4                       4585000\n",
       "5                       4555000\n",
       "6                       4550000"
      ]
     },
     "execution_count": 78,
     "metadata": {},
     "output_type": "execute_result"
    }
   ],
   "source": [
    "price_on_day_week_exposition = data.pivot_table(index='day_week_exposition', values='last_price', aggfunc='median')\n",
    "price_on_day_week_exposition"
   ]
  },
  {
   "cell_type": "code",
   "execution_count": 79,
   "id": "779e77a2",
   "metadata": {},
   "outputs": [
    {
     "data": {
      "text/plain": [
       "<AxesSubplot:xlabel='day_week_exposition'>"
      ]
     },
     "execution_count": 79,
     "metadata": {},
     "output_type": "execute_result"
    },
    {
     "data": {
      "image/png": "[encoded data removed]",
      "text/plain": [
       "<Figure size 640x480 with 1 Axes>"
      ]
     },
     "metadata": {},
     "output_type": "display_data"
    }
   ],
   "source": [
    "price_on_day_week_exposition.plot(kind='line')"
   ]
  },
  {
   "cell_type": "markdown",
   "id": "9a9a4036",
   "metadata": {},
   "source": [
    "Самые дорогие квартиры публикуются по вторникам, к концу недели стоимость идет на спад."
   ]
  },
  {
   "cell_type": "markdown",
   "id": "4239362d",
   "metadata": {},
   "source": [
    "##### 4.3.7 Зависимость цены от месяца размещения."
   ]
  },
  {
   "cell_type": "code",
   "execution_count": 80,
   "id": "e088fa20",
   "metadata": {},
   "outputs": [
    {
     "data": {
      "text/html": [
       "<div>\n",
       "<style scoped>\n",
       "    .dataframe tbody tr th:only-of-type {\n",
       "        vertical-align: middle;\n",
       "    }\n",
       "\n",
       "    .dataframe tbody tr th {\n",
       "        vertical-align: top;\n",
       "    }\n",
       "\n",
       "    .dataframe thead th {\n",
       "        text-align: right;\n",
       "    }\n",
       "</style>\n",
       "<table border=\"1\" class=\"dataframe\">\n",
       "  <thead>\n",
       "    <tr style=\"text-align: right;\">\n",
       "      <th></th>\n",
       "      <th>last_price</th>\n",
       "    </tr>\n",
       "    <tr>\n",
       "      <th>month_exposition</th>\n",
       "      <th></th>\n",
       "    </tr>\n",
       "  </thead>\n",
       "  <tbody>\n",
       "    <tr>\n",
       "      <th>1</th>\n",
       "      <td>4600000</td>\n",
       "    </tr>\n",
       "    <tr>\n",
       "      <th>2</th>\n",
       "      <td>4650000</td>\n",
       "    </tr>\n",
       "    <tr>\n",
       "      <th>3</th>\n",
       "      <td>4650000</td>\n",
       "    </tr>\n",
       "    <tr>\n",
       "      <th>4</th>\n",
       "      <td>4800000</td>\n",
       "    </tr>\n",
       "    <tr>\n",
       "      <th>5</th>\n",
       "      <td>4515000</td>\n",
       "    </tr>\n",
       "    <tr>\n",
       "      <th>6</th>\n",
       "      <td>4400000</td>\n",
       "    </tr>\n",
       "    <tr>\n",
       "      <th>7</th>\n",
       "      <td>4650000</td>\n",
       "    </tr>\n",
       "    <tr>\n",
       "      <th>8</th>\n",
       "      <td>4570000</td>\n",
       "    </tr>\n",
       "    <tr>\n",
       "      <th>9</th>\n",
       "      <td>4700000</td>\n",
       "    </tr>\n",
       "    <tr>\n",
       "      <th>10</th>\n",
       "      <td>4570000</td>\n",
       "    </tr>\n",
       "    <tr>\n",
       "      <th>11</th>\n",
       "      <td>4700000</td>\n",
       "    </tr>\n",
       "    <tr>\n",
       "      <th>12</th>\n",
       "      <td>4700000</td>\n",
       "    </tr>\n",
       "  </tbody>\n",
       "</table>\n",
       "</div>"
      ],
      "text/plain": [
       "                  last_price\n",
       "month_exposition            \n",
       "1                    4600000\n",
       "2                    4650000\n",
       "3                    4650000\n",
       "4                    4800000\n",
       "5                    4515000\n",
       "6                    4400000\n",
       "7                    4650000\n",
       "8                    4570000\n",
       "9                    4700000\n",
       "10                   4570000\n",
       "11                   4700000\n",
       "12                   4700000"
      ]
     },
     "execution_count": 80,
     "metadata": {},
     "output_type": "execute_result"
    }
   ],
   "source": [
    "price_on_month_exposition = data.pivot_table(index='month_exposition', values='last_price', aggfunc='median')\n",
    "price_on_month_exposition"
   ]
  },
  {
   "cell_type": "code",
   "execution_count": 81,
   "id": "b339bd86",
   "metadata": {},
   "outputs": [
    {
     "data": {
      "text/plain": [
       "<AxesSubplot:xlabel='month_exposition'>"
      ]
     },
     "execution_count": 81,
     "metadata": {},
     "output_type": "execute_result"
    },
    {
     "data": {
      "image/png": "[encoded data removed]",
      "text/plain": [
       "<Figure size 640x480 with 1 Axes>"
      ]
     },
     "metadata": {},
     "output_type": "display_data"
    }
   ],
   "source": [
    "price_on_month_exposition.plot(kind='line')"
   ]
  },
  {
   "cell_type": "markdown",
   "id": "2f4ceef4",
   "metadata": {},
   "source": [
    "Дешевле всего квартиры, публикация которых состоялась в июне, а дороже всего — в апреле."
   ]
  },
  {
   "cell_type": "markdown",
   "id": "f695e0ac",
   "metadata": {},
   "source": [
    "##### 4.3.8 Зависимость цены от года размещения."
   ]
  },
  {
   "cell_type": "code",
   "execution_count": 82,
   "id": "d754ab6c",
   "metadata": {},
   "outputs": [
    {
     "data": {
      "text/html": [
       "<div>\n",
       "<style scoped>\n",
       "    .dataframe tbody tr th:only-of-type {\n",
       "        vertical-align: middle;\n",
       "    }\n",
       "\n",
       "    .dataframe tbody tr th {\n",
       "        vertical-align: top;\n",
       "    }\n",
       "\n",
       "    .dataframe thead th {\n",
       "        text-align: right;\n",
       "    }\n",
       "</style>\n",
       "<table border=\"1\" class=\"dataframe\">\n",
       "  <thead>\n",
       "    <tr style=\"text-align: right;\">\n",
       "      <th></th>\n",
       "      <th>last_price</th>\n",
       "    </tr>\n",
       "    <tr>\n",
       "      <th>year_exposition</th>\n",
       "      <th></th>\n",
       "    </tr>\n",
       "  </thead>\n",
       "  <tbody>\n",
       "    <tr>\n",
       "      <th>2014</th>\n",
       "      <td>7700000</td>\n",
       "    </tr>\n",
       "    <tr>\n",
       "      <th>2015</th>\n",
       "      <td>5350000</td>\n",
       "    </tr>\n",
       "    <tr>\n",
       "      <th>2016</th>\n",
       "      <td>4550000</td>\n",
       "    </tr>\n",
       "    <tr>\n",
       "      <th>2017</th>\n",
       "      <td>4500000</td>\n",
       "    </tr>\n",
       "    <tr>\n",
       "      <th>2018</th>\n",
       "      <td>4550000</td>\n",
       "    </tr>\n",
       "    <tr>\n",
       "      <th>2019</th>\n",
       "      <td>5050000</td>\n",
       "    </tr>\n",
       "  </tbody>\n",
       "</table>\n",
       "</div>"
      ],
      "text/plain": [
       "                 last_price\n",
       "year_exposition            \n",
       "2014                7700000\n",
       "2015                5350000\n",
       "2016                4550000\n",
       "2017                4500000\n",
       "2018                4550000\n",
       "2019                5050000"
      ]
     },
     "execution_count": 82,
     "metadata": {},
     "output_type": "execute_result"
    }
   ],
   "source": [
    "price_on_year_exposition = data.pivot_table(index='year_exposition', values='last_price', aggfunc='median')\n",
    "price_on_year_exposition"
   ]
  },
  {
   "cell_type": "code",
   "execution_count": 83,
   "id": "47ce818b",
   "metadata": {},
   "outputs": [
    {
     "data": {
      "text/plain": [
       "<AxesSubplot:xlabel='year_exposition'>"
      ]
     },
     "execution_count": 83,
     "metadata": {},
     "output_type": "execute_result"
    },
    {
     "data": {
      "image/png": "[encoded data removed]",
      "text/plain": [
       "<Figure size 640x480 with 1 Axes>"
      ]
     },
     "metadata": {},
     "output_type": "display_data"
    }
   ],
   "source": [
    "price_on_year_exposition.plot(kind='line')"
   ]
  },
  {
   "cell_type": "markdown",
   "id": "811945de",
   "metadata": {},
   "source": [
    "На графике можно заметить спад цен на квартиры с 2014 года по 2017 год, а затем снова рост с 2017 года по 2019 год."
   ]
  },
  {
   "cell_type": "code",
   "execution_count": 84,
   "id": "4345ef6e",
   "metadata": {},
   "outputs": [
    {
     "data": {
      "text/html": [
       "<div>\n",
       "<style scoped>\n",
       "    .dataframe tbody tr th:only-of-type {\n",
       "        vertical-align: middle;\n",
       "    }\n",
       "\n",
       "    .dataframe tbody tr th {\n",
       "        vertical-align: top;\n",
       "    }\n",
       "\n",
       "    .dataframe thead th {\n",
       "        text-align: right;\n",
       "    }\n",
       "</style>\n",
       "<table border=\"1\" class=\"dataframe\">\n",
       "  <thead>\n",
       "    <tr style=\"text-align: right;\">\n",
       "      <th></th>\n",
       "      <th>total_area</th>\n",
       "    </tr>\n",
       "    <tr>\n",
       "      <th>year_exposition</th>\n",
       "      <th></th>\n",
       "    </tr>\n",
       "  </thead>\n",
       "  <tbody>\n",
       "    <tr>\n",
       "      <th>2014</th>\n",
       "      <td>76.26</td>\n",
       "    </tr>\n",
       "    <tr>\n",
       "      <th>2015</th>\n",
       "      <td>60.00</td>\n",
       "    </tr>\n",
       "    <tr>\n",
       "      <th>2016</th>\n",
       "      <td>53.10</td>\n",
       "    </tr>\n",
       "    <tr>\n",
       "      <th>2017</th>\n",
       "      <td>52.00</td>\n",
       "    </tr>\n",
       "    <tr>\n",
       "      <th>2018</th>\n",
       "      <td>50.50</td>\n",
       "    </tr>\n",
       "    <tr>\n",
       "      <th>2019</th>\n",
       "      <td>52.00</td>\n",
       "    </tr>\n",
       "  </tbody>\n",
       "</table>\n",
       "</div>"
      ],
      "text/plain": [
       "                 total_area\n",
       "year_exposition            \n",
       "2014                  76.26\n",
       "2015                  60.00\n",
       "2016                  53.10\n",
       "2017                  52.00\n",
       "2018                  50.50\n",
       "2019                  52.00"
      ]
     },
     "execution_count": 84,
     "metadata": {},
     "output_type": "execute_result"
    }
   ],
   "source": [
    "area_on_year_exposition = data.pivot_table(index='year_exposition', values='total_area', aggfunc='median')\n",
    "area_on_year_exposition"
   ]
  },
  {
   "cell_type": "code",
   "execution_count": 85,
   "id": "65024e6f",
   "metadata": {
    "scrolled": true
   },
   "outputs": [
    {
     "data": {
      "text/plain": [
       "<AxesSubplot:xlabel='year_exposition'>"
      ]
     },
     "execution_count": 85,
     "metadata": {},
     "output_type": "execute_result"
    },
    {
     "data": {
      "image/png": "[encoded data removed]",
      "text/plain": [
       "<Figure size 640x480 with 1 Axes>"
      ]
     },
     "metadata": {},
     "output_type": "display_data"
    }
   ],
   "source": [
    "area_on_year_exposition.plot(kind='line')"
   ]
  },
  {
   "cell_type": "markdown",
   "id": "8a00c5a9",
   "metadata": {},
   "source": [
    "График зависимости средней площади от года размещения объявления и график зависимости средней цены квартир от года размещения объявления почти похожи по спаду и росту. Выходит, что год размещения объявления не влияет столько на цену, сколько влияет площадь."
   ]
  },
  {
   "cell_type": "markdown",
   "id": "8d89369e",
   "metadata": {},
   "source": [
    "#### 4.4 Посчитайте среднюю цену одного квадратного метра в 10 населённых пунктах с наибольшим числом объявлений. Выделите населённые пункты с самой высокой и низкой стоимостью квадратного метра. Эти данные можно найти по имени в столбце locality_name."
   ]
  },
  {
   "cell_type": "markdown",
   "id": "2a27c891",
   "metadata": {},
   "source": [
    "Составим сводную таблицу по названиям населенных пунктов `locality_name`, взяв данные из столбца цен за квадратный метр`meter_price`, а также использовав функции `count` и `mean` для количества объявлений и среднего значения цены за квадратный метр по населенному пункту соответственно."
   ]
  },
  {
   "cell_type": "code",
   "execution_count": 86,
   "id": "ecc792aa",
   "metadata": {},
   "outputs": [
    {
     "data": {
      "text/html": [
       "<div>\n",
       "<style scoped>\n",
       "    .dataframe tbody tr th:only-of-type {\n",
       "        vertical-align: middle;\n",
       "    }\n",
       "\n",
       "    .dataframe tbody tr th {\n",
       "        vertical-align: top;\n",
       "    }\n",
       "\n",
       "    .dataframe thead tr th {\n",
       "        text-align: left;\n",
       "    }\n",
       "\n",
       "    .dataframe thead tr:last-of-type th {\n",
       "        text-align: right;\n",
       "    }\n",
       "</style>\n",
       "<table border=\"1\" class=\"dataframe\">\n",
       "  <thead>\n",
       "    <tr>\n",
       "      <th></th>\n",
       "      <th>ads_amount</th>\n",
       "      <th>mean_price_meter</th>\n",
       "    </tr>\n",
       "    <tr>\n",
       "      <th></th>\n",
       "      <th></th>\n",
       "      <th></th>\n",
       "    </tr>\n",
       "    <tr>\n",
       "      <th>locality_name</th>\n",
       "      <th></th>\n",
       "      <th></th>\n",
       "    </tr>\n",
       "  </thead>\n",
       "  <tbody>\n",
       "    <tr>\n",
       "      <th>Санкт-Петербург</th>\n",
       "      <td>15721</td>\n",
       "      <td>114856.115572</td>\n",
       "    </tr>\n",
       "    <tr>\n",
       "      <th>Мурино</th>\n",
       "      <td>590</td>\n",
       "      <td>86087.510847</td>\n",
       "    </tr>\n",
       "    <tr>\n",
       "      <th>Кудрово</th>\n",
       "      <td>472</td>\n",
       "      <td>95324.928602</td>\n",
       "    </tr>\n",
       "    <tr>\n",
       "      <th>Шушары</th>\n",
       "      <td>440</td>\n",
       "      <td>78677.363636</td>\n",
       "    </tr>\n",
       "    <tr>\n",
       "      <th>Всеволожск</th>\n",
       "      <td>398</td>\n",
       "      <td>68654.475628</td>\n",
       "    </tr>\n",
       "    <tr>\n",
       "      <th>Пушкин</th>\n",
       "      <td>369</td>\n",
       "      <td>103125.818157</td>\n",
       "    </tr>\n",
       "    <tr>\n",
       "      <th>Колпино</th>\n",
       "      <td>338</td>\n",
       "      <td>75424.581953</td>\n",
       "    </tr>\n",
       "    <tr>\n",
       "      <th>Парголово</th>\n",
       "      <td>327</td>\n",
       "      <td>90175.915291</td>\n",
       "    </tr>\n",
       "    <tr>\n",
       "      <th>Гатчина</th>\n",
       "      <td>307</td>\n",
       "      <td>68746.147231</td>\n",
       "    </tr>\n",
       "    <tr>\n",
       "      <th>Выборг</th>\n",
       "      <td>237</td>\n",
       "      <td>58141.907173</td>\n",
       "    </tr>\n",
       "  </tbody>\n",
       "</table>\n",
       "</div>"
      ],
      "text/plain": [
       "                ads_amount mean_price_meter\n",
       "                                           \n",
       "locality_name                              \n",
       "Санкт-Петербург      15721    114856.115572\n",
       "Мурино                 590     86087.510847\n",
       "Кудрово                472     95324.928602\n",
       "Шушары                 440     78677.363636\n",
       "Всеволожск             398     68654.475628\n",
       "Пушкин                 369    103125.818157\n",
       "Колпино                338     75424.581953\n",
       "Парголово              327     90175.915291\n",
       "Гатчина                307     68746.147231\n",
       "Выборг                 237     58141.907173"
      ]
     },
     "execution_count": 86,
     "metadata": {},
     "output_type": "execute_result"
    }
   ],
   "source": [
    "mean_price = data.pivot_table(\n",
    "    index='locality_name', \n",
    "    values='meter_price', \n",
    "    aggfunc=['count', 'mean'],\n",
    ").rename(\n",
    "    columns={'count': 'ads_amount', 'mean': 'mean_price_meter', 'meter_price': ''}\n",
    ").sort_values(\n",
    "    by='ads_amount', \n",
    "    ascending=False\n",
    ").head(10)\n",
    "mean_price"
   ]
  },
  {
   "cell_type": "code",
   "execution_count": 87,
   "id": "e933289c",
   "metadata": {},
   "outputs": [
    {
     "data": {
      "text/html": [
       "<div>\n",
       "<style scoped>\n",
       "    .dataframe tbody tr th:only-of-type {\n",
       "        vertical-align: middle;\n",
       "    }\n",
       "\n",
       "    .dataframe tbody tr th {\n",
       "        vertical-align: top;\n",
       "    }\n",
       "\n",
       "    .dataframe thead tr th {\n",
       "        text-align: left;\n",
       "    }\n",
       "\n",
       "    .dataframe thead tr:last-of-type th {\n",
       "        text-align: right;\n",
       "    }\n",
       "</style>\n",
       "<table border=\"1\" class=\"dataframe\">\n",
       "  <thead>\n",
       "    <tr>\n",
       "      <th></th>\n",
       "      <th>ads_amount</th>\n",
       "      <th>mean_price_meter</th>\n",
       "    </tr>\n",
       "    <tr>\n",
       "      <th></th>\n",
       "      <th></th>\n",
       "      <th></th>\n",
       "    </tr>\n",
       "    <tr>\n",
       "      <th>locality_name</th>\n",
       "      <th></th>\n",
       "      <th></th>\n",
       "    </tr>\n",
       "  </thead>\n",
       "  <tbody>\n",
       "    <tr>\n",
       "      <th>Санкт-Петербург</th>\n",
       "      <td>15721</td>\n",
       "      <td>114856.115572</td>\n",
       "    </tr>\n",
       "  </tbody>\n",
       "</table>\n",
       "</div>"
      ],
      "text/plain": [
       "                ads_amount mean_price_meter\n",
       "                                           \n",
       "locality_name                              \n",
       "Санкт-Петербург      15721    114856.115572"
      ]
     },
     "metadata": {},
     "output_type": "display_data"
    },
    {
     "data": {
      "text/html": [
       "<div>\n",
       "<style scoped>\n",
       "    .dataframe tbody tr th:only-of-type {\n",
       "        vertical-align: middle;\n",
       "    }\n",
       "\n",
       "    .dataframe tbody tr th {\n",
       "        vertical-align: top;\n",
       "    }\n",
       "\n",
       "    .dataframe thead tr th {\n",
       "        text-align: left;\n",
       "    }\n",
       "\n",
       "    .dataframe thead tr:last-of-type th {\n",
       "        text-align: right;\n",
       "    }\n",
       "</style>\n",
       "<table border=\"1\" class=\"dataframe\">\n",
       "  <thead>\n",
       "    <tr>\n",
       "      <th></th>\n",
       "      <th>ads_amount</th>\n",
       "      <th>mean_price_meter</th>\n",
       "    </tr>\n",
       "    <tr>\n",
       "      <th></th>\n",
       "      <th></th>\n",
       "      <th></th>\n",
       "    </tr>\n",
       "    <tr>\n",
       "      <th>locality_name</th>\n",
       "      <th></th>\n",
       "      <th></th>\n",
       "    </tr>\n",
       "  </thead>\n",
       "  <tbody>\n",
       "    <tr>\n",
       "      <th>Выборг</th>\n",
       "      <td>237</td>\n",
       "      <td>58141.907173</td>\n",
       "    </tr>\n",
       "  </tbody>\n",
       "</table>\n",
       "</div>"
      ],
      "text/plain": [
       "              ads_amount mean_price_meter\n",
       "                                         \n",
       "locality_name                            \n",
       "Выборг               237     58141.907173"
      ]
     },
     "metadata": {},
     "output_type": "display_data"
    }
   ],
   "source": [
    "display(mean_price[mean_price['mean_price_meter'] == mean_price['mean_price_meter'].max()])\n",
    "display(mean_price[mean_price['mean_price_meter'] == mean_price['mean_price_meter'].min()])"
   ]
  },
  {
   "cell_type": "markdown",
   "id": "51a19a59",
   "metadata": {},
   "source": [
    "#### 4.5 Ранее вы посчитали расстояние до центра в километрах. Теперь выделите квартиры в Санкт-Петербурге с помощью столбца locality_name и вычислите среднюю цену каждого километра. Опишите, как стоимость объектов зависит от расстояния до центра города."
   ]
  },
  {
   "cell_type": "code",
   "execution_count": 88,
   "id": "2a736437",
   "metadata": {},
   "outputs": [
    {
     "data": {
      "text/html": [
       "<div>\n",
       "<style scoped>\n",
       "    .dataframe tbody tr th:only-of-type {\n",
       "        vertical-align: middle;\n",
       "    }\n",
       "\n",
       "    .dataframe tbody tr th {\n",
       "        vertical-align: top;\n",
       "    }\n",
       "\n",
       "    .dataframe thead th {\n",
       "        text-align: right;\n",
       "    }\n",
       "</style>\n",
       "<table border=\"1\" class=\"dataframe\">\n",
       "  <thead>\n",
       "    <tr style=\"text-align: right;\">\n",
       "      <th></th>\n",
       "      <th>last_price</th>\n",
       "      <th>cityCenter_km</th>\n",
       "      <th>price_km</th>\n",
       "    </tr>\n",
       "  </thead>\n",
       "  <tbody>\n",
       "    <tr>\n",
       "      <th>0</th>\n",
       "      <td>13000000</td>\n",
       "      <td>16.0</td>\n",
       "      <td>812500.0</td>\n",
       "    </tr>\n",
       "    <tr>\n",
       "      <th>1</th>\n",
       "      <td>5196000</td>\n",
       "      <td>14.0</td>\n",
       "      <td>371143.0</td>\n",
       "    </tr>\n",
       "    <tr>\n",
       "      <th>2</th>\n",
       "      <td>64900000</td>\n",
       "      <td>7.0</td>\n",
       "      <td>9271429.0</td>\n",
       "    </tr>\n",
       "    <tr>\n",
       "      <th>3</th>\n",
       "      <td>10000000</td>\n",
       "      <td>8.0</td>\n",
       "      <td>1250000.0</td>\n",
       "    </tr>\n",
       "    <tr>\n",
       "      <th>4</th>\n",
       "      <td>7915000</td>\n",
       "      <td>12.0</td>\n",
       "      <td>659583.0</td>\n",
       "    </tr>\n",
       "    <tr>\n",
       "      <th>...</th>\n",
       "      <td>...</td>\n",
       "      <td>...</td>\n",
       "      <td>...</td>\n",
       "    </tr>\n",
       "    <tr>\n",
       "      <th>15716</th>\n",
       "      <td>3550000</td>\n",
       "      <td>16.0</td>\n",
       "      <td>221875.0</td>\n",
       "    </tr>\n",
       "    <tr>\n",
       "      <th>15717</th>\n",
       "      <td>5500000</td>\n",
       "      <td>6.0</td>\n",
       "      <td>916667.0</td>\n",
       "    </tr>\n",
       "    <tr>\n",
       "      <th>15718</th>\n",
       "      <td>9470000</td>\n",
       "      <td>4.0</td>\n",
       "      <td>2367500.0</td>\n",
       "    </tr>\n",
       "    <tr>\n",
       "      <th>15719</th>\n",
       "      <td>9700000</td>\n",
       "      <td>4.0</td>\n",
       "      <td>2425000.0</td>\n",
       "    </tr>\n",
       "    <tr>\n",
       "      <th>15720</th>\n",
       "      <td>11475000</td>\n",
       "      <td>10.0</td>\n",
       "      <td>1147500.0</td>\n",
       "    </tr>\n",
       "  </tbody>\n",
       "</table>\n",
       "<p>15721 rows × 3 columns</p>\n",
       "</div>"
      ],
      "text/plain": [
       "       last_price  cityCenter_km   price_km\n",
       "0        13000000           16.0   812500.0\n",
       "1         5196000           14.0   371143.0\n",
       "2        64900000            7.0  9271429.0\n",
       "3        10000000            8.0  1250000.0\n",
       "4         7915000           12.0   659583.0\n",
       "...           ...            ...        ...\n",
       "15716     3550000           16.0   221875.0\n",
       "15717     5500000            6.0   916667.0\n",
       "15718     9470000            4.0  2367500.0\n",
       "15719     9700000            4.0  2425000.0\n",
       "15720    11475000           10.0  1147500.0\n",
       "\n",
       "[15721 rows x 3 columns]"
      ]
     },
     "execution_count": 88,
     "metadata": {},
     "output_type": "execute_result"
    }
   ],
   "source": [
    "spb_data = data.loc[data['locality_name'] == 'Санкт-Петербург'][ #делаем фильтр на квартиры исключительно из Санкт-Петербурга\n",
    "    ['last_price', #нам понадобится общая цена\n",
    "     'cityCenter_km', #и расстояние до центра в километрах\n",
    "    ] \n",
    "].reset_index(drop=True)\n",
    "\n",
    "#вычисляем цену за километр для каждой квартиры\n",
    "spb_data['price_km'] = np.round(spb_data['last_price'] / spb_data['cityCenter_km']) \n",
    "\n",
    "spb_data"
   ]
  },
  {
   "cell_type": "code",
   "execution_count": 89,
   "id": "00f4d8a7",
   "metadata": {},
   "outputs": [
    {
     "data": {
      "text/html": [
       "<div>\n",
       "<style scoped>\n",
       "    .dataframe tbody tr th:only-of-type {\n",
       "        vertical-align: middle;\n",
       "    }\n",
       "\n",
       "    .dataframe tbody tr th {\n",
       "        vertical-align: top;\n",
       "    }\n",
       "\n",
       "    .dataframe thead th {\n",
       "        text-align: right;\n",
       "    }\n",
       "</style>\n",
       "<table border=\"1\" class=\"dataframe\">\n",
       "  <thead>\n",
       "    <tr style=\"text-align: right;\">\n",
       "      <th></th>\n",
       "      <th>price_km</th>\n",
       "    </tr>\n",
       "    <tr>\n",
       "      <th>cityCenter_km</th>\n",
       "      <th></th>\n",
       "    </tr>\n",
       "  </thead>\n",
       "  <tbody>\n",
       "    <tr>\n",
       "      <th>1.0</th>\n",
       "      <td>21206721.0</td>\n",
       "    </tr>\n",
       "    <tr>\n",
       "      <th>2.0</th>\n",
       "      <td>8894160.0</td>\n",
       "    </tr>\n",
       "    <tr>\n",
       "      <th>3.0</th>\n",
       "      <td>3708860.0</td>\n",
       "    </tr>\n",
       "    <tr>\n",
       "      <th>4.0</th>\n",
       "      <td>3326070.0</td>\n",
       "    </tr>\n",
       "    <tr>\n",
       "      <th>5.0</th>\n",
       "      <td>2899824.0</td>\n",
       "    </tr>\n",
       "    <tr>\n",
       "      <th>6.0</th>\n",
       "      <td>2556403.0</td>\n",
       "    </tr>\n",
       "    <tr>\n",
       "      <th>7.0</th>\n",
       "      <td>2110736.0</td>\n",
       "    </tr>\n",
       "    <tr>\n",
       "      <th>8.0</th>\n",
       "      <td>1244715.0</td>\n",
       "    </tr>\n",
       "    <tr>\n",
       "      <th>9.0</th>\n",
       "      <td>774577.0</td>\n",
       "    </tr>\n",
       "    <tr>\n",
       "      <th>10.0</th>\n",
       "      <td>650412.0</td>\n",
       "    </tr>\n",
       "    <tr>\n",
       "      <th>11.0</th>\n",
       "      <td>568256.0</td>\n",
       "    </tr>\n",
       "    <tr>\n",
       "      <th>12.0</th>\n",
       "      <td>485712.0</td>\n",
       "    </tr>\n",
       "    <tr>\n",
       "      <th>13.0</th>\n",
       "      <td>467934.0</td>\n",
       "    </tr>\n",
       "    <tr>\n",
       "      <th>14.0</th>\n",
       "      <td>402079.0</td>\n",
       "    </tr>\n",
       "    <tr>\n",
       "      <th>15.0</th>\n",
       "      <td>392317.0</td>\n",
       "    </tr>\n",
       "    <tr>\n",
       "      <th>16.0</th>\n",
       "      <td>335821.0</td>\n",
       "    </tr>\n",
       "    <tr>\n",
       "      <th>17.0</th>\n",
       "      <td>311317.0</td>\n",
       "    </tr>\n",
       "    <tr>\n",
       "      <th>18.0</th>\n",
       "      <td>282852.0</td>\n",
       "    </tr>\n",
       "    <tr>\n",
       "      <th>19.0</th>\n",
       "      <td>265141.0</td>\n",
       "    </tr>\n",
       "    <tr>\n",
       "      <th>20.0</th>\n",
       "      <td>297573.0</td>\n",
       "    </tr>\n",
       "    <tr>\n",
       "      <th>21.0</th>\n",
       "      <td>261594.0</td>\n",
       "    </tr>\n",
       "    <tr>\n",
       "      <th>22.0</th>\n",
       "      <td>246160.0</td>\n",
       "    </tr>\n",
       "    <tr>\n",
       "      <th>23.0</th>\n",
       "      <td>216755.0</td>\n",
       "    </tr>\n",
       "    <tr>\n",
       "      <th>24.0</th>\n",
       "      <td>160601.0</td>\n",
       "    </tr>\n",
       "    <tr>\n",
       "      <th>25.0</th>\n",
       "      <td>162114.0</td>\n",
       "    </tr>\n",
       "    <tr>\n",
       "      <th>26.0</th>\n",
       "      <td>152808.0</td>\n",
       "    </tr>\n",
       "    <tr>\n",
       "      <th>27.0</th>\n",
       "      <td>307407.0</td>\n",
       "    </tr>\n",
       "    <tr>\n",
       "      <th>28.0</th>\n",
       "      <td>179515.0</td>\n",
       "    </tr>\n",
       "    <tr>\n",
       "      <th>29.0</th>\n",
       "      <td>146092.0</td>\n",
       "    </tr>\n",
       "  </tbody>\n",
       "</table>\n",
       "</div>"
      ],
      "text/plain": [
       "                 price_km\n",
       "cityCenter_km            \n",
       "1.0            21206721.0\n",
       "2.0             8894160.0\n",
       "3.0             3708860.0\n",
       "4.0             3326070.0\n",
       "5.0             2899824.0\n",
       "6.0             2556403.0\n",
       "7.0             2110736.0\n",
       "8.0             1244715.0\n",
       "9.0              774577.0\n",
       "10.0             650412.0\n",
       "11.0             568256.0\n",
       "12.0             485712.0\n",
       "13.0             467934.0\n",
       "14.0             402079.0\n",
       "15.0             392317.0\n",
       "16.0             335821.0\n",
       "17.0             311317.0\n",
       "18.0             282852.0\n",
       "19.0             265141.0\n",
       "20.0             297573.0\n",
       "21.0             261594.0\n",
       "22.0             246160.0\n",
       "23.0             216755.0\n",
       "24.0             160601.0\n",
       "25.0             162114.0\n",
       "26.0             152808.0\n",
       "27.0             307407.0\n",
       "28.0             179515.0\n",
       "29.0             146092.0"
      ]
     },
     "execution_count": 89,
     "metadata": {},
     "output_type": "execute_result"
    }
   ],
   "source": [
    "mean_price_km = spb_data.pivot_table(index='cityCenter_km', values='price_km', aggfunc='mean')\n",
    "mean_price_km['price_km'] = np.round(mean_price_km['price_km'])\n",
    "mean_price_km"
   ]
  },
  {
   "cell_type": "code",
   "execution_count": 90,
   "id": "3b54577e",
   "metadata": {},
   "outputs": [
    {
     "data": {
      "image/png": "[encoded data removed]",
      "text/plain": [
       "<Figure size 640x480 with 1 Axes>"
      ]
     },
     "metadata": {},
     "output_type": "display_data"
    }
   ],
   "source": [
    "mean_price_km.plot(kind='line', grid=True, title='Зависимость средней цены от километра');"
   ]
  },
  {
   "cell_type": "markdown",
   "id": "ae844463",
   "metadata": {},
   "source": [
    "По графику видно, что чем меньше километров от центра, тем дороже в этой области будет стоить жилье."
   ]
  },
  {
   "cell_type": "markdown",
   "id": "2a5d5e84",
   "metadata": {},
   "source": [
    "#### 4.6 Вывод\n",
    "\n",
    "Наиболее влияющими на стоимость жилья факторами являются:\n",
    "* общая площадь;\n",
    "* расстояние до центра (в таких городах, как Санкт-Петербург);\n",
    "* этаж."
   ]
  },
  {
   "cell_type": "markdown",
   "id": "d6b587f5",
   "metadata": {},
   "source": [
    "### 5. Общий вывод"
   ]
  },
  {
   "cell_type": "markdown",
   "id": "d351cd2e",
   "metadata": {},
   "source": [
    "В предоставленных данных были обнаружены пропуски, дубликаты и аномальные значения, в связи с чем была проведена предобработка данных:  \n",
    "* пропущенные значения, которым можно было предложить логичную замену, были заполнены, остальные же изменены на -1;\n",
    "* неявные дубликаты в столбце с названиями были исправлены с помощью регулярных выражений, явных дубликатов обнаружено не было;\n",
    "* аномальные значения в столбце с высотой потолков, а также в столбце с ценами были исправлены.\n",
    "    \n",
    "Затем для последующего исследовательского анализа данных были добавлены следующие столбцы в датафрейм:\n",
    "* `meter_price` — цена одного квадратного метра;\n",
    "* `day_week_exposition` — день недели публикации объявления (0 — понедельник, 1 — вторник и так далее);\n",
    "* `month_exposition` — месяц публикации объявления;\n",
    "* `year_exposition` - год публикации объявления;\n",
    "* `type_of_floor` — тип этажа квартиры (значения — «первый», «последний», «другой»);\n",
    "* `cityCenter_km` — расстояние до центра города в километрах.\n",
    "    \n",
    "В исследовательском анализе данных были выявлены следующие интересные зависимости, которые существуют на рынке недвижимости:\n",
    "* чем больше общая площадь, тем дороже жилье;\n",
    "* чем ближе квартира к центру, тем она дороже;\n",
    "* на первом и последнем этаже квартиры дешевле;\n",
    "* в десяти населенных пунктах ленинградской области с наибольшим количеством объявлений максимальная цена за квадратный метр в Санкт-Петербурге, а минимальная в Выборге.\n",
    "    \n",
    "Таким образом, на ценообразование жилья влияют площадь и этаж квартиры, расстояние до центра и населенный пункт, где квартира располагается — в больших горродах (как, например, Санкт-Петербург) выше цена за квадратный метр."
   ]
  }
 ],
 "metadata": {
  "ExecuteTimeLog": [
   {
    "duration": 875,
    "start_time": "2022-09-21T21:08:36.922Z"
   },
   {
    "duration": 544,
    "start_time": "2022-09-21T21:08:37.800Z"
   },
   {
    "duration": 35,
    "start_time": "2022-09-21T21:08:38.346Z"
   },
   {
    "duration": 17,
    "start_time": "2022-09-21T21:08:38.383Z"
   },
   {
    "duration": 2211,
    "start_time": "2022-09-21T21:08:38.402Z"
   },
   {
    "duration": 10,
    "start_time": "2022-09-21T21:08:40.614Z"
   },
   {
    "duration": 4,
    "start_time": "2022-09-21T21:08:40.626Z"
   },
   {
    "duration": 8,
    "start_time": "2022-09-21T21:08:40.632Z"
   },
   {
    "duration": 11,
    "start_time": "2022-09-21T21:08:40.642Z"
   },
   {
    "duration": 5,
    "start_time": "2022-09-21T21:08:40.655Z"
   },
   {
    "duration": 9,
    "start_time": "2022-09-21T21:08:40.662Z"
   },
   {
    "duration": 10,
    "start_time": "2022-09-21T21:08:40.672Z"
   },
   {
    "duration": 8,
    "start_time": "2022-09-21T21:08:40.683Z"
   },
   {
    "duration": 10,
    "start_time": "2022-09-21T21:08:40.693Z"
   },
   {
    "duration": 96,
    "start_time": "2022-09-21T21:08:40.705Z"
   },
   {
    "duration": 40,
    "start_time": "2022-09-21T21:08:40.803Z"
   },
   {
    "duration": 5,
    "start_time": "2022-09-21T21:08:40.855Z"
   },
   {
    "duration": 6,
    "start_time": "2022-09-21T21:08:40.862Z"
   },
   {
    "duration": 6,
    "start_time": "2022-09-21T21:08:40.870Z"
   },
   {
    "duration": 16,
    "start_time": "2022-09-21T21:08:40.877Z"
   },
   {
    "duration": 14,
    "start_time": "2022-09-21T21:08:40.896Z"
   },
   {
    "duration": 8,
    "start_time": "2022-09-21T21:08:40.912Z"
   },
   {
    "duration": 41,
    "start_time": "2022-09-21T21:08:40.921Z"
   },
   {
    "duration": 16,
    "start_time": "2022-09-21T21:08:40.964Z"
   },
   {
    "duration": 17,
    "start_time": "2022-09-21T21:08:40.981Z"
   },
   {
    "duration": 103,
    "start_time": "2022-09-21T21:08:41.000Z"
   },
   {
    "duration": 24,
    "start_time": "2022-09-21T21:08:41.105Z"
   },
   {
    "duration": 23,
    "start_time": "2022-09-21T21:08:41.133Z"
   },
   {
    "duration": 5,
    "start_time": "2022-09-21T21:08:41.157Z"
   },
   {
    "duration": 14,
    "start_time": "2022-09-21T21:08:41.164Z"
   },
   {
    "duration": 5,
    "start_time": "2022-09-21T21:08:41.179Z"
   },
   {
    "duration": 26,
    "start_time": "2022-09-21T21:08:41.186Z"
   },
   {
    "duration": 5,
    "start_time": "2022-09-21T21:08:41.213Z"
   },
   {
    "duration": 10,
    "start_time": "2022-09-21T21:08:41.219Z"
   },
   {
    "duration": 26,
    "start_time": "2022-09-21T21:08:41.230Z"
   },
   {
    "duration": 10,
    "start_time": "2022-09-21T21:08:41.257Z"
   },
   {
    "duration": 9,
    "start_time": "2022-09-21T21:08:41.268Z"
   },
   {
    "duration": 12,
    "start_time": "2022-09-21T21:08:41.279Z"
   },
   {
    "duration": 18,
    "start_time": "2022-09-21T21:08:41.293Z"
   },
   {
    "duration": 863,
    "start_time": "2022-09-21T21:08:41.313Z"
   },
   {
    "duration": 157,
    "start_time": "2022-09-21T21:08:42.178Z"
   },
   {
    "duration": 158,
    "start_time": "2022-09-21T21:08:42.337Z"
   },
   {
    "duration": 161,
    "start_time": "2022-09-21T21:08:42.497Z"
   },
   {
    "duration": 159,
    "start_time": "2022-09-21T21:08:42.661Z"
   },
   {
    "duration": 155,
    "start_time": "2022-09-21T21:08:42.821Z"
   },
   {
    "duration": 142,
    "start_time": "2022-09-21T21:08:42.978Z"
   },
   {
    "duration": 135,
    "start_time": "2022-09-21T21:08:43.121Z"
   },
   {
    "duration": 133,
    "start_time": "2022-09-21T21:08:43.257Z"
   },
   {
    "duration": 152,
    "start_time": "2022-09-21T21:08:43.392Z"
   },
   {
    "duration": 133,
    "start_time": "2022-09-21T21:08:43.546Z"
   },
   {
    "duration": 155,
    "start_time": "2022-09-21T21:08:43.681Z"
   },
   {
    "duration": 250,
    "start_time": "2022-09-21T21:08:43.838Z"
   },
   {
    "duration": 359,
    "start_time": "2022-09-21T21:08:44.090Z"
   },
   {
    "duration": 7,
    "start_time": "2022-09-21T21:08:44.453Z"
   },
   {
    "duration": 24,
    "start_time": "2022-09-21T21:08:44.461Z"
   },
   {
    "duration": 15,
    "start_time": "2022-09-21T21:08:44.487Z"
   },
   {
    "duration": 163,
    "start_time": "2022-09-21T21:08:44.504Z"
   },
   {
    "duration": 16,
    "start_time": "2022-09-21T21:08:44.669Z"
   },
   {
    "duration": 152,
    "start_time": "2022-09-21T21:08:44.687Z"
   },
   {
    "duration": 23,
    "start_time": "2022-09-21T21:08:44.841Z"
   },
   {
    "duration": 143,
    "start_time": "2022-09-21T21:08:44.866Z"
   },
   {
    "duration": 16,
    "start_time": "2022-09-21T21:08:45.012Z"
   },
   {
    "duration": 162,
    "start_time": "2022-09-21T21:08:45.030Z"
   },
   {
    "duration": 17,
    "start_time": "2022-09-21T21:08:45.194Z"
   },
   {
    "duration": 144,
    "start_time": "2022-09-21T21:08:45.212Z"
   },
   {
    "duration": 13,
    "start_time": "2022-09-21T21:08:45.358Z"
   },
   {
    "duration": 164,
    "start_time": "2022-09-21T21:08:45.373Z"
   },
   {
    "duration": 21,
    "start_time": "2022-09-21T21:08:45.539Z"
   },
   {
    "duration": 170,
    "start_time": "2022-09-21T21:08:45.562Z"
   },
   {
    "duration": 13,
    "start_time": "2022-09-21T21:08:45.734Z"
   },
   {
    "duration": 141,
    "start_time": "2022-09-21T21:08:45.754Z"
   },
   {
    "duration": 30,
    "start_time": "2022-09-21T21:08:45.897Z"
   },
   {
    "duration": 37,
    "start_time": "2022-09-21T21:08:45.929Z"
   },
   {
    "duration": 22,
    "start_time": "2022-09-21T21:08:45.968Z"
   },
   {
    "duration": 16,
    "start_time": "2022-09-21T21:08:45.992Z"
   },
   {
    "duration": 171,
    "start_time": "2022-09-21T21:08:46.011Z"
   },
   {
    "duration": 143,
    "start_time": "2022-09-21T21:19:34.373Z"
   },
   {
    "duration": 144,
    "start_time": "2022-09-21T21:19:37.942Z"
   },
   {
    "duration": 53,
    "start_time": "2022-09-22T10:21:19.993Z"
   },
   {
    "duration": 792,
    "start_time": "2022-09-22T10:21:27.145Z"
   },
   {
    "duration": 528,
    "start_time": "2022-09-22T10:21:27.940Z"
   },
   {
    "duration": 37,
    "start_time": "2022-09-22T10:21:28.470Z"
   },
   {
    "duration": 16,
    "start_time": "2022-09-22T10:21:28.509Z"
   },
   {
    "duration": 2055,
    "start_time": "2022-09-22T10:21:28.526Z"
   },
   {
    "duration": 10,
    "start_time": "2022-09-22T10:21:30.582Z"
   },
   {
    "duration": 27,
    "start_time": "2022-09-22T10:21:30.594Z"
   },
   {
    "duration": 20,
    "start_time": "2022-09-22T10:21:30.623Z"
   },
   {
    "duration": 18,
    "start_time": "2022-09-22T10:21:30.645Z"
   },
   {
    "duration": 22,
    "start_time": "2022-09-22T10:21:30.666Z"
   },
   {
    "duration": 28,
    "start_time": "2022-09-22T10:21:30.690Z"
   },
   {
    "duration": 29,
    "start_time": "2022-09-22T10:21:30.720Z"
   },
   {
    "duration": 17,
    "start_time": "2022-09-22T10:21:30.751Z"
   },
   {
    "duration": 21,
    "start_time": "2022-09-22T10:21:30.770Z"
   },
   {
    "duration": 131,
    "start_time": "2022-09-22T10:21:30.793Z"
   },
   {
    "duration": 45,
    "start_time": "2022-09-22T10:21:30.926Z"
   },
   {
    "duration": 5,
    "start_time": "2022-09-22T10:21:30.973Z"
   },
   {
    "duration": 23,
    "start_time": "2022-09-22T10:21:30.980Z"
   },
   {
    "duration": 56,
    "start_time": "2022-09-22T10:21:31.005Z"
   },
   {
    "duration": 36,
    "start_time": "2022-09-22T10:21:31.063Z"
   },
   {
    "duration": 40,
    "start_time": "2022-09-22T10:21:31.101Z"
   },
   {
    "duration": 11,
    "start_time": "2022-09-22T10:21:31.143Z"
   },
   {
    "duration": 21,
    "start_time": "2022-09-22T10:21:31.155Z"
   },
   {
    "duration": 31,
    "start_time": "2022-09-22T10:21:31.178Z"
   },
   {
    "duration": 4,
    "start_time": "2022-09-22T10:22:11.297Z"
   },
   {
    "duration": 14,
    "start_time": "2022-09-22T10:23:25.917Z"
   },
   {
    "duration": 23,
    "start_time": "2022-09-22T10:39:31.661Z"
   },
   {
    "duration": 20,
    "start_time": "2022-09-22T10:39:36.947Z"
   },
   {
    "duration": 2613,
    "start_time": "2022-09-22T10:43:53.174Z"
   },
   {
    "duration": 579,
    "start_time": "2022-09-22T10:44:05.199Z"
   },
   {
    "duration": 914,
    "start_time": "2022-09-22T10:45:11.316Z"
   },
   {
    "duration": 614,
    "start_time": "2022-09-22T10:48:31.547Z"
   },
   {
    "duration": 36,
    "start_time": "2022-09-22T10:53:00.572Z"
   },
   {
    "duration": 3,
    "start_time": "2022-09-22T10:53:09.311Z"
   },
   {
    "duration": 324,
    "start_time": "2022-09-22T10:53:09.316Z"
   },
   {
    "duration": 28,
    "start_time": "2022-09-22T10:53:09.642Z"
   },
   {
    "duration": 14,
    "start_time": "2022-09-22T10:53:09.672Z"
   },
   {
    "duration": 2147,
    "start_time": "2022-09-22T10:53:09.718Z"
   },
   {
    "duration": 11,
    "start_time": "2022-09-22T10:53:11.867Z"
   },
   {
    "duration": 4,
    "start_time": "2022-09-22T10:53:11.879Z"
   },
   {
    "duration": 9,
    "start_time": "2022-09-22T10:53:11.885Z"
   },
   {
    "duration": 8,
    "start_time": "2022-09-22T10:53:11.896Z"
   },
   {
    "duration": 28,
    "start_time": "2022-09-22T10:53:11.905Z"
   },
   {
    "duration": 4,
    "start_time": "2022-09-22T10:53:11.935Z"
   },
   {
    "duration": 8,
    "start_time": "2022-09-22T10:53:11.940Z"
   },
   {
    "duration": 5,
    "start_time": "2022-09-22T10:53:11.950Z"
   },
   {
    "duration": 8,
    "start_time": "2022-09-22T10:53:11.957Z"
   },
   {
    "duration": 106,
    "start_time": "2022-09-22T10:53:11.966Z"
   },
   {
    "duration": 35,
    "start_time": "2022-09-22T10:53:12.074Z"
   },
   {
    "duration": 22,
    "start_time": "2022-09-22T10:53:12.111Z"
   },
   {
    "duration": 10,
    "start_time": "2022-09-22T10:53:12.136Z"
   },
   {
    "duration": 10,
    "start_time": "2022-09-22T10:53:12.148Z"
   },
   {
    "duration": 17,
    "start_time": "2022-09-22T10:53:12.160Z"
   },
   {
    "duration": 19,
    "start_time": "2022-09-22T10:53:12.180Z"
   },
   {
    "duration": 12,
    "start_time": "2022-09-22T10:53:12.201Z"
   },
   {
    "duration": 26,
    "start_time": "2022-09-22T10:53:12.214Z"
   },
   {
    "duration": 4,
    "start_time": "2022-09-22T10:53:12.242Z"
   },
   {
    "duration": 16,
    "start_time": "2022-09-22T10:53:12.248Z"
   },
   {
    "duration": 17,
    "start_time": "2022-09-22T10:53:12.266Z"
   },
   {
    "duration": 101,
    "start_time": "2022-09-22T10:53:12.285Z"
   },
   {
    "duration": 25,
    "start_time": "2022-09-22T10:53:12.388Z"
   },
   {
    "duration": 21,
    "start_time": "2022-09-22T10:53:12.414Z"
   },
   {
    "duration": 5,
    "start_time": "2022-09-22T10:53:12.437Z"
   },
   {
    "duration": 10,
    "start_time": "2022-09-22T10:53:12.443Z"
   },
   {
    "duration": 4,
    "start_time": "2022-09-22T10:53:12.455Z"
   },
   {
    "duration": 29,
    "start_time": "2022-09-22T10:53:12.461Z"
   },
   {
    "duration": 4,
    "start_time": "2022-09-22T10:53:12.492Z"
   },
   {
    "duration": 37,
    "start_time": "2022-09-22T10:53:12.497Z"
   },
   {
    "duration": 4,
    "start_time": "2022-09-22T10:53:12.536Z"
   },
   {
    "duration": 8,
    "start_time": "2022-09-22T10:53:12.541Z"
   },
   {
    "duration": 6,
    "start_time": "2022-09-22T10:53:12.550Z"
   },
   {
    "duration": 5,
    "start_time": "2022-09-22T10:53:12.557Z"
   },
   {
    "duration": 8,
    "start_time": "2022-09-22T10:53:12.564Z"
   },
   {
    "duration": 17,
    "start_time": "2022-09-22T10:53:12.573Z"
   },
   {
    "duration": 614,
    "start_time": "2022-09-22T10:53:12.591Z"
   },
   {
    "duration": 160,
    "start_time": "2022-09-22T10:53:13.207Z"
   },
   {
    "duration": 248,
    "start_time": "2022-09-22T10:53:13.369Z"
   },
   {
    "duration": 163,
    "start_time": "2022-09-22T10:53:13.622Z"
   },
   {
    "duration": 156,
    "start_time": "2022-09-22T10:53:13.786Z"
   },
   {
    "duration": 149,
    "start_time": "2022-09-22T10:53:13.944Z"
   },
   {
    "duration": 141,
    "start_time": "2022-09-22T10:53:14.094Z"
   },
   {
    "duration": 128,
    "start_time": "2022-09-22T10:53:14.236Z"
   },
   {
    "duration": 128,
    "start_time": "2022-09-22T10:53:14.366Z"
   },
   {
    "duration": 137,
    "start_time": "2022-09-22T10:53:14.496Z"
   },
   {
    "duration": 117,
    "start_time": "2022-09-22T10:53:14.635Z"
   },
   {
    "duration": 142,
    "start_time": "2022-09-22T10:53:14.754Z"
   },
   {
    "duration": 229,
    "start_time": "2022-09-22T10:53:14.898Z"
   },
   {
    "duration": 243,
    "start_time": "2022-09-22T10:53:15.128Z"
   },
   {
    "duration": 742,
    "start_time": "2022-09-22T10:53:15.373Z"
   },
   {
    "duration": 6,
    "start_time": "2022-09-22T10:53:16.117Z"
   },
   {
    "duration": 18,
    "start_time": "2022-09-22T10:53:16.134Z"
   },
   {
    "duration": 21,
    "start_time": "2022-09-22T10:53:16.153Z"
   },
   {
    "duration": 185,
    "start_time": "2022-09-22T10:53:16.176Z"
   },
   {
    "duration": 13,
    "start_time": "2022-09-22T10:53:28.181Z"
   },
   {
    "duration": 1421,
    "start_time": "2022-09-22T10:54:26.499Z"
   },
   {
    "duration": 1178,
    "start_time": "2022-09-22T10:54:44.768Z"
   },
   {
    "duration": 18,
    "start_time": "2022-09-22T10:57:02.323Z"
   },
   {
    "duration": 126,
    "start_time": "2022-09-22T10:57:05.788Z"
   },
   {
    "duration": 1321,
    "start_time": "2022-09-22T10:57:10.182Z"
   },
   {
    "duration": 1100,
    "start_time": "2022-09-22T11:11:21.067Z"
   },
   {
    "duration": 1278,
    "start_time": "2022-09-22T11:11:32.552Z"
   },
   {
    "duration": 20,
    "start_time": "2022-09-22T11:14:59.880Z"
   },
   {
    "duration": 125,
    "start_time": "2022-09-22T11:15:20.775Z"
   },
   {
    "duration": 5,
    "start_time": "2022-09-22T11:44:49.677Z"
   },
   {
    "duration": 18,
    "start_time": "2022-09-22T12:08:14.951Z"
   },
   {
    "duration": 128,
    "start_time": "2022-09-22T12:08:49.862Z"
   },
   {
    "duration": 5,
    "start_time": "2022-09-22T12:09:17.176Z"
   },
   {
    "duration": 22,
    "start_time": "2022-09-22T12:09:28.485Z"
   },
   {
    "duration": 1004,
    "start_time": "2022-09-22T12:11:24.721Z"
   },
   {
    "duration": 23,
    "start_time": "2022-09-22T12:11:30.004Z"
   },
   {
    "duration": 824,
    "start_time": "2022-09-22T12:11:34.268Z"
   },
   {
    "duration": 18,
    "start_time": "2022-09-22T12:11:54.028Z"
   },
   {
    "duration": 159,
    "start_time": "2022-09-22T12:11:56.317Z"
   },
   {
    "duration": 4,
    "start_time": "2022-09-22T12:12:43.023Z"
   },
   {
    "duration": 14,
    "start_time": "2022-09-22T12:35:07.497Z"
   },
   {
    "duration": 128,
    "start_time": "2022-09-22T12:35:23.917Z"
   },
   {
    "duration": 29,
    "start_time": "2022-09-22T12:47:51.015Z"
   },
   {
    "duration": 19,
    "start_time": "2022-09-22T12:48:03.274Z"
   },
   {
    "duration": 8,
    "start_time": "2022-09-22T12:48:51.008Z"
   },
   {
    "duration": 19,
    "start_time": "2022-09-22T12:48:56.933Z"
   },
   {
    "duration": 17,
    "start_time": "2022-09-22T12:48:57.455Z"
   },
   {
    "duration": 134,
    "start_time": "2022-09-22T12:48:57.930Z"
   },
   {
    "duration": 2981,
    "start_time": "2022-09-22T13:00:25.295Z"
   },
   {
    "duration": 8,
    "start_time": "2022-09-22T15:15:51.348Z"
   },
   {
    "duration": 15,
    "start_time": "2022-09-22T15:15:56.426Z"
   },
   {
    "duration": 132,
    "start_time": "2022-09-22T15:15:56.849Z"
   },
   {
    "duration": 852,
    "start_time": "2022-09-22T15:15:58.001Z"
   },
   {
    "duration": 13,
    "start_time": "2022-09-22T15:16:07.943Z"
   },
   {
    "duration": 1416,
    "start_time": "2022-09-22T15:16:11.558Z"
   },
   {
    "duration": 3,
    "start_time": "2022-09-22T15:16:19.356Z"
   },
   {
    "duration": 531,
    "start_time": "2022-09-22T15:16:19.362Z"
   },
   {
    "duration": 38,
    "start_time": "2022-09-22T15:16:19.895Z"
   },
   {
    "duration": 14,
    "start_time": "2022-09-22T15:16:19.935Z"
   },
   {
    "duration": 1866,
    "start_time": "2022-09-22T15:16:19.951Z"
   },
   {
    "duration": 16,
    "start_time": "2022-09-22T15:16:21.818Z"
   },
   {
    "duration": 4,
    "start_time": "2022-09-22T15:16:21.835Z"
   },
   {
    "duration": 8,
    "start_time": "2022-09-22T15:16:21.841Z"
   },
   {
    "duration": 7,
    "start_time": "2022-09-22T15:16:21.850Z"
   },
   {
    "duration": 8,
    "start_time": "2022-09-22T15:16:21.858Z"
   },
   {
    "duration": 5,
    "start_time": "2022-09-22T15:16:21.868Z"
   },
   {
    "duration": 9,
    "start_time": "2022-09-22T15:16:21.874Z"
   },
   {
    "duration": 8,
    "start_time": "2022-09-22T15:16:21.884Z"
   },
   {
    "duration": 8,
    "start_time": "2022-09-22T15:16:21.894Z"
   },
   {
    "duration": 94,
    "start_time": "2022-09-22T15:16:21.903Z"
   },
   {
    "duration": 42,
    "start_time": "2022-09-22T15:16:21.999Z"
   },
   {
    "duration": 5,
    "start_time": "2022-09-22T15:16:22.043Z"
   },
   {
    "duration": 9,
    "start_time": "2022-09-22T15:16:22.049Z"
   },
   {
    "duration": 5,
    "start_time": "2022-09-22T15:16:22.059Z"
   },
   {
    "duration": 12,
    "start_time": "2022-09-22T15:16:22.066Z"
   },
   {
    "duration": 15,
    "start_time": "2022-09-22T15:16:22.080Z"
   },
   {
    "duration": 8,
    "start_time": "2022-09-22T15:16:22.097Z"
   },
   {
    "duration": 30,
    "start_time": "2022-09-22T15:16:22.106Z"
   },
   {
    "duration": 4,
    "start_time": "2022-09-22T15:16:22.137Z"
   },
   {
    "duration": 21,
    "start_time": "2022-09-22T15:16:22.142Z"
   },
   {
    "duration": 19,
    "start_time": "2022-09-22T15:16:22.165Z"
   },
   {
    "duration": 100,
    "start_time": "2022-09-22T15:16:22.186Z"
   },
   {
    "duration": 25,
    "start_time": "2022-09-22T15:16:22.287Z"
   },
   {
    "duration": 8,
    "start_time": "2022-09-22T15:16:22.334Z"
   },
   {
    "duration": 5,
    "start_time": "2022-09-22T15:16:22.343Z"
   },
   {
    "duration": 11,
    "start_time": "2022-09-22T15:16:22.349Z"
   },
   {
    "duration": 4,
    "start_time": "2022-09-22T15:16:22.361Z"
   },
   {
    "duration": 25,
    "start_time": "2022-09-22T15:16:22.366Z"
   },
   {
    "duration": 4,
    "start_time": "2022-09-22T15:16:22.393Z"
   },
   {
    "duration": 51,
    "start_time": "2022-09-22T15:16:22.398Z"
   },
   {
    "duration": 4,
    "start_time": "2022-09-22T15:16:22.450Z"
   },
   {
    "duration": 11,
    "start_time": "2022-09-22T15:16:22.456Z"
   },
   {
    "duration": 7,
    "start_time": "2022-09-22T15:16:22.469Z"
   },
   {
    "duration": 11,
    "start_time": "2022-09-22T15:16:22.477Z"
   },
   {
    "duration": 17,
    "start_time": "2022-09-22T15:16:22.489Z"
   },
   {
    "duration": 11,
    "start_time": "2022-09-22T15:16:22.507Z"
   },
   {
    "duration": 771,
    "start_time": "2022-09-22T15:16:22.519Z"
   },
   {
    "duration": 149,
    "start_time": "2022-09-22T15:16:23.292Z"
   },
   {
    "duration": 143,
    "start_time": "2022-09-22T15:16:23.443Z"
   },
   {
    "duration": 135,
    "start_time": "2022-09-22T15:16:23.588Z"
   },
   {
    "duration": 147,
    "start_time": "2022-09-22T15:16:23.724Z"
   },
   {
    "duration": 145,
    "start_time": "2022-09-22T15:16:23.873Z"
   },
   {
    "duration": 136,
    "start_time": "2022-09-22T15:16:24.020Z"
   },
   {
    "duration": 193,
    "start_time": "2022-09-22T15:16:24.157Z"
   },
   {
    "duration": 225,
    "start_time": "2022-09-22T15:16:24.351Z"
   },
   {
    "duration": 279,
    "start_time": "2022-09-22T15:16:24.578Z"
   },
   {
    "duration": 210,
    "start_time": "2022-09-22T15:16:24.859Z"
   },
   {
    "duration": 294,
    "start_time": "2022-09-22T15:16:25.070Z"
   },
   {
    "duration": 480,
    "start_time": "2022-09-22T15:16:25.366Z"
   },
   {
    "duration": 300,
    "start_time": "2022-09-22T15:16:25.848Z"
   },
   {
    "duration": 850,
    "start_time": "2022-09-22T15:16:26.150Z"
   },
   {
    "duration": 6,
    "start_time": "2022-09-22T15:16:27.002Z"
   },
   {
    "duration": 32,
    "start_time": "2022-09-22T15:16:27.010Z"
   },
   {
    "duration": 18,
    "start_time": "2022-09-22T15:16:27.043Z"
   },
   {
    "duration": 140,
    "start_time": "2022-09-22T15:16:27.063Z"
   },
   {
    "duration": 115,
    "start_time": "2022-09-22T15:16:27.205Z"
   },
   {
    "duration": 14,
    "start_time": "2022-09-22T15:16:27.322Z"
   },
   {
    "duration": 20,
    "start_time": "2022-09-22T15:16:27.337Z"
   },
   {
    "duration": 210,
    "start_time": "2022-09-22T15:16:27.359Z"
   },
   {
    "duration": 276,
    "start_time": "2022-09-22T15:16:27.570Z"
   },
   {
    "duration": 5,
    "start_time": "2022-09-22T15:16:27.847Z"
   },
   {
    "duration": 27,
    "start_time": "2022-09-22T15:16:27.854Z"
   },
   {
    "duration": 353,
    "start_time": "2022-09-22T15:16:27.882Z"
   },
   {
    "duration": 236,
    "start_time": "2022-09-22T15:16:28.237Z"
   },
   {
    "duration": 5,
    "start_time": "2022-09-22T15:16:28.474Z"
   },
   {
    "duration": 14,
    "start_time": "2022-09-22T15:16:28.534Z"
   },
   {
    "duration": 300,
    "start_time": "2022-09-22T15:16:28.550Z"
   },
   {
    "duration": 841,
    "start_time": "2022-09-22T15:16:28.851Z"
   },
   {
    "duration": 0,
    "start_time": "2022-09-22T15:16:29.694Z"
   },
   {
    "duration": 0,
    "start_time": "2022-09-22T15:16:29.695Z"
   },
   {
    "duration": 1,
    "start_time": "2022-09-22T15:16:29.696Z"
   },
   {
    "duration": 0,
    "start_time": "2022-09-22T15:16:29.698Z"
   },
   {
    "duration": 0,
    "start_time": "2022-09-22T15:16:29.699Z"
   },
   {
    "duration": 0,
    "start_time": "2022-09-22T15:16:29.700Z"
   },
   {
    "duration": 0,
    "start_time": "2022-09-22T15:16:29.701Z"
   },
   {
    "duration": 0,
    "start_time": "2022-09-22T15:16:29.702Z"
   },
   {
    "duration": 0,
    "start_time": "2022-09-22T15:16:29.702Z"
   },
   {
    "duration": 0,
    "start_time": "2022-09-22T15:16:29.703Z"
   },
   {
    "duration": 0,
    "start_time": "2022-09-22T15:16:29.704Z"
   },
   {
    "duration": 0,
    "start_time": "2022-09-22T15:16:29.706Z"
   },
   {
    "duration": 0,
    "start_time": "2022-09-22T15:16:29.707Z"
   },
   {
    "duration": 0,
    "start_time": "2022-09-22T15:16:29.733Z"
   },
   {
    "duration": 0,
    "start_time": "2022-09-22T15:16:29.735Z"
   },
   {
    "duration": 14,
    "start_time": "2022-09-22T15:16:49.460Z"
   },
   {
    "duration": 4,
    "start_time": "2022-09-22T15:16:51.530Z"
   },
   {
    "duration": 3,
    "start_time": "2022-09-22T15:17:48.765Z"
   },
   {
    "duration": 372,
    "start_time": "2022-09-22T15:17:48.771Z"
   },
   {
    "duration": 29,
    "start_time": "2022-09-22T15:17:49.146Z"
   },
   {
    "duration": 25,
    "start_time": "2022-09-22T15:17:49.177Z"
   },
   {
    "duration": 2045,
    "start_time": "2022-09-22T15:17:49.205Z"
   },
   {
    "duration": 11,
    "start_time": "2022-09-22T15:17:51.252Z"
   },
   {
    "duration": 4,
    "start_time": "2022-09-22T15:17:51.265Z"
   },
   {
    "duration": 10,
    "start_time": "2022-09-22T15:17:51.270Z"
   },
   {
    "duration": 9,
    "start_time": "2022-09-22T15:17:51.281Z"
   },
   {
    "duration": 4,
    "start_time": "2022-09-22T15:17:51.292Z"
   },
   {
    "duration": 4,
    "start_time": "2022-09-22T15:17:51.298Z"
   },
   {
    "duration": 15,
    "start_time": "2022-09-22T15:17:51.303Z"
   },
   {
    "duration": 4,
    "start_time": "2022-09-22T15:17:51.334Z"
   },
   {
    "duration": 12,
    "start_time": "2022-09-22T15:17:51.340Z"
   },
   {
    "duration": 87,
    "start_time": "2022-09-22T15:17:51.354Z"
   },
   {
    "duration": 35,
    "start_time": "2022-09-22T15:17:51.444Z"
   },
   {
    "duration": 5,
    "start_time": "2022-09-22T15:17:51.481Z"
   },
   {
    "duration": 7,
    "start_time": "2022-09-22T15:17:51.487Z"
   },
   {
    "duration": 6,
    "start_time": "2022-09-22T15:17:51.496Z"
   },
   {
    "duration": 35,
    "start_time": "2022-09-22T15:17:51.503Z"
   },
   {
    "duration": 13,
    "start_time": "2022-09-22T15:17:51.540Z"
   },
   {
    "duration": 7,
    "start_time": "2022-09-22T15:17:51.554Z"
   },
   {
    "duration": 10,
    "start_time": "2022-09-22T15:17:51.562Z"
   },
   {
    "duration": 4,
    "start_time": "2022-09-22T15:17:51.573Z"
   },
   {
    "duration": 16,
    "start_time": "2022-09-22T15:17:51.578Z"
   },
   {
    "duration": 43,
    "start_time": "2022-09-22T15:17:51.595Z"
   },
   {
    "duration": 82,
    "start_time": "2022-09-22T15:17:51.640Z"
   },
   {
    "duration": 32,
    "start_time": "2022-09-22T15:17:51.724Z"
   },
   {
    "duration": 8,
    "start_time": "2022-09-22T15:17:51.760Z"
   },
   {
    "duration": 5,
    "start_time": "2022-09-22T15:17:51.770Z"
   },
   {
    "duration": 19,
    "start_time": "2022-09-22T15:17:51.776Z"
   },
   {
    "duration": 4,
    "start_time": "2022-09-22T15:17:51.797Z"
   },
   {
    "duration": 48,
    "start_time": "2022-09-22T15:17:51.802Z"
   },
   {
    "duration": 5,
    "start_time": "2022-09-22T15:17:51.852Z"
   },
   {
    "duration": 26,
    "start_time": "2022-09-22T15:17:51.859Z"
   },
   {
    "duration": 4,
    "start_time": "2022-09-22T15:17:51.886Z"
   },
   {
    "duration": 14,
    "start_time": "2022-09-22T15:17:51.892Z"
   },
   {
    "duration": 26,
    "start_time": "2022-09-22T15:17:51.908Z"
   },
   {
    "duration": 5,
    "start_time": "2022-09-22T15:17:51.936Z"
   },
   {
    "duration": 31,
    "start_time": "2022-09-22T15:17:51.943Z"
   },
   {
    "duration": 19,
    "start_time": "2022-09-22T15:17:51.975Z"
   },
   {
    "duration": 613,
    "start_time": "2022-09-22T15:17:51.996Z"
   },
   {
    "duration": 156,
    "start_time": "2022-09-22T15:17:52.611Z"
   },
   {
    "duration": 140,
    "start_time": "2022-09-22T15:17:52.768Z"
   },
   {
    "duration": 141,
    "start_time": "2022-09-22T15:17:52.909Z"
   },
   {
    "duration": 144,
    "start_time": "2022-09-22T15:17:53.052Z"
   },
   {
    "duration": 139,
    "start_time": "2022-09-22T15:17:53.198Z"
   },
   {
    "duration": 133,
    "start_time": "2022-09-22T15:17:53.339Z"
   },
   {
    "duration": 128,
    "start_time": "2022-09-22T15:17:53.474Z"
   },
   {
    "duration": 118,
    "start_time": "2022-09-22T15:17:53.604Z"
   },
   {
    "duration": 127,
    "start_time": "2022-09-22T15:17:53.733Z"
   },
   {
    "duration": 114,
    "start_time": "2022-09-22T15:17:53.861Z"
   },
   {
    "duration": 348,
    "start_time": "2022-09-22T15:17:53.976Z"
   },
   {
    "duration": 228,
    "start_time": "2022-09-22T15:17:54.325Z"
   },
   {
    "duration": 238,
    "start_time": "2022-09-22T15:17:54.555Z"
   },
   {
    "duration": 587,
    "start_time": "2022-09-22T15:17:54.794Z"
   },
   {
    "duration": 6,
    "start_time": "2022-09-22T15:17:55.383Z"
   },
   {
    "duration": 19,
    "start_time": "2022-09-22T15:17:55.391Z"
   },
   {
    "duration": 37,
    "start_time": "2022-09-22T15:17:55.411Z"
   },
   {
    "duration": 148,
    "start_time": "2022-09-22T15:17:55.449Z"
   },
   {
    "duration": 127,
    "start_time": "2022-09-22T15:17:55.598Z"
   },
   {
    "duration": 8,
    "start_time": "2022-09-22T15:17:55.727Z"
   },
   {
    "duration": 28,
    "start_time": "2022-09-22T15:17:55.737Z"
   },
   {
    "duration": 148,
    "start_time": "2022-09-22T15:17:55.766Z"
   },
   {
    "duration": 125,
    "start_time": "2022-09-22T15:17:55.916Z"
   },
   {
    "duration": 5,
    "start_time": "2022-09-22T15:17:56.042Z"
   },
   {
    "duration": 29,
    "start_time": "2022-09-22T15:17:56.048Z"
   },
   {
    "duration": 175,
    "start_time": "2022-09-22T15:17:56.078Z"
   },
   {
    "duration": 173,
    "start_time": "2022-09-22T15:17:56.255Z"
   },
   {
    "duration": 6,
    "start_time": "2022-09-22T15:17:56.430Z"
   },
   {
    "duration": 36,
    "start_time": "2022-09-22T15:17:56.438Z"
   },
   {
    "duration": 148,
    "start_time": "2022-09-22T15:17:56.477Z"
   },
   {
    "duration": 4,
    "start_time": "2022-09-22T15:17:56.633Z"
   },
   {
    "duration": 25,
    "start_time": "2022-09-22T15:17:56.638Z"
   },
   {
    "duration": 129,
    "start_time": "2022-09-22T15:17:56.665Z"
   },
   {
    "duration": 12,
    "start_time": "2022-09-22T15:17:56.795Z"
   },
   {
    "duration": 150,
    "start_time": "2022-09-22T15:17:56.809Z"
   },
   {
    "duration": 12,
    "start_time": "2022-09-22T15:17:56.961Z"
   },
   {
    "duration": 150,
    "start_time": "2022-09-22T15:17:56.975Z"
   },
   {
    "duration": 14,
    "start_time": "2022-09-22T15:17:57.127Z"
   },
   {
    "duration": 149,
    "start_time": "2022-09-22T15:17:57.142Z"
   },
   {
    "duration": 13,
    "start_time": "2022-09-22T15:17:57.293Z"
   },
   {
    "duration": 137,
    "start_time": "2022-09-22T15:17:57.311Z"
   },
   {
    "duration": 28,
    "start_time": "2022-09-22T15:17:57.449Z"
   },
   {
    "duration": 18,
    "start_time": "2022-09-22T15:17:57.479Z"
   },
   {
    "duration": 44,
    "start_time": "2022-09-22T15:17:57.498Z"
   },
   {
    "duration": 15,
    "start_time": "2022-09-22T15:17:57.544Z"
   },
   {
    "duration": 138,
    "start_time": "2022-09-22T15:17:57.560Z"
   },
   {
    "duration": 24,
    "start_time": "2022-09-22T16:40:21.931Z"
   },
   {
    "duration": 131,
    "start_time": "2022-09-22T16:40:23.646Z"
   },
   {
    "duration": 126,
    "start_time": "2022-09-22T16:40:46.650Z"
   },
   {
    "duration": 125,
    "start_time": "2022-09-22T16:40:51.178Z"
   },
   {
    "duration": 5,
    "start_time": "2022-09-22T16:40:53.549Z"
   },
   {
    "duration": 21,
    "start_time": "2022-09-22T16:40:56.752Z"
   },
   {
    "duration": 141,
    "start_time": "2022-09-22T16:40:57.247Z"
   },
   {
    "duration": 133,
    "start_time": "2022-09-22T16:41:13.450Z"
   },
   {
    "duration": 138,
    "start_time": "2022-09-22T16:41:33.853Z"
   },
   {
    "duration": 458,
    "start_time": "2022-09-22T16:41:35.803Z"
   },
   {
    "duration": 5,
    "start_time": "2022-09-22T16:41:37.625Z"
   },
   {
    "duration": 140,
    "start_time": "2022-09-22T16:41:55.766Z"
   },
   {
    "duration": 156,
    "start_time": "2022-09-22T16:42:02.280Z"
   },
   {
    "duration": 151,
    "start_time": "2022-09-22T16:42:24.554Z"
   },
   {
    "duration": 841,
    "start_time": "2022-09-22T17:08:48.142Z"
   },
   {
    "duration": 377,
    "start_time": "2022-09-22T17:08:48.986Z"
   },
   {
    "duration": 35,
    "start_time": "2022-09-22T17:08:49.365Z"
   },
   {
    "duration": 16,
    "start_time": "2022-09-22T17:08:49.402Z"
   },
   {
    "duration": 2169,
    "start_time": "2022-09-22T17:08:49.420Z"
   },
   {
    "duration": 10,
    "start_time": "2022-09-22T17:08:51.590Z"
   },
   {
    "duration": 4,
    "start_time": "2022-09-22T17:08:51.601Z"
   },
   {
    "duration": 8,
    "start_time": "2022-09-22T17:08:51.606Z"
   },
   {
    "duration": 8,
    "start_time": "2022-09-22T17:08:51.615Z"
   },
   {
    "duration": 3,
    "start_time": "2022-09-22T17:08:51.625Z"
   },
   {
    "duration": 4,
    "start_time": "2022-09-22T17:08:51.630Z"
   },
   {
    "duration": 9,
    "start_time": "2022-09-22T17:08:51.635Z"
   },
   {
    "duration": 11,
    "start_time": "2022-09-22T17:08:51.646Z"
   },
   {
    "duration": 10,
    "start_time": "2022-09-22T17:08:51.659Z"
   },
   {
    "duration": 111,
    "start_time": "2022-09-22T17:08:51.670Z"
   },
   {
    "duration": 52,
    "start_time": "2022-09-22T17:08:51.782Z"
   },
   {
    "duration": 4,
    "start_time": "2022-09-22T17:08:51.836Z"
   },
   {
    "duration": 5,
    "start_time": "2022-09-22T17:08:51.842Z"
   },
   {
    "duration": 10,
    "start_time": "2022-09-22T17:08:51.849Z"
   },
   {
    "duration": 16,
    "start_time": "2022-09-22T17:08:51.860Z"
   },
   {
    "duration": 27,
    "start_time": "2022-09-22T17:08:51.877Z"
   },
   {
    "duration": 9,
    "start_time": "2022-09-22T17:08:51.906Z"
   },
   {
    "duration": 10,
    "start_time": "2022-09-22T17:08:51.917Z"
   },
   {
    "duration": 3,
    "start_time": "2022-09-22T17:08:51.929Z"
   },
   {
    "duration": 15,
    "start_time": "2022-09-22T17:08:51.934Z"
   },
   {
    "duration": 46,
    "start_time": "2022-09-22T17:08:51.950Z"
   },
   {
    "duration": 83,
    "start_time": "2022-09-22T17:08:51.998Z"
   },
   {
    "duration": 26,
    "start_time": "2022-09-22T17:08:52.094Z"
   },
   {
    "duration": 7,
    "start_time": "2022-09-22T17:08:52.121Z"
   },
   {
    "duration": 5,
    "start_time": "2022-09-22T17:08:52.130Z"
   },
   {
    "duration": 10,
    "start_time": "2022-09-22T17:08:52.136Z"
   },
   {
    "duration": 5,
    "start_time": "2022-09-22T17:08:52.147Z"
   },
   {
    "duration": 59,
    "start_time": "2022-09-22T17:08:52.153Z"
   },
   {
    "duration": 5,
    "start_time": "2022-09-22T17:08:52.213Z"
   },
   {
    "duration": 25,
    "start_time": "2022-09-22T17:08:52.220Z"
   },
   {
    "duration": 4,
    "start_time": "2022-09-22T17:08:52.247Z"
   },
   {
    "duration": 9,
    "start_time": "2022-09-22T17:08:52.253Z"
   },
   {
    "duration": 33,
    "start_time": "2022-09-22T17:08:52.264Z"
   },
   {
    "duration": 5,
    "start_time": "2022-09-22T17:08:52.299Z"
   },
   {
    "duration": 14,
    "start_time": "2022-09-22T17:08:52.306Z"
   },
   {
    "duration": 12,
    "start_time": "2022-09-22T17:08:52.321Z"
   },
   {
    "duration": 801,
    "start_time": "2022-09-22T17:08:52.334Z"
   },
   {
    "duration": 160,
    "start_time": "2022-09-22T17:08:53.137Z"
   },
   {
    "duration": 165,
    "start_time": "2022-09-22T17:08:53.299Z"
   },
   {
    "duration": 157,
    "start_time": "2022-09-22T17:08:53.465Z"
   },
   {
    "duration": 160,
    "start_time": "2022-09-22T17:08:53.623Z"
   },
   {
    "duration": 158,
    "start_time": "2022-09-22T17:08:53.785Z"
   },
   {
    "duration": 133,
    "start_time": "2022-09-22T17:08:53.945Z"
   },
   {
    "duration": 130,
    "start_time": "2022-09-22T17:08:54.080Z"
   },
   {
    "duration": 130,
    "start_time": "2022-09-22T17:08:54.211Z"
   },
   {
    "duration": 155,
    "start_time": "2022-09-22T17:08:54.342Z"
   },
   {
    "duration": 133,
    "start_time": "2022-09-22T17:08:54.499Z"
   },
   {
    "duration": 229,
    "start_time": "2022-09-22T17:08:54.634Z"
   },
   {
    "duration": 254,
    "start_time": "2022-09-22T17:08:54.865Z"
   },
   {
    "duration": 245,
    "start_time": "2022-09-22T17:08:55.121Z"
   },
   {
    "duration": 602,
    "start_time": "2022-09-22T17:08:55.367Z"
   },
   {
    "duration": 7,
    "start_time": "2022-09-22T17:08:55.970Z"
   },
   {
    "duration": 31,
    "start_time": "2022-09-22T17:08:55.979Z"
   },
   {
    "duration": 20,
    "start_time": "2022-09-22T17:08:56.011Z"
   },
   {
    "duration": 153,
    "start_time": "2022-09-22T17:08:56.032Z"
   },
   {
    "duration": 144,
    "start_time": "2022-09-22T17:08:56.187Z"
   },
   {
    "duration": 4,
    "start_time": "2022-09-22T17:08:56.333Z"
   },
   {
    "duration": 21,
    "start_time": "2022-09-22T17:08:56.339Z"
   },
   {
    "duration": 174,
    "start_time": "2022-09-22T17:08:56.361Z"
   },
   {
    "duration": 247,
    "start_time": "2022-09-22T17:08:56.537Z"
   },
   {
    "duration": 12,
    "start_time": "2022-09-22T17:08:56.786Z"
   },
   {
    "duration": 23,
    "start_time": "2022-09-22T17:08:56.799Z"
   },
   {
    "duration": 168,
    "start_time": "2022-09-22T17:08:56.824Z"
   },
   {
    "duration": 144,
    "start_time": "2022-09-22T17:08:56.995Z"
   },
   {
    "duration": 4,
    "start_time": "2022-09-22T17:08:57.141Z"
   },
   {
    "duration": 17,
    "start_time": "2022-09-22T17:08:57.146Z"
   },
   {
    "duration": 162,
    "start_time": "2022-09-22T17:08:57.164Z"
   },
   {
    "duration": 4,
    "start_time": "2022-09-22T17:08:57.329Z"
   },
   {
    "duration": 19,
    "start_time": "2022-09-22T17:08:57.335Z"
   },
   {
    "duration": 149,
    "start_time": "2022-09-22T17:08:57.355Z"
   },
   {
    "duration": 13,
    "start_time": "2022-09-22T17:08:57.506Z"
   },
   {
    "duration": 171,
    "start_time": "2022-09-22T17:08:57.521Z"
   },
   {
    "duration": 13,
    "start_time": "2022-09-22T17:08:57.694Z"
   },
   {
    "duration": 166,
    "start_time": "2022-09-22T17:08:57.709Z"
   },
   {
    "duration": 21,
    "start_time": "2022-09-22T17:08:57.876Z"
   },
   {
    "duration": 163,
    "start_time": "2022-09-22T17:08:57.899Z"
   },
   {
    "duration": 16,
    "start_time": "2022-09-22T17:08:58.067Z"
   },
   {
    "duration": 148,
    "start_time": "2022-09-22T17:08:58.094Z"
   },
   {
    "duration": 31,
    "start_time": "2022-09-22T17:08:58.244Z"
   },
   {
    "duration": 35,
    "start_time": "2022-09-22T17:08:58.277Z"
   },
   {
    "duration": 21,
    "start_time": "2022-09-22T17:08:58.313Z"
   },
   {
    "duration": 18,
    "start_time": "2022-09-22T17:08:58.336Z"
   },
   {
    "duration": 180,
    "start_time": "2022-09-22T17:08:58.355Z"
   }
  ],
  "kernelspec": {
   "display_name": "Python 3 (ipykernel)",
   "language": "python",
   "name": "python3"
  },
  "language_info": {
   "codemirror_mode": {
    "name": "ipython",
    "version": 3
   },
   "file_extension": ".py",
   "mimetype": "text/x-python",
   "name": "python",
   "nbconvert_exporter": "python",
   "pygments_lexer": "ipython3",
   "version": "3.9.13"
  },
  "toc": {
   "base_numbering": 1,
   "nav_menu": {},
   "number_sections": false,
   "sideBar": true,
   "skip_h1_title": true,
   "title_cell": "Table of Contents",
   "title_sidebar": "Contents",
   "toc_cell": false,
   "toc_position": {
    "height": "531.2px",
    "left": "22px",
    "top": "111.125px",
    "width": "767.159px"
   },
   "toc_section_display": true,
   "toc_window_display": true
  }
 },
 "nbformat": 4,
 "nbformat_minor": 5
}
