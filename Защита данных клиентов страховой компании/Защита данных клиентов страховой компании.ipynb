{
 "cells": [
  {
   "cell_type": "markdown",
   "metadata": {
    "toc": true
   },
   "source": [
    "<h1>Содержание<span class=\"tocSkip\"></span></h1>\n",
    "<div class=\"toc\"><ul class=\"toc-item\"><li><span><a href=\"#Загрузка-данных\" data-toc-modified-id=\"Загрузка-данных-1\"><span class=\"toc-item-num\">1&nbsp;&nbsp;</span>Загрузка данных</a></span><ul class=\"toc-item\"><li><span><a href=\"#Импорт-необходимых-библиотек\" data-toc-modified-id=\"Импорт-необходимых-библиотек-1.1\"><span class=\"toc-item-num\">1.1&nbsp;&nbsp;</span>Импорт необходимых библиотек</a></span></li><li><span><a href=\"#Открытие-файлов\" data-toc-modified-id=\"Открытие-файлов-1.2\"><span class=\"toc-item-num\">1.2&nbsp;&nbsp;</span>Открытие файлов</a></span></li><li><span><a href=\"#Вывод-десяти-строк-таблиц\" data-toc-modified-id=\"Вывод-десяти-строк-таблиц-1.3\"><span class=\"toc-item-num\">1.3&nbsp;&nbsp;</span>Вывод десяти строк таблиц</a></span></li><li><span><a href=\"#Вывод-основной-информации-о-датафрейме\" data-toc-modified-id=\"Вывод-основной-информации-о-датафрейме-1.4\"><span class=\"toc-item-num\">1.4&nbsp;&nbsp;</span>Вывод основной информации о датафрейме</a></span></li><li><span><a href=\"#Вывод\" data-toc-modified-id=\"Вывод-1.5\"><span class=\"toc-item-num\">1.5&nbsp;&nbsp;</span>Вывод</a></span></li></ul></li><li><span><a href=\"#Умножение-матриц\" data-toc-modified-id=\"Умножение-матриц-2\"><span class=\"toc-item-num\">2&nbsp;&nbsp;</span>Умножение матриц</a></span></li><li><span><a href=\"#Алгоритм-преобразования\" data-toc-modified-id=\"Алгоритм-преобразования-3\"><span class=\"toc-item-num\">3&nbsp;&nbsp;</span>Алгоритм преобразования</a></span></li><li><span><a href=\"#Проверка-алгоритма\" data-toc-modified-id=\"Проверка-алгоритма-4\"><span class=\"toc-item-num\">4&nbsp;&nbsp;</span>Проверка алгоритма</a></span><ul class=\"toc-item\"><li><span><a href=\"#Разбиение-данных-на-целевой-признак-и-признаки\" data-toc-modified-id=\"Разбиение-данных-на-целевой-признак-и-признаки-4.1\"><span class=\"toc-item-num\">4.1&nbsp;&nbsp;</span>Разбиение данных на целевой признак и признаки</a></span></li><li><span><a href=\"#Преобразование-данных\" data-toc-modified-id=\"Преобразование-данных-4.2\"><span class=\"toc-item-num\">4.2&nbsp;&nbsp;</span>Преобразование данных</a></span></li><li><span><a href=\"#Разбиение-данных-на-выборки\" data-toc-modified-id=\"Разбиение-данных-на-выборки-4.3\"><span class=\"toc-item-num\">4.3&nbsp;&nbsp;</span>Разбиение данных на выборки</a></span></li><li><span><a href=\"#Обучение-и-проверка-моделей\" data-toc-modified-id=\"Обучение-и-проверка-моделей-4.4\"><span class=\"toc-item-num\">4.4&nbsp;&nbsp;</span>Обучение и проверка моделей</a></span></li><li><span><a href=\"#Вывод\" data-toc-modified-id=\"Вывод-4.5\"><span class=\"toc-item-num\">4.5&nbsp;&nbsp;</span>Вывод</a></span></li></ul></li><li><span><a href=\"#Вывод\" data-toc-modified-id=\"Вывод-5\"><span class=\"toc-item-num\">5&nbsp;&nbsp;</span>Вывод</a></span></li><li><span><a href=\"#Финальные-комментарии-ревьюера\" data-toc-modified-id=\"Финальные-комментарии-ревьюера-6\"><span class=\"toc-item-num\">6&nbsp;&nbsp;</span>Финальные комментарии ревьюера</a></span></li></ul></div>"
   ]
  },
  {
   "cell_type": "markdown",
   "metadata": {},
   "source": [
    "# Защита персональных данных клиентов"
   ]
  },
  {
   "cell_type": "markdown",
   "metadata": {},
   "source": [
    "Нужно защитить данные клиентов страховой компании «Хоть потоп». Необходимо разработать такой метод преобразования данных, чтобы по ним было сложно восстановить персональную информацию, а также обосновать корректность его работы.\n",
    "\n",
    "Нужно защитить данные, чтобы при преобразовании качество моделей машинного обучения не ухудшилось. Подбирать наилучшую модель не требуется.\n",
    "\n",
    "**Цель исследования** — найти такой метод преобразования данных, при котором данные было бы сложно восстановить, а качество моделей машинного обучения не ухудшилось бы.\n",
    "\n",
    "**Ход исследования:**\n",
    "1. Загрузка данных\n",
    "2. Умножение матриц\n",
    "3. Алгоритм преобразования\n",
    "4. Проверка алгоритма\n",
    "5. Вывод"
   ]
  },
  {
   "cell_type": "markdown",
   "metadata": {},
   "source": [
    "## Загрузка данных"
   ]
  },
  {
   "cell_type": "markdown",
   "metadata": {},
   "source": [
    "### Импорт необходимых библиотек"
   ]
  },
  {
   "cell_type": "code",
   "execution_count": 66,
   "metadata": {},
   "outputs": [],
   "source": [
    "import pandas as pd\n",
    "import numpy as np\n",
    "\n",
    "from sklearn.linear_model import LinearRegression\n",
    "from sklearn.model_selection import train_test_split \n",
    "from sklearn.metrics import r2_score"
   ]
  },
  {
   "cell_type": "markdown",
   "metadata": {},
   "source": [
    "### Открытие файлов"
   ]
  },
  {
   "cell_type": "code",
   "execution_count": 67,
   "metadata": {},
   "outputs": [],
   "source": [
    "try:\n",
    "    data = pd.read_csv('/datasets/insurance.csv', engine='python')\n",
    "except:\n",
    "    data = pd.read_csv('https://code.s3.yandex.net/datasets/insurance.csv', engine='python')"
   ]
  },
  {
   "cell_type": "markdown",
   "metadata": {},
   "source": [
    "### Вывод десяти строк таблиц"
   ]
  },
  {
   "cell_type": "code",
   "execution_count": 68,
   "metadata": {},
   "outputs": [
    {
     "data": {
      "text/html": [
       "<div>\n",
       "<style scoped>\n",
       "    .dataframe tbody tr th:only-of-type {\n",
       "        vertical-align: middle;\n",
       "    }\n",
       "\n",
       "    .dataframe tbody tr th {\n",
       "        vertical-align: top;\n",
       "    }\n",
       "\n",
       "    .dataframe thead th {\n",
       "        text-align: right;\n",
       "    }\n",
       "</style>\n",
       "<table border=\"1\" class=\"dataframe\">\n",
       "  <thead>\n",
       "    <tr style=\"text-align: right;\">\n",
       "      <th></th>\n",
       "      <th>Пол</th>\n",
       "      <th>Возраст</th>\n",
       "      <th>Зарплата</th>\n",
       "      <th>Члены семьи</th>\n",
       "      <th>Страховые выплаты</th>\n",
       "    </tr>\n",
       "  </thead>\n",
       "  <tbody>\n",
       "    <tr>\n",
       "      <th>0</th>\n",
       "      <td>1</td>\n",
       "      <td>41.0</td>\n",
       "      <td>49600.0</td>\n",
       "      <td>1</td>\n",
       "      <td>0</td>\n",
       "    </tr>\n",
       "    <tr>\n",
       "      <th>1</th>\n",
       "      <td>0</td>\n",
       "      <td>46.0</td>\n",
       "      <td>38000.0</td>\n",
       "      <td>1</td>\n",
       "      <td>1</td>\n",
       "    </tr>\n",
       "    <tr>\n",
       "      <th>2</th>\n",
       "      <td>0</td>\n",
       "      <td>29.0</td>\n",
       "      <td>21000.0</td>\n",
       "      <td>0</td>\n",
       "      <td>0</td>\n",
       "    </tr>\n",
       "    <tr>\n",
       "      <th>3</th>\n",
       "      <td>0</td>\n",
       "      <td>21.0</td>\n",
       "      <td>41700.0</td>\n",
       "      <td>2</td>\n",
       "      <td>0</td>\n",
       "    </tr>\n",
       "    <tr>\n",
       "      <th>4</th>\n",
       "      <td>1</td>\n",
       "      <td>28.0</td>\n",
       "      <td>26100.0</td>\n",
       "      <td>0</td>\n",
       "      <td>0</td>\n",
       "    </tr>\n",
       "    <tr>\n",
       "      <th>5</th>\n",
       "      <td>1</td>\n",
       "      <td>43.0</td>\n",
       "      <td>41000.0</td>\n",
       "      <td>2</td>\n",
       "      <td>1</td>\n",
       "    </tr>\n",
       "    <tr>\n",
       "      <th>6</th>\n",
       "      <td>1</td>\n",
       "      <td>39.0</td>\n",
       "      <td>39700.0</td>\n",
       "      <td>2</td>\n",
       "      <td>0</td>\n",
       "    </tr>\n",
       "    <tr>\n",
       "      <th>7</th>\n",
       "      <td>1</td>\n",
       "      <td>25.0</td>\n",
       "      <td>38600.0</td>\n",
       "      <td>4</td>\n",
       "      <td>0</td>\n",
       "    </tr>\n",
       "    <tr>\n",
       "      <th>8</th>\n",
       "      <td>1</td>\n",
       "      <td>36.0</td>\n",
       "      <td>49700.0</td>\n",
       "      <td>1</td>\n",
       "      <td>0</td>\n",
       "    </tr>\n",
       "    <tr>\n",
       "      <th>9</th>\n",
       "      <td>1</td>\n",
       "      <td>32.0</td>\n",
       "      <td>51700.0</td>\n",
       "      <td>1</td>\n",
       "      <td>0</td>\n",
       "    </tr>\n",
       "  </tbody>\n",
       "</table>\n",
       "</div>"
      ],
      "text/plain": [
       "   Пол  Возраст  Зарплата  Члены семьи  Страховые выплаты\n",
       "0    1     41.0   49600.0            1                  0\n",
       "1    0     46.0   38000.0            1                  1\n",
       "2    0     29.0   21000.0            0                  0\n",
       "3    0     21.0   41700.0            2                  0\n",
       "4    1     28.0   26100.0            0                  0\n",
       "5    1     43.0   41000.0            2                  1\n",
       "6    1     39.0   39700.0            2                  0\n",
       "7    1     25.0   38600.0            4                  0\n",
       "8    1     36.0   49700.0            1                  0\n",
       "9    1     32.0   51700.0            1                  0"
      ]
     },
     "execution_count": 68,
     "metadata": {},
     "output_type": "execute_result"
    }
   ],
   "source": [
    "data.head(10)"
   ]
  },
  {
   "cell_type": "markdown",
   "metadata": {},
   "source": [
    "### Вывод основной информации о датафрейме"
   ]
  },
  {
   "cell_type": "code",
   "execution_count": 69,
   "metadata": {},
   "outputs": [
    {
     "name": "stdout",
     "output_type": "stream",
     "text": [
      "<class 'pandas.core.frame.DataFrame'>\n",
      "RangeIndex: 5000 entries, 0 to 4999\n",
      "Data columns (total 5 columns):\n",
      " #   Column             Non-Null Count  Dtype  \n",
      "---  ------             --------------  -----  \n",
      " 0   Пол                5000 non-null   int64  \n",
      " 1   Возраст            5000 non-null   float64\n",
      " 2   Зарплата           5000 non-null   float64\n",
      " 3   Члены семьи        5000 non-null   int64  \n",
      " 4   Страховые выплаты  5000 non-null   int64  \n",
      "dtypes: float64(2), int64(3)\n",
      "memory usage: 195.4 KB\n"
     ]
    }
   ],
   "source": [
    "data.info()"
   ]
  },
  {
   "cell_type": "code",
   "execution_count": 70,
   "metadata": {},
   "outputs": [
    {
     "data": {
      "text/html": [
       "<div>\n",
       "<style scoped>\n",
       "    .dataframe tbody tr th:only-of-type {\n",
       "        vertical-align: middle;\n",
       "    }\n",
       "\n",
       "    .dataframe tbody tr th {\n",
       "        vertical-align: top;\n",
       "    }\n",
       "\n",
       "    .dataframe thead th {\n",
       "        text-align: right;\n",
       "    }\n",
       "</style>\n",
       "<table border=\"1\" class=\"dataframe\">\n",
       "  <thead>\n",
       "    <tr style=\"text-align: right;\">\n",
       "      <th></th>\n",
       "      <th>Пол</th>\n",
       "      <th>Возраст</th>\n",
       "      <th>Зарплата</th>\n",
       "      <th>Члены семьи</th>\n",
       "      <th>Страховые выплаты</th>\n",
       "    </tr>\n",
       "  </thead>\n",
       "  <tbody>\n",
       "    <tr>\n",
       "      <th>count</th>\n",
       "      <td>5000.000000</td>\n",
       "      <td>5000.000000</td>\n",
       "      <td>5000.000000</td>\n",
       "      <td>5000.000000</td>\n",
       "      <td>5000.000000</td>\n",
       "    </tr>\n",
       "    <tr>\n",
       "      <th>mean</th>\n",
       "      <td>0.499000</td>\n",
       "      <td>30.952800</td>\n",
       "      <td>39916.360000</td>\n",
       "      <td>1.194200</td>\n",
       "      <td>0.148000</td>\n",
       "    </tr>\n",
       "    <tr>\n",
       "      <th>std</th>\n",
       "      <td>0.500049</td>\n",
       "      <td>8.440807</td>\n",
       "      <td>9900.083569</td>\n",
       "      <td>1.091387</td>\n",
       "      <td>0.463183</td>\n",
       "    </tr>\n",
       "    <tr>\n",
       "      <th>min</th>\n",
       "      <td>0.000000</td>\n",
       "      <td>18.000000</td>\n",
       "      <td>5300.000000</td>\n",
       "      <td>0.000000</td>\n",
       "      <td>0.000000</td>\n",
       "    </tr>\n",
       "    <tr>\n",
       "      <th>25%</th>\n",
       "      <td>0.000000</td>\n",
       "      <td>24.000000</td>\n",
       "      <td>33300.000000</td>\n",
       "      <td>0.000000</td>\n",
       "      <td>0.000000</td>\n",
       "    </tr>\n",
       "    <tr>\n",
       "      <th>50%</th>\n",
       "      <td>0.000000</td>\n",
       "      <td>30.000000</td>\n",
       "      <td>40200.000000</td>\n",
       "      <td>1.000000</td>\n",
       "      <td>0.000000</td>\n",
       "    </tr>\n",
       "    <tr>\n",
       "      <th>75%</th>\n",
       "      <td>1.000000</td>\n",
       "      <td>37.000000</td>\n",
       "      <td>46600.000000</td>\n",
       "      <td>2.000000</td>\n",
       "      <td>0.000000</td>\n",
       "    </tr>\n",
       "    <tr>\n",
       "      <th>max</th>\n",
       "      <td>1.000000</td>\n",
       "      <td>65.000000</td>\n",
       "      <td>79000.000000</td>\n",
       "      <td>6.000000</td>\n",
       "      <td>5.000000</td>\n",
       "    </tr>\n",
       "  </tbody>\n",
       "</table>\n",
       "</div>"
      ],
      "text/plain": [
       "               Пол      Возраст      Зарплата  Члены семьи  Страховые выплаты\n",
       "count  5000.000000  5000.000000   5000.000000  5000.000000        5000.000000\n",
       "mean      0.499000    30.952800  39916.360000     1.194200           0.148000\n",
       "std       0.500049     8.440807   9900.083569     1.091387           0.463183\n",
       "min       0.000000    18.000000   5300.000000     0.000000           0.000000\n",
       "25%       0.000000    24.000000  33300.000000     0.000000           0.000000\n",
       "50%       0.000000    30.000000  40200.000000     1.000000           0.000000\n",
       "75%       1.000000    37.000000  46600.000000     2.000000           0.000000\n",
       "max       1.000000    65.000000  79000.000000     6.000000           5.000000"
      ]
     },
     "execution_count": 70,
     "metadata": {},
     "output_type": "execute_result"
    }
   ],
   "source": [
    "data.describe()"
   ]
  },
  {
   "cell_type": "code",
   "execution_count": 71,
   "metadata": {},
   "outputs": [
    {
     "data": {
      "text/plain": [
       "153"
      ]
     },
     "execution_count": 71,
     "metadata": {},
     "output_type": "execute_result"
    }
   ],
   "source": [
    "data.duplicated().sum()"
   ]
  },
  {
   "cell_type": "markdown",
   "metadata": {},
   "source": [
    "### Вывод"
   ]
  },
  {
   "cell_type": "markdown",
   "metadata": {},
   "source": [
    "Согласно документации к данным, в датасете содержатся такие признаки, как пол, возраст и зарплата застрахованного, количество членов его семьи, а также целевой признак — количество страховых выплат клиенту за последние 5 лет.\n",
    "В данных есть 153 дублирующиеся строки, но они не требуют предобработки, так как данные в данном случае просто могут повторяться.\n",
    "Данные в полном порядке и не требуют предобработки."
   ]
  },
  {
   "cell_type": "markdown",
   "metadata": {},
   "source": [
    "## Умножение матриц"
   ]
  },
  {
   "cell_type": "markdown",
   "metadata": {},
   "source": [
    "Признаки умножают на обратимую матрицу. Изменится ли качество линейной регрессии?"
   ]
  },
  {
   "cell_type": "markdown",
   "metadata": {},
   "source": [
    "Обозначения:\n",
    "\n",
    "- $X$ — матрица признаков (нулевой столбец состоит из единиц)\n",
    "\n",
    "- $y$ — вектор целевого признака\n",
    "\n",
    "- $P$ — матрица, на которую умножаются признаки\n",
    "\n",
    "- $w$ — вектор весов линейной регрессии (нулевой элемент равен сдвигу)"
   ]
  },
  {
   "cell_type": "markdown",
   "metadata": {},
   "source": [
    "Предсказания:\n",
    "\n",
    "$$\n",
    "a = Xw\n",
    "$$\n",
    "\n",
    "Задача обучения:\n",
    "\n",
    "$$\n",
    "w = \\arg\\min_w MSE(Xw, y)\n",
    "$$\n",
    "\n",
    "Формула обучения:\n",
    "\n",
    "$$\n",
    "w = (X^T X)^{-1} X^T y\n",
    "$$"
   ]
  },
  {
   "cell_type": "markdown",
   "metadata": {},
   "source": [
    "**Ответ:** Качество линейной регрессии не изменится.<a id='par2'></a>\n",
    "\n",
    "**Обоснование:** Чтобы узнать, изменится ли качество линейной регресии, необходимо сравнить предсказания до и после умножения признаков на обратимую матрицу.\n",
    "\n",
    "Предсказания до умножения признаков на обратимую матрицу:\n",
    "\n",
    "$$\n",
    "a_1 = Xw_1,\n",
    "$$\n",
    "\n",
    "где w<sub>1</sub> — вектор весов линейной регрессии до умножения признаков на обратимую матрицу:\n",
    "\n",
    "$$\n",
    "w_1 = (X^T X)^{-1} X^T y\n",
    "$$\n",
    "\n",
    "Предсказания после умножения признаков на обратимую матрицу:\n",
    "\n",
    "$$\n",
    "a_2 = Cw_2,\n",
    "$$\n",
    "\n",
    "где w<sub>2</sub> — вектор весов линейной регрессии после умножения признаков на обратимую матрицу:\n",
    "\n",
    "$$\n",
    "w_2 = (C^T C)^{-1} C^T y,\n",
    "$$\n",
    "\n",
    "а C — это произведение признаков и обратимой матрицы:\n",
    "\n",
    "$$\n",
    "C = X P\n",
    "$$\n",
    "\n",
    "Раскроем скобки в формуле предсказаний a<sub>2</sub> с помощью формулы произведения признаков и обратимой матрицы и формулы вектора весов линейной регресии:\n",
    "\n",
    "$$\n",
    "a_2 = X P ((X P)^T X P)^{-1} (X P)^T y\n",
    "$$\n",
    "\n",
    "Затем раскроем скобки по свойству транспонирования матриц:\n",
    "\n",
    "$$\n",
    "a_2 = X P (P^T X^T X P)^{-1} P^T X^T y\n",
    "$$\n",
    "\n",
    "Так как X<sup>T</sup>X, P<sup>T</sup> и P — это квадратные матрицы, то по свойству обратных матриц раскроем скобки:\n",
    "\n",
    "$$\n",
    "a_2 = X P P^{-1} (X^T X)^{-1} (P^T)^{-1} P^T X^T y\n",
    "$$\n",
    "\n",
    "(P<sup>T</sup>)<sup>-1</sup> P<sup>T</sup> = E, поэтому (P<sup>T</sup>)<sup>-1</sup> и P<sup>T</sup> можно убрать:\n",
    "\n",
    "$$\n",
    "a_2 = X P P^{-1} (X^T X)^{-1} X^T y\n",
    "$$\n",
    "\n",
    "P P<sup>-1</sup> = E, P и P<sup>-1</sup> тоже убираем:\n",
    "\n",
    "$$\n",
    "a_2 = X (X^T X)^{-1} X^T y\n",
    "$$\n",
    "\n",
    "$$\n",
    "a_1 = Xw_1 = X (X^T X)^{-1} X^T y = a_2\n",
    "$$\n",
    "\n",
    "Таким образом, предсказания до и после умножения признаков на обратимую матрицу равны, следовательно, качество линейной регресии не изменится."
   ]
  },
  {
   "cell_type": "markdown",
   "metadata": {},
   "source": [
    "## Алгоритм преобразования"
   ]
  },
  {
   "cell_type": "markdown",
   "metadata": {},
   "source": [
    "**Алгоритм**\n",
    "\n",
    "Исходя из пункта [2](#par2), можно преобразовать данные с помощью умножения признаков на обратимую матрицу. При преобразовании качество моделей машинного обучения не ухудшится, а также данные можно будет восстановить после преобразования, умножив их на матрицу, обратную изначальной обратимой матрице.\n",
    "\n",
    "1. Сгенерировать случайную квадратную матрицу, размер которой будет соответствовать ширине матрицы признаков.\n",
    "2. Проверить сгенерированную матрицу на обратимость.\n",
    "3. Умножить матрицу признаков на обратимую матрицу.\n",
    "4. Обучить одну модель на стандартных данных и другую — на преобразованных данных, затем получить предсказания.\n",
    "5. Проверить обе модели с помощью метрики R2.\n",
    "5. Сравнить получившиеся метрики R2 до и после умножения признаков на обратимую матрицу."
   ]
  },
  {
   "cell_type": "markdown",
   "metadata": {},
   "source": [
    "## Проверка алгоритма"
   ]
  },
  {
   "cell_type": "markdown",
   "metadata": {},
   "source": [
    "### Разбиение данных на целевой признак и признаки"
   ]
  },
  {
   "cell_type": "code",
   "execution_count": 72,
   "metadata": {},
   "outputs": [],
   "source": [
    "features = data.drop(['Страховые выплаты'], axis=1)\n",
    "target = data['Страховые выплаты']"
   ]
  },
  {
   "cell_type": "markdown",
   "metadata": {},
   "source": [
    "### Преобразование данных"
   ]
  },
  {
   "cell_type": "markdown",
   "metadata": {},
   "source": [
    "Сгенерируем квадратную обратимую матрицу и проверим ее обратимость:"
   ]
  },
  {
   "cell_type": "code",
   "execution_count": 73,
   "metadata": {},
   "outputs": [
    {
     "name": "stdout",
     "output_type": "stream",
     "text": [
      "Кодирующая матрица:\n",
      "[[-0.00427926  0.37830843  1.45394668 -0.31026098]\n",
      " [ 0.76874006 -0.85134667  0.17477458 -0.71698321]\n",
      " [ 0.19438479 -1.62239111 -0.2967114   0.83608592]\n",
      " [ 0.91717961 -0.17769812  1.5862778   0.67427151]]\n"
     ]
    }
   ],
   "source": [
    "while True:\n",
    "    invert_matrix = np.random.normal(size=(features.shape[1], features.shape[1]))\n",
    "    try:\n",
    "        np.linalg.inv(invert_matrix)\n",
    "        print('Кодирующая матрица:')\n",
    "        print(invert_matrix)\n",
    "        break\n",
    "    except:\n",
    "        continue"
   ]
  },
  {
   "cell_type": "markdown",
   "metadata": {},
   "source": [
    "Преобразуем признаки с помощью умножения на обратимую матрицу:"
   ]
  },
  {
   "cell_type": "code",
   "execution_count": 74,
   "metadata": {},
   "outputs": [],
   "source": [
    "new_features = features @ invert_matrix"
   ]
  },
  {
   "cell_type": "markdown",
   "metadata": {},
   "source": [
    "### Разбиение данных на выборки"
   ]
  },
  {
   "cell_type": "markdown",
   "metadata": {},
   "source": [
    "Разобьем стандартные и преобразованные данные для двух моделей соответственно в отношении 75:25 на обучающую и валидационную выборки:"
   ]
  },
  {
   "cell_type": "code",
   "execution_count": 75,
   "metadata": {},
   "outputs": [],
   "source": [
    "features_train, features_valid, target_train, target_valid = train_test_split(\n",
    "    features, target, test_size=0.25, random_state=12345)\n",
    "\n",
    "new_features_train, new_features_valid, new_target_train, new_target_valid = train_test_split(\n",
    "    new_features, target, test_size=0.25, random_state=12345)"
   ]
  },
  {
   "cell_type": "code",
   "execution_count": 76,
   "metadata": {},
   "outputs": [
    {
     "name": "stdout",
     "output_type": "stream",
     "text": [
      "(3750, 4) (1250, 4)\n",
      "(3750, 4) (1250, 4)\n"
     ]
    }
   ],
   "source": [
    "print(features_train.shape, features_valid.shape)\n",
    "print(new_features_train.shape, new_features_valid.shape)"
   ]
  },
  {
   "cell_type": "markdown",
   "metadata": {},
   "source": [
    "### Обучение и проверка моделей"
   ]
  },
  {
   "cell_type": "markdown",
   "metadata": {},
   "source": [
    "Обучим модель на еще не преобразованных данных, получим предсказания и проверим модель с помощью метрики R2:"
   ]
  },
  {
   "cell_type": "code",
   "execution_count": 77,
   "metadata": {},
   "outputs": [
    {
     "name": "stdout",
     "output_type": "stream",
     "text": [
      "0.43522757127026546\n"
     ]
    }
   ],
   "source": [
    "model = LinearRegression()\n",
    "model.fit(features_train, target_train)\n",
    "y_pred = model.predict(features_valid)\n",
    "print(r2_score(target_valid, y_pred))"
   ]
  },
  {
   "cell_type": "markdown",
   "metadata": {},
   "source": [
    "Теперь сделаем то же самое для преобразованных данных:"
   ]
  },
  {
   "cell_type": "code",
   "execution_count": 78,
   "metadata": {},
   "outputs": [
    {
     "name": "stdout",
     "output_type": "stream",
     "text": [
      "0.4352275712699596\n"
     ]
    }
   ],
   "source": [
    "model.fit(new_features_train, new_target_train)\n",
    "new_y_pred = model.predict(new_features_valid)\n",
    "print(r2_score(new_target_valid, new_y_pred))"
   ]
  },
  {
   "cell_type": "markdown",
   "metadata": {},
   "source": [
    "### Вывод"
   ]
  },
  {
   "cell_type": "markdown",
   "metadata": {},
   "source": [
    "Проверка моделей линейной регрессии с помощью метрики r2 подтвердила вывод из пункта [2](#par2) — модель, обученная и проверенная на изначальных данных, и модель, обученная и проверенная на преобразованных данных, дали одинаковый результат."
   ]
  },
  {
   "cell_type": "markdown",
   "metadata": {},
   "source": [
    "## Вывод"
   ]
  },
  {
   "cell_type": "markdown",
   "metadata": {},
   "source": [
    "С помощью математических формул было доказано, что при умножении признаков на обратимую матрицу качество моделей машинного обучения не ухудшилось, поэтому алгоритмом преобразования данных было выбрано произведение признаков и обратимой матрицы.\n",
    "\n",
    "После преобразования данных и разбиения их на выборки были обучены две модели линейной регресии: одна модель обучалась и проверялась на стандартных данных, а другая — на преобразованных данных. Затем модели были проверены с помощью метрики r2 — для обеих моделей метрика оказалась одинаковой, следовательно качество модели от преобразования не ухудшилось."
   ]
  }
 ],
 "metadata": {
  "ExecuteTimeLog": [
   {
    "duration": 2550,
    "start_time": "2023-02-15T03:36:10.917Z"
   },
   {
    "duration": 116,
    "start_time": "2023-02-15T03:36:13.476Z"
   },
   {
    "duration": 95,
    "start_time": "2023-02-15T03:36:13.594Z"
   },
   {
    "duration": 53,
    "start_time": "2023-02-15T03:36:13.703Z"
   },
   {
    "duration": 35,
    "start_time": "2023-02-15T03:36:13.759Z"
   },
   {
    "duration": 86,
    "start_time": "2023-02-15T03:36:13.796Z"
   },
   {
    "duration": 11,
    "start_time": "2023-02-15T03:36:13.885Z"
   },
   {
    "duration": 41,
    "start_time": "2023-02-15T03:36:13.897Z"
   },
   {
    "duration": 27,
    "start_time": "2023-02-15T03:36:13.947Z"
   },
   {
    "duration": 66,
    "start_time": "2023-02-15T03:36:13.976Z"
   },
   {
    "duration": 1320,
    "start_time": "2023-02-15T15:55:49.273Z"
   },
   {
    "duration": 102,
    "start_time": "2023-02-15T15:55:50.595Z"
   },
   {
    "duration": 15,
    "start_time": "2023-02-15T15:55:50.699Z"
   },
   {
    "duration": 11,
    "start_time": "2023-02-15T15:55:50.716Z"
   },
   {
    "duration": 7,
    "start_time": "2023-02-15T15:55:50.728Z"
   },
   {
    "duration": 7,
    "start_time": "2023-02-15T15:55:50.736Z"
   },
   {
    "duration": 8,
    "start_time": "2023-02-15T15:55:50.745Z"
   },
   {
    "duration": 4,
    "start_time": "2023-02-15T15:55:50.754Z"
   },
   {
    "duration": 11,
    "start_time": "2023-02-15T15:55:50.759Z"
   },
   {
    "duration": 33,
    "start_time": "2023-02-15T15:55:50.772Z"
   },
   {
    "duration": 44,
    "start_time": "2023-02-15T16:56:40.296Z"
   },
   {
    "duration": 1248,
    "start_time": "2023-02-15T16:56:44.436Z"
   },
   {
    "duration": 109,
    "start_time": "2023-02-15T16:56:45.686Z"
   },
   {
    "duration": 16,
    "start_time": "2023-02-15T16:56:46.590Z"
   },
   {
    "duration": 16,
    "start_time": "2023-02-15T16:56:47.459Z"
   },
   {
    "duration": 22,
    "start_time": "2023-02-15T16:56:48.190Z"
   },
   {
    "duration": 80,
    "start_time": "2023-02-15T16:57:17.431Z"
   },
   {
    "duration": 12,
    "start_time": "2023-02-15T16:58:03.371Z"
   },
   {
    "duration": 7,
    "start_time": "2023-02-15T16:58:24.232Z"
   },
   {
    "duration": 493,
    "start_time": "2023-02-15T17:00:46.374Z"
   },
   {
    "duration": 9,
    "start_time": "2023-02-15T17:02:25.720Z"
   },
   {
    "duration": 3,
    "start_time": "2023-02-15T17:02:29.369Z"
   },
   {
    "duration": 42,
    "start_time": "2023-02-15T17:02:29.374Z"
   },
   {
    "duration": 9,
    "start_time": "2023-02-15T17:02:29.418Z"
   },
   {
    "duration": 10,
    "start_time": "2023-02-15T17:02:29.429Z"
   },
   {
    "duration": 28,
    "start_time": "2023-02-15T17:02:29.441Z"
   },
   {
    "duration": 7,
    "start_time": "2023-02-15T17:02:29.471Z"
   },
   {
    "duration": 4,
    "start_time": "2023-02-15T17:02:29.480Z"
   },
   {
    "duration": 5,
    "start_time": "2023-02-15T17:02:29.486Z"
   },
   {
    "duration": 7,
    "start_time": "2023-02-15T17:02:29.492Z"
   },
   {
    "duration": 7,
    "start_time": "2023-02-15T17:02:29.501Z"
   },
   {
    "duration": 3,
    "start_time": "2023-02-15T17:02:29.509Z"
   },
   {
    "duration": 17,
    "start_time": "2023-02-15T17:02:29.514Z"
   },
   {
    "duration": 7,
    "start_time": "2023-02-15T17:02:29.533Z"
   },
   {
    "duration": 6,
    "start_time": "2023-02-15T17:03:42.757Z"
   },
   {
    "duration": 10,
    "start_time": "2023-02-15T17:04:42.858Z"
   },
   {
    "duration": 170,
    "start_time": "2023-02-15T17:05:02.955Z"
   },
   {
    "duration": 9,
    "start_time": "2023-02-15T17:05:34.772Z"
   },
   {
    "duration": 9,
    "start_time": "2023-02-15T17:05:45.876Z"
   },
   {
    "duration": 100,
    "start_time": "2023-02-15T17:06:45.006Z"
   },
   {
    "duration": 81,
    "start_time": "2023-02-15T17:07:27.177Z"
   },
   {
    "duration": 65,
    "start_time": "2023-02-15T17:10:24.528Z"
   },
   {
    "duration": 26773,
    "start_time": "2023-02-15T17:11:53.805Z"
   },
   {
    "duration": 0,
    "start_time": "2023-02-15T17:12:20.583Z"
   },
   {
    "duration": 0,
    "start_time": "2023-02-15T17:12:51.482Z"
   },
   {
    "duration": 8,
    "start_time": "2023-02-15T17:12:57.304Z"
   },
   {
    "duration": 4,
    "start_time": "2023-02-15T17:13:13.353Z"
   },
   {
    "duration": 3,
    "start_time": "2023-02-15T17:13:29.381Z"
   },
   {
    "duration": 70,
    "start_time": "2023-02-15T17:13:29.385Z"
   },
   {
    "duration": 13,
    "start_time": "2023-02-15T17:13:29.457Z"
   },
   {
    "duration": 16,
    "start_time": "2023-02-15T17:13:29.472Z"
   },
   {
    "duration": 25,
    "start_time": "2023-02-15T17:13:29.490Z"
   },
   {
    "duration": 5,
    "start_time": "2023-02-15T17:13:29.517Z"
   },
   {
    "duration": 3,
    "start_time": "2023-02-15T17:13:29.524Z"
   },
   {
    "duration": 39,
    "start_time": "2023-02-15T17:13:29.529Z"
   },
   {
    "duration": 4,
    "start_time": "2023-02-15T17:13:29.570Z"
   },
   {
    "duration": 95,
    "start_time": "2023-02-15T17:13:29.577Z"
   },
   {
    "duration": 4,
    "start_time": "2023-02-15T17:13:29.674Z"
   },
   {
    "duration": 10,
    "start_time": "2023-02-15T17:13:29.679Z"
   },
   {
    "duration": 8,
    "start_time": "2023-02-15T17:13:29.690Z"
   },
   {
    "duration": 5,
    "start_time": "2023-02-15T17:13:47.143Z"
   },
   {
    "duration": 3413,
    "start_time": "2023-02-15T17:15:06.804Z"
   },
   {
    "duration": 6,
    "start_time": "2023-02-15T17:15:16.556Z"
   },
   {
    "duration": 3,
    "start_time": "2023-02-15T17:15:19.647Z"
   },
   {
    "duration": 47,
    "start_time": "2023-02-15T17:15:19.652Z"
   },
   {
    "duration": 9,
    "start_time": "2023-02-15T17:15:19.700Z"
   },
   {
    "duration": 12,
    "start_time": "2023-02-15T17:15:19.711Z"
   },
   {
    "duration": 22,
    "start_time": "2023-02-15T17:15:19.725Z"
   },
   {
    "duration": 4,
    "start_time": "2023-02-15T17:15:19.749Z"
   },
   {
    "duration": 14,
    "start_time": "2023-02-15T17:15:19.755Z"
   },
   {
    "duration": 8,
    "start_time": "2023-02-15T17:15:19.770Z"
   },
   {
    "duration": 101,
    "start_time": "2023-02-15T17:15:19.779Z"
   },
   {
    "duration": 8,
    "start_time": "2023-02-15T17:15:19.883Z"
   },
   {
    "duration": 3,
    "start_time": "2023-02-15T17:15:19.967Z"
   },
   {
    "duration": 16,
    "start_time": "2023-02-15T17:15:19.972Z"
   },
   {
    "duration": 10,
    "start_time": "2023-02-15T17:15:19.989Z"
   },
   {
    "duration": 3,
    "start_time": "2023-02-15T17:16:15.435Z"
   },
   {
    "duration": 52,
    "start_time": "2023-02-15T17:16:15.439Z"
   },
   {
    "duration": 8,
    "start_time": "2023-02-15T17:16:15.493Z"
   },
   {
    "duration": 17,
    "start_time": "2023-02-15T17:16:15.503Z"
   },
   {
    "duration": 18,
    "start_time": "2023-02-15T17:16:15.522Z"
   },
   {
    "duration": 5,
    "start_time": "2023-02-15T17:16:15.541Z"
   },
   {
    "duration": 4,
    "start_time": "2023-02-15T17:16:15.547Z"
   },
   {
    "duration": 18,
    "start_time": "2023-02-15T17:16:15.552Z"
   },
   {
    "duration": 4,
    "start_time": "2023-02-15T17:16:15.572Z"
   },
   {
    "duration": 9,
    "start_time": "2023-02-15T17:16:15.578Z"
   },
   {
    "duration": 4,
    "start_time": "2023-02-15T17:16:15.669Z"
   },
   {
    "duration": 20,
    "start_time": "2023-02-15T17:16:15.675Z"
   },
   {
    "duration": 76,
    "start_time": "2023-02-15T17:16:15.697Z"
   }
  ],
  "kernelspec": {
   "display_name": "Python 3 (ipykernel)",
   "language": "python",
   "name": "python3"
  },
  "language_info": {
   "codemirror_mode": {
    "name": "ipython",
    "version": 3
   },
   "file_extension": ".py",
   "mimetype": "text/x-python",
   "name": "python",
   "nbconvert_exporter": "python",
   "pygments_lexer": "ipython3",
   "version": "3.9.13"
  },
  "toc": {
   "base_numbering": 1,
   "nav_menu": {},
   "number_sections": true,
   "sideBar": true,
   "skip_h1_title": true,
   "title_cell": "Содержание",
   "title_sidebar": "Contents",
   "toc_cell": true,
   "toc_position": {
    "height": "calc(100% - 180px)",
    "left": "10px",
    "top": "150px",
    "width": "558.182px"
   },
   "toc_section_display": true,
   "toc_window_display": true
  }
 },
 "nbformat": 4,
 "nbformat_minor": 2
}
