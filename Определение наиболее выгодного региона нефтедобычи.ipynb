{
 "cells": [
  {
   "cell_type": "markdown",
   "id": "fc33a25e",
   "metadata": {
    "toc": true
   },
   "source": [
    "<h1>Содержание<span class=\"tocSkip\"></span></h1>\n",
    "<div class=\"toc\"><ul class=\"toc-item\"><li><span><a href=\"#Изучение-общей-информации\" data-toc-modified-id=\"Изучение-общей-информации-1\"><span class=\"toc-item-num\">1&nbsp;&nbsp;</span>Изучение общей информации</a></span><ul class=\"toc-item\"><li><span><a href=\"#Испорт-необходимых-библиотек\" data-toc-modified-id=\"Испорт-необходимых-библиотек-1.1\"><span class=\"toc-item-num\">1.1&nbsp;&nbsp;</span>Испорт необходимых библиотек</a></span></li><li><span><a href=\"#Открытие-файлов\" data-toc-modified-id=\"Открытие-файлов-1.2\"><span class=\"toc-item-num\">1.2&nbsp;&nbsp;</span>Открытие файлов</a></span></li><li><span><a href=\"#Вывод-первых-десяти-строк-таблиц\" data-toc-modified-id=\"Вывод-первых-десяти-строк-таблиц-1.3\"><span class=\"toc-item-num\">1.3&nbsp;&nbsp;</span>Вывод первых десяти строк таблиц</a></span></li><li><span><a href=\"#Вывод-основной-информации-о-датафреймах\" data-toc-modified-id=\"Вывод-основной-информации-о-датафреймах-1.4\"><span class=\"toc-item-num\">1.4&nbsp;&nbsp;</span>Вывод основной информации о датафреймах</a></span></li><li><span><a href=\"#Вывод\" data-toc-modified-id=\"Вывод-1.5\"><span class=\"toc-item-num\">1.5&nbsp;&nbsp;</span>Вывод</a></span></li></ul></li><li><span><a href=\"#Подготовка-данных\" data-toc-modified-id=\"Подготовка-данных-2\"><span class=\"toc-item-num\">2&nbsp;&nbsp;</span>Подготовка данных</a></span><ul class=\"toc-item\"><li><span><a href=\"#Разбиение-данных-на-целевой-признак-и-признаки\" data-toc-modified-id=\"Разбиение-данных-на-целевой-признак-и-признаки-2.1\"><span class=\"toc-item-num\">2.1&nbsp;&nbsp;</span>Разбиение данных на целевой признак и признаки</a></span></li><li><span><a href=\"#Разбиение-данных-на-выборки\" data-toc-modified-id=\"Разбиение-данных-на-выборки-2.2\"><span class=\"toc-item-num\">2.2&nbsp;&nbsp;</span>Разбиение данных на выборки</a></span></li><li><span><a href=\"#Масштабирование-признаков\" data-toc-modified-id=\"Масштабирование-признаков-2.3\"><span class=\"toc-item-num\">2.3&nbsp;&nbsp;</span>Масштабирование признаков</a></span></li><li><span><a href=\"#Вывод\" data-toc-modified-id=\"Вывод-2.4\"><span class=\"toc-item-num\">2.4&nbsp;&nbsp;</span>Вывод</a></span></li></ul></li><li><span><a href=\"#Обучение-и-проверка-модели\" data-toc-modified-id=\"Обучение-и-проверка-модели-3\"><span class=\"toc-item-num\">3&nbsp;&nbsp;</span>Обучение и проверка модели</a></span><ul class=\"toc-item\"><li><span><a href=\"#Обучение-модели-и-предсказания\" data-toc-modified-id=\"Обучение-модели-и-предсказания-3.1\"><span class=\"toc-item-num\">3.1&nbsp;&nbsp;</span>Обучение модели и предсказания</a></span></li><li><span><a href=\"#Среднее-значение-предсказаний-и-RMSE\" data-toc-modified-id=\"Среднее-значение-предсказаний-и-RMSE-3.2\"><span class=\"toc-item-num\">3.2&nbsp;&nbsp;</span>Среднее значение предсказаний и RMSE</a></span></li><li><span><a href=\"#Вывод\" data-toc-modified-id=\"Вывод-3.3\"><span class=\"toc-item-num\">3.3&nbsp;&nbsp;</span>Вывод</a></span></li></ul></li><li><span><a href=\"#Подготовка-к-расчёту-прибыли\" data-toc-modified-id=\"Подготовка-к-расчёту-прибыли-4\"><span class=\"toc-item-num\">4&nbsp;&nbsp;</span>Подготовка к расчёту прибыли</a></span><ul class=\"toc-item\"><li><span><a href=\"#Создание-констант\" data-toc-modified-id=\"Создание-констант-4.1\"><span class=\"toc-item-num\">4.1&nbsp;&nbsp;</span>Создание констант</a></span></li><li><span><a href=\"#Расчет-достаточного-объема-сырья\" data-toc-modified-id=\"Расчет-достаточного-объема-сырья-4.2\"><span class=\"toc-item-num\">4.2&nbsp;&nbsp;</span>Расчет достаточного объема сырья</a></span></li><li><span><a href=\"#Вывод\" data-toc-modified-id=\"Вывод-4.3\"><span class=\"toc-item-num\">4.3&nbsp;&nbsp;</span>Вывод</a></span></li></ul></li><li><span><a href=\"#Расчёт-прибыли-и-рисков\" data-toc-modified-id=\"Расчёт-прибыли-и-рисков-5\"><span class=\"toc-item-num\">5&nbsp;&nbsp;</span>Расчёт прибыли и рисков</a></span><ul class=\"toc-item\"><li><span><a href=\"#Функция-для-расчета-прибыли\" data-toc-modified-id=\"Функция-для-расчета-прибыли-5.1\"><span class=\"toc-item-num\">5.1&nbsp;&nbsp;</span>Функция для расчета прибыли</a></span></li><li><span><a href=\"#Процедура-Bootstrap\" data-toc-modified-id=\"Процедура-Bootstrap-5.2\"><span class=\"toc-item-num\">5.2&nbsp;&nbsp;</span>Процедура Bootstrap</a></span></li><li><span><a href=\"#Вывод\" data-toc-modified-id=\"Вывод-5.3\"><span class=\"toc-item-num\">5.3&nbsp;&nbsp;</span>Вывод</a></span></li></ul></li><li><span><a href=\"#Вывод\" data-toc-modified-id=\"Вывод-6\"><span class=\"toc-item-num\">6&nbsp;&nbsp;</span>Вывод</a></span></li></ul></div>"
   ]
  },
  {
   "cell_type": "markdown",
   "id": "104dc01e",
   "metadata": {},
   "source": [
    "# Выбор локации для скважины"
   ]
  },
  {
   "cell_type": "markdown",
   "id": "ad208003",
   "metadata": {},
   "source": [
    "Допустим, вы работаете в добывающей компании «ГлавРосГосНефть». Нужно решить, где бурить новую скважину.\n",
    "\n",
    "Предоставлены пробы нефти в трёх регионах: в каждом 10 000 месторождений, где измерили качество нефти и объём её запасов. \n",
    "\n",
    "Шаги для выбора локации:\n",
    "\n",
    "- В избранном регионе ищут месторождения, для каждого определяют значения признаков;\n",
    "- Строят модель и оценивают объём запасов;\n",
    "- Выбирают месторождения с самыми высокими оценками значений. Количество месторождений зависит от бюджета компании и стоимости разработки одной скважины;\n",
    "- Прибыль равна суммарной прибыли отобранных месторождений.\n",
    "\n",
    "**Условия задачи:**\n",
    "- Для обучения модели подходит только линейная регрессия (остальные — недостаточно предсказуемые).\n",
    "- При разведке региона исследуют 500 точек, из которых с помощью машинного обучения выбирают 200 лучших для разработки.\n",
    "- Бюджет на разработку скважин в регионе — 10 млрд рублей.\n",
    "- При нынешних ценах один баррель сырья приносит 450 рублей дохода. Доход с каждой единицы продукта составляет 450 тыс. рублей, поскольку объём указан в тысячах баррелей.\n",
    "- После оценки рисков нужно оставить лишь те регионы, в которых вероятность убытков меньше 2.5%. Среди них выбирают регион с наибольшей средней прибылью.\n",
    "\n",
    "**Цель исследования** — построить модель машинного обучения, которая поможет определить регион, где добыча принесёт наибольшую прибыль. Проанализировать возможную прибыль и риски техникой *Bootstrap.* \n",
    "\n",
    "**Ход исследования:**\n",
    "1. Изучение файлов\n",
    "2. Подготовка данных\n",
    "3. Обучение и проверка моделей\n",
    "4. Подготовка к расчету прибыли\n",
    "5. Расчет прибыли и рисков\n",
    "6. Вывод"
   ]
  },
  {
   "cell_type": "markdown",
   "id": "c8b689b6",
   "metadata": {},
   "source": [
    "## Изучение общей информации"
   ]
  },
  {
   "cell_type": "markdown",
   "id": "d3b1d167",
   "metadata": {},
   "source": [
    "### Испорт необходимых библиотек"
   ]
  },
  {
   "cell_type": "code",
   "execution_count": 1,
   "id": "a4eed900",
   "metadata": {},
   "outputs": [],
   "source": [
    "import pandas as pd\n",
    "import numpy as np\n",
    "\n",
    "from sklearn.model_selection import train_test_split \n",
    "\n",
    "from sklearn.preprocessing import StandardScaler\n",
    "from sklearn.linear_model import LinearRegression\n",
    "from sklearn.metrics import mean_squared_error"
   ]
  },
  {
   "cell_type": "markdown",
   "id": "485c28fe",
   "metadata": {},
   "source": [
    "### Открытие файлов"
   ]
  },
  {
   "cell_type": "code",
   "execution_count": 2,
   "id": "8481855c",
   "metadata": {},
   "outputs": [],
   "source": [
    "try:\n",
    "    data_1 = pd.read_csv('/datasets/geo_data_0.csv', engine='python')\n",
    "    data_2 = pd.read_csv('/datasets/geo_data_1.csv', engine='python')\n",
    "    data_3 = pd.read_csv('/datasets/geo_data_2.csv', engine='python')\n",
    "except:\n",
    "    data_1 = pd.read_csv('https://code.s3.yandex.net/datasets/geo_data_0.csv', engine='python')\n",
    "    data_2 = pd.read_csv('https://code.s3.yandex.net/datasets/geo_data_1.csv', engine='python')\n",
    "    data_3 = pd.read_csv('https://code.s3.yandex.net/datasets/geo_data_2.csv', engine='python')"
   ]
  },
  {
   "cell_type": "markdown",
   "id": "9efa7f7b",
   "metadata": {},
   "source": [
    "### Вывод первых десяти строк таблиц"
   ]
  },
  {
   "cell_type": "code",
   "execution_count": 3,
   "id": "3eb6fcbf",
   "metadata": {},
   "outputs": [
    {
     "data": {
      "text/html": [
       "<div>\n",
       "<style scoped>\n",
       "    .dataframe tbody tr th:only-of-type {\n",
       "        vertical-align: middle;\n",
       "    }\n",
       "\n",
       "    .dataframe tbody tr th {\n",
       "        vertical-align: top;\n",
       "    }\n",
       "\n",
       "    .dataframe thead th {\n",
       "        text-align: right;\n",
       "    }\n",
       "</style>\n",
       "<table border=\"1\" class=\"dataframe\">\n",
       "  <thead>\n",
       "    <tr style=\"text-align: right;\">\n",
       "      <th></th>\n",
       "      <th>id</th>\n",
       "      <th>f0</th>\n",
       "      <th>f1</th>\n",
       "      <th>f2</th>\n",
       "      <th>product</th>\n",
       "    </tr>\n",
       "  </thead>\n",
       "  <tbody>\n",
       "    <tr>\n",
       "      <th>0</th>\n",
       "      <td>txEyH</td>\n",
       "      <td>0.705745</td>\n",
       "      <td>-0.497823</td>\n",
       "      <td>1.221170</td>\n",
       "      <td>105.280062</td>\n",
       "    </tr>\n",
       "    <tr>\n",
       "      <th>1</th>\n",
       "      <td>2acmU</td>\n",
       "      <td>1.334711</td>\n",
       "      <td>-0.340164</td>\n",
       "      <td>4.365080</td>\n",
       "      <td>73.037750</td>\n",
       "    </tr>\n",
       "    <tr>\n",
       "      <th>2</th>\n",
       "      <td>409Wp</td>\n",
       "      <td>1.022732</td>\n",
       "      <td>0.151990</td>\n",
       "      <td>1.419926</td>\n",
       "      <td>85.265647</td>\n",
       "    </tr>\n",
       "    <tr>\n",
       "      <th>3</th>\n",
       "      <td>iJLyR</td>\n",
       "      <td>-0.032172</td>\n",
       "      <td>0.139033</td>\n",
       "      <td>2.978566</td>\n",
       "      <td>168.620776</td>\n",
       "    </tr>\n",
       "    <tr>\n",
       "      <th>4</th>\n",
       "      <td>Xdl7t</td>\n",
       "      <td>1.988431</td>\n",
       "      <td>0.155413</td>\n",
       "      <td>4.751769</td>\n",
       "      <td>154.036647</td>\n",
       "    </tr>\n",
       "  </tbody>\n",
       "</table>\n",
       "</div>"
      ],
      "text/plain": [
       "      id        f0        f1        f2     product\n",
       "0  txEyH  0.705745 -0.497823  1.221170  105.280062\n",
       "1  2acmU  1.334711 -0.340164  4.365080   73.037750\n",
       "2  409Wp  1.022732  0.151990  1.419926   85.265647\n",
       "3  iJLyR -0.032172  0.139033  2.978566  168.620776\n",
       "4  Xdl7t  1.988431  0.155413  4.751769  154.036647"
      ]
     },
     "execution_count": 3,
     "metadata": {},
     "output_type": "execute_result"
    }
   ],
   "source": [
    "data_1.head()"
   ]
  },
  {
   "cell_type": "code",
   "execution_count": 4,
   "id": "3becd8b3",
   "metadata": {},
   "outputs": [
    {
     "data": {
      "text/html": [
       "<div>\n",
       "<style scoped>\n",
       "    .dataframe tbody tr th:only-of-type {\n",
       "        vertical-align: middle;\n",
       "    }\n",
       "\n",
       "    .dataframe tbody tr th {\n",
       "        vertical-align: top;\n",
       "    }\n",
       "\n",
       "    .dataframe thead th {\n",
       "        text-align: right;\n",
       "    }\n",
       "</style>\n",
       "<table border=\"1\" class=\"dataframe\">\n",
       "  <thead>\n",
       "    <tr style=\"text-align: right;\">\n",
       "      <th></th>\n",
       "      <th>id</th>\n",
       "      <th>f0</th>\n",
       "      <th>f1</th>\n",
       "      <th>f2</th>\n",
       "      <th>product</th>\n",
       "    </tr>\n",
       "  </thead>\n",
       "  <tbody>\n",
       "    <tr>\n",
       "      <th>0</th>\n",
       "      <td>kBEdx</td>\n",
       "      <td>-15.001348</td>\n",
       "      <td>-8.276000</td>\n",
       "      <td>-0.005876</td>\n",
       "      <td>3.179103</td>\n",
       "    </tr>\n",
       "    <tr>\n",
       "      <th>1</th>\n",
       "      <td>62mP7</td>\n",
       "      <td>14.272088</td>\n",
       "      <td>-3.475083</td>\n",
       "      <td>0.999183</td>\n",
       "      <td>26.953261</td>\n",
       "    </tr>\n",
       "    <tr>\n",
       "      <th>2</th>\n",
       "      <td>vyE1P</td>\n",
       "      <td>6.263187</td>\n",
       "      <td>-5.948386</td>\n",
       "      <td>5.001160</td>\n",
       "      <td>134.766305</td>\n",
       "    </tr>\n",
       "    <tr>\n",
       "      <th>3</th>\n",
       "      <td>KcrkZ</td>\n",
       "      <td>-13.081196</td>\n",
       "      <td>-11.506057</td>\n",
       "      <td>4.999415</td>\n",
       "      <td>137.945408</td>\n",
       "    </tr>\n",
       "    <tr>\n",
       "      <th>4</th>\n",
       "      <td>AHL4O</td>\n",
       "      <td>12.702195</td>\n",
       "      <td>-8.147433</td>\n",
       "      <td>5.004363</td>\n",
       "      <td>134.766305</td>\n",
       "    </tr>\n",
       "  </tbody>\n",
       "</table>\n",
       "</div>"
      ],
      "text/plain": [
       "      id         f0         f1        f2     product\n",
       "0  kBEdx -15.001348  -8.276000 -0.005876    3.179103\n",
       "1  62mP7  14.272088  -3.475083  0.999183   26.953261\n",
       "2  vyE1P   6.263187  -5.948386  5.001160  134.766305\n",
       "3  KcrkZ -13.081196 -11.506057  4.999415  137.945408\n",
       "4  AHL4O  12.702195  -8.147433  5.004363  134.766305"
      ]
     },
     "execution_count": 4,
     "metadata": {},
     "output_type": "execute_result"
    }
   ],
   "source": [
    "data_2.head()"
   ]
  },
  {
   "cell_type": "code",
   "execution_count": 5,
   "id": "6ad23c8f",
   "metadata": {},
   "outputs": [
    {
     "data": {
      "text/html": [
       "<div>\n",
       "<style scoped>\n",
       "    .dataframe tbody tr th:only-of-type {\n",
       "        vertical-align: middle;\n",
       "    }\n",
       "\n",
       "    .dataframe tbody tr th {\n",
       "        vertical-align: top;\n",
       "    }\n",
       "\n",
       "    .dataframe thead th {\n",
       "        text-align: right;\n",
       "    }\n",
       "</style>\n",
       "<table border=\"1\" class=\"dataframe\">\n",
       "  <thead>\n",
       "    <tr style=\"text-align: right;\">\n",
       "      <th></th>\n",
       "      <th>id</th>\n",
       "      <th>f0</th>\n",
       "      <th>f1</th>\n",
       "      <th>f2</th>\n",
       "      <th>product</th>\n",
       "    </tr>\n",
       "  </thead>\n",
       "  <tbody>\n",
       "    <tr>\n",
       "      <th>0</th>\n",
       "      <td>fwXo0</td>\n",
       "      <td>-1.146987</td>\n",
       "      <td>0.963328</td>\n",
       "      <td>-0.828965</td>\n",
       "      <td>27.758673</td>\n",
       "    </tr>\n",
       "    <tr>\n",
       "      <th>1</th>\n",
       "      <td>WJtFt</td>\n",
       "      <td>0.262778</td>\n",
       "      <td>0.269839</td>\n",
       "      <td>-2.530187</td>\n",
       "      <td>56.069697</td>\n",
       "    </tr>\n",
       "    <tr>\n",
       "      <th>2</th>\n",
       "      <td>ovLUW</td>\n",
       "      <td>0.194587</td>\n",
       "      <td>0.289035</td>\n",
       "      <td>-5.586433</td>\n",
       "      <td>62.871910</td>\n",
       "    </tr>\n",
       "    <tr>\n",
       "      <th>3</th>\n",
       "      <td>q6cA6</td>\n",
       "      <td>2.236060</td>\n",
       "      <td>-0.553760</td>\n",
       "      <td>0.930038</td>\n",
       "      <td>114.572842</td>\n",
       "    </tr>\n",
       "    <tr>\n",
       "      <th>4</th>\n",
       "      <td>WPMUX</td>\n",
       "      <td>-0.515993</td>\n",
       "      <td>1.716266</td>\n",
       "      <td>5.899011</td>\n",
       "      <td>149.600746</td>\n",
       "    </tr>\n",
       "  </tbody>\n",
       "</table>\n",
       "</div>"
      ],
      "text/plain": [
       "      id        f0        f1        f2     product\n",
       "0  fwXo0 -1.146987  0.963328 -0.828965   27.758673\n",
       "1  WJtFt  0.262778  0.269839 -2.530187   56.069697\n",
       "2  ovLUW  0.194587  0.289035 -5.586433   62.871910\n",
       "3  q6cA6  2.236060 -0.553760  0.930038  114.572842\n",
       "4  WPMUX -0.515993  1.716266  5.899011  149.600746"
      ]
     },
     "execution_count": 5,
     "metadata": {},
     "output_type": "execute_result"
    }
   ],
   "source": [
    "data_3.head()"
   ]
  },
  {
   "cell_type": "markdown",
   "id": "9a6a602a",
   "metadata": {},
   "source": [
    "### Вывод основной информации о датафреймах"
   ]
  },
  {
   "cell_type": "code",
   "execution_count": 6,
   "id": "ac14e053",
   "metadata": {},
   "outputs": [
    {
     "name": "stdout",
     "output_type": "stream",
     "text": [
      "<class 'pandas.core.frame.DataFrame'>\n",
      "RangeIndex: 100000 entries, 0 to 99999\n",
      "Data columns (total 5 columns):\n",
      " #   Column   Non-Null Count   Dtype  \n",
      "---  ------   --------------   -----  \n",
      " 0   id       100000 non-null  object \n",
      " 1   f0       100000 non-null  float64\n",
      " 2   f1       100000 non-null  float64\n",
      " 3   f2       100000 non-null  float64\n",
      " 4   product  100000 non-null  float64\n",
      "dtypes: float64(4), object(1)\n",
      "memory usage: 3.8+ MB\n"
     ]
    }
   ],
   "source": [
    "data_1.info()"
   ]
  },
  {
   "cell_type": "code",
   "execution_count": 7,
   "id": "c05c67ff",
   "metadata": {},
   "outputs": [
    {
     "name": "stdout",
     "output_type": "stream",
     "text": [
      "<class 'pandas.core.frame.DataFrame'>\n",
      "RangeIndex: 100000 entries, 0 to 99999\n",
      "Data columns (total 5 columns):\n",
      " #   Column   Non-Null Count   Dtype  \n",
      "---  ------   --------------   -----  \n",
      " 0   id       100000 non-null  object \n",
      " 1   f0       100000 non-null  float64\n",
      " 2   f1       100000 non-null  float64\n",
      " 3   f2       100000 non-null  float64\n",
      " 4   product  100000 non-null  float64\n",
      "dtypes: float64(4), object(1)\n",
      "memory usage: 3.8+ MB\n"
     ]
    }
   ],
   "source": [
    "data_2.info()"
   ]
  },
  {
   "cell_type": "code",
   "execution_count": 8,
   "id": "ce172784",
   "metadata": {},
   "outputs": [
    {
     "name": "stdout",
     "output_type": "stream",
     "text": [
      "<class 'pandas.core.frame.DataFrame'>\n",
      "RangeIndex: 100000 entries, 0 to 99999\n",
      "Data columns (total 5 columns):\n",
      " #   Column   Non-Null Count   Dtype  \n",
      "---  ------   --------------   -----  \n",
      " 0   id       100000 non-null  object \n",
      " 1   f0       100000 non-null  float64\n",
      " 2   f1       100000 non-null  float64\n",
      " 3   f2       100000 non-null  float64\n",
      " 4   product  100000 non-null  float64\n",
      "dtypes: float64(4), object(1)\n",
      "memory usage: 3.8+ MB\n"
     ]
    }
   ],
   "source": [
    "data_3.info()"
   ]
  },
  {
   "cell_type": "markdown",
   "id": "0788f612",
   "metadata": {},
   "source": [
    "### Вывод"
   ]
  },
  {
   "cell_type": "markdown",
   "id": "d07d3697",
   "metadata": {},
   "source": [
    "Согласно документации к данным:\n",
    "- `id` — уникальный идентификатор скважины;\n",
    "- `f0, f1, f2` — три признака точек (неважно, что они означают, но сами признаки значимы);\n",
    "- `product` — объём запасов в скважине (тыс. баррелей).\n",
    "\n",
    "Целевым признаком будет являться `product`, а признаками — `f1`, `f2`, `f3`. Необходимо разбить данные каждого датафрейма на обучающую и валидационную выборки в отношении 75:25 и промасштабировать признаки."
   ]
  },
  {
   "cell_type": "markdown",
   "id": "8d25045f",
   "metadata": {},
   "source": [
    "## Подготовка данных"
   ]
  },
  {
   "cell_type": "markdown",
   "id": "96616ccc",
   "metadata": {},
   "source": [
    "### Разбиение данных на целевой признак и признаки"
   ]
  },
  {
   "cell_type": "code",
   "execution_count": 9,
   "id": "1ccefa12",
   "metadata": {},
   "outputs": [],
   "source": [
    "def split(data):\n",
    "    features = data.drop(['id', 'product'], axis=1)\n",
    "    target = data['product']\n",
    "    \n",
    "    return features, target\n",
    "\n",
    "features_1, target_1 = split(data_1)\n",
    "features_2, target_2 = split(data_2)\n",
    "features_3, target_3 = split(data_3)"
   ]
  },
  {
   "cell_type": "markdown",
   "id": "6bf90db5",
   "metadata": {},
   "source": [
    "### Разбиение данных на выборки"
   ]
  },
  {
   "cell_type": "code",
   "execution_count": 10,
   "id": "1c7a5f3d",
   "metadata": {},
   "outputs": [],
   "source": [
    "def train_valid(features, target):\n",
    "    features_train, features_valid, target_train, target_valid = train_test_split(\n",
    "        features, target, test_size=0.25, random_state=12345)\n",
    "    return features_train, features_valid, target_train, target_valid\n",
    "\n",
    "features_train_1, features_valid_1, target_train_1, target_valid_1 = train_valid(features_1, target_1)\n",
    "features_train_2, features_valid_2, target_train_2, target_valid_2 = train_valid(features_2, target_2)\n",
    "features_train_3, features_valid_3, target_train_3, target_valid_3 = train_valid(features_3, target_3)"
   ]
  },
  {
   "cell_type": "code",
   "execution_count": 11,
   "id": "a7403475",
   "metadata": {},
   "outputs": [
    {
     "name": "stdout",
     "output_type": "stream",
     "text": [
      "(75000, 3) (25000, 3)\n",
      "(75000, 3) (25000, 3)\n",
      "(75000, 3) (25000, 3)\n"
     ]
    }
   ],
   "source": [
    "print(features_train_1.shape, features_valid_1.shape)\n",
    "print(features_train_2.shape, features_valid_2.shape)\n",
    "print(features_train_3.shape, features_valid_3.shape)"
   ]
  },
  {
   "cell_type": "markdown",
   "id": "eab98a3d",
   "metadata": {},
   "source": [
    "### Масштабирование признаков"
   ]
  },
  {
   "cell_type": "code",
   "execution_count": 12,
   "id": "da69dc2e",
   "metadata": {},
   "outputs": [],
   "source": [
    "numeric = ['f1', 'f2', 'f2']\n",
    "\n",
    "pd.options.mode.chained_assignment = None\n",
    "\n",
    "def scale(features_train, features_valid):\n",
    "    scaler = StandardScaler()\n",
    "    scaler.fit(features_train[numeric])\n",
    "    \n",
    "    features_train[numeric] = scaler.transform(features_train[numeric])\n",
    "    features_valid[numeric] = scaler.transform(features_valid[numeric])\n",
    "    \n",
    "    return features_train, features_valid\n",
    "\n",
    "features_train_1, features_valid_1 = scale(features_train_1, features_valid_1)\n",
    "features_train_2, features_valid_2 = scale(features_train_2, features_valid_2)\n",
    "features_train_3, features_valid_3 = scale(features_train_3, features_valid_3)"
   ]
  },
  {
   "cell_type": "markdown",
   "id": "f90ec817",
   "metadata": {},
   "source": [
    "### Вывод"
   ]
  },
  {
   "cell_type": "markdown",
   "id": "99cc443d",
   "metadata": {},
   "source": [
    "На этапе подготовки данные были разделены на тренировочную и валидационную выборки в отношении 75:25: в тренировочной выборке 75000 объектов, а в валидационной 25000 объектов. Также понадобилось промасштабировать численные признаки."
   ]
  },
  {
   "cell_type": "markdown",
   "id": "b5089bde",
   "metadata": {},
   "source": [
    "## Обучение и проверка модели"
   ]
  },
  {
   "cell_type": "markdown",
   "id": "cf666927",
   "metadata": {},
   "source": [
    "### Обучение модели и предсказания"
   ]
  },
  {
   "cell_type": "code",
   "execution_count": 13,
   "id": "eef589af",
   "metadata": {},
   "outputs": [],
   "source": [
    "def model_fit(features_train, target_train, features_valid):\n",
    "    model = LinearRegression()\n",
    "    model.fit(features_train, target_train)\n",
    "    \n",
    "    predictions = model.predict(features_valid)\n",
    "    \n",
    "    return predictions\n",
    "\n",
    "predictions_1 = model_fit(features_train_1, target_train_1, features_valid_1)\n",
    "predictions_2 = model_fit(features_train_2, target_train_2, features_valid_2)\n",
    "predictions_3 = model_fit(features_train_3, target_train_3, features_valid_3)"
   ]
  },
  {
   "cell_type": "markdown",
   "id": "d7982598",
   "metadata": {},
   "source": [
    "### Среднее значение предсказаний и RMSE"
   ]
  },
  {
   "cell_type": "code",
   "execution_count": 14,
   "id": "1dad206b",
   "metadata": {},
   "outputs": [
    {
     "name": "stdout",
     "output_type": "stream",
     "text": [
      "Для первого датафрейма среднее значение предсказаний равно 92.592568, а RMSE равно 37.579422\n",
      "Для второго датафрейма среднее значение предсказаний равно 68.728547, а RMSE равно 0.893099\n",
      "Для третьего датафрейма среднее значение предсказаний равно 94.965046, а RMSE равно 40.029709\n"
     ]
    }
   ],
   "source": [
    "def mean_rmse(predictions, target):\n",
    "    mean = predictions.mean()\n",
    "    rmse = mean_squared_error(target, predictions, squared=False)\n",
    "    \n",
    "    return mean, rmse\n",
    "    \n",
    "print('Для первого датафрейма среднее значение предсказаний равно %f, а RMSE равно %f'%mean_rmse(predictions_1, target_valid_1))\n",
    "print('Для второго датафрейма среднее значение предсказаний равно %f, а RMSE равно %f'%mean_rmse(predictions_2, target_valid_2))\n",
    "print('Для третьего датафрейма среднее значение предсказаний равно %f, а RMSE равно %f'%mean_rmse(predictions_3, target_valid_3))"
   ]
  },
  {
   "cell_type": "markdown",
   "id": "1760c4de",
   "metadata": {},
   "source": [
    "### Вывод"
   ]
  },
  {
   "cell_type": "markdown",
   "id": "bac5f2a2",
   "metadata": {},
   "source": [
    "Самое низкое значение RMSE у второго датафрейма, у третьего — самое высокое. Так как RMSE измеряется в тех же величинах, что и исходные значения, модель для второго датафрейма работает корректнее всего."
   ]
  },
  {
   "cell_type": "markdown",
   "id": "6d6097d7",
   "metadata": {},
   "source": [
    "## Подготовка к расчёту прибыли"
   ]
  },
  {
   "cell_type": "markdown",
   "id": "435dbb76",
   "metadata": {},
   "source": [
    "### Создание констант"
   ]
  },
  {
   "cell_type": "code",
   "execution_count": 15,
   "id": "441b33f8",
   "metadata": {},
   "outputs": [],
   "source": [
    "RESEARCH_AMOUNT = 500 #количество точек для исследования\n",
    "WORKING_AMOUNT = 200 #количество точек для разработки\n",
    "BUDGET = 10000000000 #бюджет, выделенный на разработку\n",
    "UNIT_INCOME = 450000 #доход от единицы продукта"
   ]
  },
  {
   "cell_type": "markdown",
   "id": "69101a73",
   "metadata": {},
   "source": [
    "### Расчет достаточного объема сырья"
   ]
  },
  {
   "cell_type": "code",
   "execution_count": 16,
   "id": "fcf04b4c",
   "metadata": {},
   "outputs": [
    {
     "data": {
      "text/plain": [
       "111.11111111111111"
      ]
     },
     "execution_count": 16,
     "metadata": {},
     "output_type": "execute_result"
    }
   ],
   "source": [
    "SUFFICIENT = BUDGET / (UNIT_INCOME * WORKING_AMOUNT)\n",
    "SUFFICIENT"
   ]
  },
  {
   "cell_type": "markdown",
   "id": "21c6814d",
   "metadata": {},
   "source": [
    "### Вывод"
   ]
  },
  {
   "cell_type": "markdown",
   "id": "49613e4b",
   "metadata": {},
   "source": [
    "По расчетам достаточный объем сырья для безубыточной разработки новой скважины равен 111 тысячам, что больше, чем средние значения всех датафреймов."
   ]
  },
  {
   "cell_type": "markdown",
   "id": "a9996c02",
   "metadata": {},
   "source": [
    "## Расчёт прибыли и рисков"
   ]
  },
  {
   "cell_type": "markdown",
   "id": "1ffda71b",
   "metadata": {},
   "source": [
    "### Функция для расчета прибыли"
   ]
  },
  {
   "cell_type": "code",
   "execution_count": 17,
   "id": "17ac5ac8",
   "metadata": {},
   "outputs": [],
   "source": [
    "def profit(target, predictions):\n",
    "    predictions_sorted = predictions.sort_values(ascending=False)\n",
    "    selected = target[predictions_sorted.index][:WORKING_AMOUNT]\n",
    "    \n",
    "    return UNIT_INCOME * selected.sum() - BUDGET"
   ]
  },
  {
   "cell_type": "markdown",
   "id": "b1393419",
   "metadata": {},
   "source": [
    "### Процедура Bootstrap"
   ]
  },
  {
   "cell_type": "code",
   "execution_count": 18,
   "id": "1361ec32",
   "metadata": {},
   "outputs": [],
   "source": [
    "state = np.random.RandomState(12345)\n",
    "\n",
    "def bootstrap(target, predictions):\n",
    "    values = []\n",
    "\n",
    "    for i in range(1000):\n",
    "        target_subsample = target.reset_index(drop=True).sample(n=RESEARCH_AMOUNT, replace=True, random_state=state)\n",
    "        predictions_subsample = pd.Series(predictions)[target_subsample.index] \n",
    "        income = profit(target_subsample, predictions_subsample)\n",
    "        values.append(income)\n",
    "        \n",
    "    values = pd.Series(values)\n",
    "    mean_income = values.mean()\n",
    "        \n",
    "    lower = values.quantile(0.025)\n",
    "    upper = values.quantile(0.975)\n",
    "    \n",
    "    risk = (values < 0).mean()\n",
    "        \n",
    "    return mean_income, lower, upper, risk"
   ]
  },
  {
   "cell_type": "code",
   "execution_count": 19,
   "id": "426c72f7",
   "metadata": {},
   "outputs": [
    {
     "name": "stdout",
     "output_type": "stream",
     "text": [
      "Для первого датафрейма:\n",
      "Средняя прибыль: 425938526.91059244\n",
      "95%-й доверительный интервал: -102090094.83793654 - 947976353.3583689\n",
      "Риск убытков: 0.06\n"
     ]
    }
   ],
   "source": [
    "mean_income, lower, upper, loss = bootstrap(target_valid_1, predictions_1)\n",
    "\n",
    "print('Для первого датафрейма:')\n",
    "print('Средняя прибыль:', mean_income)\n",
    "print('95%-й доверительный интервал:', lower, '-', upper) \n",
    "print('Риск убытков:', loss)"
   ]
  },
  {
   "cell_type": "code",
   "execution_count": 20,
   "id": "e5c834f8",
   "metadata": {},
   "outputs": [
    {
     "name": "stdout",
     "output_type": "stream",
     "text": [
      "Для второго датафрейма:\n",
      "Средняя прибыль: 518259493.6973249\n",
      "95%-й доверительный интервал: 128123231.43308444 - 953612982.0669085\n",
      "Риск убытков: 0.003\n"
     ]
    }
   ],
   "source": [
    "mean_income, lower, upper, loss = bootstrap(target_valid_2, predictions_2)\n",
    "\n",
    "print('Для второго датафрейма:')\n",
    "print('Средняя прибыль:', mean_income)\n",
    "print('95%-й доверительный интервал:', lower, '-', upper) \n",
    "print('Риск убытков:', loss)"
   ]
  },
  {
   "cell_type": "code",
   "execution_count": 21,
   "id": "318ca7ce",
   "metadata": {},
   "outputs": [
    {
     "name": "stdout",
     "output_type": "stream",
     "text": [
      "Для третьего датафрейма:\n",
      "Средняя прибыль: 420194005.3440501\n",
      "95%-й доверительный интервал: -115852609.16001143 - 989629939.8445739\n",
      "Риск убытков: 0.062\n"
     ]
    }
   ],
   "source": [
    "mean_income, lower, upper, loss = bootstrap(target_valid_3, predictions_3)\n",
    "\n",
    "print('Для третьего датафрейма:')\n",
    "print('Средняя прибыль:', mean_income)\n",
    "print('95%-й доверительный интервал:', lower, '-', upper) \n",
    "print('Риск убытков:', loss)"
   ]
  },
  {
   "cell_type": "markdown",
   "id": "2758d2fb",
   "metadata": {},
   "source": [
    "### Вывод"
   ]
  },
  {
   "cell_type": "markdown",
   "id": "6d0b4b6c",
   "metadata": {},
   "source": [
    "Самым прибыльным регионом является второй: он имеет самую высокую среднюю прибыль, самые низкие убытки и положительный доверительный интервал."
   ]
  },
  {
   "cell_type": "markdown",
   "id": "5548c376",
   "metadata": {},
   "source": [
    "##  Вывод"
   ]
  },
  {
   "cell_type": "markdown",
   "id": "da183f82",
   "metadata": {},
   "source": [
    "Данные датафреймов были подготовлены к работе с моделями: разбиты на целевые признаки и признаки, затем разбиты на обучающие и валидационные выборки в отношении 75:25, а численные признаки были промасштабированы.\n",
    "\n",
    "Далее была обучена модель линейной регрессии и сделаны предсказания, по котором была высчитана RMSE. По данным показателям наименьшую ошибку выдала вторая модель.\n",
    "\n",
    "По расчетам из четвертого пункта было выявлено, что минимальный безубыточный объем равен 111 тысячам баррелей, что выше средних значений по объемам в датафреймах.\n",
    "\n",
    "Через процедуру bootstrap были рассчитаны средняя прибыль, 95%-доверительный интервал и риск убытков для каждого региона. Самым прибыльным является второй, так как имеет самую высокую среднюю прибыль, самые низкие убытки и положительный доверительный интервал."
   ]
  }
 ],
 "metadata": {
  "ExecuteTimeLog": [
   {
    "duration": 1072,
    "start_time": "2022-12-27T12:48:11.275Z"
   },
   {
    "duration": 1814,
    "start_time": "2022-12-27T12:48:12.349Z"
   },
   {
    "duration": 20,
    "start_time": "2022-12-27T12:48:14.165Z"
   },
   {
    "duration": 9,
    "start_time": "2022-12-27T12:48:14.187Z"
   },
   {
    "duration": 17,
    "start_time": "2022-12-27T12:48:14.198Z"
   },
   {
    "duration": 25,
    "start_time": "2022-12-27T12:48:14.217Z"
   },
   {
    "duration": 19,
    "start_time": "2022-12-27T12:48:14.243Z"
   },
   {
    "duration": 20,
    "start_time": "2022-12-27T12:48:14.263Z"
   },
   {
    "duration": 79,
    "start_time": "2022-12-27T12:48:14.284Z"
   },
   {
    "duration": 33,
    "start_time": "2022-12-27T12:48:14.365Z"
   },
   {
    "duration": 13,
    "start_time": "2022-12-27T12:48:14.400Z"
   },
   {
    "duration": 41,
    "start_time": "2022-12-27T12:48:14.415Z"
   },
   {
    "duration": 258,
    "start_time": "2022-12-27T12:48:14.458Z"
   },
   {
    "duration": 98,
    "start_time": "2022-12-27T12:48:14.718Z"
   },
   {
    "duration": 16,
    "start_time": "2022-12-27T12:48:14.819Z"
   },
   {
    "duration": 22,
    "start_time": "2022-12-27T12:48:14.837Z"
   },
   {
    "duration": 53,
    "start_time": "2022-12-27T12:48:14.860Z"
   },
   {
    "duration": 15,
    "start_time": "2022-12-27T12:48:14.915Z"
   },
   {
    "duration": 121,
    "start_time": "2022-12-27T12:48:14.931Z"
   },
   {
    "duration": 0,
    "start_time": "2022-12-27T12:48:15.053Z"
   },
   {
    "duration": 0,
    "start_time": "2022-12-27T12:48:15.055Z"
   },
   {
    "duration": 1011,
    "start_time": "2022-12-27T12:48:47.460Z"
   },
   {
    "duration": 1474,
    "start_time": "2022-12-27T12:48:48.473Z"
   },
   {
    "duration": 18,
    "start_time": "2022-12-27T12:48:49.948Z"
   },
   {
    "duration": 9,
    "start_time": "2022-12-27T12:48:49.968Z"
   },
   {
    "duration": 11,
    "start_time": "2022-12-27T12:48:49.979Z"
   },
   {
    "duration": 37,
    "start_time": "2022-12-27T12:48:49.992Z"
   },
   {
    "duration": 22,
    "start_time": "2022-12-27T12:48:50.031Z"
   },
   {
    "duration": 90,
    "start_time": "2022-12-27T12:48:50.055Z"
   },
   {
    "duration": 7,
    "start_time": "2022-12-27T12:48:50.147Z"
   },
   {
    "duration": 34,
    "start_time": "2022-12-27T12:48:50.156Z"
   },
   {
    "duration": 4,
    "start_time": "2022-12-27T12:48:50.192Z"
   },
   {
    "duration": 50,
    "start_time": "2022-12-27T12:48:50.212Z"
   },
   {
    "duration": 151,
    "start_time": "2022-12-27T12:48:50.264Z"
   },
   {
    "duration": 99,
    "start_time": "2022-12-27T12:48:50.418Z"
   },
   {
    "duration": 99,
    "start_time": "2022-12-27T12:48:50.519Z"
   },
   {
    "duration": 9,
    "start_time": "2022-12-27T12:48:50.619Z"
   },
   {
    "duration": 6,
    "start_time": "2022-12-27T12:48:50.629Z"
   },
   {
    "duration": 6,
    "start_time": "2022-12-27T12:48:50.637Z"
   },
   {
    "duration": 1697,
    "start_time": "2022-12-27T12:48:50.644Z"
   },
   {
    "duration": 0,
    "start_time": "2022-12-27T12:48:52.343Z"
   },
   {
    "duration": 0,
    "start_time": "2022-12-27T12:48:52.344Z"
   },
   {
    "duration": 1046,
    "start_time": "2022-12-27T12:49:15.132Z"
   },
   {
    "duration": 1517,
    "start_time": "2022-12-27T12:49:16.180Z"
   },
   {
    "duration": 21,
    "start_time": "2022-12-27T12:49:17.699Z"
   },
   {
    "duration": 9,
    "start_time": "2022-12-27T12:49:17.721Z"
   },
   {
    "duration": 20,
    "start_time": "2022-12-27T12:49:17.732Z"
   },
   {
    "duration": 23,
    "start_time": "2022-12-27T12:49:17.753Z"
   },
   {
    "duration": 34,
    "start_time": "2022-12-27T12:49:17.778Z"
   },
   {
    "duration": 72,
    "start_time": "2022-12-27T12:49:17.813Z"
   },
   {
    "duration": 7,
    "start_time": "2022-12-27T12:49:17.887Z"
   },
   {
    "duration": 44,
    "start_time": "2022-12-27T12:49:17.896Z"
   },
   {
    "duration": 5,
    "start_time": "2022-12-27T12:49:17.941Z"
   },
   {
    "duration": 43,
    "start_time": "2022-12-27T12:49:17.947Z"
   },
   {
    "duration": 121,
    "start_time": "2022-12-27T12:49:17.992Z"
   },
   {
    "duration": 98,
    "start_time": "2022-12-27T12:49:18.116Z"
   },
   {
    "duration": 101,
    "start_time": "2022-12-27T12:49:18.215Z"
   },
   {
    "duration": 8,
    "start_time": "2022-12-27T12:49:18.318Z"
   },
   {
    "duration": 5,
    "start_time": "2022-12-27T12:49:18.327Z"
   },
   {
    "duration": 6,
    "start_time": "2022-12-27T12:49:18.334Z"
   },
   {
    "duration": 1571,
    "start_time": "2022-12-27T12:49:18.341Z"
   },
   {
    "duration": 1520,
    "start_time": "2022-12-27T12:49:19.914Z"
   },
   {
    "duration": 1560,
    "start_time": "2022-12-27T12:49:21.436Z"
   },
   {
    "duration": 1115,
    "start_time": "2022-12-27T13:00:13.078Z"
   },
   {
    "duration": 1571,
    "start_time": "2022-12-27T13:00:14.195Z"
   },
   {
    "duration": 16,
    "start_time": "2022-12-27T13:00:15.767Z"
   },
   {
    "duration": 11,
    "start_time": "2022-12-27T13:00:15.786Z"
   },
   {
    "duration": 10,
    "start_time": "2022-12-27T13:00:15.812Z"
   },
   {
    "duration": 22,
    "start_time": "2022-12-27T13:00:15.824Z"
   },
   {
    "duration": 21,
    "start_time": "2022-12-27T13:00:15.848Z"
   },
   {
    "duration": 46,
    "start_time": "2022-12-27T13:00:15.871Z"
   },
   {
    "duration": 65,
    "start_time": "2022-12-27T13:00:15.918Z"
   },
   {
    "duration": 49,
    "start_time": "2022-12-27T13:00:15.986Z"
   },
   {
    "duration": 4,
    "start_time": "2022-12-27T13:00:16.037Z"
   },
   {
    "duration": 49,
    "start_time": "2022-12-27T13:00:16.042Z"
   },
   {
    "duration": 220,
    "start_time": "2022-12-27T13:00:16.093Z"
   },
   {
    "duration": 98,
    "start_time": "2022-12-27T13:00:16.315Z"
   },
   {
    "duration": 5,
    "start_time": "2022-12-27T13:00:16.416Z"
   },
   {
    "duration": 20,
    "start_time": "2022-12-27T13:00:16.423Z"
   },
   {
    "duration": 11,
    "start_time": "2022-12-27T13:00:16.445Z"
   },
   {
    "duration": 16,
    "start_time": "2022-12-27T13:00:16.458Z"
   },
   {
    "duration": 2686,
    "start_time": "2022-12-27T13:00:16.476Z"
   },
   {
    "duration": 1642,
    "start_time": "2022-12-27T13:00:19.164Z"
   },
   {
    "duration": 1589,
    "start_time": "2022-12-27T13:00:20.808Z"
   }
  ],
  "kernelspec": {
   "display_name": "Python 3 (ipykernel)",
   "language": "python",
   "name": "python3"
  },
  "language_info": {
   "codemirror_mode": {
    "name": "ipython",
    "version": 3
   },
   "file_extension": ".py",
   "mimetype": "text/x-python",
   "name": "python",
   "nbconvert_exporter": "python",
   "pygments_lexer": "ipython3",
   "version": "3.9.13"
  },
  "toc": {
   "base_numbering": 1,
   "nav_menu": {
    "height": "117px",
    "width": "214px"
   },
   "number_sections": true,
   "sideBar": true,
   "skip_h1_title": true,
   "title_cell": "Содержание",
   "title_sidebar": "Contents",
   "toc_cell": true,
   "toc_position": {
    "height": "calc(100% - 180px)",
    "left": "10px",
    "top": "150px",
    "width": "511.989px"
   },
   "toc_section_display": true,
   "toc_window_display": true
  }
 },
 "nbformat": 4,
 "nbformat_minor": 5
}
