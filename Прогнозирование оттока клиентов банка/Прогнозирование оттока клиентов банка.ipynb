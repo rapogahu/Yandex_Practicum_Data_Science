{
 "cells": [
  {
   "cell_type": "markdown",
   "id": "d859ee54",
   "metadata": {},
   "source": [
    "<h1>Содержание<span class=\"tocSkip\"></span></h1>\n",
    "<div class=\"toc\"><ul class=\"toc-item\">\n",
    "    <li><span><a href=\"#Изучение-общей-информации\" data-toc-modified-id=\"Изучение-общей-информации-1\">\n",
    "       <span class=\"toc-item-num\">1&nbsp;&nbsp;</span>Изучение общей информации</a></span></li>\n",
    "    <li><span><a href=\"#Предобработка-данных\" data-toc-modified-id=\"Предобработка-данных-2\">\n",
    "        <span class=\"toc-item-num\">2&nbsp;&nbsp;</span>Предобработка данных</a></span></li>\n",
    "    <li><span><a href=\"#Подготовка-данных\" data-toc-modified-id=\"Подготовка-данных-3\">\n",
    "        <span class=\"toc-item-num\">3&nbsp;&nbsp;</span>Подготовка данных</a></span></li>\n",
    "    <li><span><a href=\"#Исследование-задачи\" data-toc-modified-id=\"Исследование-задачи-4\">\n",
    "        <span class=\"toc-item-num\">4&nbsp;&nbsp;</span>Исследование задачи</a></span></li>\n",
    "    <li><span><a href=\"#Борьба-с-дисбалансом\" data-toc-modified-id=\"Борьба-с-дисбалансом-5\">\n",
    "        <span class=\"toc-item-num\">5&nbsp;&nbsp;</span>Борьба с дисбалансом</a></span></li>\n",
    "    <li><span><a href=\"#Тестирование-модели\" data-toc-modified-id=\"Тестирование-модели-6\">\n",
    "        <span class=\"toc-item-num\">6&nbsp;&nbsp;</span>Тестирование модели</a></span></li>\n",
    "    <li><span><a href=\"#Вывод\" data-toc-modified-id=\"Вывод-7\">\n",
    "        <span class=\"toc-item-num\">7&nbsp;&nbsp;</span>Вывод</a></span></li>\n",
    "</ul></div>"
   ]
  },
  {
   "cell_type": "markdown",
   "id": "71ea7bc0",
   "metadata": {},
   "source": [
    "# Отток клиентов"
   ]
  },
  {
   "cell_type": "markdown",
   "id": "d6e54089",
   "metadata": {},
   "source": [
    "Из «Бета-Банка» стали уходить клиенты. Каждый месяц. Немного, но заметно. Банковские маркетологи посчитали: сохранять текущих клиентов дешевле, чем привлекать новых.\n",
    "\n",
    "Нужно спрогнозировать, уйдёт клиент из банка в ближайшее время или нет. Предоставлены исторические данные о поведении клиентов и расторжении договоров с банком. \n",
    "\n",
    "**Цель исследования** — построить модель с предельно большим значением *F1*-меры. Чтобы сдать проект успешно, нужно довести метрику до 0.59. \n",
    "\n",
    "**Ход исследования**\n",
    "1. Изучение файла\n",
    "2. Предобработка данных\n",
    "3. Подготовка данных\n",
    "4. Исследование задачи\n",
    "5. Борьба с дисбалансом\n",
    "6. Тестирование модели\n",
    "7. Вывод\n",
    "\n",
    "Дополнительно необходимо измерить *AUC-ROC*, сравнить её значение с *F1*-мерой.\n",
    "\n",
    "Источник данных: [https://www.kaggle.com/barelydedicated/bank-customer-churn-modeling](https://www.kaggle.com/barelydedicated/bank-customer-churn-modeling)"
   ]
  },
  {
   "cell_type": "markdown",
   "id": "08dd5879",
   "metadata": {},
   "source": [
    "## Изучение общей информации"
   ]
  },
  {
   "cell_type": "markdown",
   "id": "c5763724",
   "metadata": {},
   "source": [
    "### Импорт необходимых библиотек"
   ]
  },
  {
   "cell_type": "code",
   "execution_count": 1,
   "id": "501f80f9",
   "metadata": {},
   "outputs": [],
   "source": [
    "import pandas as pd\n",
    "import numpy as np\n",
    "import matplotlib.pyplot as plt\n",
    "import random\n",
    "\n",
    "from sklearn.utils import shuffle\n",
    "from sklearn.model_selection import train_test_split \n",
    "from sklearn.tree import DecisionTreeClassifier\n",
    "from sklearn.ensemble import RandomForestClassifier\n",
    "from sklearn.linear_model import LogisticRegression\n",
    "from sklearn.preprocessing import StandardScaler\n",
    "\n",
    "from sklearn.metrics import f1_score\n",
    "from sklearn.metrics import roc_auc_score\n",
    "from sklearn.metrics import precision_score\n",
    "from sklearn.metrics import recall_score\n",
    "from sklearn.metrics import roc_curve"
   ]
  },
  {
   "cell_type": "markdown",
   "id": "38a8425d",
   "metadata": {},
   "source": [
    "### Открытие файла"
   ]
  },
  {
   "cell_type": "code",
   "execution_count": 2,
   "id": "3d60eef3",
   "metadata": {},
   "outputs": [],
   "source": [
    "try:\n",
    "    data = pd.read_csv('/datasets/Churn.csv', sep=',', engine='python')\n",
    "except:\n",
    "    data = pd.read_csv('https://code.s3.yandex.net/datasets/Churn.csv', sep=',', engine='python')"
   ]
  },
  {
   "cell_type": "markdown",
   "id": "031d64d1",
   "metadata": {},
   "source": [
    "### Вывод первых десяти строк таблицы"
   ]
  },
  {
   "cell_type": "code",
   "execution_count": 3,
   "id": "66ac9897",
   "metadata": {},
   "outputs": [
    {
     "data": {
      "text/html": [
       "<div>\n",
       "<style scoped>\n",
       "    .dataframe tbody tr th:only-of-type {\n",
       "        vertical-align: middle;\n",
       "    }\n",
       "\n",
       "    .dataframe tbody tr th {\n",
       "        vertical-align: top;\n",
       "    }\n",
       "\n",
       "    .dataframe thead th {\n",
       "        text-align: right;\n",
       "    }\n",
       "</style>\n",
       "<table border=\"1\" class=\"dataframe\">\n",
       "  <thead>\n",
       "    <tr style=\"text-align: right;\">\n",
       "      <th></th>\n",
       "      <th>RowNumber</th>\n",
       "      <th>CustomerId</th>\n",
       "      <th>Surname</th>\n",
       "      <th>CreditScore</th>\n",
       "      <th>Geography</th>\n",
       "      <th>Gender</th>\n",
       "      <th>Age</th>\n",
       "      <th>Tenure</th>\n",
       "      <th>Balance</th>\n",
       "      <th>NumOfProducts</th>\n",
       "      <th>HasCrCard</th>\n",
       "      <th>IsActiveMember</th>\n",
       "      <th>EstimatedSalary</th>\n",
       "      <th>Exited</th>\n",
       "    </tr>\n",
       "  </thead>\n",
       "  <tbody>\n",
       "    <tr>\n",
       "      <th>0</th>\n",
       "      <td>1</td>\n",
       "      <td>15634602</td>\n",
       "      <td>Hargrave</td>\n",
       "      <td>619</td>\n",
       "      <td>France</td>\n",
       "      <td>Female</td>\n",
       "      <td>42</td>\n",
       "      <td>2.0</td>\n",
       "      <td>0.00</td>\n",
       "      <td>1</td>\n",
       "      <td>1</td>\n",
       "      <td>1</td>\n",
       "      <td>101348.88</td>\n",
       "      <td>1</td>\n",
       "    </tr>\n",
       "    <tr>\n",
       "      <th>1</th>\n",
       "      <td>2</td>\n",
       "      <td>15647311</td>\n",
       "      <td>Hill</td>\n",
       "      <td>608</td>\n",
       "      <td>Spain</td>\n",
       "      <td>Female</td>\n",
       "      <td>41</td>\n",
       "      <td>1.0</td>\n",
       "      <td>83807.86</td>\n",
       "      <td>1</td>\n",
       "      <td>0</td>\n",
       "      <td>1</td>\n",
       "      <td>112542.58</td>\n",
       "      <td>0</td>\n",
       "    </tr>\n",
       "    <tr>\n",
       "      <th>2</th>\n",
       "      <td>3</td>\n",
       "      <td>15619304</td>\n",
       "      <td>Onio</td>\n",
       "      <td>502</td>\n",
       "      <td>France</td>\n",
       "      <td>Female</td>\n",
       "      <td>42</td>\n",
       "      <td>8.0</td>\n",
       "      <td>159660.80</td>\n",
       "      <td>3</td>\n",
       "      <td>1</td>\n",
       "      <td>0</td>\n",
       "      <td>113931.57</td>\n",
       "      <td>1</td>\n",
       "    </tr>\n",
       "    <tr>\n",
       "      <th>3</th>\n",
       "      <td>4</td>\n",
       "      <td>15701354</td>\n",
       "      <td>Boni</td>\n",
       "      <td>699</td>\n",
       "      <td>France</td>\n",
       "      <td>Female</td>\n",
       "      <td>39</td>\n",
       "      <td>1.0</td>\n",
       "      <td>0.00</td>\n",
       "      <td>2</td>\n",
       "      <td>0</td>\n",
       "      <td>0</td>\n",
       "      <td>93826.63</td>\n",
       "      <td>0</td>\n",
       "    </tr>\n",
       "    <tr>\n",
       "      <th>4</th>\n",
       "      <td>5</td>\n",
       "      <td>15737888</td>\n",
       "      <td>Mitchell</td>\n",
       "      <td>850</td>\n",
       "      <td>Spain</td>\n",
       "      <td>Female</td>\n",
       "      <td>43</td>\n",
       "      <td>2.0</td>\n",
       "      <td>125510.82</td>\n",
       "      <td>1</td>\n",
       "      <td>1</td>\n",
       "      <td>1</td>\n",
       "      <td>79084.10</td>\n",
       "      <td>0</td>\n",
       "    </tr>\n",
       "    <tr>\n",
       "      <th>5</th>\n",
       "      <td>6</td>\n",
       "      <td>15574012</td>\n",
       "      <td>Chu</td>\n",
       "      <td>645</td>\n",
       "      <td>Spain</td>\n",
       "      <td>Male</td>\n",
       "      <td>44</td>\n",
       "      <td>8.0</td>\n",
       "      <td>113755.78</td>\n",
       "      <td>2</td>\n",
       "      <td>1</td>\n",
       "      <td>0</td>\n",
       "      <td>149756.71</td>\n",
       "      <td>1</td>\n",
       "    </tr>\n",
       "    <tr>\n",
       "      <th>6</th>\n",
       "      <td>7</td>\n",
       "      <td>15592531</td>\n",
       "      <td>Bartlett</td>\n",
       "      <td>822</td>\n",
       "      <td>France</td>\n",
       "      <td>Male</td>\n",
       "      <td>50</td>\n",
       "      <td>7.0</td>\n",
       "      <td>0.00</td>\n",
       "      <td>2</td>\n",
       "      <td>1</td>\n",
       "      <td>1</td>\n",
       "      <td>10062.80</td>\n",
       "      <td>0</td>\n",
       "    </tr>\n",
       "    <tr>\n",
       "      <th>7</th>\n",
       "      <td>8</td>\n",
       "      <td>15656148</td>\n",
       "      <td>Obinna</td>\n",
       "      <td>376</td>\n",
       "      <td>Germany</td>\n",
       "      <td>Female</td>\n",
       "      <td>29</td>\n",
       "      <td>4.0</td>\n",
       "      <td>115046.74</td>\n",
       "      <td>4</td>\n",
       "      <td>1</td>\n",
       "      <td>0</td>\n",
       "      <td>119346.88</td>\n",
       "      <td>1</td>\n",
       "    </tr>\n",
       "    <tr>\n",
       "      <th>8</th>\n",
       "      <td>9</td>\n",
       "      <td>15792365</td>\n",
       "      <td>He</td>\n",
       "      <td>501</td>\n",
       "      <td>France</td>\n",
       "      <td>Male</td>\n",
       "      <td>44</td>\n",
       "      <td>4.0</td>\n",
       "      <td>142051.07</td>\n",
       "      <td>2</td>\n",
       "      <td>0</td>\n",
       "      <td>1</td>\n",
       "      <td>74940.50</td>\n",
       "      <td>0</td>\n",
       "    </tr>\n",
       "    <tr>\n",
       "      <th>9</th>\n",
       "      <td>10</td>\n",
       "      <td>15592389</td>\n",
       "      <td>H?</td>\n",
       "      <td>684</td>\n",
       "      <td>France</td>\n",
       "      <td>Male</td>\n",
       "      <td>27</td>\n",
       "      <td>2.0</td>\n",
       "      <td>134603.88</td>\n",
       "      <td>1</td>\n",
       "      <td>1</td>\n",
       "      <td>1</td>\n",
       "      <td>71725.73</td>\n",
       "      <td>0</td>\n",
       "    </tr>\n",
       "  </tbody>\n",
       "</table>\n",
       "</div>"
      ],
      "text/plain": [
       "   RowNumber  CustomerId   Surname  CreditScore Geography  Gender  Age  \\\n",
       "0          1    15634602  Hargrave          619    France  Female   42   \n",
       "1          2    15647311      Hill          608     Spain  Female   41   \n",
       "2          3    15619304      Onio          502    France  Female   42   \n",
       "3          4    15701354      Boni          699    France  Female   39   \n",
       "4          5    15737888  Mitchell          850     Spain  Female   43   \n",
       "5          6    15574012       Chu          645     Spain    Male   44   \n",
       "6          7    15592531  Bartlett          822    France    Male   50   \n",
       "7          8    15656148    Obinna          376   Germany  Female   29   \n",
       "8          9    15792365        He          501    France    Male   44   \n",
       "9         10    15592389        H?          684    France    Male   27   \n",
       "\n",
       "   Tenure    Balance  NumOfProducts  HasCrCard  IsActiveMember  \\\n",
       "0     2.0       0.00              1          1               1   \n",
       "1     1.0   83807.86              1          0               1   \n",
       "2     8.0  159660.80              3          1               0   \n",
       "3     1.0       0.00              2          0               0   \n",
       "4     2.0  125510.82              1          1               1   \n",
       "5     8.0  113755.78              2          1               0   \n",
       "6     7.0       0.00              2          1               1   \n",
       "7     4.0  115046.74              4          1               0   \n",
       "8     4.0  142051.07              2          0               1   \n",
       "9     2.0  134603.88              1          1               1   \n",
       "\n",
       "   EstimatedSalary  Exited  \n",
       "0        101348.88       1  \n",
       "1        112542.58       0  \n",
       "2        113931.57       1  \n",
       "3         93826.63       0  \n",
       "4         79084.10       0  \n",
       "5        149756.71       1  \n",
       "6         10062.80       0  \n",
       "7        119346.88       1  \n",
       "8         74940.50       0  \n",
       "9         71725.73       0  "
      ]
     },
     "execution_count": 3,
     "metadata": {},
     "output_type": "execute_result"
    }
   ],
   "source": [
    "data.head(10)"
   ]
  },
  {
   "cell_type": "markdown",
   "id": "e8c23593",
   "metadata": {},
   "source": [
    "### Вывод основной информации о датафрейме"
   ]
  },
  {
   "cell_type": "code",
   "execution_count": 4,
   "id": "15c69755",
   "metadata": {},
   "outputs": [
    {
     "name": "stdout",
     "output_type": "stream",
     "text": [
      "<class 'pandas.core.frame.DataFrame'>\n",
      "RangeIndex: 10000 entries, 0 to 9999\n",
      "Data columns (total 14 columns):\n",
      " #   Column           Non-Null Count  Dtype  \n",
      "---  ------           --------------  -----  \n",
      " 0   RowNumber        10000 non-null  int64  \n",
      " 1   CustomerId       10000 non-null  int64  \n",
      " 2   Surname          10000 non-null  object \n",
      " 3   CreditScore      10000 non-null  int64  \n",
      " 4   Geography        10000 non-null  object \n",
      " 5   Gender           10000 non-null  object \n",
      " 6   Age              10000 non-null  int64  \n",
      " 7   Tenure           9091 non-null   float64\n",
      " 8   Balance          10000 non-null  float64\n",
      " 9   NumOfProducts    10000 non-null  int64  \n",
      " 10  HasCrCard        10000 non-null  int64  \n",
      " 11  IsActiveMember   10000 non-null  int64  \n",
      " 12  EstimatedSalary  10000 non-null  float64\n",
      " 13  Exited           10000 non-null  int64  \n",
      "dtypes: float64(3), int64(8), object(3)\n",
      "memory usage: 1.1+ MB\n"
     ]
    }
   ],
   "source": [
    "data.info()"
   ]
  },
  {
   "cell_type": "markdown",
   "id": "b01e4e5c",
   "metadata": {},
   "source": [
    "### Вывод"
   ]
  },
  {
   "cell_type": "markdown",
   "id": "574c4480",
   "metadata": {},
   "source": [
    "Согласно документации к данным:\n",
    "* `RowNumber` — индекс строки в данных\n",
    "* `CustomerId` — уникальный идентификатор клиента\n",
    "* `Surname` — фамилия\n",
    "* `CreditScore` — кредитный рейтинг\n",
    "* `Geography` — страна проживания\n",
    "* `Gender` — пол\n",
    "* `Age` — возраст\n",
    "* `Tenure` — сколько лет человек является клиентом банка\n",
    "* `Balance` — баланс на счёте\n",
    "* `NumOfProducts` — количество продуктов банка, используемых клиентом\n",
    "* `HasCrCard` — наличие кредитной карты\n",
    "* `IsActiveMember` — активность клиента\n",
    "* `EstimatedSalary` — предполагаемая зарплата\n",
    "* `Exited` — факт ухода клиента\n",
    "\n",
    "Целевым признаком будет являться `Exited`. Остальные столбцы, кроме `RowNumber`, `CustomerId` и `Surname`, будут являться признаками.\n",
    "\n",
    "Необходимо провести предобработку данных, так как в столбце `Tenure` были замечены пропуски, изменить типы данных на более подходящие, а также изменить названия столбцов таким образом, чтобы все символы в них были строчными, и сами названия были в змеином регистре, а затем перейти к подготовке данных."
   ]
  },
  {
   "cell_type": "markdown",
   "id": "5823a528",
   "metadata": {},
   "source": [
    "## Предобработка данных"
   ]
  },
  {
   "cell_type": "markdown",
   "id": "16a5dca0",
   "metadata": {},
   "source": [
    "### Изменение названий столбцов датафрейма"
   ]
  },
  {
   "cell_type": "code",
   "execution_count": 5,
   "id": "04d51d93",
   "metadata": {},
   "outputs": [
    {
     "data": {
      "text/plain": [
       "Index(['RowNumber', 'CustomerId', 'Surname', 'CreditScore', 'Geography',\n",
       "       'Gender', 'Age', 'Tenure', 'Balance', 'NumOfProducts', 'HasCrCard',\n",
       "       'IsActiveMember', 'EstimatedSalary', 'Exited'],\n",
       "      dtype='object')"
      ]
     },
     "execution_count": 5,
     "metadata": {},
     "output_type": "execute_result"
    }
   ],
   "source": [
    "data.columns"
   ]
  },
  {
   "cell_type": "markdown",
   "id": "943f516c",
   "metadata": {},
   "source": [
    "Приведем все буквы в названиях столбцов к строчным:"
   ]
  },
  {
   "cell_type": "code",
   "execution_count": 6,
   "id": "be7ba6ef",
   "metadata": {},
   "outputs": [],
   "source": [
    "data.columns = [column.lower() for column in data.columns]"
   ]
  },
  {
   "cell_type": "markdown",
   "id": "29663814",
   "metadata": {},
   "source": [
    "Затем перепишем названия в змеином регистре:"
   ]
  },
  {
   "cell_type": "code",
   "execution_count": 7,
   "id": "0ac56d06",
   "metadata": {},
   "outputs": [],
   "source": [
    "data = data.rename(columns={'rownumber' : 'row_number', \n",
    "                        'customerid' : 'customer_id', \n",
    "                        'creditscore' : 'credit_score', \n",
    "                        'numofproducts' : 'num_of_products',\n",
    "                        'hascrcard' : 'has_cr_card',\n",
    "                        'isactivemember' : 'is_active_member', \n",
    "                        'estimatedsalary' : 'estimated_salary'})"
   ]
  },
  {
   "cell_type": "code",
   "execution_count": 8,
   "id": "07f16a5d",
   "metadata": {},
   "outputs": [
    {
     "data": {
      "text/plain": [
       "Index(['row_number', 'customer_id', 'surname', 'credit_score', 'geography',\n",
       "       'gender', 'age', 'tenure', 'balance', 'num_of_products', 'has_cr_card',\n",
       "       'is_active_member', 'estimated_salary', 'exited'],\n",
       "      dtype='object')"
      ]
     },
     "execution_count": 8,
     "metadata": {},
     "output_type": "execute_result"
    }
   ],
   "source": [
    "data.columns"
   ]
  },
  {
   "cell_type": "markdown",
   "id": "6479334b",
   "metadata": {},
   "source": [
    "### Заполнение пропусков"
   ]
  },
  {
   "cell_type": "markdown",
   "id": "2a1a7757",
   "metadata": {},
   "source": [
    "Так как заполнить пропуск количества лет, которые человек является клиентом банка, невозможно, не навредив данным, заполним пропуски рандомно от минимума до максимума из таблицы `tenure`."
   ]
  },
  {
   "cell_type": "code",
   "execution_count": 10,
   "id": "0424a5be",
   "metadata": {},
   "outputs": [],
   "source": [
    "data['tenure'] = data['tenure'].fillna(random.randint(data['tenure'].min(), data['tenure'].max()))"
   ]
  },
  {
   "cell_type": "markdown",
   "id": "9b3d648d",
   "metadata": {},
   "source": [
    "### Изменение типов данных"
   ]
  },
  {
   "cell_type": "code",
   "execution_count": 11,
   "id": "5ee81726",
   "metadata": {},
   "outputs": [],
   "source": [
    "data['tenure'] = data['tenure'].astype('int')"
   ]
  },
  {
   "cell_type": "markdown",
   "id": "78688387",
   "metadata": {},
   "source": [
    "### Вывод"
   ]
  },
  {
   "cell_type": "markdown",
   "id": "5b50d91a",
   "metadata": {},
   "source": [
    "Предобработка обнаружила две проблемы в данных:\n",
    "\n",
    "- пропущенные значения,\n",
    "- неверные типи данных,\n",
    "- стиль заголовков.\n",
    "\n",
    "Теперь можно перейти к подготовке данных."
   ]
  },
  {
   "cell_type": "markdown",
   "id": "df0e2066",
   "metadata": {},
   "source": [
    "## Подготовка данных"
   ]
  },
  {
   "cell_type": "markdown",
   "id": "e961eecb",
   "metadata": {},
   "source": [
    "### Разбиение данных на целевой признак и признаки"
   ]
  },
  {
   "cell_type": "code",
   "execution_count": 12,
   "id": "17e9e0d6",
   "metadata": {},
   "outputs": [],
   "source": [
    "features = data.drop(['row_number', 'customer_id', 'surname', 'exited'], axis=1)\n",
    "target = data['exited']"
   ]
  },
  {
   "cell_type": "markdown",
   "id": "dd57d197",
   "metadata": {},
   "source": [
    "### Разбиение данных на выборки"
   ]
  },
  {
   "cell_type": "code",
   "execution_count": 15,
   "id": "f71e9dc4",
   "metadata": {},
   "outputs": [],
   "source": [
    "features_train, features_sep, target_train, target_sep = train_test_split(\n",
    "    features, target, test_size=0.4, random_state=12345)\n",
    "\n",
    "features_valid, features_test, target_valid, target_test = train_test_split(\n",
    "    features_sep, target_sep, test_size=0.5, random_state=12345)"
   ]
  },
  {
   "cell_type": "code",
   "execution_count": 16,
   "id": "dd044cef",
   "metadata": {},
   "outputs": [
    {
     "data": {
      "text/plain": [
       "(6000, 10)"
      ]
     },
     "execution_count": 16,
     "metadata": {},
     "output_type": "execute_result"
    }
   ],
   "source": [
    "features_train.shape #обучающая выборка"
   ]
  },
  {
   "cell_type": "code",
   "execution_count": 17,
   "id": "fa9b175f",
   "metadata": {},
   "outputs": [
    {
     "data": {
      "text/plain": [
       "(2000, 10)"
      ]
     },
     "execution_count": 17,
     "metadata": {},
     "output_type": "execute_result"
    }
   ],
   "source": [
    "features_valid.shape #валидационная выборка"
   ]
  },
  {
   "cell_type": "code",
   "execution_count": 18,
   "id": "86ab2ed0",
   "metadata": {},
   "outputs": [
    {
     "data": {
      "text/plain": [
       "(2000, 10)"
      ]
     },
     "execution_count": 18,
     "metadata": {},
     "output_type": "execute_result"
    }
   ],
   "source": [
    "features_test.shape #тестовая выборка"
   ]
  },
  {
   "cell_type": "code",
   "execution_count": 19,
   "id": "f17c1e4f",
   "metadata": {},
   "outputs": [],
   "source": [
    "features_train = pd.get_dummies(features_train, drop_first=True)\n",
    "features_valid = pd.get_dummies(features_valid, drop_first=True)\n",
    "features_test = pd.get_dummies(features_test, drop_first=True)"
   ]
  },
  {
   "cell_type": "markdown",
   "id": "cf3ad9d3",
   "metadata": {},
   "source": [
    "### Масштабирование признаков"
   ]
  },
  {
   "cell_type": "code",
   "execution_count": 20,
   "id": "fcce039b",
   "metadata": {},
   "outputs": [],
   "source": [
    "numeric = ['credit_score', 'age', 'tenure', 'balance', 'num_of_products', 'estimated_salary']\n",
    "\n",
    "pd.options.mode.chained_assignment = None\n",
    "\n",
    "scaler = StandardScaler()\n",
    "scaler.fit(features_train[numeric])\n",
    "features_train[numeric] = scaler.transform(features_train[numeric])\n",
    "features_valid[numeric] = scaler.transform(features_valid[numeric])\n",
    "features_test[numeric] = scaler.transform(features_test[numeric])"
   ]
  },
  {
   "cell_type": "markdown",
   "id": "64069ec0",
   "metadata": {},
   "source": [
    "### Вывод"
   ]
  },
  {
   "cell_type": "markdown",
   "id": "cb6b49c8",
   "metadata": {},
   "source": [
    "На этапе подготовки данные были разделены на тренировочную, валидационную и тестовую в отношении 3:1:1: в тренировочной выборке 6000 объектов, а в валидационной и тестовой по 2000 объекта. Также понадобилось преобразовать категориальные признаки в численные и промасштабировать численные признаки."
   ]
  },
  {
   "cell_type": "markdown",
   "id": "abe02c2b",
   "metadata": {},
   "source": [
    "## Исследование задачи"
   ]
  },
  {
   "cell_type": "markdown",
   "id": "57e65497",
   "metadata": {},
   "source": [
    "Проверим, есть ли в классах дисбаланс по количеству объектов:"
   ]
  },
  {
   "cell_type": "code",
   "execution_count": 21,
   "id": "6e550300",
   "metadata": {},
   "outputs": [
    {
     "name": "stdout",
     "output_type": "stream",
     "text": [
      "Количество объектов, принадлежащих классу 1: 1196\n",
      "Количество объектов, принадлежащих классу 0: 4804\n"
     ]
    }
   ],
   "source": [
    "target_ones = target_train[target_train == 1]\n",
    "target_zeros = target_train[target_train == 0]\n",
    "\n",
    "print('Количество объектов, принадлежащих классу 1:', target_ones.shape[0])\n",
    "print('Количество объектов, принадлежащих классу 0:', target_zeros.shape[0])"
   ]
  },
  {
   "cell_type": "markdown",
   "id": "e12a6503",
   "metadata": {},
   "source": [
    "Действительно, оказалось, что объектов, принадлежащих классу 1 намного меньше, чем объектов, принадлежащих классу 0 в обучающей выборке. Виден явный дисбаланс классов в пользу отрицательного класса. Если мы будем всех людей прогнозировать, что они не уйдут из банка, то в 80% случаев мы будем правы."
   ]
  },
  {
   "cell_type": "markdown",
   "id": "2139085d",
   "metadata": {},
   "source": [
    "### Изучение моделей без учета дисбаланса"
   ]
  },
  {
   "cell_type": "code",
   "execution_count": 22,
   "id": "65b7a610",
   "metadata": {},
   "outputs": [
    {
     "name": "stdout",
     "output_type": "stream",
     "text": [
      "F1: 0.33108108108108103\n",
      "AUC-ROC: 0.7587512627102753\n"
     ]
    }
   ],
   "source": [
    "model = LogisticRegression(solver='liblinear', random_state=12345).fit(\n",
    "    features_train, target_train)\n",
    "predictions_valid = model.predict(features_valid)\n",
    "\n",
    "print(\"F1:\", f1_score(target_valid, predictions_valid))\n",
    "\n",
    "probabilities_valid = model.predict_proba(features_valid)\n",
    "probabilities_one_valid = probabilities_valid[:, 1]\n",
    "\n",
    "print('AUC-ROC:', roc_auc_score(target_valid, probabilities_one_valid))"
   ]
  },
  {
   "cell_type": "markdown",
   "id": "66e17f60",
   "metadata": {},
   "source": [
    "Метрика F1 для модели логистической регрессии оказалась достаточно мала, а AUC-ROC показывает неплохой результат, следовательно, класс 1 определяется хуже, чем класс 0."
   ]
  },
  {
   "cell_type": "code",
   "execution_count": 23,
   "id": "014723ca",
   "metadata": {},
   "outputs": [
    {
     "name": "stdout",
     "output_type": "stream",
     "text": [
      "F1: 0.5006045949214026\n",
      "AUC-ROC: 0.6837644190927842\n"
     ]
    }
   ],
   "source": [
    "model = DecisionTreeClassifier(random_state=12345).fit(\n",
    "    features_train, target_train)\n",
    "predictions_valid = model.predict(features_valid)\n",
    "\n",
    "print('F1:', f1_score(target_valid, predictions_valid))\n",
    "\n",
    "probabilities_valid = model.predict_proba(features_valid)\n",
    "probabilities_one_valid = probabilities_valid[:, 1]\n",
    "\n",
    "print('AUC-ROC:', roc_auc_score(target_valid, probabilities_one_valid))"
   ]
  },
  {
   "cell_type": "markdown",
   "id": "7da6e16d",
   "metadata": {},
   "source": [
    "Для дерева решений метрика F1 оказалась больше, чем для логистической регрессии, но этого значения все еще недостаточно. К тому же метрика AUC-ROC показывает, что данная модель меньше отличается от случайной, чем предыдущая."
   ]
  },
  {
   "cell_type": "code",
   "execution_count": 24,
   "id": "b959ebc9",
   "metadata": {},
   "outputs": [
    {
     "name": "stdout",
     "output_type": "stream",
     "text": [
      "Количество деревьев:  10 | F1: 0.5522388059701492 | AUC-ROC: 0.8152246565730497\n",
      "Количество деревьев:  20 | F1: 0.5481927710843373 | AUC-ROC: 0.8319945075883594\n",
      "Количество деревьев:  30 | F1: 0.5714285714285715 | AUC-ROC: 0.8331861431535394\n",
      "Количество деревьев:  40 | F1: 0.5632530120481928 | AUC-ROC: 0.8342991428692407\n",
      "Количество деревьев:  50 | F1: 0.5718562874251497 | AUC-ROC: 0.8367618059630169\n",
      "Количество деревьев:  60 | F1: 0.575712143928036 | AUC-ROC: 0.8393371300334506\n",
      "Количество деревьев:  70 | F1: 0.5799701046337816 | AUC-ROC: 0.8379640271233193\n",
      "Количество деревьев:  80 | F1: 0.5787106446776611 | AUC-ROC: 0.8401900265547215\n",
      "Количество деревьев:  90 | F1: 0.5812220566318926 | AUC-ROC: 0.8415563244394171\n"
     ]
    }
   ],
   "source": [
    "for est in range(10, 100, 10):\n",
    "    model = RandomForestClassifier(n_estimators=est, random_state=12345).fit(\n",
    "        features_train, target_train)\n",
    "    predictions_valid = model.predict(features_valid)\n",
    "    \n",
    "    probabilities_valid = model.predict_proba(features_valid)\n",
    "    probabilities_one_valid = probabilities_valid[:, 1]\n",
    "    \n",
    "    print('Количество деревьев: ', est, '| F1:', f1_score(target_valid, predictions_valid),\n",
    "         '| AUC-ROC:', roc_auc_score(target_valid, probabilities_one_valid))"
   ]
  },
  {
   "cell_type": "markdown",
   "id": "b3475c43",
   "metadata": {},
   "source": [
    "Случайный лес имеет лучшие показатели и по F1, и по AUC-ROC. Возможно, их можно еще повысить с помощью баланса классов."
   ]
  },
  {
   "cell_type": "markdown",
   "id": "c2843dbc",
   "metadata": {},
   "source": [
    "### Вывод"
   ]
  },
  {
   "cell_type": "markdown",
   "id": "f8362ea3",
   "metadata": {},
   "source": [
    "Изучив логистическую регрессию, дерево решений и случайный лес по метрикам F1 и AUC-ROC, можно сказать, что лучшая модель по показателям - это случайный лес. Данная модель имеет высокие показатели, которые еще возможно повысить."
   ]
  },
  {
   "cell_type": "markdown",
   "id": "316e3e78",
   "metadata": {},
   "source": [
    "## Борьба с дисбалансом"
   ]
  },
  {
   "cell_type": "markdown",
   "id": "62bc3610",
   "metadata": {},
   "source": [
    "### Увеличение выборки"
   ]
  },
  {
   "cell_type": "markdown",
   "id": "6d0178ae",
   "metadata": {},
   "source": [
    "Так как объектов класса 1 меньше, чем объектов класса 0, то нужно увеличить количество объектов, принадлежащих классу 1 для баланса:"
   ]
  },
  {
   "cell_type": "code",
   "execution_count": 25,
   "id": "2430632d",
   "metadata": {},
   "outputs": [],
   "source": [
    "features_zeros = features_train[target_train == 0]\n",
    "features_ones = features_train[target_train == 1]\n",
    "target_zeros = target_train[target_train == 0]\n",
    "target_ones = target_train[target_train == 1]\n",
    "\n",
    "features_train_up = pd.concat([features_zeros] + [features_ones] * 4)\n",
    "target_train_up = pd.concat([target_zeros] + [target_ones] * 4)\n",
    "    \n",
    "features_train_up, target_train_up = shuffle(features_train_up, target_train_up, random_state=12345)"
   ]
  },
  {
   "cell_type": "code",
   "execution_count": 26,
   "id": "73c46c82",
   "metadata": {},
   "outputs": [
    {
     "name": "stdout",
     "output_type": "stream",
     "text": [
      "Количество объектов, принадлежащих классу 1: 1196\n",
      "Количество объектов, принадлежащих классу 0: 4804\n"
     ]
    }
   ],
   "source": [
    "target_ones = target_train[target_train == 1]\n",
    "target_zeros = target_train[target_train == 0]\n",
    "\n",
    "print('Количество объектов, принадлежащих классу 1:', target_ones.shape[0])\n",
    "print('Количество объектов, принадлежащих классу 0:', target_zeros.shape[0])"
   ]
  },
  {
   "cell_type": "markdown",
   "id": "102ab02f",
   "metadata": {},
   "source": [
    "### Выбор лучшей модели при увеличенной выборке"
   ]
  },
  {
   "cell_type": "markdown",
   "id": "6057fb3a",
   "metadata": {},
   "source": [
    "Исходя из пункта 4, необходимо взять модель случайного леса и перебрать возможные количества деревьев для определения лучшей модели по метрикам F1 и AUC-ROC."
   ]
  },
  {
   "cell_type": "code",
   "execution_count": 27,
   "id": "371a50a7",
   "metadata": {},
   "outputs": [
    {
     "name": "stdout",
     "output_type": "stream",
     "text": [
      "Количество деревьев:  10 | F1: 0.5822102425876011 | AUC-ROC: 0.8415563244394171\n",
      "Количество деревьев:  20 | F1: 0.5959731543624162 | AUC-ROC: 0.8415563244394171\n",
      "Количество деревьев:  30 | F1: 0.5997357992073975 | AUC-ROC: 0.8415563244394171\n",
      "Количество деревьев:  40 | F1: 0.5970937912813739 | AUC-ROC: 0.8415563244394171\n",
      "Количество деревьев:  50 | F1: 0.5992115637319316 | AUC-ROC: 0.8415563244394171\n",
      "Количество деревьев:  60 | F1: 0.5976408912188729 | AUC-ROC: 0.8415563244394171\n",
      "Количество деревьев:  70 | F1: 0.6085825747724317 | AUC-ROC: 0.8415563244394171\n",
      "Количество деревьев:  80 | F1: 0.6026315789473685 | AUC-ROC: 0.8415563244394171\n",
      "Количество деревьев:  90 | F1: 0.6105263157894737 | AUC-ROC: 0.8415563244394171\n",
      "F1 наилучшей модели случайного леса на валидационной выборке равно 0.6105263157894737 AUC-ROC равно 0.8415563244394171 с количеством деревьев, равным 90\n"
     ]
    }
   ],
   "source": [
    "best_model_forest1 = None\n",
    "best_result_forest1 = 0\n",
    "best_est1 = 0\n",
    "best_auc_roc1= 0\n",
    "\n",
    "for est in range(10, 100, 10):\n",
    "    model_forest = RandomForestClassifier(random_state=12345, n_estimators=est)\n",
    "    model_forest.fit(features_train_up, target_train_up) \n",
    "    predictions_valid = model_forest.predict(features_valid)\n",
    "    result = f1_score(target_valid, predictions_valid) \n",
    "    result_auc_roc = roc_auc_score(target_valid, probabilities_one_valid)\n",
    "    \n",
    "    print('Количество деревьев: ', est, '| F1:', result,\n",
    "         '| AUC-ROC:', result_auc_roc)\n",
    "    \n",
    "    if result > best_result_forest1:\n",
    "        best_model_forest1 = model_forest\n",
    "        best_result_forest1 = result\n",
    "        best_est1 = est\n",
    "        best_auc_roc1 = result_auc_roc\n",
    "\n",
    "print('F1 наилучшей модели случайного леса на валидационной выборке равно', best_result_forest1, \n",
    "      'AUC-ROC равно', best_auc_roc1, \n",
    "      'с количеством деревьев, равным', best_est1)"
   ]
  },
  {
   "cell_type": "markdown",
   "id": "0df8549d",
   "metadata": {},
   "source": [
    "### Выбор лучшей модели при балансировке весов классов"
   ]
  },
  {
   "cell_type": "code",
   "execution_count": 28,
   "id": "e6560aa3",
   "metadata": {},
   "outputs": [
    {
     "name": "stdout",
     "output_type": "stream",
     "text": [
      "Количество деревьев:  10 | F1: 0.5304212168486739 | AUC-ROC: 0.8415563244394171\n",
      "Количество деревьев:  20 | F1: 0.5421133231240429 | AUC-ROC: 0.8415563244394171\n",
      "Количество деревьев:  30 | F1: 0.5362095531587057 | AUC-ROC: 0.8415563244394171\n",
      "Количество деревьев:  40 | F1: 0.549079754601227 | AUC-ROC: 0.8415563244394171\n",
      "Количество деревьев:  50 | F1: 0.5683890577507599 | AUC-ROC: 0.8415563244394171\n",
      "Количество деревьев:  60 | F1: 0.5657492354740061 | AUC-ROC: 0.8415563244394171\n",
      "Количество деревьев:  70 | F1: 0.5595054095826894 | AUC-ROC: 0.8415563244394171\n",
      "Количество деревьев:  80 | F1: 0.5612403100775193 | AUC-ROC: 0.8415563244394171\n",
      "Количество деревьев:  90 | F1: 0.5643410852713179 | AUC-ROC: 0.8415563244394171\n",
      "F1 наилучшей модели случайного леса на валидационной выборке равно 0.5683890577507599 AUC-ROC равно 0.8415563244394171 с количеством деревьев, равным 50\n"
     ]
    }
   ],
   "source": [
    "best_model_forest2 = None\n",
    "best_result_forest2 = 0\n",
    "best_est2 = 0\n",
    "best_auc_roc2= 0\n",
    "\n",
    "for est in range(10, 100, 10):\n",
    "    model_forest = RandomForestClassifier(class_weight='balanced', random_state=12345, n_estimators=est)\n",
    "    model_forest.fit(features_train, target_train) \n",
    "    predictions_valid = model_forest.predict(features_valid)\n",
    "    result = f1_score(target_valid, predictions_valid) \n",
    "    result_auc_roc = roc_auc_score(target_valid, probabilities_one_valid)\n",
    "    \n",
    "    print('Количество деревьев: ', est, '| F1:', result,\n",
    "         '| AUC-ROC:', result_auc_roc)\n",
    "    \n",
    "    if result > best_result_forest2:\n",
    "        best_model_forest2 = model_forest\n",
    "        best_result_forest2 = result\n",
    "        best_est2 = est\n",
    "        best_auc_roc2 = result_auc_roc\n",
    "\n",
    "print('F1 наилучшей модели случайного леса на валидационной выборке равно', best_result_forest2, \n",
    "      'AUC-ROC равно', best_auc_roc2, \n",
    "      'с количеством деревьев, равным', best_est2)"
   ]
  },
  {
   "cell_type": "markdown",
   "id": "9ec006ef",
   "metadata": {},
   "source": [
    "### Вывод"
   ]
  },
  {
   "cell_type": "markdown",
   "id": "c55ea743",
   "metadata": {},
   "source": [
    "Через перебор гиперпараметра случайного леса была найдена лучшая модель для обучающей увеличенной выборки и для обучающей выборки с балансировкой весов классов. Судя по значению метрики F1, модель для обучающей увеличенной выборки показала лучшие результаты."
   ]
  },
  {
   "cell_type": "markdown",
   "id": "f34fdc97",
   "metadata": {},
   "source": [
    "## Тестирование модели"
   ]
  },
  {
   "cell_type": "markdown",
   "id": "08ad44bc",
   "metadata": {},
   "source": [
    "### Тестирование модели для увеличенной выборки"
   ]
  },
  {
   "cell_type": "code",
   "execution_count": 29,
   "id": "f16e0e56",
   "metadata": {},
   "outputs": [
    {
     "name": "stdout",
     "output_type": "stream",
     "text": [
      "F1: 0.5911458333333333\n",
      "AUC-ROC: 0.845083956580334\n"
     ]
    }
   ],
   "source": [
    "predictions_test = best_model_forest1.predict(features_test)\n",
    "\n",
    "print(\"F1:\", f1_score(target_test, predictions_test))\n",
    "\n",
    "probabilities_test = best_model_forest1.predict_proba(features_test)\n",
    "probabilities_one_test = probabilities_test[:, 1]\n",
    "\n",
    "print('AUC-ROC:', roc_auc_score(target_test, probabilities_one_test))"
   ]
  },
  {
   "cell_type": "code",
   "execution_count": 30,
   "id": "00cd9e01",
   "metadata": {},
   "outputs": [
    {
     "data": {
      "image/png": "[encoded data removed]",
      "text/plain": [
       "<Figure size 432x288 with 1 Axes>"
      ]
     },
     "metadata": {
      "needs_background": "light"
     },
     "output_type": "display_data"
    }
   ],
   "source": [
    "fpr, tpr, thresholds = roc_curve(target_test, probabilities_one_test) \n",
    "\n",
    "plt.figure()\n",
    "\n",
    "plt.plot(fpr, tpr)\n",
    "plt.plot([0, 1], [0, 1], linestyle='--')\n",
    "\n",
    "plt.xlim([0.0, 1.0])\n",
    "plt.ylim([0.0, 1.0])\n",
    "\n",
    "plt.xlabel('False Positive Rate')\n",
    "plt.ylabel('True Positive Rate')\n",
    "\n",
    "plt.title('ROC-кривая')\n",
    "\n",
    "plt.show()"
   ]
  },
  {
   "cell_type": "markdown",
   "id": "cbc935ec",
   "metadata": {},
   "source": [
    "### Тестирование модели для балансированных весов классов"
   ]
  },
  {
   "cell_type": "code",
   "execution_count": 31,
   "id": "c38a2ba4",
   "metadata": {},
   "outputs": [
    {
     "name": "stdout",
     "output_type": "stream",
     "text": [
      "F1: 0.5194401244167963\n",
      "AUC-ROC: 0.848089633637199\n"
     ]
    }
   ],
   "source": [
    "predictions_test = best_model_forest2.predict(features_test)\n",
    "\n",
    "print(\"F1:\", f1_score(target_test, predictions_test))\n",
    "\n",
    "probabilities_test = best_model_forest2.predict_proba(features_test)\n",
    "probabilities_one_test = probabilities_test[:, 1]\n",
    "\n",
    "print('AUC-ROC:', roc_auc_score(target_test, probabilities_one_test))"
   ]
  },
  {
   "cell_type": "code",
   "execution_count": 32,
   "id": "0d1b3986",
   "metadata": {},
   "outputs": [
    {
     "data": {
      "image/png": "[encoded data removed]",
      "text/plain": [
       "<Figure size 432x288 with 1 Axes>"
      ]
     },
     "metadata": {
      "needs_background": "light"
     },
     "output_type": "display_data"
    }
   ],
   "source": [
    "fpr, tpr, thresholds = roc_curve(target_test, probabilities_one_test) \n",
    "\n",
    "plt.figure()\n",
    "\n",
    "plt.plot(fpr, tpr)\n",
    "plt.plot([0, 1], [0, 1], linestyle='--')\n",
    "\n",
    "plt.xlim([0.0, 1.0])\n",
    "plt.ylim([0.0, 1.0])\n",
    "\n",
    "plt.xlabel('False Positive Rate')\n",
    "plt.ylabel('True Positive Rate')\n",
    "\n",
    "plt.title('ROC-кривая')\n",
    "\n",
    "plt.show()"
   ]
  },
  {
   "cell_type": "markdown",
   "id": "5e18eca2",
   "metadata": {},
   "source": [
    "### Вывод"
   ]
  },
  {
   "cell_type": "markdown",
   "id": "fe72806d",
   "metadata": {},
   "source": [
    "При тестировании модель случайного леса для увеличенной выборки выдает F1 равное требуемым 0.59, а также имеет высокий показатель AUC-ROC, равный 0.85. Модель хорошо определяет и класс 1, и класс 0.\n",
    "\n",
    "Модель случайного леса для балансировки весов классов выдает F1 около 0.52, но имеет высокий показатель AUC-ROC. Следовательно, данная модель хуже определяет класс 1 и имеет показатель F1 ниже требуемых 0.59."
   ]
  },
  {
   "cell_type": "markdown",
   "id": "b9ceb9d4",
   "metadata": {},
   "source": [
    "## Вывод"
   ]
  },
  {
   "cell_type": "markdown",
   "id": "3225252b",
   "metadata": {},
   "source": [
    "В представленных данных были обнаружены пропуски в столбце `tenure`, которые были заполнены рандомными значениями от минимума до максимума в значениях столбца, типы данных изменены на корректные, а также изменен некорректный стиль заголовков - названия столбцов были переписаны в змеином регистре, а буквы приведены к строчным. \n",
    "\n",
    "После предобработки данные были подготовлены для дальнейшей работы с моделями: они были разделены на целевой признак и признаки, а затем на обучающую, валидационную и тестовую выборки в отношении 3:1:1. Категориальные признаки были преобразованы в численные, а численные признаки были промасштабированы. \n",
    "\n",
    "В подготовленных данных был обнаружен дисбаланс: объектов класса 1 содержалось больше, чем объектов класса 0, в связи с чем было необходимо увеличить выборку таким образом, чтобы увеличилось количество объектов класса 1. При изучении моделей без учета дисбаланса лучшие показатели метрик F1 и AUC-ROC показала модель случайного леса.\n",
    "\n",
    "Затем были рассмотрены две модели случайного леса: для увеличенной выборки и для балансированных весов классов. Модель для увеличенной выборки показала лучшие результаты: F1-мера достигла необходимых 0.59. Также модель способна определить и класс 1, и класс 0 с большой точностью - показатель AUC-ROC равен 0.85. \n",
    "\n",
    "Модель для балансированных весов классов имеет значение F1 ниже и равно 0.52, но так же, как и у предыдущей рассмотренной модели имеет высокое значение метрики AUC-ROC."
   ]
  }
 ],
 "metadata": {
  "celltoolbar": "Отсутствует",
  "kernelspec": {
   "display_name": "Python 3 (ipykernel)",
   "language": "python",
   "name": "python3"
  },
  "language_info": {
   "codemirror_mode": {
    "name": "ipython",
    "version": 3
   },
   "file_extension": ".py",
   "mimetype": "text/x-python",
   "name": "python",
   "nbconvert_exporter": "python",
   "pygments_lexer": "ipython3",
   "version": "3.9.13"
  },
  "toc": {
   "base_numbering": 1,
   "nav_menu": {
    "height": "389px",
    "width": "625px"
   },
   "number_sections": true,
   "sideBar": true,
   "skip_h1_title": true,
   "title_cell": "Table of Contents",
   "title_sidebar": "Contents",
   "toc_cell": false,
   "toc_position": {
    "height": "1109px",
    "left": "57px",
    "top": "111.136px",
    "width": "563.338px"
   },
   "toc_section_display": true,
   "toc_window_display": true
  },
  "widgets": {
   "application/vnd.jupyter.widget-state+json": {
    "state": {},
    "version_major": 2,
    "version_minor": 0
   }
  }
 },
 "nbformat": 4,
 "nbformat_minor": 5
}
